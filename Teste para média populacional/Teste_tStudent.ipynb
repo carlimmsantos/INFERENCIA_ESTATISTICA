{
 "cells": [
  {
   "cell_type": "code",
   "execution_count": 1,
   "id": "e5b74b4d",
   "metadata": {},
   "outputs": [],
   "source": [
    "import numpy as np\n",
    "from scipy import stats"
   ]
  },
  {
   "cell_type": "code",
   "execution_count": 2,
   "id": "4c6297b2",
   "metadata": {},
   "outputs": [],
   "source": [
    "fornecedor_1 = [22.8, 23.4, 26.2, 24.3, 22.0, 24.8, 26.7, 25.1, 23.1, 22.8, \n",
    "              25.6, 25.1, 24.3, 24.2, 22.8, 23.2, 24.7, 26.5, 24.5, 23.6, \n",
    "              23.9, 22.8, 25.4, 26.7, 22.9, 23.5, 23.8, 24.6, 26.3, 22.7]\n",
    "\n",
    "\n",
    "fornecedor_2 = [26.8, 29.3, 28.4, 25.6, 29.4, 27.2, 27.6, 26.8, 25.4, 28.6,\n",
    "               29.7, 27.2, 27.9, 28.4, 26.0, 26.8, 27.5, 28.5, 27.3, 29.1,\n",
    "               29.2, 25.7, 28.4, 28.6, 27.9, 27.4, 26.7, 26.8, 25.6, 26.1]\n"
   ]
  },
  {
   "cell_type": "code",
   "execution_count": 4,
   "id": "d9020bf5",
   "metadata": {},
   "outputs": [
    {
     "name": "stdout",
     "output_type": "stream",
     "text": [
      "Estatística t: -9.70841463275532\n",
      "Valor p: 9.185777525386829e-14\n",
      "Média amostra 1: 24.276666666666664\n",
      "Média amostra 2: 27.530000000000005\n",
      "Rejeitamos a hipótese nula: há diferença significativa entre as médias.\n",
      "O valor da estatística t (-9.71) é maior que o valor crítico da tabela t-Student (2.0017), portanto, há diferença significativa entre as médias.\n"
     ]
    }
   ],
   "source": [
    "\n",
    "t_stat, p_val = stats.ttest_ind(fornecedor_1, fornecedor_2)\n",
    "\n",
    "\n",
    "alpha = 0.05\n",
    "\n",
    "\n",
    "print(f'Estatística t: {t_stat}')\n",
    "print(f'Valor p: {p_val}')\n",
    "\n",
    "\n",
    "media_amostra1 = np.mean(fornecedor_1)\n",
    "media_amostra2 = np.mean(fornecedor_2)\n",
    "\n",
    "print(f'Média amostra 1: {media_amostra1}')\n",
    "print(f'Média amostra 2: {media_amostra2}')\n",
    "\n",
    "\n",
    "valor_critico = 2.0017\n",
    "\n",
    "\n",
    "# Interpretação dos resultados\n",
    "if p_val < alpha:\n",
    "    print('Rejeitamos a hipótese nula: há diferença significativa entre as médias.')\n",
    "else:\n",
    "    print('Não rejeitamos a hipótese nula: não há diferença significativa entre as médias.')\n",
    "\n",
    "if abs(t_stat) > valor_critico:\n",
    "    print(f'O valor da estatística t ({t_stat:.2f}) é maior que o valor crítico da tabela t-Student ({valor_critico:.4f}), portanto, há diferença significativa entre as médias.')\n",
    "else:\n",
    "    print(f'O valor da estatística t ({t_stat:.2f}) é menor que o valor crítico da tabela t-Student ({valor_critico:.4f}), portanto, não há diferença significativa entre as médias.')"
   ]
  }
 ],
 "metadata": {
  "kernelspec": {
   "display_name": "Python 3",
   "language": "python",
   "name": "python3"
  },
  "language_info": {
   "codemirror_mode": {
    "name": "ipython",
    "version": 3
   },
   "file_extension": ".py",
   "mimetype": "text/x-python",
   "name": "python",
   "nbconvert_exporter": "python",
   "pygments_lexer": "ipython3",
   "version": "3.11.9"
  }
 },
 "nbformat": 4,
 "nbformat_minor": 5
}
