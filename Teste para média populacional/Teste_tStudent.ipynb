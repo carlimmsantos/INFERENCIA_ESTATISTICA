{
 "cells": [
  {
   "cell_type": "markdown",
   "id": "9f24eb5a",
   "metadata": {},
   "source": [
    "Importando Bibliotecas"
   ]
  },
  {
   "cell_type": "code",
   "execution_count": 1,
   "id": "e5b74b4d",
   "metadata": {},
   "outputs": [],
   "source": [
    "import numpy as np\n",
    "from scipy import stats"
   ]
  },
  {
   "cell_type": "code",
   "execution_count": 2,
   "id": "4c6297b2",
   "metadata": {},
   "outputs": [],
   "source": [
    "fornecedor_1 = [22.8, 23.4, 26.2, 24.3, 22.0, 24.8, 26.7, 25.1, 23.1, 22.8, \n",
    "              25.6, 25.1, 24.3, 24.2, 22.8, 23.2, 24.7, 26.5, 24.5, 23.6, \n",
    "              23.9, 22.8, 25.4, 26.7, 22.9, 23.5, 23.8, 24.6, 26.3, 22.7]\n",
    "\n",
    "\n",
    "fornecedor_2 = [26.8, 29.3, 28.4, 25.6, 29.4, 27.2, 27.6, 26.8, 25.4, 28.6,\n",
    "               29.7, 27.2, 27.9, 28.4, 26.0, 26.8, 27.5, 28.5, 27.3, 29.1,\n",
    "               29.2, 25.7, 28.4, 28.6, 27.9, 27.4, 26.7, 26.8, 25.6, 26.1]\n"
   ]
  },
  {
   "cell_type": "markdown",
   "id": "2d6ad841",
   "metadata": {},
   "source": [
    "# Teste TStudent\n",
    "\n",
    "O teste t de Student é usado para comparar as médias de dois grupos e avaliar se existe diferença estatisticamente significativa entre elas.\n",
    "\n",
    "- H0: as médias são iguais\n",
    "- H1: as médias são diferentes."
   ]
  },
  {
   "cell_type": "code",
   "execution_count": 3,
   "id": "386a3f64",
   "metadata": {},
   "outputs": [],
   "source": [
    "t_stat, p_val = stats.ttest_ind(fornecedor_1, fornecedor_2)"
   ]
  },
  {
   "cell_type": "code",
   "execution_count": 4,
   "id": "418f19fd",
   "metadata": {},
   "outputs": [],
   "source": [
    "alpha = 0.05"
   ]
  },
  {
   "cell_type": "code",
   "execution_count": 14,
   "id": "601d760e",
   "metadata": {},
   "outputs": [
    {
     "name": "stdout",
     "output_type": "stream",
     "text": [
      "Media fornecedor 1: 24.28\n",
      "Media fornecedor 2: 27.53\n"
     ]
    }
   ],
   "source": [
    "media_f1 = np.mean(fornecedor_1)\n",
    "media_f2 = np.mean(fornecedor_2)\n",
    "\n",
    "print(f\"Media fornecedor 1: {media_f1:.2f}\")\n",
    "print(f\"Media fornecedor 2: {media_f2:.2f}\")"
   ]
  },
  {
   "cell_type": "code",
   "execution_count": 13,
   "id": "d3fa41c2",
   "metadata": {},
   "outputs": [
    {
     "name": "stdout",
     "output_type": "stream",
     "text": [
      "Estatística t: -9.71\n",
      "Valor p: 0.00000000000009186\n"
     ]
    }
   ],
   "source": [
    "print(f'Estatística t: {t_stat:.2f}')\n",
    "print(f'Valor p: {p_val:.17f}')"
   ]
  },
  {
   "cell_type": "code",
   "execution_count": null,
   "id": "d9020bf5",
   "metadata": {},
   "outputs": [
    {
     "name": "stdout",
     "output_type": "stream",
     "text": [
      "Rejeitamos a hipótese nula: há diferença significativa entre as médias.\n"
     ]
    }
   ],
   "source": [
    "if p_val < alpha:\n",
    "    print('Rejeitamos a hipótese nula: há diferença significativa entre as médias.')\n",
    "else:\n",
    "    print('Não rejeitamos a hipótese nula: não há diferença significativa entre as médias.')"
   ]
  }
 ],
 "metadata": {
  "kernelspec": {
   "display_name": "Python 3",
   "language": "python",
   "name": "python3"
  },
  "language_info": {
   "codemirror_mode": {
    "name": "ipython",
    "version": 3
   },
   "file_extension": ".py",
   "mimetype": "text/x-python",
   "name": "python",
   "nbconvert_exporter": "python",
   "pygments_lexer": "ipython3",
   "version": "3.12.10"
  }
 },
 "nbformat": 4,
 "nbformat_minor": 5
}
