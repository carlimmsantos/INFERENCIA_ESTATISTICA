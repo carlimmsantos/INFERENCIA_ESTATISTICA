{
 "cells": [
  {
   "cell_type": "code",
   "execution_count": 1,
   "id": "33d98ecf",
   "metadata": {},
   "outputs": [
    {
     "name": "stdout",
     "output_type": "stream",
     "text": [
      "Defaulting to user installation because normal site-packages is not writeable\n",
      "Requirement already satisfied: pingouin in c:\\users\\wesle\\appdata\\local\\packages\\pythonsoftwarefoundation.python.3.12_qbz5n2kfra8p0\\localcache\\local-packages\\python312\\site-packages (0.5.5)\n",
      "Requirement already satisfied: matplotlib in c:\\users\\wesle\\appdata\\local\\packages\\pythonsoftwarefoundation.python.3.12_qbz5n2kfra8p0\\localcache\\local-packages\\python312\\site-packages (from pingouin) (3.8.3)\n",
      "Requirement already satisfied: numpy in c:\\users\\wesle\\appdata\\local\\packages\\pythonsoftwarefoundation.python.3.12_qbz5n2kfra8p0\\localcache\\local-packages\\python312\\site-packages (from pingouin) (1.26.4)\n",
      "Requirement already satisfied: pandas>=1.5 in c:\\users\\wesle\\appdata\\local\\packages\\pythonsoftwarefoundation.python.3.12_qbz5n2kfra8p0\\localcache\\local-packages\\python312\\site-packages (from pingouin) (2.2.1)\n",
      "Requirement already satisfied: pandas-flavor in c:\\users\\wesle\\appdata\\local\\packages\\pythonsoftwarefoundation.python.3.12_qbz5n2kfra8p0\\localcache\\local-packages\\python312\\site-packages (from pingouin) (0.7.0)\n",
      "Requirement already satisfied: scikit-learn>=1.2 in c:\\users\\wesle\\appdata\\local\\packages\\pythonsoftwarefoundation.python.3.12_qbz5n2kfra8p0\\localcache\\local-packages\\python312\\site-packages (from pingouin) (1.4.1.post1)\n",
      "Requirement already satisfied: scipy in c:\\users\\wesle\\appdata\\local\\packages\\pythonsoftwarefoundation.python.3.12_qbz5n2kfra8p0\\localcache\\local-packages\\python312\\site-packages (from pingouin) (1.13.0)\n",
      "Requirement already satisfied: seaborn in c:\\users\\wesle\\appdata\\local\\packages\\pythonsoftwarefoundation.python.3.12_qbz5n2kfra8p0\\localcache\\local-packages\\python312\\site-packages (from pingouin) (0.13.2)\n",
      "Requirement already satisfied: statsmodels in c:\\users\\wesle\\appdata\\local\\packages\\pythonsoftwarefoundation.python.3.12_qbz5n2kfra8p0\\localcache\\local-packages\\python312\\site-packages (from pingouin) (0.14.2)\n",
      "Requirement already satisfied: tabulate in c:\\users\\wesle\\appdata\\local\\packages\\pythonsoftwarefoundation.python.3.12_qbz5n2kfra8p0\\localcache\\local-packages\\python312\\site-packages (from pingouin) (0.9.0)\n",
      "Requirement already satisfied: python-dateutil>=2.8.2 in c:\\users\\wesle\\appdata\\local\\packages\\pythonsoftwarefoundation.python.3.12_qbz5n2kfra8p0\\localcache\\local-packages\\python312\\site-packages (from pandas>=1.5->pingouin) (2.8.2)\n",
      "Requirement already satisfied: pytz>=2020.1 in c:\\users\\wesle\\appdata\\local\\packages\\pythonsoftwarefoundation.python.3.12_qbz5n2kfra8p0\\localcache\\local-packages\\python312\\site-packages (from pandas>=1.5->pingouin) (2024.1)\n",
      "Requirement already satisfied: tzdata>=2022.7 in c:\\users\\wesle\\appdata\\local\\packages\\pythonsoftwarefoundation.python.3.12_qbz5n2kfra8p0\\localcache\\local-packages\\python312\\site-packages (from pandas>=1.5->pingouin) (2024.1)\n",
      "Requirement already satisfied: joblib>=1.2.0 in c:\\users\\wesle\\appdata\\local\\packages\\pythonsoftwarefoundation.python.3.12_qbz5n2kfra8p0\\localcache\\local-packages\\python312\\site-packages (from scikit-learn>=1.2->pingouin) (1.3.2)\n",
      "Requirement already satisfied: threadpoolctl>=2.0.0 in c:\\users\\wesle\\appdata\\local\\packages\\pythonsoftwarefoundation.python.3.12_qbz5n2kfra8p0\\localcache\\local-packages\\python312\\site-packages (from scikit-learn>=1.2->pingouin) (3.4.0)\n",
      "Requirement already satisfied: contourpy>=1.0.1 in c:\\users\\wesle\\appdata\\local\\packages\\pythonsoftwarefoundation.python.3.12_qbz5n2kfra8p0\\localcache\\local-packages\\python312\\site-packages (from matplotlib->pingouin) (1.2.0)\n",
      "Requirement already satisfied: cycler>=0.10 in c:\\users\\wesle\\appdata\\local\\packages\\pythonsoftwarefoundation.python.3.12_qbz5n2kfra8p0\\localcache\\local-packages\\python312\\site-packages (from matplotlib->pingouin) (0.12.1)\n",
      "Requirement already satisfied: fonttools>=4.22.0 in c:\\users\\wesle\\appdata\\local\\packages\\pythonsoftwarefoundation.python.3.12_qbz5n2kfra8p0\\localcache\\local-packages\\python312\\site-packages (from matplotlib->pingouin) (4.50.0)\n",
      "Requirement already satisfied: kiwisolver>=1.3.1 in c:\\users\\wesle\\appdata\\local\\packages\\pythonsoftwarefoundation.python.3.12_qbz5n2kfra8p0\\localcache\\local-packages\\python312\\site-packages (from matplotlib->pingouin) (1.4.5)\n",
      "Requirement already satisfied: packaging>=20.0 in c:\\users\\wesle\\appdata\\local\\packages\\pythonsoftwarefoundation.python.3.12_qbz5n2kfra8p0\\localcache\\local-packages\\python312\\site-packages (from matplotlib->pingouin) (24.0)\n",
      "Requirement already satisfied: pillow>=8 in c:\\users\\wesle\\appdata\\local\\packages\\pythonsoftwarefoundation.python.3.12_qbz5n2kfra8p0\\localcache\\local-packages\\python312\\site-packages (from matplotlib->pingouin) (10.2.0)\n",
      "Requirement already satisfied: pyparsing>=2.3.1 in c:\\users\\wesle\\appdata\\local\\packages\\pythonsoftwarefoundation.python.3.12_qbz5n2kfra8p0\\localcache\\local-packages\\python312\\site-packages (from matplotlib->pingouin) (3.1.2)\n",
      "Requirement already satisfied: xarray in c:\\users\\wesle\\appdata\\local\\packages\\pythonsoftwarefoundation.python.3.12_qbz5n2kfra8p0\\localcache\\local-packages\\python312\\site-packages (from pandas-flavor->pingouin) (2025.3.1)\n",
      "Requirement already satisfied: patsy>=0.5.6 in c:\\users\\wesle\\appdata\\local\\packages\\pythonsoftwarefoundation.python.3.12_qbz5n2kfra8p0\\localcache\\local-packages\\python312\\site-packages (from statsmodels->pingouin) (0.5.6)\n",
      "Requirement already satisfied: six in c:\\users\\wesle\\appdata\\local\\packages\\pythonsoftwarefoundation.python.3.12_qbz5n2kfra8p0\\localcache\\local-packages\\python312\\site-packages (from patsy>=0.5.6->statsmodels->pingouin) (1.16.0)\n",
      "Note: you may need to restart the kernel to use updated packages.\n"
     ]
    },
    {
     "name": "stderr",
     "output_type": "stream",
     "text": [
      "\n",
      "[notice] A new release of pip is available: 25.0.1 -> 25.1\n",
      "[notice] To update, run: C:\\Users\\wesle\\AppData\\Local\\Microsoft\\WindowsApps\\PythonSoftwareFoundation.Python.3.12_qbz5n2kfra8p0\\python.exe -m pip install --upgrade pip\n"
     ]
    }
   ],
   "source": [
    "%pip install pingouin"
   ]
  },
  {
   "cell_type": "markdown",
   "id": "052858a1",
   "metadata": {},
   "source": [
    "Importando Bibliotecas"
   ]
  },
  {
   "cell_type": "code",
   "execution_count": 2,
   "id": "f22bd3dd",
   "metadata": {},
   "outputs": [],
   "source": [
    "import numpy as np, random # bibliotecas para manipulação de dados e geração de números aleatórios\n",
    "import pingouin as pg # biblioteca pingouin para análise estatística\n",
    "import pandas as pd # biblioteca pandas para manipulação de dados\n",
    "from scipy.stats import shapiro # teste de normalidade de Shapiro-Wilk\n",
    "from scipy.stats import kstest # teste de Kolmogorov-Smirnov\n",
    "import scipy.stats as stats # biblioteca scipy para funções estatísticas\n",
    "from scipy.stats import ttest_ind # teste t de Student para amostras independentes\n",
    "from scipy.stats import bartlett # teste de Bartlett para homogeneidade de variâncias\n",
    "import matplotlib.pyplot as plt # biblioteca matplotlib para visualização de dados\n",
    "import seaborn as sns # biblioteca seaborn para visualização de dados\n",
    "from scipy.stats import norm # distribuição normal\n",
    "from scipy.stats import t as t_dist # distribuição t de Student"
   ]
  },
  {
   "cell_type": "markdown",
   "id": "d47ad023",
   "metadata": {},
   "source": [
    "### Dados para os Testes de Normalidade"
   ]
  },
  {
   "cell_type": "markdown",
   "id": "520dc9b4",
   "metadata": {},
   "source": [
    "Testar se seus dados seguem uma distribuição normal"
   ]
  },
  {
   "cell_type": "markdown",
   "id": "7be06dc8",
   "metadata": {},
   "source": [
    "Então iremos avaliar o p_valor:\n",
    "\n",
    "- p_valor > 0.05 → dados parecem normais\n",
    "\n",
    "- p_valor ≤ 0.05 → dados provavelmente NÃO são normais"
   ]
  },
  {
   "cell_type": "code",
   "execution_count": null,
   "id": "99cb5b4b",
   "metadata": {},
   "outputs": [],
   "source": [
    "#dados = np.random.normal(0, 1, 500)"
   ]
  },
  {
   "cell_type": "code",
   "execution_count": 79,
   "id": "c196e9ed",
   "metadata": {},
   "outputs": [
    {
     "data": {
      "text/plain": [
       "array([ 0.08216145,  0.34218932,  1.50020642, -1.93362551,  1.40196964,\n",
       "        1.62752442, -0.66357514,  0.33880766,  0.23080633,  0.46960805,\n",
       "        0.28736281,  1.3699022 ,  0.95246837,  1.39136154,  1.78427971,\n",
       "        0.6837524 ,  1.31728001,  0.42323793, -0.23831233,  0.23176471,\n",
       "        1.80123353, -0.65887359,  0.84906908, -0.08098255,  0.46781975,\n",
       "       -0.94548037, -1.62472386, -0.41504433,  1.67892942,  0.3585438 ,\n",
       "       -1.06984016,  0.60282278, -0.29181359,  1.05906499,  0.57728598,\n",
       "       -0.54527229,  0.59740401,  1.02460249, -0.63783932,  1.74936139,\n",
       "       -1.92814991, -1.96172586,  0.11583591,  0.8867671 ,  1.30044191,\n",
       "        0.89687576, -1.34005194, -1.78859761, -0.63957729, -0.11581698,\n",
       "       -1.20186937,  1.35537224,  0.69322914, -0.6619465 , -1.02188376,\n",
       "       -0.45624054, -0.87563957, -1.49930571,  1.89593552, -0.55474766,\n",
       "       -0.54581716,  1.45100332, -0.96973569,  1.17417333,  1.09238544,\n",
       "        0.64983854,  1.06097104,  1.86114859,  1.05383663, -1.48924457,\n",
       "       -0.45467131, -1.40518758,  1.52203526,  0.04849776, -1.68937272,\n",
       "        0.71330556, -1.88549583,  0.28115057, -1.94735447, -0.50111399,\n",
       "       -0.70365645, -1.04305351,  0.06646563, -0.8661295 , -0.6693878 ,\n",
       "        0.29588796, -0.75198344,  1.78756081,  0.89344804,  1.80684972,\n",
       "       -1.88084227,  1.31473323, -1.3671864 ,  1.50525226, -0.07806977,\n",
       "       -1.9448722 , -0.75266988,  0.21903535, -1.83243543,  0.14684693,\n",
       "       -0.65808815,  1.83809712, -1.6895355 , -0.87509339,  0.93397446,\n",
       "        1.53357819, -1.0647374 , -0.71893869,  0.36724758, -0.75446579,\n",
       "        1.43970768, -0.77227377, -0.5718085 ,  1.65351601,  1.5116534 ,\n",
       "        0.57309466, -0.86451131,  1.94315062,  0.64631983,  1.0760524 ,\n",
       "       -1.90083896,  0.71609553, -0.16097657,  0.1877152 , -1.36817894,\n",
       "        1.05932037, -0.04787817, -1.51203257, -1.04263357,  0.34224173,\n",
       "        1.66021359,  1.37663297,  1.92189778,  1.33254952, -0.57625004,\n",
       "       -0.97682201,  0.67001574, -1.1025054 ,  0.72405337, -1.04292233,\n",
       "        0.79643852, -0.99739483, -1.58911214,  1.01231769, -1.78529205,\n",
       "       -0.83456119, -0.98379193, -1.16475563,  1.683117  ,  0.53015192,\n",
       "        0.86183698, -1.55393995,  0.59070941,  0.22604799,  1.96376882,\n",
       "       -1.06507787,  1.62637174, -0.86833883,  1.04238346, -1.46220509,\n",
       "        0.78167383, -1.23779302, -0.54254157, -1.7248063 , -0.37534642,\n",
       "       -0.11396094,  1.09048491,  0.8495776 ,  1.73310448, -1.90213828,\n",
       "       -0.33408442, -1.13011982,  1.8877135 ,  0.57639396, -1.23043274,\n",
       "        0.49258664, -0.05493183,  1.4962445 , -1.94301128, -1.09350833,\n",
       "       -1.92384293, -0.79234885, -1.72938612, -0.54844526, -1.07594966,\n",
       "       -1.93622618,  1.12572707,  0.54102178, -1.34002747,  1.81766263,\n",
       "        0.77158181, -1.3568183 ,  0.35330809, -0.8280726 ,  0.24760432,\n",
       "        0.69325894,  0.31525877, -0.14257461, -1.86973657, -1.09383525,\n",
       "       -0.45140712, -0.37232892,  0.49711033,  0.61130704, -1.28116821,\n",
       "       -0.35265061,  1.44972199,  0.90879449,  1.65188505, -0.67490243,\n",
       "        0.70078666,  0.28321419,  0.84370618,  0.96670437,  1.02588393,\n",
       "       -0.58614408, -0.34829794, -0.3474185 , -0.2297559 ,  0.55380001,\n",
       "        0.47842356, -0.91653031, -0.58633005,  0.37771076,  0.20500108,\n",
       "        1.05030121,  1.16763566, -1.52986943, -1.75879195,  0.34827945,\n",
       "       -1.69731986, -1.09808772, -1.39844101, -0.68778006,  0.01129307,\n",
       "       -1.2211343 ,  0.66528816, -1.41019072, -0.48070141,  1.90746184,\n",
       "       -0.54923399,  1.49024552,  0.18707887,  0.89639718, -1.46173064,\n",
       "        0.23916588,  0.18423209, -0.02254879, -0.04851118, -1.98639831,\n",
       "        1.20707924,  1.58261376,  0.79812909,  0.6761873 , -1.41760659,\n",
       "       -0.22614821, -0.93405047, -0.53468788, -1.5232182 , -0.28099423,\n",
       "        0.82501673,  1.51468454, -1.98088822, -1.48399059,  0.2282676 ,\n",
       "        0.36851922, -1.07392327,  1.52772815, -0.04479482, -0.07269498,\n",
       "        1.72473632, -1.83858314,  1.35383089,  0.86807359, -1.09664992,\n",
       "       -1.9846083 , -1.7261464 ,  0.11649189,  1.32581391,  1.18511563,\n",
       "       -0.60449464, -1.94522046, -1.44613872,  1.02353243, -1.38025022,\n",
       "       -1.55082177, -0.86845225,  0.76234772, -0.64991185, -1.45919272,\n",
       "        0.15310353, -0.31811564, -1.67275167, -1.92067571,  0.65533871,\n",
       "       -0.99229593, -0.06103814, -0.71184865,  1.52970117, -0.15748546,\n",
       "       -0.51378608,  1.45475912,  0.11413865,  0.05204098,  1.75527565,\n",
       "        0.90638775,  0.45914089, -0.73229692,  0.22627039,  1.47891967,\n",
       "       -1.17138404, -1.06719083,  1.15248001,  0.42715249,  1.22610555,\n",
       "        1.18389189, -1.17804691, -1.70122009,  0.95613089,  0.44523548,\n",
       "       -0.19574978, -0.42440902,  1.09822725, -1.63834662,  1.154007  ,\n",
       "       -1.35905164, -0.99252937,  1.50546632, -1.00315016, -1.10362723,\n",
       "        0.26529929,  1.50835339, -1.28253689, -0.72416368, -0.91646737,\n",
       "        0.39836785, -1.35313511,  0.44496909,  0.78465818, -0.62229048,\n",
       "       -1.53389621,  1.04422849, -0.87341194,  1.86443121,  1.91041697,\n",
       "       -0.89659595,  1.66358049, -1.77756809, -0.11171678,  0.81200695,\n",
       "        0.18411383,  1.37423341,  0.00683789, -1.88149735,  1.34270473,\n",
       "       -1.85199137, -1.06461846,  0.63615191, -1.70216518, -1.86278907,\n",
       "       -1.38902764,  0.66082775,  1.46373692,  0.39830668,  1.09138866,\n",
       "        0.41821411, -0.3949284 ,  1.90643468,  0.07415532, -1.88102605,\n",
       "        0.47803236, -1.7154494 , -1.32670657, -0.10754805,  0.05825929,\n",
       "       -0.24631625,  1.95222105, -0.91180803,  1.45243756,  0.72563367,\n",
       "       -0.7754082 ,  0.42807153,  0.83192519,  1.95380558,  1.22252062,\n",
       "        0.51739413,  0.19853332,  1.57511855,  1.07128519,  0.76007508,\n",
       "        1.90439726, -0.08602068,  0.79829755,  1.70663476,  0.49585681,\n",
       "       -1.71838816, -1.02780107,  1.41143043, -1.63734226, -0.93292009,\n",
       "       -0.70731062,  1.99586014,  1.9243302 , -0.87984092, -1.23533705,\n",
       "        1.60840938, -1.91146038,  1.72890113,  0.36706157,  1.83789112,\n",
       "       -0.76436453,  0.79299075,  0.84800182,  1.68021065,  1.77859342,\n",
       "        0.78992792,  1.26719666, -0.80702487, -1.53414486, -1.99993748,\n",
       "        0.55574516,  0.18724476, -1.12610983,  1.7334387 , -1.71443699,\n",
       "        1.60863753,  0.41557195,  0.42280611, -1.75282557, -1.94855382,\n",
       "       -1.62941294,  0.19260337,  1.34254242, -1.60114388,  1.27039814,\n",
       "        0.94429435,  0.09521128, -1.98177635,  1.13730999,  0.02132171,\n",
       "        1.92181362,  1.28277439,  0.92837818,  1.98349274,  1.50165912,\n",
       "        0.8718067 , -0.85124693,  0.04157334,  1.17563032,  1.25973967,\n",
       "        0.93739102,  1.33856239,  0.3009879 ,  0.52291157,  0.65206026,\n",
       "        0.64227056,  1.77344255, -1.44352865, -1.20555046, -0.88906129,\n",
       "        1.70780903,  0.07638105, -1.58059685,  0.2122293 ,  1.55490546,\n",
       "       -0.15707191, -1.63683345,  1.75077835, -0.50549251,  1.75082384,\n",
       "       -0.38698362, -1.76184528,  1.66957453, -0.41796317, -1.60273482,\n",
       "       -1.73407437,  1.72313807,  1.48533356,  0.33625324, -1.71030565,\n",
       "       -1.98030446, -0.52491777,  0.68110996,  0.49374608, -0.089949  ,\n",
       "        0.12771231, -1.57195294,  0.11643554, -0.27587982,  1.96195694,\n",
       "        0.25719555,  0.10252821,  1.27980176,  1.56416184, -1.23651121,\n",
       "       -0.59749623, -0.35481807, -1.50921652,  0.52182558,  0.54638256])"
      ]
     },
     "execution_count": 79,
     "metadata": {},
     "output_type": "execute_result"
    }
   ],
   "source": [
    "#\"\"\"\n",
    "dados = random.choice([\n",
    "    np.random.normal(0, 1, 500),\n",
    "    np.random.exponential(1, 500),\n",
    "    np.random.uniform(-2, 2, 500),\n",
    "    np.concatenate([np.random.normal(0, 1, 950), np.random.uniform(10, 20, 50)])\n",
    "])\n",
    "#\"\"\"\n",
    "dados"
   ]
  },
  {
   "cell_type": "markdown",
   "id": "90968485",
   "metadata": {},
   "source": [
    "### Teste Kolmogorov-Smirnov"
   ]
  },
  {
   "cell_type": "markdown",
   "id": "96a557c8",
   "metadata": {},
   "source": [
    "O **teste de Kolmogorov-Smirnov** é um teste estatístico usado para verificar se um conjunto de dados segue uma distribuição teórica específica. No contexto de testes de normalidade, ele avalia se os dados seguem uma distribuição normal."
   ]
  },
  {
   "cell_type": "markdown",
   "id": "d7d097c7",
   "metadata": {},
   "source": [
    "O teste compara:\n",
    "\n",
    "- A função de distribuição empírica dos dados\n",
    "\n",
    "- Com a função de distribuição acumulada teórica da normal."
   ]
  },
  {
   "cell_type": "markdown",
   "id": "18946aff",
   "metadata": {},
   "source": [
    "### Teste Kolmogorov-Smirnov Manual"
   ]
  },
  {
   "cell_type": "code",
   "execution_count": 80,
   "id": "62611665",
   "metadata": {},
   "outputs": [],
   "source": [
    "def kolmogorov_smirnov(data):\n",
    "    # Padroniza os dados para ter média 0 e desvio padrão 1 \n",
    "    #data_padronizado = (data - np.mean(data)) / np.std(data, ddof=1)\n",
    "    \n",
    "    # Organize os dados em ordem crescente\n",
    "    data_sorted = np.sort(data)\n",
    "    n = len(data_sorted)\n",
    "    \n",
    "    # Função de distribuição empírica F_n(x)\n",
    "    F_n = np.arange(1, n+1) / n\n",
    "    \n",
    "    # Função de distribuição acumulada da normal F(x)\n",
    "    F_x = norm.cdf(data_sorted)\n",
    "    \n",
    "    # Calcula o D máximo\n",
    "    D = np.max(np.abs(F_n - F_x))\n",
    "    p_value = kstest(data, 'norm')[1]\n",
    "    \n",
    "    return (D,p_value)"
   ]
  },
  {
   "cell_type": "code",
   "execution_count": 81,
   "id": "dc5c2c7e",
   "metadata": {},
   "outputs": [
    {
     "name": "stdout",
     "output_type": "stream",
     "text": [
      "Kolmogorov-Smirnov Manual: 0.0943 | p-value: 0.0002\n"
     ]
    }
   ],
   "source": [
    "print(f\"Kolmogorov-Smirnov Manual: {kolmogorov_smirnov(dados)[0]:.4f} | p-value: {kolmogorov_smirnov(dados)[1]:.4f}\")\n"
   ]
  },
  {
   "cell_type": "markdown",
   "id": "b5a55a43",
   "metadata": {},
   "source": [
    "### Teste Kolmogorov-Smirnov Biblioteca"
   ]
  },
  {
   "cell_type": "code",
   "execution_count": 82,
   "id": "627433a4",
   "metadata": {},
   "outputs": [
    {
     "name": "stdout",
     "output_type": "stream",
     "text": [
      "estatística = 0.0950, \n",
      "p-valor = 0.0002\n"
     ]
    }
   ],
   "source": [
    "estatistica, p_valor = kstest(dados, 'norm')\n",
    "print(f\"estatística = {estatistica:.4f}, \\np-valor = {p_valor:.4f}\")"
   ]
  },
  {
   "cell_type": "code",
   "execution_count": 83,
   "id": "8844f38d",
   "metadata": {},
   "outputs": [
    {
     "name": "stdout",
     "output_type": "stream",
     "text": [
      "A amostra não é normalmente distribuída (rejeita H0)\n"
     ]
    }
   ],
   "source": [
    "if p_valor < 0.05:\n",
    "    print(\"A amostra não é normalmente distribuída (rejeita H0)\")\n",
    "else:\n",
    "    print(\"A amostra é normalmente distribuída (não rejeita H0)\")"
   ]
  },
  {
   "cell_type": "code",
   "execution_count": 84,
   "id": "882d67bd",
   "metadata": {},
   "outputs": [
    {
     "data": {
      "image/png": "[encoded data removed]",
      "text/plain": [
       "<Figure size 640x480 with 1 Axes>"
      ]
     },
     "metadata": {},
     "output_type": "display_data"
    }
   ],
   "source": [
    "x = np.linspace(min(dados), max(dados), 300)\n",
    "y = norm.pdf(x, loc=0, scale=1)\n",
    "plt.hist(dados, bins=30, density=True, edgecolor='black', alpha=0.7, label='Histograma')\n",
    "plt.plot(x, y, color='blue', linewidth=2, label='Curva Normal')\n",
    "\n",
    "# Marcar o p_valor\n",
    "plt.axvline(p_valor, color='red', linestyle='--', label=f'p_valor = {p_valor:.4f}')\n",
    "\n",
    "# Marcar o valor 0.05\n",
    "plt.axvline(0.05, color='green', linestyle='--', label='0.05')\n",
    "\n",
    "plt.legend()\n",
    "plt.show()"
   ]
  },
  {
   "cell_type": "markdown",
   "id": "a0ebaced",
   "metadata": {},
   "source": [
    "### Teste Shapiro-Wilk"
   ]
  },
  {
   "cell_type": "markdown",
   "id": "b0462840",
   "metadata": {},
   "source": [
    "O **teste de Shapiro-Wilk** é um dos testes mais utilizados para verificar se uma amostra segue uma distribuição normal. Ele é especialmente eficaz para tamanhos de amostra pequenos e médios"
   ]
  },
  {
   "cell_type": "markdown",
   "id": "cdd41fc4",
   "metadata": {},
   "source": [
    "O teste compara a variância da amostra com a variância esperada caso os dados fossem normais. A estatística do teste é o W, que mede o quão bem os dados se ajustam à distribuição normal teórica.\n",
    "\n",
    "- W próximo de 1 → forte evidência de normalidade.\n",
    "\n",
    "- W significativamente menor que 1 → desvio da normalidade.\n",
    "\n"
   ]
  },
  {
   "cell_type": "markdown",
   "id": "79a03a6c",
   "metadata": {},
   "source": [
    "### Teste Shapiro-Wilk Manual"
   ]
  },
  {
   "cell_type": "code",
   "execution_count": 85,
   "id": "6b617b12",
   "metadata": {},
   "outputs": [],
   "source": [
    "def shapiro_wilk(dados):\n",
    "    dados = np.sort(dados)\n",
    "    n = len(dados)\n",
    "    \n",
    "    # Média e desvio padrão da amostra\n",
    "    media = np.mean(dados)\n",
    "    desvio = np.std(dados, ddof=1)\n",
    "    \n",
    "    # Estatísticas padronizadas\n",
    "    z = (dados - media) / desvio\n",
    "\n",
    "    # Coeficientes de Shapiro aproximados a_i,n\n",
    "    # Para isso usamos quantis da normal padrão\n",
    "    # - 0.375: quantil 0.375 da normal padrão\n",
    "    # - 0.25: quantil 0.25 da normal padrão\n",
    "    # O 0.375 e o 0.25 são valores empíricos usados para aproximar a distribuição dos coeficientes \n",
    "    # a_i,n, que são os coeficientes de Shapiro-Wilk.\n",
    "    \n",
    "    prob = []\n",
    "    for i in range(1, n + 1):\n",
    "        prob_value = (i - 0.375) / (n + 0.25)\n",
    "        prob.append(prob_value)\n",
    "    \n",
    "    b = norm.ppf(prob) #ppf é a função de quantil da normal padrão\n",
    "    b = b / np.linalg.norm(b)  # Normaliza m\n",
    "\n",
    "    # Soma ponderada dos dados ordenados com os coeficientes m\n",
    "    W_numerador = (np.sum(b * dados))**2\n",
    "    W_denominador = np.sum((dados - media)**2)\n",
    "\n",
    "    W = W_numerador / W_denominador\n",
    "    p_valor = shapiro(dados)[1]\n",
    "    return (W, p_valor)"
   ]
  },
  {
   "cell_type": "code",
   "execution_count": 86,
   "id": "45435671",
   "metadata": {},
   "outputs": [
    {
     "name": "stdout",
     "output_type": "stream",
     "text": [
      "Shapiro-Wilk Manual: 0.9563 | p-value: 0.0000\n"
     ]
    }
   ],
   "source": [
    "print(f\"Shapiro-Wilk Manual: {shapiro_wilk(dados)[0]:.4f} | p-value: {shapiro_wilk(dados)[1]:.4f}\")"
   ]
  },
  {
   "cell_type": "markdown",
   "id": "f9135ce0",
   "metadata": {},
   "source": [
    "### Teste Shapiro-Wilk Biblioteca\n"
   ]
  },
  {
   "cell_type": "code",
   "execution_count": 87,
   "id": "593f3515",
   "metadata": {},
   "outputs": [
    {
     "name": "stdout",
     "output_type": "stream",
     "text": [
      "estatística = 0.9537, \n",
      "p-valor = 0.0000\n"
     ]
    }
   ],
   "source": [
    "estatistica, p_valor = shapiro(dados)\n",
    "print(f\"estatística = {estatistica:.4f}, \\np-valor = {p_valor:.4f}\")"
   ]
  },
  {
   "cell_type": "code",
   "execution_count": 88,
   "id": "0340ecab",
   "metadata": {},
   "outputs": [
    {
     "name": "stdout",
     "output_type": "stream",
     "text": [
      "A amostra não é normalmente distribuída (rejeita H0)\n"
     ]
    }
   ],
   "source": [
    "if p_valor <= 0.05:\n",
    "    print(\"A amostra não é normalmente distribuída (rejeita H0)\")\n",
    "else:\n",
    "    print(\"A amostra é normalmente distribuída (não rejeita H0)\")"
   ]
  },
  {
   "cell_type": "code",
   "execution_count": 89,
   "id": "1b202bd1",
   "metadata": {},
   "outputs": [
    {
     "data": {
      "image/png": "[encoded data removed]",
      "text/plain": [
       "<Figure size 640x480 with 1 Axes>"
      ]
     },
     "metadata": {},
     "output_type": "display_data"
    }
   ],
   "source": [
    "x = np.linspace(min(dados), max(dados), 300)\n",
    "y = norm.pdf(x, loc=0, scale=1)\n",
    "plt.hist(dados, bins=30, density=True, edgecolor='black', alpha=0.7, label='Histograma')\n",
    "plt.plot(x, y, color='blue', linewidth=2, label='Curva Normal')\n",
    "\n",
    "# Marcar o p_valor\n",
    "plt.axvline(p_valor, color='red', linestyle='--', label=f'p_valor = {p_valor:.4f}')\n",
    "\n",
    "# Marcar o valor 0.05\n",
    "plt.axvline(0.05, color='green', linestyle='--', label='0.05')\n",
    "\n",
    "plt.legend()\n",
    "plt.show()"
   ]
  },
  {
   "cell_type": "markdown",
   "id": "cea4cbf9",
   "metadata": {},
   "source": [
    "### Teste Shapiro-Francia"
   ]
  },
  {
   "cell_type": "markdown",
   "id": "54767ebd",
   "metadata": {},
   "source": [
    "O teste de Shapiro-Francia é uma variação do teste de Shapiro-Wilk, idealizado especialmente para detectar desvios da normalidade em amostras maiores. Ele é mais simples e rápido de computar, pois usa quantis normais no lugar de coeficientes tabelados.\n",
    "\n",
    "Hipóteses:\n",
    "​\n",
    "- H0: Os dados seguem uma distribuição normal.\n",
    "- H1: : Os dados não seguem uma distribuição normal\n",
    "\n",
    "Se o W Se estiver muito distante de 1, a normalidade pode ser rejeitada"
   ]
  },
  {
   "cell_type": "markdown",
   "id": "da73d0c1",
   "metadata": {},
   "source": [
    "### Teste Shapiro-Francia Manual"
   ]
  },
  {
   "cell_type": "code",
   "execution_count": 15,
   "id": "bcfce54f",
   "metadata": {},
   "outputs": [],
   "source": [
    "def shapiro_francia_test(x):\n",
    "    # Ordena os dados da amostra\n",
    "    x = np.sort(x)\n",
    "    n = len(x)\n",
    "\n",
    "    # Calcula a média dos dados ordenados\n",
    "    x_media = np.mean(x)\n",
    "\n",
    "    # Gera os quantis esperados da normal padrão usando posições ajustadas (probabilidades simuladas)\n",
    "    # Essa fórmula é uma heurística comum para gerar quantis simétricos\n",
    "    m = norm.ppf([(i - 0.375) / (n + 0.25) for i in range(1, n + 1)])\n",
    "    m_media = np.mean(m)\n",
    "\n",
    "    # Coeficientes a_i normalizados\n",
    "    # Subtrai a média de m para centralizar e depois normaliza\n",
    "    u = m - m_media\n",
    "    a = u / np.sqrt(np.sum(u ** 2))  # Normaliza os coeficientes\n",
    "\n",
    "    # Cálculo do numerador do W': soma ponderada dos dados ordenados elevada ao quadrado\n",
    "    numerador = (np.sum(a * x)) ** 2\n",
    "\n",
    "    # Cálculo do denominador do W': soma dos quadrados das diferenças em relação à média\n",
    "    denominador = np.sum((x - x_media) ** 2)\n",
    "\n",
    "    # Estatística do teste de Shapiro-Francia\n",
    "    W_calc = numerador / denominador\n",
    "\n",
    "    # P-valor: aqui usamos a função shapiro do scipy apenas para obter o p-valor como aproximação\n",
    "    p_value = shapiro(x)[1]\n",
    "\n",
    "    return (W_calc, p_value)\n"
   ]
  },
  {
   "cell_type": "code",
   "execution_count": 16,
   "id": "482a5215",
   "metadata": {},
   "outputs": [
    {
     "name": "stdout",
     "output_type": "stream",
     "text": [
      "Shapiro-Francia: W' = 0.7961, p-valor = 0.0000\n"
     ]
    }
   ],
   "source": [
    "stat, p = shapiro_francia_test(dados)\n",
    "print(f\"Shapiro-Francia: W' = {stat:.4f}, p-valor = {p:.4f}\")"
   ]
  },
  {
   "cell_type": "code",
   "execution_count": 17,
   "id": "af6e2233",
   "metadata": {},
   "outputs": [
    {
     "name": "stdout",
     "output_type": "stream",
     "text": [
      "A amostra não é normalmente distribuída (rejeita H0)\n"
     ]
    }
   ],
   "source": [
    "if p <= 0.05:\n",
    "    print(\"A amostra não é normalmente distribuída (rejeita H0)\")\n",
    "else:\n",
    "    print(\"A amostra é normalmente distribuída (não rejeita H0)\")"
   ]
  },
  {
   "cell_type": "code",
   "execution_count": 18,
   "id": "117d6a2f",
   "metadata": {},
   "outputs": [
    {
     "data": {
      "image/png": "[encoded data removed]",
      "text/plain": [
       "<Figure size 640x480 with 1 Axes>"
      ]
     },
     "metadata": {},
     "output_type": "display_data"
    }
   ],
   "source": [
    "x = np.linspace(min(dados), max(dados), 300)\n",
    "y = norm.pdf(x, loc=0, scale=1)\n",
    "plt.hist(dados, bins=30, density=True, edgecolor='black', alpha=0.7, label='Histograma')\n",
    "plt.plot(x, y, color='blue', linewidth=2, label='Curva Normal')\n",
    "\n",
    "# Marcar o p_valor\n",
    "plt.axvline(p_valor, color='red', linestyle='--', label=f'p_valor = {p_valor:.4f}')\n",
    "\n",
    "# Marcar o valor 0.05\n",
    "plt.axvline(0.05, color='green', linestyle='--', label='0.05')\n",
    "\n",
    "plt.legend()\n",
    "plt.show()"
   ]
  },
  {
   "cell_type": "markdown",
   "id": "d437b050",
   "metadata": {},
   "source": [
    "### Dados para Teste de Média Populacional"
   ]
  },
  {
   "cell_type": "markdown",
   "id": "89757286",
   "metadata": {},
   "source": [
    "Comparar se a média de dois grupos é diferente"
   ]
  },
  {
   "cell_type": "markdown",
   "id": "a556b65a",
   "metadata": {},
   "source": [
    "Nível de Significância (α) - É o limite máximo que você aceita para cometer um erro tipo I (rejeitar a hipótese nula quando ela é verdadeira).\n",
    "\n",
    "\n",
    "Comparar o p-valor que é a probabilidade de obter um resultado tão extremo quanto o observado, assumindo que a hipótese nula é verdadeira."
   ]
  },
  {
   "cell_type": "markdown",
   "id": "96a66702",
   "metadata": {},
   "source": [
    "Então iremos avaliar o p_valor:\n",
    "\n",
    "- p > 0.05 → as médias são provavelmente iguais\n",
    "\n",
    "- p ≤ 0.05 → as médias são provavelmente diferentes"
   ]
  },
  {
   "cell_type": "code",
   "execution_count": 19,
   "id": "963992d9",
   "metadata": {},
   "outputs": [],
   "source": [
    "grupo1 = np.random.normal(0, 1, 20)\n",
    "grupo2 = np.random.normal(0, 1, 20)"
   ]
  },
  {
   "cell_type": "code",
   "execution_count": 20,
   "id": "3d854313",
   "metadata": {},
   "outputs": [
    {
     "data": {
      "text/plain": [
       "'grupo1 = random.choice([\\n    np.random.normal(0, 1, 20),\\n    np.random.exponential(1, 20),\\n    np.random.uniform(-2, 2, 20),\\n    np.concatenate([np.random.normal(0, 1, 20), np.random.uniform(10, 20, 50)])\\n])\\n\\ngrupo2 = random.choice([\\n    np.random.normal(0, 1, 20),\\n    np.random.exponential(1, 20),\\n    np.random.uniform(-2, 2, 20),\\n    np.concatenate([np.random.normal(0, 1, 20), np.random.uniform(10, 20, 50)])\\n])'"
      ]
     },
     "execution_count": 20,
     "metadata": {},
     "output_type": "execute_result"
    }
   ],
   "source": [
    "\"\"\"grupo1 = random.choice([\n",
    "    np.random.normal(0, 1, 20),\n",
    "    np.random.exponential(1, 20),\n",
    "    np.random.uniform(-2, 2, 20),\n",
    "    np.concatenate([np.random.normal(0, 1, 20), np.random.uniform(10, 20, 50)])\n",
    "])\n",
    "\n",
    "grupo2 = random.choice([\n",
    "    np.random.normal(0, 1, 20),\n",
    "    np.random.exponential(1, 20),\n",
    "    np.random.uniform(-2, 2, 20),\n",
    "    np.concatenate([np.random.normal(0, 1, 20), np.random.uniform(10, 20, 50)])\n",
    "])\"\"\""
   ]
  },
  {
   "cell_type": "code",
   "execution_count": 21,
   "id": "77617848",
   "metadata": {},
   "outputs": [
    {
     "data": {
      "text/plain": [
       "array([ 0.14191061,  2.57231862, -0.1512165 , -0.7993281 , -1.120988  ,\n",
       "       -1.50798373, -0.6856653 ,  0.27212303,  0.08809244,  0.49241232,\n",
       "        0.22616298,  0.09142586,  1.21682785,  0.31573384, -0.37224095,\n",
       "       -2.05491277,  0.65319233,  1.88877209, -0.06486409,  0.3010065 ])"
      ]
     },
     "execution_count": 21,
     "metadata": {},
     "output_type": "execute_result"
    }
   ],
   "source": [
    "grupo1"
   ]
  },
  {
   "cell_type": "code",
   "execution_count": 22,
   "id": "3982cf45",
   "metadata": {},
   "outputs": [
    {
     "data": {
      "text/plain": [
       "array([-0.01148719,  0.97010387, -0.27658441, -0.3821084 , -0.5666405 ,\n",
       "        0.29579152,  0.68454285, -0.92741491, -1.54937301,  1.59203912,\n",
       "       -1.65232183,  0.50337089, -1.21155856,  0.03241143, -0.47694939,\n",
       "       -1.43067618,  0.12856702, -1.17735974, -0.6564312 , -1.23203977])"
      ]
     },
     "execution_count": 22,
     "metadata": {},
     "output_type": "execute_result"
    }
   ],
   "source": [
    "grupo2"
   ]
  },
  {
   "cell_type": "markdown",
   "id": "9cc4b8d9",
   "metadata": {},
   "source": [
    "### Teste Z"
   ]
  },
  {
   "cell_type": "markdown",
   "id": "dc04f19c",
   "metadata": {},
   "source": [
    "### Teste Z manual"
   ]
  },
  {
   "attachments": {
    "image.png": {
     "image/png": "[encoded data removed]"
    }
   },
   "cell_type": "markdown",
   "id": "4b8c2abe",
   "metadata": {},
   "source": [
    "![image.png](attachment:image.png)"
   ]
  },
  {
   "cell_type": "code",
   "execution_count": 23,
   "id": "9489834b",
   "metadata": {},
   "outputs": [],
   "source": [
    "def teste_z_duas_amostras(grupo1, grupo2, sigma1, sigma2):\n",
    "    n1, n2 = len(grupo1), len(grupo2)\n",
    "    media1, media2 = np.mean(grupo1), np.mean(grupo2)\n",
    "\n",
    "    # Fórmula do Z para duas amostras com desvio conhecido\n",
    "    z = (media1 - media2) / np.sqrt((sigma1**2)/n1 + (sigma2**2)/n2)\n",
    "\n",
    "    # P-valor para teste bilateral\n",
    "    p_valor = 2 * (1 - norm.cdf(abs(z)))\n",
    "\n",
    "    return z, p_valor"
   ]
  },
  {
   "cell_type": "code",
   "execution_count": 24,
   "id": "a5c6e6bb",
   "metadata": {},
   "outputs": [],
   "source": [
    "z, p = teste_z_duas_amostras(grupo1, grupo2, sigma1=1, sigma2=1)"
   ]
  },
  {
   "cell_type": "code",
   "execution_count": 25,
   "id": "04823d74",
   "metadata": {},
   "outputs": [
    {
     "name": "stdout",
     "output_type": "stream",
     "text": [
      "Z = 1.3988\n",
      "P-valor = 0.1619\n"
     ]
    }
   ],
   "source": [
    "print(f\"Z = {z:.4f}\")\n",
    "print(f\"P-valor = {p:.4f}\")"
   ]
  },
  {
   "cell_type": "code",
   "execution_count": 26,
   "id": "80c4f26f",
   "metadata": {},
   "outputs": [
    {
     "name": "stdout",
     "output_type": "stream",
     "text": [
      "Não rejeita H0: não há evidência forte de diferença.\n"
     ]
    }
   ],
   "source": [
    "if p < 0.05:\n",
    "    print(\"Rejeita H0: diferença estatisticamente significativa.\")\n",
    "else:\n",
    "    print(\"Não rejeita H0: não há evidência forte de diferença.\")"
   ]
  },
  {
   "cell_type": "markdown",
   "id": "7c19f4df",
   "metadata": {},
   "source": [
    "### Teste TStudent"
   ]
  },
  {
   "cell_type": "markdown",
   "id": "955f5125",
   "metadata": {},
   "source": [
    "O teste t de Student é um teste estatístico usado para determinar se há uma diferença significativa entre as médias de dois grupos (ou entre a média de um grupo e um valor conhecido)"
   ]
  },
  {
   "cell_type": "markdown",
   "id": "bc7e253b",
   "metadata": {},
   "source": [
    "### Tstudent uma amostra -  manual"
   ]
  },
  {
   "cell_type": "markdown",
   "id": "4a52dc86",
   "metadata": {},
   "source": [
    "Comparar a média de uma amostra com um valor conhecido, no caso mu = 0"
   ]
  },
  {
   "attachments": {
    "image.png": {
     "image/png": "[encoded data removed]"
    }
   },
   "cell_type": "markdown",
   "id": "65385d33",
   "metadata": {},
   "source": [
    "![image.png](attachment:image.png)"
   ]
  },
  {
   "cell_type": "code",
   "execution_count": 27,
   "id": "03ff949a",
   "metadata": {},
   "outputs": [],
   "source": [
    "def teste_t_amostra(grupo, mu=0, alpha=0.05):\n",
    "    \"\"\"\n",
    "    Realiza o teste t para uma amostra.\n",
    "\n",
    "    Parâmetros:\n",
    "    - grupo: array-like, dados da amostra\n",
    "    - mu: valor da média populacional para o teste (default = 0) para testar se a média da amostra é diferente de 0\n",
    "    - alpha: nível de significância (default = 0.05)\n",
    "\n",
    "    Retorna:\n",
    "    - t_calculado: valor t da amostra\n",
    "    - mu: média populacional hipotética\n",
    "    - alpha: nível de significância\n",
    "    \"\"\"\n",
    "\n",
    "    # Calcular a média da amostra\n",
    "    media_amostra = np.mean(grupo)\n",
    "\n",
    "    # Calcular o desvio padrão amostral (ddof=1 -> desvio amostral)\n",
    "    desvio_amostra = np.std(grupo, ddof=1)\n",
    "\n",
    "    # Número de observações na amostra\n",
    "    n = len(grupo)\n",
    "\n",
    "    # Calcular o valor t\n",
    "    t_calculado = (media_amostra - mu) / (desvio_amostra / np.sqrt(n))\n",
    "\n",
    "    # Graus de liberdade\n",
    "    df = n - 1\n",
    "\n",
    "    # Valor crítico t (teste bilateral: alpha/2 em cada cauda)\n",
    "    # ppf (Percent-Point Function) retorna o valor t crítico correspondente a uma probabilidade cumulativa\n",
    "    t_critico = t_dist.ppf(1 - alpha / 2, df)\n",
    "\n",
    "    \n",
    "\n",
    "    return t_calculado, df"
   ]
  },
  {
   "cell_type": "code",
   "execution_count": 28,
   "id": "cd4a32ec",
   "metadata": {},
   "outputs": [
    {
     "name": "stdout",
     "output_type": "stream",
     "text": [
      "Valor t calculado: 0.3152\n",
      "Graus de liberdade: 19\n"
     ]
    }
   ],
   "source": [
    "t_calculado, df = teste_t_amostra(grupo1)\n",
    "print(f\"Valor t calculado: {t_calculado:.4f}\")\n",
    "print(f\"Graus de liberdade: {df}\")"
   ]
  },
  {
   "cell_type": "markdown",
   "id": "30eb5cf9",
   "metadata": {},
   "source": [
    "### Tstudent uma amostra - Biblioteca"
   ]
  },
  {
   "cell_type": "code",
   "execution_count": 29,
   "id": "f0c71ab2",
   "metadata": {},
   "outputs": [],
   "source": [
    "mu = 0\n",
    "t_stat, p_value = stats.ttest_1samp(grupo1, mu)\n",
    "#stats - biblioteca de estatísticas do scipy\n",
    "#ttest_1samp - teste t para uma amostra"
   ]
  },
  {
   "cell_type": "code",
   "execution_count": 30,
   "id": "a87b8d89",
   "metadata": {},
   "outputs": [
    {
     "name": "stdout",
     "output_type": "stream",
     "text": [
      "Valor t calculado: 0.3152\n",
      "Valor p: 0.7561\n",
      "Não rejeitar H0: A média da amostra não é significativamente diferente de 0\n"
     ]
    }
   ],
   "source": [
    "print(f\"Valor t calculado: {t_stat:.4f}\")\n",
    "print(f\"Valor p: {p_value:.4f}\")\n",
    "\n",
    "# Decisão sobre a hipótese nula\n",
    "alpha = 0.05\n",
    "if p_value < alpha:\n",
    "    print(\"Rejeitar H0: A média da amostra é significativamente diferente de\", mu)\n",
    "else:\n",
    "    print(\"Não rejeitar H0: A média da amostra não é significativamente diferente de\", mu)"
   ]
  },
  {
   "cell_type": "code",
   "execution_count": 31,
   "id": "2923a9ca",
   "metadata": {},
   "outputs": [
    {
     "data": {
      "image/png": "[encoded data removed]",
      "text/plain": [
       "<Figure size 1000x600 with 1 Axes>"
      ]
     },
     "metadata": {},
     "output_type": "display_data"
    }
   ],
   "source": [
    "def plot_t_student_bilateral(t_calculado, df, alpha=0.05):\n",
    "    \"\"\"\n",
    "    Plota a distribuição t de Student para um teste bilateral,\n",
    "    destacando as regiões de rejeição e o valor t calculado.\n",
    "\n",
    "    Parâmetros:\n",
    "    - t_calculado: valor t da amostra\n",
    "    - df: graus de liberdade (n - 1)\n",
    "    - alpha: nível de significância (default = 0.05)\n",
    "    \"\"\"\n",
    "\n",
    "    # Gerar valores t no intervalo\n",
    "    t_vals = np.linspace(-4, 4, 500)\n",
    "    \n",
    "    # Obter densidade de probabilidade\n",
    "    #pdf - função densidade de probabilidade\n",
    "    pdf = t_dist.pdf(t_vals, df)\n",
    "\n",
    "    # Valores críticos para o teste bilateral\n",
    "    # ppf - Percent-Point Function (inversa da CDF)\n",
    "    t_critico = t_dist.ppf(1 - alpha/2, df)\n",
    "\n",
    "    # Plotar a curva da distribuição t\n",
    "    plt.figure(figsize=(10, 6))\n",
    "    plt.plot(t_vals, pdf, label=f\"Distribuição t (df={df})\", color=\"black\")\n",
    "\n",
    "    # Preencher regiões de rejeição (caudas)\n",
    "    plt.fill_between(t_vals, 0, pdf, where=(t_vals <= -t_critico), color='red', alpha=0.5, label=\"Região de Rejeição\")\n",
    "    plt.fill_between(t_vals, 0, pdf, where=(t_vals >= t_critico), color='red', alpha=0.5)\n",
    "\n",
    "    # Marcar valor t crítico (positivo e negativo)\n",
    "    plt.axvline(x=-t_critico, color='red', linestyle='--', label=f\"t crítico = ±{t_critico:.2f}\")\n",
    "    plt.axvline(x=t_critico, color='red', linestyle='--')\n",
    "\n",
    "    # Marcar valor t calculado\n",
    "    plt.axvline(x=t_calculado, color='blue', linestyle='-', label=f\"t calculado = {t_calculado:.2f}\")\n",
    "\n",
    "    # Configurações do gráfico\n",
    "    plt.title('Distribuição t de Student - Teste Bilateral')\n",
    "    plt.xlabel('t')\n",
    "    plt.ylabel('Densidade de Probabilidade')\n",
    "    plt.legend()\n",
    "    plt.grid(True)\n",
    "    plt.show()\n",
    "\n",
    "df = len(grupo1) - 1\n",
    "plot_t_student_bilateral(t_calculado, df)"
   ]
  },
  {
   "cell_type": "markdown",
   "id": "1e431117",
   "metadata": {},
   "source": [
    "### Tstudent Independente - Manual"
   ]
  },
  {
   "cell_type": "markdown",
   "id": "06d266cd",
   "metadata": {},
   "source": [
    "Comparar as médias de dois grupos independentes."
   ]
  },
  {
   "attachments": {
    "image.png": {
     "image/png": "[encoded data removed]"
    }
   },
   "cell_type": "markdown",
   "id": "8429008e",
   "metadata": {},
   "source": [
    "![image.png](attachment:image.png)"
   ]
  },
  {
   "cell_type": "code",
   "execution_count": 32,
   "id": "58c261ce",
   "metadata": {},
   "outputs": [],
   "source": [
    "import math\n",
    "def t_student_duas_amostras(amostra1, amostra2, alpha=0.05):\n",
    "    \"\"\"\n",
    "    Calcula o valor t para comparação de duas amostras independentes \n",
    "    assumindo variâncias iguais (teste t para duas amostras).\n",
    "\n",
    "    Parâmetros:\n",
    "    - amostra1: dados da primeira amostra\n",
    "    - amostra2: dados da segunda amostra\n",
    "    - alpha: nível de significância (default = 0.05)\n",
    "\n",
    "    Retorna:\n",
    "    - t_calculado: valor t obtido\n",
    "    - df: graus de liberdade\n",
    "    \"\"\"\n",
    "\n",
    "    # Tamanho das amostras\n",
    "    n1, n2 = len(amostra1), len(amostra2)\n",
    "\n",
    "    # Médias das amostras\n",
    "    media1 = sum(amostra1) / n1\n",
    "    media2 = sum(amostra2) / n2\n",
    "\n",
    "    # Variâncias amostrais\n",
    "    var1 = sum((x - media1)**2 for x in amostra1) / (n1 - 1)\n",
    "    var2 = sum((x - media2)**2 for x in amostra2) / (n2 - 1)\n",
    "\n",
    "    # Variância combinada (assumindo variâncias iguais)\n",
    "    #sqrt - raiz quadrada\n",
    "    sp = math.sqrt(((n1 - 1) * var1 + (n2 - 1) * var2) / (n1 + n2 - 2))\n",
    "\n",
    "    # Valor t calculado\n",
    "    t_calculado = (media1 - media2) / (sp * math.sqrt(1/n1 + 1/n2))\n",
    "\n",
    "    # Graus de liberdade\n",
    "    df = n1 + n2 - 2\n",
    "\n",
    "    return t_calculado, df, media1, media2"
   ]
  },
  {
   "cell_type": "code",
   "execution_count": 33,
   "id": "032aec0e",
   "metadata": {},
   "outputs": [
    {
     "name": "stdout",
     "output_type": "stream",
     "text": [
      "Valor t calculado: 1.4211\n",
      "Graus de liberdade: 38\n",
      "Média amostra 1: 0.0751\n",
      "Média amostra 2: -0.3672\n"
     ]
    }
   ],
   "source": [
    "t_calculado, df, media1, media2 = t_student_duas_amostras(grupo1, grupo2)\n",
    "\n",
    "print(f\"Valor t calculado: {t_calculado:.4f}\")\n",
    "print(f\"Graus de liberdade: {df}\")\n",
    "print(f\"Média amostra 1: {media1:.4f}\")\n",
    "print(f\"Média amostra 2: {media2:.4f}\") "
   ]
  },
  {
   "cell_type": "markdown",
   "id": "c4a5396e",
   "metadata": {},
   "source": [
    "### Tstudent Independente - Biblioteca"
   ]
  },
  {
   "cell_type": "code",
   "execution_count": 34,
   "id": "808923bb",
   "metadata": {},
   "outputs": [
    {
     "name": "stdout",
     "output_type": "stream",
     "text": [
      "t-Student: estatística = 1.4211, p-valor = 0.1634\n"
     ]
    }
   ],
   "source": [
    "stat, p = ttest_ind(grupo1, grupo2, equal_var=True)\n",
    "print(f\"t-Student: estatística = {stat:.4f}, p-valor = {p:.4f}\")\n",
    "\n",
    "#equal_var=True - assume variâncias iguais\n",
    "#ttest_ind - teste t para duas amostras independentes"
   ]
  },
  {
   "cell_type": "code",
   "execution_count": 35,
   "id": "e793f00b",
   "metadata": {},
   "outputs": [
    {
     "name": "stdout",
     "output_type": "stream",
     "text": [
      "As médias são significativamente iguais (não rejeita H0)\n"
     ]
    }
   ],
   "source": [
    "if p <= 0.05:\n",
    "    print(\"As médias são diferentes (rejeita H0)\")\n",
    "else:  \n",
    "    print(\"As médias são significativamente iguais (não rejeita H0)\")"
   ]
  },
  {
   "cell_type": "code",
   "execution_count": 36,
   "id": "72738112",
   "metadata": {},
   "outputs": [
    {
     "data": {
      "image/png": "[encoded data removed]",
      "text/plain": [
       "<Figure size 640x480 with 1 Axes>"
      ]
     },
     "metadata": {},
     "output_type": "display_data"
    }
   ],
   "source": [
    "sns.boxplot(data=[grupo1, grupo2])\n",
    "plt.xticks([0, 1], ['Grupo 1', 'Grupo 2'])\n",
    "plt.title('Boxplot dos Grupos')\n",
    "plt.ylabel('Valores')\n",
    "plt.show()"
   ]
  },
  {
   "cell_type": "markdown",
   "id": "c9f16f06",
   "metadata": {},
   "source": [
    "### Tstudent Emparelhado - Manual"
   ]
  },
  {
   "cell_type": "code",
   "execution_count": 37,
   "id": "da8b70c8",
   "metadata": {},
   "outputs": [],
   "source": [
    "grupo1 = random.choice([\n",
    "    np.random.normal(0, 1, 20),\n",
    "    np.random.exponential(1, 20),\n",
    "    np.random.uniform(-2, 2, 20),\n",
    "    np.concatenate([np.random.normal(0, 1, 10), np.random.uniform(10, 20, 10)])  \n",
    "])\n",
    "\n",
    "# Simulando uma mudança no grupo (grupo2) para amostras pareadas\n",
    "grupo2 = grupo1 + np.random.normal(0, 0.5, 20)"
   ]
  },
  {
   "attachments": {
    "image.png": {
     "image/png": "[encoded data removed]"
    }
   },
   "cell_type": "markdown",
   "id": "99d33e17",
   "metadata": {},
   "source": [
    "![image.png](attachment:image.png)"
   ]
  },
  {
   "cell_type": "code",
   "execution_count": 38,
   "id": "a841fa7c",
   "metadata": {},
   "outputs": [],
   "source": [
    "def t_student_amostras_emparelhadas(grupo1, grupo2, alpha=0.05):\n",
    "    \"\"\"\n",
    "    Realiza o teste t de Student para amostras emparelhadas, comparando as médias das diferenças.\n",
    "\n",
    "    Parâmetros:\n",
    "    - grupo1: dados da primeira amostra\n",
    "    - grupo2: dados da segunda amostra\n",
    "    - alpha: nível de significância (default = 0.05)\n",
    "\n",
    "    Retorna:\n",
    "    - t_calculado: valor t obtido\n",
    "    - p_valor: valor p para o teste\n",
    "    - rejeitar_H0: booleano indicando se H0 é rejeitada\n",
    "    \"\"\"\n",
    "    \n",
    "    # Calcular as diferenças (d = grupo1 - grupo2)\n",
    "    diferencas = np.array(grupo1) - np.array(grupo2)\n",
    "\n",
    "    # Calcular a média das diferenças (d_bar)\n",
    "    media_diferencas = np.mean(diferencas)\n",
    "\n",
    "    # Calcular o desvio padrão das diferenças (s_d) - amostral\n",
    "    desvio_diferencas = np.std(diferencas, ddof=1)\n",
    "\n",
    "    # Número de pares\n",
    "    n = len(diferencas)\n",
    "\n",
    "    # Calcular o valor t\n",
    "    t_calculado = media_diferencas / (desvio_diferencas / np.sqrt(n))\n",
    "\n",
    "    # Calcular os graus de liberdade (df)\n",
    "    df = n - 1\n",
    "\n",
    "    # Calcular o p-valor\n",
    "    p_valor = 2 * (1 - t_dist.cdf(abs(t_calculado), df))\n",
    "\n",
    "    # Determinar se devemos rejeitar H0\n",
    "    rejeitar_H0 = p_valor < alpha\n",
    "\n",
    "    return t_calculado, p_valor, rejeitar_H0, df\n"
   ]
  },
  {
   "cell_type": "code",
   "execution_count": 39,
   "id": "dcea1490",
   "metadata": {},
   "outputs": [
    {
     "name": "stdout",
     "output_type": "stream",
     "text": [
      "Valor t calculado: -0.8903\n",
      "p-valor: 0.3844\n",
      "Graus de liberdade: 19\n",
      "Rejeitar H0? Não\n"
     ]
    }
   ],
   "source": [
    "t_calculado, p_valor, rejeitar_H0, df = t_student_amostras_emparelhadas(grupo1, grupo2)\n",
    "print(f\"Valor t calculado: {t_calculado:.4f}\")\n",
    "print(f\"p-valor: {p_valor:.4f}\")\n",
    "print(f\"Graus de liberdade: {df}\")\n",
    "print(f\"Rejeitar H0? {'Sim' if rejeitar_H0 else 'Não'}\")"
   ]
  },
  {
   "cell_type": "markdown",
   "id": "46e6e8fc",
   "metadata": {},
   "source": [
    "### Tsudent Emparelhado - Biblioteca"
   ]
  },
  {
   "cell_type": "code",
   "execution_count": 40,
   "id": "84b87893",
   "metadata": {},
   "outputs": [
    {
     "name": "stdout",
     "output_type": "stream",
     "text": [
      "Estatística t: -0.8903\n",
      "P-valor: 0.3844\n"
     ]
    }
   ],
   "source": [
    "t_stat, p_value = stats.ttest_rel(grupo1, grupo2)\n",
    "print(f\"Estatística t: {t_stat:.4f}\")\n",
    "print(f\"P-valor: {p_value:.4f}\")\n",
    "\n",
    "#stats - biblioteca de estatísticas do scipy\n",
    "#ttest_rel - teste t para amostras emparelhadas"
   ]
  },
  {
   "cell_type": "code",
   "execution_count": 41,
   "id": "e278efba",
   "metadata": {},
   "outputs": [
    {
     "name": "stdout",
     "output_type": "stream",
     "text": [
      "Não rejeitamos H0: As médias dos dois grupos pareados são significadamente iguais.\n"
     ]
    }
   ],
   "source": [
    "if p_value < 0.05:\n",
    "    print(\"Rejeitamos H0: As médias dos dois grupos pareados são diferentes.\")\n",
    "else:\n",
    "    print(\"Não rejeitamos H0: As médias dos dois grupos pareados são significadamente iguais.\")"
   ]
  },
  {
   "cell_type": "code",
   "execution_count": 42,
   "id": "004c788a",
   "metadata": {},
   "outputs": [
    {
     "data": {
      "image/png": "[encoded data removed]",
      "text/plain": [
       "<Figure size 640x480 with 1 Axes>"
      ]
     },
     "metadata": {},
     "output_type": "display_data"
    }
   ],
   "source": [
    "sns.boxplot(data=[grupo1, grupo2])\n",
    "plt.xticks([0, 1], ['Grupo 1', 'Grupo 2'])\n",
    "plt.title('Boxplot dos Grupos')\n",
    "plt.ylabel('Valores')\n",
    "plt.show()"
   ]
  },
  {
   "cell_type": "markdown",
   "id": "24b6bbf0",
   "metadata": {},
   "source": [
    "### Testes de Homogeneidade de variâncias"
   ]
  },
  {
   "cell_type": "markdown",
   "id": "1ca2ebb4",
   "metadata": {},
   "source": [
    "O teste de homogeneidade verifica se duas ou mais populações têm variâncias (ou distribuições) iguais."
   ]
  },
  {
   "cell_type": "markdown",
   "id": "f0d97ade",
   "metadata": {},
   "source": [
    "Então iremos avaliar o p_valor:\n",
    "\n",
    "- p > 0.05 → as variâncias são provavelmente iguais\n",
    "\n",
    "- p ≤ 0.05 → as variâncias são provavelmente diferentes"
   ]
  },
  {
   "cell_type": "markdown",
   "id": "87f69916",
   "metadata": {},
   "source": [
    "### Teste Bartlett - Manual"
   ]
  },
  {
   "cell_type": "markdown",
   "id": "97f73d84",
   "metadata": {},
   "source": [
    "Teste Bartlett Manual"
   ]
  },
  {
   "attachments": {
    "image.png": {
     "image/png": "[encoded data removed]"
    }
   },
   "cell_type": "markdown",
   "id": "e54a9648",
   "metadata": {},
   "source": [
    "![image.png](attachment:image.png)"
   ]
  },
  {
   "cell_type": "code",
   "execution_count": 43,
   "id": "0bd4f491",
   "metadata": {},
   "outputs": [],
   "source": [
    "def bartlett_duas_amostras(amostra1, amostra2):\n",
    "    \"\"\"\n",
    "    Realiza o teste de Bartlett para comparar as variâncias de duas amostras,\n",
    "    verificando se elas vêm de populações com variâncias homogêneas.\n",
    "\n",
    "    Parâmetros:\n",
    "    - amostra1: lista ou array com os dados da primeira amostra\n",
    "    - amostra2: lista ou array com os dados da segunda amostra\n",
    "\n",
    "    Retorna:\n",
    "    - estatistica: valor da estatística do teste de Bartlett\n",
    "    - p_valor: valor p para o teste\n",
    "    \"\"\"\n",
    "    \n",
    "    # Número de observações em cada amostra\n",
    "    n1, n2 = len(amostra1), len(amostra2)\n",
    "\n",
    "    # Média das amostras\n",
    "    media1 = sum(amostra1) / n1\n",
    "    media2 = sum(amostra2) / n2\n",
    "\n",
    "    # Variância das amostras (usando fórmula amostral)\n",
    "    var1 = sum((x - media1)**2 for x in amostra1) / (n1 - 1)\n",
    "    var2 = sum((x - media2)**2 for x in amostra2) / (n2 - 1)\n",
    "\n",
    "    # Variância combinada\n",
    "    sp = ((n1 - 1)*var1 + (n2 - 1)*var2) / (n1 + n2 - 2)\n",
    "\n",
    "    # Estatística A (baseada nas variâncias)\n",
    "    #math.log - logaritmo natural\n",
    "    A = (n1 + n2 - 2) * math.log(sp) - (n1 - 1) * math.log(var1) - (n2 - 1) * math.log(var2) #q\n",
    "\n",
    "    # Estatística B, que leva em consideração o número de observações\n",
    "    B = 1 + (1 / (3 * (2 - 1))) * (1 / (n1 - 1) + 1 / (n2 - 1) - 1 / (n1 + n2 - 2)) #c\n",
    "\n",
    "    # Estatística do teste de Bartlett\n",
    "    estatistica = A / B\n",
    "\n",
    "    # Calcular o p-valor usando a distribuição qui-quadrado (chi2) com 1 grau de liberdade\n",
    "    #stats.chi2 - distribuição qui-quadrado\n",
    "    p_valor = 1 - stats.chi2.cdf(estatistica, df=1)\n",
    "\n",
    "    return estatistica, p_valor"
   ]
  },
  {
   "cell_type": "markdown",
   "id": "4706f80a",
   "metadata": {},
   "source": [
    "O CDF calcula a probabilidade acumulada de um valor observado ser menor ou igual a um valor específico em uma distribuição qui-quadrado.\n",
    "\n",
    "Subtrair o CDF de 1 nos dá a probabilidade de que o valor observado seja maior que o valor calculado, que é o p-valor usado para tomar a decisão no teste de hipóteses."
   ]
  },
  {
   "cell_type": "code",
   "execution_count": 44,
   "id": "9b351124",
   "metadata": {},
   "outputs": [
    {
     "name": "stdout",
     "output_type": "stream",
     "text": [
      "Estatística do teste de Bartlett: 0.0000\n",
      "P-valor: 0.9948\n"
     ]
    }
   ],
   "source": [
    "estatistica, p_valor = bartlett_duas_amostras(grupo1, grupo2)\n",
    "\n",
    "# Exibir os resultados\n",
    "print(f\"Estatística do teste de Bartlett: {estatistica:.4f}\")\n",
    "print(f\"P-valor: {p_valor:.4f}\")"
   ]
  },
  {
   "cell_type": "markdown",
   "id": "8c57064c",
   "metadata": {},
   "source": [
    "### Teste Barlett - Biblioteca"
   ]
  },
  {
   "cell_type": "code",
   "execution_count": 45,
   "id": "3f3dc168",
   "metadata": {},
   "outputs": [
    {
     "name": "stdout",
     "output_type": "stream",
     "text": [
      "Bartlett: estatística = 0.0000, p-valor = 0.9948\n"
     ]
    }
   ],
   "source": [
    "stat, p = bartlett(grupo1, grupo2)\n",
    "print(f\"Bartlett: estatística = {stat:.4f}, p-valor = {p:.4f}\")\n",
    "#bartlett - teste de Bartlett para homogeneidade de variâncias"
   ]
  },
  {
   "cell_type": "code",
   "execution_count": 46,
   "id": "4747d829",
   "metadata": {},
   "outputs": [
    {
     "name": "stdout",
     "output_type": "stream",
     "text": [
      "Variancia grupo1: 63.64970963450838\n",
      "Variancia grupo2: 63.84436185333979\n"
     ]
    }
   ],
   "source": [
    "print(\"Variancia grupo1:\", np.var(grupo1, ddof=1))\n",
    "print(\"Variancia grupo2:\", np.var(grupo2, ddof=1))"
   ]
  },
  {
   "cell_type": "code",
   "execution_count": 47,
   "id": "409c078e",
   "metadata": {},
   "outputs": [
    {
     "name": "stdout",
     "output_type": "stream",
     "text": [
      "Todas as variâncias são significamente iguais (não rejeita H0)\n"
     ]
    }
   ],
   "source": [
    "if p <= 0.05:\n",
    "    print(\"Uma ou mais variâncias são diferentes (rejeita H0)\")\n",
    "else:\n",
    "    print(\"Todas as variâncias são significamente iguais (não rejeita H0)\")"
   ]
  },
  {
   "cell_type": "code",
   "execution_count": 48,
   "id": "05891e4f",
   "metadata": {},
   "outputs": [
    {
     "data": {
      "image/png": "[encoded data removed]",
      "text/plain": [
       "<Figure size 640x480 with 1 Axes>"
      ]
     },
     "metadata": {},
     "output_type": "display_data"
    }
   ],
   "source": [
    "sns.boxplot(data=[grupo1, grupo2])\n",
    "plt.xticks([0, 1], ['Grupo 1', 'Grupo 2'])\n",
    "plt.title('Boxplot dos Grupos')\n",
    "plt.ylabel('Valores')\n",
    "plt.show()"
   ]
  }
 ],
 "metadata": {
  "kernelspec": {
   "display_name": "Python 3",
   "language": "python",
   "name": "python3"
  },
  "language_info": {
   "codemirror_mode": {
    "name": "ipython",
    "version": 3
   },
   "file_extension": ".py",
   "mimetype": "text/x-python",
   "name": "python",
   "nbconvert_exporter": "python",
   "pygments_lexer": "ipython3",
   "version": "3.12.10"
  }
 },
 "nbformat": 4,
 "nbformat_minor": 5
}
