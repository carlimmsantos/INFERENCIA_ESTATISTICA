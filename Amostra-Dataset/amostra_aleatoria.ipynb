{
 "cells": [
  {
   "cell_type": "code",
   "execution_count": 1,
   "id": "33d98ecf",
   "metadata": {},
   "outputs": [
    {
     "name": "stdout",
     "output_type": "stream",
     "text": [
      "Defaulting to user installation because normal site-packages is not writeable\n",
      "Requirement already satisfied: pingouin in c:\\users\\carlo\\appdata\\local\\packages\\pythonsoftwarefoundation.python.3.12_qbz5n2kfra8p0\\localcache\\local-packages\\python312\\site-packages (0.5.5)\n",
      "Requirement already satisfied: matplotlib in c:\\users\\carlo\\appdata\\local\\packages\\pythonsoftwarefoundation.python.3.12_qbz5n2kfra8p0\\localcache\\local-packages\\python312\\site-packages (from pingouin) (3.10.0)\n",
      "Requirement already satisfied: numpy in c:\\users\\carlo\\appdata\\local\\packages\\pythonsoftwarefoundation.python.3.12_qbz5n2kfra8p0\\localcache\\local-packages\\python312\\site-packages (from pingouin) (2.0.2)\n",
      "Requirement already satisfied: pandas>=1.5 in c:\\users\\carlo\\appdata\\local\\packages\\pythonsoftwarefoundation.python.3.12_qbz5n2kfra8p0\\localcache\\local-packages\\python312\\site-packages (from pingouin) (2.2.3)\n",
      "Requirement already satisfied: pandas-flavor in c:\\users\\carlo\\appdata\\local\\packages\\pythonsoftwarefoundation.python.3.12_qbz5n2kfra8p0\\localcache\\local-packages\\python312\\site-packages (from pingouin) (0.7.0)\n",
      "Requirement already satisfied: scikit-learn>=1.2 in c:\\users\\carlo\\appdata\\local\\packages\\pythonsoftwarefoundation.python.3.12_qbz5n2kfra8p0\\localcache\\local-packages\\python312\\site-packages (from pingouin) (1.6.1)\n",
      "Requirement already satisfied: scipy in c:\\users\\carlo\\appdata\\local\\packages\\pythonsoftwarefoundation.python.3.12_qbz5n2kfra8p0\\localcache\\local-packages\\python312\\site-packages (from pingouin) (1.15.1)\n",
      "Requirement already satisfied: seaborn in c:\\users\\carlo\\appdata\\local\\packages\\pythonsoftwarefoundation.python.3.12_qbz5n2kfra8p0\\localcache\\local-packages\\python312\\site-packages (from pingouin) (0.13.2)\n",
      "Requirement already satisfied: statsmodels in c:\\users\\carlo\\appdata\\local\\packages\\pythonsoftwarefoundation.python.3.12_qbz5n2kfra8p0\\localcache\\local-packages\\python312\\site-packages (from pingouin) (0.14.4)\n",
      "Requirement already satisfied: tabulate in c:\\users\\carlo\\appdata\\local\\packages\\pythonsoftwarefoundation.python.3.12_qbz5n2kfra8p0\\localcache\\local-packages\\python312\\site-packages (from pingouin) (0.9.0)\n",
      "Requirement already satisfied: python-dateutil>=2.8.2 in c:\\users\\carlo\\appdata\\local\\packages\\pythonsoftwarefoundation.python.3.12_qbz5n2kfra8p0\\localcache\\local-packages\\python312\\site-packages (from pandas>=1.5->pingouin) (2.9.0.post0)\n",
      "Requirement already satisfied: pytz>=2020.1 in c:\\users\\carlo\\appdata\\local\\packages\\pythonsoftwarefoundation.python.3.12_qbz5n2kfra8p0\\localcache\\local-packages\\python312\\site-packages (from pandas>=1.5->pingouin) (2024.2)\n",
      "Requirement already satisfied: tzdata>=2022.7 in c:\\users\\carlo\\appdata\\local\\packages\\pythonsoftwarefoundation.python.3.12_qbz5n2kfra8p0\\localcache\\local-packages\\python312\\site-packages (from pandas>=1.5->pingouin) (2025.1)\n",
      "Requirement already satisfied: joblib>=1.2.0 in c:\\users\\carlo\\appdata\\local\\packages\\pythonsoftwarefoundation.python.3.12_qbz5n2kfra8p0\\localcache\\local-packages\\python312\\site-packages (from scikit-learn>=1.2->pingouin) (1.4.2)\n",
      "Requirement already satisfied: threadpoolctl>=3.1.0 in c:\\users\\carlo\\appdata\\local\\packages\\pythonsoftwarefoundation.python.3.12_qbz5n2kfra8p0\\localcache\\local-packages\\python312\\site-packages (from scikit-learn>=1.2->pingouin) (3.5.0)\n",
      "Requirement already satisfied: contourpy>=1.0.1 in c:\\users\\carlo\\appdata\\local\\packages\\pythonsoftwarefoundation.python.3.12_qbz5n2kfra8p0\\localcache\\local-packages\\python312\\site-packages (from matplotlib->pingouin) (1.3.1)\n",
      "Requirement already satisfied: cycler>=0.10 in c:\\users\\carlo\\appdata\\local\\packages\\pythonsoftwarefoundation.python.3.12_qbz5n2kfra8p0\\localcache\\local-packages\\python312\\site-packages (from matplotlib->pingouin) (0.12.1)\n",
      "Requirement already satisfied: fonttools>=4.22.0 in c:\\users\\carlo\\appdata\\local\\packages\\pythonsoftwarefoundation.python.3.12_qbz5n2kfra8p0\\localcache\\local-packages\\python312\\site-packages (from matplotlib->pingouin) (4.56.0)\n",
      "Requirement already satisfied: kiwisolver>=1.3.1 in c:\\users\\carlo\\appdata\\local\\packages\\pythonsoftwarefoundation.python.3.12_qbz5n2kfra8p0\\localcache\\local-packages\\python312\\site-packages (from matplotlib->pingouin) (1.4.8)\n",
      "Requirement already satisfied: packaging>=20.0 in c:\\users\\carlo\\appdata\\local\\packages\\pythonsoftwarefoundation.python.3.12_qbz5n2kfra8p0\\localcache\\local-packages\\python312\\site-packages (from matplotlib->pingouin) (24.2)\n",
      "Requirement already satisfied: pillow>=8 in c:\\users\\carlo\\appdata\\local\\packages\\pythonsoftwarefoundation.python.3.12_qbz5n2kfra8p0\\localcache\\local-packages\\python312\\site-packages (from matplotlib->pingouin) (11.1.0)\n",
      "Requirement already satisfied: pyparsing>=2.3.1 in c:\\users\\carlo\\appdata\\local\\packages\\pythonsoftwarefoundation.python.3.12_qbz5n2kfra8p0\\localcache\\local-packages\\python312\\site-packages (from matplotlib->pingouin) (3.2.1)\n",
      "Requirement already satisfied: xarray in c:\\users\\carlo\\appdata\\local\\packages\\pythonsoftwarefoundation.python.3.12_qbz5n2kfra8p0\\localcache\\local-packages\\python312\\site-packages (from pandas-flavor->pingouin) (2025.3.1)\n",
      "Requirement already satisfied: patsy>=0.5.6 in c:\\users\\carlo\\appdata\\local\\packages\\pythonsoftwarefoundation.python.3.12_qbz5n2kfra8p0\\localcache\\local-packages\\python312\\site-packages (from statsmodels->pingouin) (1.0.1)\n",
      "Requirement already satisfied: six>=1.5 in c:\\users\\carlo\\appdata\\local\\packages\\pythonsoftwarefoundation.python.3.12_qbz5n2kfra8p0\\localcache\\local-packages\\python312\\site-packages (from python-dateutil>=2.8.2->pandas>=1.5->pingouin) (1.17.0)\n",
      "Note: you may need to restart the kernel to use updated packages.\n"
     ]
    }
   ],
   "source": [
    "%pip install pingouin"
   ]
  },
  {
   "cell_type": "markdown",
   "id": "052858a1",
   "metadata": {},
   "source": [
    "Importando Bibliotecas"
   ]
  },
  {
   "cell_type": "code",
   "execution_count": 2,
   "id": "f22bd3dd",
   "metadata": {},
   "outputs": [],
   "source": [
    "import numpy as np, random\n",
    "import pingouin as pg\n",
    "import pandas as pd\n",
    "from scipy.stats import shapiro\n",
    "from scipy.stats import kstest\n",
    "import scipy.stats as stats\n",
    "from scipy.stats import ttest_ind\n",
    "from scipy.stats import bartlett\n",
    "import matplotlib.pyplot as plt\n",
    "import seaborn as sns\n",
    "from scipy.stats import norm\n",
    "from scipy.stats import t as t_dist\n"
   ]
  },
  {
   "cell_type": "markdown",
   "id": "d47ad023",
   "metadata": {},
   "source": [
    "### Dados para os Testes de Normalidade"
   ]
  },
  {
   "cell_type": "markdown",
   "id": "520dc9b4",
   "metadata": {},
   "source": [
    "Testar se seus dados seguem uma distribuição normal"
   ]
  },
  {
   "cell_type": "markdown",
   "id": "7be06dc8",
   "metadata": {},
   "source": [
    "Então iremos avaliar o p_valor:\n",
    "\n",
    "- p_valor > 0.05 → dados parecem normais\n",
    "\n",
    "- p_valor ≤ 0.05 → dados provavelmente NÃO são normais"
   ]
  },
  {
   "cell_type": "code",
   "execution_count": 3,
   "id": "99cb5b4b",
   "metadata": {},
   "outputs": [],
   "source": [
    "#dados = np.random.normal(0, 1, 500)"
   ]
  },
  {
   "cell_type": "code",
   "execution_count": 4,
   "id": "c196e9ed",
   "metadata": {},
   "outputs": [
    {
     "data": {
      "text/plain": [
       "array([ 2.43490787e+00, -5.93008335e-01,  6.25021704e-01, -1.51604475e+00,\n",
       "       -2.80005051e-01,  1.36179040e-01,  4.43640114e-01, -1.10239594e+00,\n",
       "        1.16695339e+00, -2.08364630e+00,  8.66171258e-01, -1.26190505e+00,\n",
       "        2.86664655e+00,  2.03410207e+00, -3.89090087e-01,  7.79884289e-01,\n",
       "        8.71076053e-01, -5.91438806e-01,  1.85177804e-01,  4.26329605e-01,\n",
       "        8.44427348e-01,  2.07320225e-01,  6.68921732e-01, -3.07790004e-02,\n",
       "        9.34764363e-02,  1.81799153e+00,  1.09851986e+00,  9.85301786e-01,\n",
       "       -5.14465199e-01, -9.95771938e-01,  1.34189918e+00,  2.18762532e+00,\n",
       "        2.35180874e-02, -1.09907543e+00,  1.09317776e+00, -1.29216786e+00,\n",
       "       -4.20416849e-01, -3.24339023e-01, -8.97179251e-01, -1.69787490e-01,\n",
       "       -2.80888269e-01,  8.57717174e-01, -1.83522658e+00,  1.00454652e+00,\n",
       "       -1.31975536e+00,  5.33098705e-01,  2.46985608e-01, -1.04004181e+00,\n",
       "       -8.99422765e-01,  1.38406007e+00, -5.97305176e-01,  1.22196705e-01,\n",
       "        3.09567633e-01, -5.23612885e-01,  6.07486685e-01, -4.31638043e-01,\n",
       "        1.69091010e+00,  1.11805636e+00,  6.07716054e-03,  6.52424815e-03,\n",
       "        1.10135734e+00, -7.28031801e-01,  1.63502318e+00,  7.25376294e-01,\n",
       "        3.81150545e-01, -1.02353002e+00,  1.86916148e-01,  7.30329637e-01,\n",
       "        4.93893762e-01, -4.99670266e-01,  2.84213299e-01, -1.41245527e+00,\n",
       "        1.57805957e-01, -6.13989255e-01, -1.86385583e-01,  4.48480087e-01,\n",
       "        9.98683735e-01, -1.57158694e-01,  1.03446268e+00, -4.20718882e-01,\n",
       "        4.31680220e-02,  5.36299883e-01, -1.10035786e-01,  2.00514690e-01,\n",
       "       -9.64568870e-01, -7.02128145e-01, -1.15502098e-01,  5.30890176e-02,\n",
       "       -2.50917677e+00, -7.86142756e-01,  7.45406507e-01,  6.47140133e-01,\n",
       "        1.62922082e-01,  5.42871059e-02,  3.93662294e-01,  1.89612368e-01,\n",
       "       -1.59590420e+00, -1.43340216e-01, -6.36673202e-01,  3.77162485e-02,\n",
       "        1.84075327e+00, -1.78809192e+00, -9.51939644e-01,  1.36869096e+00,\n",
       "       -1.91856732e+00, -8.23445262e-01,  1.71073211e+00,  2.85032566e-01,\n",
       "       -1.42496877e+00, -6.79531385e-02,  2.11784867e-01,  3.13686593e-01,\n",
       "        6.99713499e-01,  1.78096080e-01, -4.68637803e-01, -2.24426149e-01,\n",
       "        1.70741470e+00,  1.90709420e-01,  7.18278534e-01,  3.22572100e-01,\n",
       "        6.26471288e-01,  2.47331910e+00,  1.32410361e+00,  7.85335013e-01,\n",
       "        2.05741741e-01, -4.25165182e-01,  5.35922094e-01,  5.70751881e-01,\n",
       "       -5.95887807e-01, -1.31827025e+00, -6.77662859e-01,  2.76298893e-01,\n",
       "        6.69033442e-01, -9.72009235e-02, -1.27048964e+00, -3.24652204e-01,\n",
       "        4.59596581e-01,  7.89980636e-01, -1.24229576e+00, -3.07135987e-01,\n",
       "       -1.92834595e-01, -1.15342237e+00, -3.74125908e-01, -1.51757376e+00,\n",
       "       -8.55637682e-01, -7.03027070e-01,  4.45828901e-01, -1.11312674e+00,\n",
       "       -1.09927969e+00, -4.34614025e-01,  1.18851727e-01,  9.23114852e-01,\n",
       "        1.94592915e+00,  1.12691595e-01,  2.13248573e-01,  5.81984030e-01,\n",
       "       -6.62745708e-01,  9.11558210e-01, -1.00139224e+00, -5.49921163e-01,\n",
       "        1.18350117e-01,  9.74562293e-01, -8.00542126e-01,  5.04851029e-01,\n",
       "        1.21383836e+00, -6.84409719e-01,  1.68201996e-01, -1.64450263e+00,\n",
       "        1.22949955e+00,  5.43307644e-01, -8.32103022e-01,  1.03948520e-01,\n",
       "       -1.19249444e+00, -1.36501142e-01,  5.38652093e-01, -1.37087104e+00,\n",
       "        3.41649138e-01,  2.18937370e+00, -9.39371272e-01, -1.01577343e+00,\n",
       "        7.02198294e-01, -1.83275736e-01, -1.35276301e-01, -1.77697426e-01,\n",
       "        9.10968520e-01, -2.58483897e-01, -8.20632067e-01,  8.57617027e-01,\n",
       "        3.20345058e-01,  1.81503466e+00, -1.23921150e+00,  3.55710268e-01,\n",
       "       -1.43759350e+00,  2.21027342e+00,  8.98113010e-01,  4.82362237e-01,\n",
       "       -7.06186003e-02, -1.51507568e+00, -2.17861239e-01,  2.41129810e-01,\n",
       "       -1.96598154e-01,  6.62621852e-01, -7.62624920e-01, -2.23017222e+00,\n",
       "        1.15586297e+00,  1.56564550e+00,  1.12126234e+00,  7.53370086e-01,\n",
       "        4.45473447e-02,  5.62640486e-01, -1.64637065e-02, -9.03588729e-02,\n",
       "       -9.28121924e-01,  6.63561224e-02, -4.19861133e-01,  2.04763403e+00,\n",
       "       -3.52314288e-01, -3.01915958e-01, -1.48821934e+00,  9.99451671e-01,\n",
       "        7.42742907e-01,  2.20953234e+00, -1.01121948e+00,  7.08429463e-01,\n",
       "       -3.07451065e-01,  8.75245029e-02,  1.56566717e-01,  1.90625609e+00,\n",
       "       -1.80168388e+00, -1.09247396e+00,  1.04348134e-01, -6.32555783e-01,\n",
       "        1.14247579e-01,  5.50559289e-01,  1.86295738e+00, -1.20996555e+00,\n",
       "        9.83233462e-01, -2.81609174e-01, -3.38331969e-01, -1.12593775e-01,\n",
       "        1.65136078e-01, -1.92260509e+00,  7.40874294e-01, -2.16483731e-01,\n",
       "       -1.24144865e+00,  4.62432586e-01, -4.41293183e-01, -1.73544543e+00,\n",
       "       -3.37330809e-01, -1.44019951e+00, -1.86470042e-01,  8.84561515e-01,\n",
       "       -7.46109849e-01, -1.24912023e+00,  8.68299876e-01, -1.57586746e+00,\n",
       "       -8.67342402e-01, -1.76249194e-01,  5.80096329e-02,  1.53237910e+00,\n",
       "       -7.94416942e-01,  7.80848483e-01,  4.39519273e-01, -9.46751928e-01,\n",
       "       -7.49366034e-01, -7.81549663e-01,  1.04150419e-01,  1.81604298e+00,\n",
       "        4.17219788e-01,  1.14211427e+00, -9.01731171e-02, -8.48193488e-01,\n",
       "        1.03510492e+00,  1.13266547e+00, -2.73829091e+00, -3.24600145e-01,\n",
       "       -1.28771005e+00, -1.17592816e+00,  5.17955903e-01,  1.47508786e+00,\n",
       "       -8.65024049e-01, -1.17407115e+00,  1.70537768e+00,  2.25030023e+00,\n",
       "       -3.66225400e-01, -7.62878269e-01,  1.32246349e+00,  2.47177925e-01,\n",
       "        1.88848412e+00,  4.08574334e-01,  2.17762815e+00, -5.51419928e-01,\n",
       "       -1.06460266e+00,  3.05882862e-01,  5.73990213e-01,  4.91471197e-01,\n",
       "        1.56133395e-01,  1.46004158e+00, -6.27400350e-01, -2.30249193e+00,\n",
       "        1.78856144e-01, -2.21353830e-01, -1.09503004e+00, -1.08049191e+00,\n",
       "        2.04317109e-01, -4.96669552e-02,  1.27986166e-03,  4.16191562e-01,\n",
       "       -3.61114592e-02, -1.77373045e+00,  4.80700572e-02, -1.67842347e+00,\n",
       "        3.45709494e-01,  5.29592076e-01, -1.14183576e-01,  2.00098644e-01,\n",
       "       -6.90849593e-01,  2.78523639e+00,  3.57846301e-01, -4.92434825e-01,\n",
       "       -9.09943178e-01, -2.03541806e+00,  6.77942106e-01, -1.10985284e-01,\n",
       "        1.95887006e+00,  1.18227023e+00, -8.60196283e-01, -3.47080189e-01,\n",
       "        1.26580259e+00, -2.05563078e+00, -1.74714729e+00,  3.16769358e-01,\n",
       "       -3.58627434e-01, -2.96852760e+00,  1.10034454e+00, -5.75029990e-01,\n",
       "        3.60968150e-01, -2.31833629e-01, -2.82882794e-01, -1.23267316e-01,\n",
       "       -1.78903539e+00, -2.11349229e+00,  5.91586801e-01,  8.76075407e-01,\n",
       "        3.39612910e-01, -4.02206881e-02,  1.10196263e+00,  2.96390495e-01,\n",
       "       -1.74866227e+00, -9.74878972e-01,  6.39742106e-01, -2.17924247e-01,\n",
       "        1.09119779e-01,  7.94763651e-01,  1.00973861e+00,  2.28919397e-01,\n",
       "       -2.87422619e-01,  1.31955560e+00, -2.47106342e-01, -3.27200394e-01,\n",
       "        1.06003448e-01, -8.55451379e-02,  9.24630224e-03, -1.36002140e+00,\n",
       "        1.42551153e-01,  3.89864518e-01,  4.41729727e-01, -9.12555807e-01,\n",
       "        2.11149994e+00,  3.99294973e-01,  2.35304907e+00,  9.85082236e-01,\n",
       "        1.42045731e-01,  1.28368893e+00, -6.87719123e-01, -2.80884409e-01,\n",
       "       -1.04337686e+00,  7.81176318e-01, -6.71905263e-01,  4.87437488e-01,\n",
       "       -1.34729937e+00,  8.20806452e-01,  9.75003262e-01,  4.22234689e-01,\n",
       "        1.87622697e+00,  3.26151348e-01, -7.76695531e-01,  2.33086889e+00,\n",
       "        1.20059020e-01, -4.93820632e-02,  9.24009682e-01,  3.73433384e-01,\n",
       "       -7.14823296e-01, -9.58981129e-01, -3.31687884e-01, -1.82606188e-02,\n",
       "       -1.12055778e+00, -8.13048177e-01,  1.49625142e+00, -3.65362761e-02,\n",
       "        2.98791412e-01,  2.46113837e+00, -9.30396335e-01, -7.01322167e-01,\n",
       "       -1.73182147e+00, -3.12238769e-01,  3.16410327e-01,  7.96628129e-01,\n",
       "        1.52782052e+00, -2.61328357e-01, -5.43749258e-01,  1.00736686e+00,\n",
       "       -6.83144444e-01,  2.48431384e+00, -9.07978328e-02, -1.21412221e+00,\n",
       "       -2.11128362e+00, -1.15128301e+00, -7.86299569e-01,  2.32449988e-01,\n",
       "       -4.45160931e-01, -7.91435213e-01,  3.47219661e-01,  2.75870594e+00,\n",
       "       -1.66527318e+00, -1.11148279e-03, -5.59641118e-01, -3.38046802e-01,\n",
       "       -1.89117150e+00,  3.91716618e-01,  2.03133832e+00, -3.63535448e-01,\n",
       "       -4.76858848e-01,  1.56446853e+00,  3.21022862e-01, -3.46941183e-01,\n",
       "        1.23133010e+00, -6.82248912e-01, -2.48560538e-01, -3.96993380e-01,\n",
       "       -1.73996859e+00, -7.27061120e-01, -1.17501437e+00, -4.49438966e-01,\n",
       "        4.74794083e-01, -9.78168323e-01, -1.06614550e+00, -2.11362575e+00,\n",
       "        1.33847060e+00,  1.59941299e+00,  2.39740905e-01, -8.19407512e-01,\n",
       "        5.44531657e-01, -4.01842007e-02, -7.04451712e-01, -1.07973955e+00,\n",
       "       -7.15937465e-01, -1.50339989e+00, -5.19154846e-01,  8.65025663e-02,\n",
       "        3.24570051e-01, -9.47828504e-02,  1.06072253e+00, -3.31465341e-02,\n",
       "        1.04146864e+00, -1.26136176e+00, -9.10333632e-01, -3.03996890e-01,\n",
       "        8.42491395e-01, -8.20110191e-01,  1.00707069e+00, -1.01338786e+00,\n",
       "        8.02135594e-01, -2.80001155e-01,  2.89724790e+00, -1.40161136e+00,\n",
       "       -7.25728016e-01, -1.39637184e+00, -9.68933357e-01,  1.03638812e+00,\n",
       "        7.77997344e-01, -4.68851883e-01,  3.10266192e-02, -1.27834561e-01,\n",
       "        1.05671294e+00, -2.76495137e-01,  1.48230125e+00, -3.51158230e+00,\n",
       "       -3.81503642e-01,  5.51820034e-01, -7.93742325e-02, -4.62097496e-01,\n",
       "       -2.57285923e-01,  6.82595655e-01,  2.76925705e-01, -3.92090174e-01,\n",
       "        5.96214059e-01, -8.35144543e-01, -1.27458548e+00,  3.64409127e-01,\n",
       "        1.73429823e+00, -2.04495276e+00, -3.01429752e-01, -1.97016427e-01,\n",
       "        5.08642070e-01, -1.75210427e+00,  1.08718604e+00,  9.53977102e-01,\n",
       "       -7.46599751e-01,  1.39428296e+00,  2.14162672e-01,  2.14310520e-02,\n",
       "       -2.44561888e-01,  2.23205369e-01,  8.00969097e-01, -5.89617499e-01,\n",
       "       -1.57068753e+00,  6.87495229e-01, -2.02854221e+00,  3.62929162e-02,\n",
       "        1.90002588e-01, -1.17110415e+00,  1.26040602e-01, -8.10142429e-01,\n",
       "        1.75095805e+00,  1.33625235e+00, -1.76493281e-01, -1.57260797e+00,\n",
       "       -9.88902696e-01, -2.26965463e+00,  9.66079887e-01,  1.14473677e+00,\n",
       "       -6.61770337e-01, -6.73846832e-01,  9.62727239e-01, -3.88970057e-01,\n",
       "        8.03693983e-01,  5.67768402e-01,  9.08881951e-01,  1.07263580e+00,\n",
       "       -8.98117887e-01, -1.62071657e-01,  3.89674260e-01,  1.00173006e+00,\n",
       "       -1.80408090e+00,  1.32420249e+00,  1.78375246e-01, -2.65813485e-01,\n",
       "       -7.72519116e-01, -1.21920824e+00,  9.29716316e-01,  2.60822143e-01,\n",
       "        1.05972320e+00,  9.70518283e-01, -6.97719649e-02,  1.68847734e+00,\n",
       "       -6.53413594e-01,  6.52459587e-01,  6.76769595e-01,  1.20238409e+00,\n",
       "        7.44686775e-01, -6.65661579e-01, -7.80507396e-01,  5.56257365e-01,\n",
       "       -1.78405491e+00,  2.27246663e-01, -1.47965105e+00, -5.37311621e-01,\n",
       "       -8.81333300e-01,  2.49059351e-02, -3.87911142e-01, -8.97759471e-01,\n",
       "       -2.34609010e-01, -5.25033805e-01,  7.56101273e-01, -6.81637343e-01,\n",
       "        4.58791060e-01, -5.18951265e-01,  2.70234455e-01, -1.45857439e-01,\n",
       "       -2.52217061e-01,  1.04990523e+00, -1.37336715e-01, -1.75717736e-01,\n",
       "        2.35546309e+00,  6.85741307e-01,  1.01755379e+00, -1.32122243e+00,\n",
       "       -3.91583696e-01,  6.52384635e-01,  1.03107814e+00, -6.44272062e-01,\n",
       "       -1.57629082e+00, -5.64027097e-01,  4.67162322e-01,  7.82427763e-01,\n",
       "        1.01393041e+00,  8.94421540e-01,  6.40079020e-01,  1.07563612e-01,\n",
       "        6.55391000e-01,  1.35289549e+00,  6.61567783e-01,  1.21953173e+00,\n",
       "       -3.32880633e-01, -9.54581005e-01, -8.29860311e-02, -9.06646898e-01,\n",
       "       -3.85675606e-01, -4.65165494e-01,  7.89679121e-02, -1.31438948e-02,\n",
       "        1.75913403e+00, -3.25628877e-01, -9.46581234e-01, -7.20869014e-01,\n",
       "        1.63780325e+00, -9.75140232e-01, -3.26155122e-01,  9.37800258e-01,\n",
       "        1.28433305e+00, -6.65952382e-01,  1.32204967e+00, -1.82203913e-01,\n",
       "       -1.62862974e+00, -8.13765746e-01, -2.16513095e-01,  8.14982854e-01,\n",
       "       -1.84513587e-01,  5.24810532e-01, -1.57506201e+00, -3.97604351e-01,\n",
       "       -1.30176373e+00,  4.65233271e-01, -6.70998898e-01,  8.26859456e-02,\n",
       "        2.03324972e+00,  6.93214805e-01,  5.07180809e-01,  2.19348785e-01,\n",
       "        7.77496279e-01,  1.04240341e+00,  4.94768089e-01, -5.18111551e-01,\n",
       "       -2.56863056e-02, -1.46562884e+00, -2.32908083e-01,  7.55179070e-01,\n",
       "        1.82236007e-01, -2.79093223e-01, -6.06757104e-02,  1.01794343e+00,\n",
       "       -1.13083133e+00, -4.53786204e-01,  1.30074510e+00, -4.37084207e-01,\n",
       "        4.95707462e-01,  3.97971528e-01, -6.35013928e-01, -1.53507632e+00,\n",
       "        9.33230865e-01,  3.29437696e-01,  1.89466240e-01,  6.81556462e-02,\n",
       "        3.13721511e-01,  1.50099882e-01,  1.21019702e-01, -1.40535986e+00,\n",
       "       -2.05529520e-03,  2.03269644e-01,  5.08773644e-01, -1.31240586e+00,\n",
       "       -2.91149038e-01,  1.15405079e+00, -1.04546479e+00, -3.07147135e+00,\n",
       "        5.30989317e-01, -9.33201336e-01,  1.64732281e+00, -2.86361150e-01,\n",
       "       -3.02701354e-01, -8.52726459e-01,  1.26750264e+00, -2.19382484e+00,\n",
       "        4.15604456e-02, -1.96570355e-01,  1.15403328e-01,  1.62647710e+00,\n",
       "       -2.42244119e-01,  1.00293719e+00, -8.37654216e-01, -1.28705033e+00,\n",
       "        1.49395670e-01,  4.75870623e-01,  1.36308635e+00,  1.31834784e+00,\n",
       "        2.57776649e-01,  2.53695471e+00, -2.43122129e-01, -4.23571242e-01,\n",
       "        9.27302258e-01, -1.13069461e+00,  3.27766392e-01,  1.28588074e+00,\n",
       "        1.25648457e-01, -9.41184590e-01, -9.25028583e-01,  8.36886241e-01,\n",
       "        2.07530057e+00, -1.18151877e-01, -1.48872901e+00,  7.44355457e-01,\n",
       "        1.01764586e+00,  1.17140933e+00,  8.19915624e-01,  1.12924464e+00,\n",
       "        1.18811516e+00,  3.23826800e+00, -1.19494339e+00,  7.06958057e-01,\n",
       "       -6.35729710e-01, -4.21355445e-01, -1.16017545e-01,  2.25986935e+00,\n",
       "       -2.43830957e-02,  1.95205196e+00, -3.87135003e-01, -6.21075914e-01,\n",
       "       -1.24591787e+00,  4.11196057e-01, -1.49285639e+00, -1.34976569e+00,\n",
       "       -6.29065846e-01, -6.80582816e-01, -9.48700970e-02,  1.82500209e+00,\n",
       "       -9.89876812e-01, -7.69558802e-02,  1.28478525e+00,  1.99903931e+00,\n",
       "       -4.49855178e-01,  7.10492859e-01, -5.08671073e-01,  4.74320381e-01,\n",
       "       -9.56201236e-01,  3.58774009e-01,  5.69634309e-01,  2.88788549e+00,\n",
       "        2.58187361e+00,  8.65276141e-01, -1.91290914e-01, -9.85565171e-01,\n",
       "        1.47484353e+00, -7.76364259e-01,  8.05593923e-01, -1.63571649e-01,\n",
       "        1.38343675e+00,  6.28200999e-01, -1.71403022e+00, -5.40932514e-01,\n",
       "       -4.29633490e-01, -9.66971761e-01,  2.74009124e-01, -1.56176498e+00,\n",
       "        1.29310428e+00, -5.35601303e-01, -2.11362499e+00, -1.62746774e+00,\n",
       "       -1.48452453e+00,  1.46366557e+00, -8.54827798e-01, -1.35384280e+00,\n",
       "        2.22448206e-01,  2.10725381e+00,  3.02109240e-01,  9.33397827e-01,\n",
       "        8.28926890e-01, -2.51465904e-01,  8.85719025e-02,  3.20508648e-01,\n",
       "       -5.47345313e-02,  3.26570595e-01, -1.99843511e+00, -1.30566145e-01,\n",
       "        8.52831632e-02,  7.81704018e-01,  1.42603102e+00,  1.81028323e-03,\n",
       "        4.67277515e-01,  1.43324703e+00,  3.13302691e-01,  8.32679501e-01,\n",
       "        1.45916844e+00,  4.59562348e-01,  7.01103396e-01,  6.14136132e-01,\n",
       "       -3.28517325e-01, -3.86529762e-01, -1.57303775e-01,  4.64461779e-01,\n",
       "       -4.36830459e-01,  1.08188642e-01, -1.79287145e-01,  1.53753321e-01,\n",
       "       -9.29750504e-01,  1.37178121e+00, -5.45976994e-01,  8.85349684e-01,\n",
       "       -5.57699894e-01,  5.79688421e-02,  1.43138749e+00, -1.28020814e+00,\n",
       "        3.70130721e-01, -1.01003133e+00,  1.14780992e+00,  2.09080063e-01,\n",
       "       -1.82941360e+00,  7.94602970e-01, -5.77744026e-01,  5.80931032e-01,\n",
       "       -6.95403652e-01, -3.55545850e-02, -2.12708762e-01, -1.91428944e+00,\n",
       "       -7.86289656e-01,  2.41344437e-01,  5.55267387e-01,  8.82851956e-01,\n",
       "        8.31384249e-01,  2.86130087e-01, -3.16446323e-01, -4.35571174e-01,\n",
       "        2.18445885e-01, -3.84758667e-01,  5.90510679e-01,  2.34362031e-01,\n",
       "       -8.49995618e-01,  2.71284744e-01,  4.80769964e-01, -2.08424502e-01,\n",
       "        2.60274261e-01, -2.15839524e-01, -4.87039194e-01, -7.57860423e-01,\n",
       "        4.08984411e-01,  3.99007599e-01, -4.95541708e-01, -3.81147652e-01,\n",
       "        1.37186993e+00,  1.26821390e+00, -1.90154738e+00, -1.13573046e+00,\n",
       "        1.51476651e+00, -1.72839783e-01, -3.68227018e-01, -5.72747708e-01,\n",
       "       -1.45289709e+00,  1.49747959e+00,  3.67514695e-01, -3.50332641e-01,\n",
       "       -4.44443578e-01,  7.87513891e-02, -7.60559636e-01,  1.56850666e+00,\n",
       "       -8.25864918e-01, -4.35360475e-01,  6.19116548e-01,  6.17562256e-01,\n",
       "       -1.56805951e+00,  2.28874763e-01, -1.21311516e-01, -1.08059422e+00,\n",
       "       -9.78616935e-02,  1.74447893e+00, -9.79171504e-01,  7.20427506e-01,\n",
       "       -3.20634604e-02, -6.23357432e-01, -3.95934022e-01,  4.21124812e-01,\n",
       "       -1.50658161e+00, -1.13599499e+00,  9.43429913e-02,  8.89291257e-01,\n",
       "       -1.18044439e+00,  3.85636817e-01, -4.28937906e-01,  2.20386833e-01,\n",
       "        8.98982142e-01,  2.13735288e+00,  1.09982217e-01,  1.09962293e-01,\n",
       "        4.26540831e-01, -3.11062745e-01,  1.27483527e+00,  1.10881874e+00,\n",
       "       -2.41755202e-01, -1.00326269e+00,  9.46901108e-01,  2.40737624e+00,\n",
       "        5.50779656e-01, -1.46840154e+00,  1.33652480e-01,  7.85644151e-01,\n",
       "        1.82887064e+00, -2.25745951e+00,  1.59802332e-01, -6.63072862e-01,\n",
       "        1.20637948e+00, -5.20715975e-01,  5.24945278e-01, -1.67062619e-01,\n",
       "        1.87962994e-01, -1.82275937e+00,  3.54898314e-01,  9.96951960e-01,\n",
       "       -2.96727929e-01,  7.53119818e-01,  1.85189034e-02, -1.03541645e+00,\n",
       "        7.97199234e-01, -6.38996735e-01, -4.80266418e-01, -4.44043070e-01,\n",
       "       -7.18087686e-01,  2.41436770e+00, -2.10107204e+00,  6.68008204e-01,\n",
       "        6.66432631e-01,  5.92688888e-01, -1.59430993e+00, -6.30326619e-02,\n",
       "        4.44456556e-01,  1.52884005e+00, -3.73660153e-02, -9.55382244e-01,\n",
       "       -6.24139823e-01,  7.39816276e-01,  3.23190579e-01, -1.46479990e+00,\n",
       "        1.00184249e+00,  3.27590700e-01, -1.25237366e+00,  2.39518785e+00,\n",
       "       -5.44747952e-01, -2.66547604e+00,  5.46993936e-01,  1.68319621e+00,\n",
       "       -1.19243608e+00,  7.95071442e-01,  3.07718591e-02,  3.16317814e-01,\n",
       "       -1.87248614e+00,  1.37776093e-01, -1.14659134e-01,  9.42162401e-02,\n",
       "        6.81483919e-01, -1.21978374e+00,  1.78506646e+00, -4.19700713e-01,\n",
       "        1.19959197e+00,  1.70966577e+00, -1.50756244e-01,  2.02745232e-01,\n",
       "       -1.55923049e+00, -5.68529259e-01, -9.47413288e-01,  1.31604838e+00,\n",
       "       -5.65797060e-01, -5.13333651e-01,  1.16890191e+00,  7.51723283e-01,\n",
       "       -2.17657659e-01, -6.68933426e-01, -9.28110586e-02, -5.56221879e-01,\n",
       "        4.39851158e-01,  2.82238276e-01, -3.16128569e-01,  6.60926981e-01,\n",
       "       -5.46609448e-01,  3.92785767e-01, -2.96565160e-01,  1.00632933e-01,\n",
       "        3.88225139e-01,  1.58803944e+00, -9.74532367e-01, -7.02437091e-01,\n",
       "       -8.71671603e-01,  8.94430392e-01, -4.79486035e-02, -1.13007164e+00,\n",
       "        7.85870566e-01, -2.08967528e+00, -3.23208810e-01,  4.62557869e-01,\n",
       "        1.79590510e+00, -6.47382592e-01,  9.84277056e-01,  1.07966878e+00])"
      ]
     },
     "execution_count": 4,
     "metadata": {},
     "output_type": "execute_result"
    }
   ],
   "source": [
    "dados = random.choice([\n",
    "    np.random.normal(0, 1, 1000),\n",
    "    np.random.exponential(1, 1000),\n",
    "    np.random.uniform(-2, 2, 1000),\n",
    "    np.concatenate([np.random.normal(0, 1, 950), np.random.uniform(10, 20, 50)])\n",
    "])\n",
    "dados"
   ]
  },
  {
   "cell_type": "markdown",
   "id": "90968485",
   "metadata": {},
   "source": [
    "### Teste Kolmogorov-Smirnov"
   ]
  },
  {
   "cell_type": "markdown",
   "id": "18946aff",
   "metadata": {},
   "source": [
    "### Teste Kolmogorov-Smirnov Manual"
   ]
  },
  {
   "cell_type": "code",
   "execution_count": 5,
   "id": "62611665",
   "metadata": {},
   "outputs": [],
   "source": [
    "def kolmogorov_smirnov(data):\n",
    "    # Organize os dados em ordem crescente\n",
    "    data_sorted = np.sort(data)\n",
    "    n = len(data_sorted)\n",
    "    \n",
    "    # Função de distribuição empírica F_n(x)\n",
    "    F_n = np.arange(1, n+1) / n\n",
    "    \n",
    "    # Função de distribuição acumulada da normal F(x)\n",
    "    F_x = norm.cdf(data_sorted)\n",
    "    \n",
    "    # Calcula o D máximo\n",
    "    D = np.max(np.abs(F_n - F_x))\n",
    "    p_value = kstest(data, 'norm')[1]\n",
    "    \n",
    "    return (D,p_value)"
   ]
  },
  {
   "cell_type": "code",
   "execution_count": 6,
   "id": "dc5c2c7e",
   "metadata": {},
   "outputs": [
    {
     "name": "stdout",
     "output_type": "stream",
     "text": [
      "Kolmogorov-Smirnov Manual: 0.0164 | p-value: 0.9171\n"
     ]
    }
   ],
   "source": [
    "print(f\"Kolmogorov-Smirnov Manual: {kolmogorov_smirnov(dados)[0]:.4f} | p-value: {kolmogorov_smirnov(dados)[1]:.4f}\")\n"
   ]
  },
  {
   "cell_type": "markdown",
   "id": "b5a55a43",
   "metadata": {},
   "source": [
    "### Teste Kolmogorov-Smirnov Biblioteca"
   ]
  },
  {
   "cell_type": "code",
   "execution_count": 7,
   "id": "627433a4",
   "metadata": {},
   "outputs": [
    {
     "name": "stdout",
     "output_type": "stream",
     "text": [
      "estatística = 0.0174, \n",
      "p-valor = 0.9171\n"
     ]
    }
   ],
   "source": [
    "estatistica, p_valor = kstest(dados, 'norm')\n",
    "print(f\"estatística = {estatistica:.4f}, \\np-valor = {p_valor:.4f}\")"
   ]
  },
  {
   "cell_type": "code",
   "execution_count": 8,
   "id": "8844f38d",
   "metadata": {},
   "outputs": [
    {
     "name": "stdout",
     "output_type": "stream",
     "text": [
      "A amostra é normalmente distribuída (não rejeita H0)\n"
     ]
    }
   ],
   "source": [
    "if p_valor < 0.05:\n",
    "    print(\"A amostra não é normalmente distribuída (rejeita H0)\")\n",
    "else:\n",
    "    print(\"A amostra é normalmente distribuída (não rejeita H0)\")"
   ]
  },
  {
   "cell_type": "code",
   "execution_count": 9,
   "id": "882d67bd",
   "metadata": {},
   "outputs": [
    {
     "data": {
      "image/png": "[encoded data removed]",
      "text/plain": [
       "<Figure size 640x480 with 1 Axes>"
      ]
     },
     "metadata": {},
     "output_type": "display_data"
    }
   ],
   "source": [
    "x = np.linspace(min(dados), max(dados), 300)\n",
    "y = norm.pdf(x, loc=0, scale=1)\n",
    "plt.hist(dados, bins=30, density=True, edgecolor='black', alpha=0.7, label='Histograma')\n",
    "plt.plot(x, y, color='blue', linewidth=2, label='Curva Normal')\n",
    "\n",
    "# Marcar o p_valor\n",
    "plt.axvline(p_valor, color='red', linestyle='--', label=f'p_valor = {p_valor:.4f}')\n",
    "\n",
    "# Marcar o valor 0.05\n",
    "plt.axvline(0.05, color='green', linestyle='--', label='0.05')\n",
    "\n",
    "plt.legend()\n",
    "plt.show()"
   ]
  },
  {
   "cell_type": "markdown",
   "id": "a0ebaced",
   "metadata": {},
   "source": [
    "### Teste Shapiro-Wilk"
   ]
  },
  {
   "cell_type": "markdown",
   "id": "79a03a6c",
   "metadata": {},
   "source": [
    "### Teste Shapiro-Wilk Manual"
   ]
  },
  {
   "cell_type": "code",
   "execution_count": 10,
   "id": "6b617b12",
   "metadata": {},
   "outputs": [],
   "source": [
    "def shapiro_wilk(dados):\n",
    "    dados = np.sort(dados)\n",
    "    n = len(dados)\n",
    "    \n",
    "    # Média e desvio padrão da amostra\n",
    "    media = np.mean(dados)\n",
    "    desvio = np.std(dados, ddof=1)\n",
    "    \n",
    "    # Estatísticas padronizadas\n",
    "    z = (dados - media) / desvio\n",
    "\n",
    "    # Coeficientes de Shapiro aproximados (usaremos simetria da normal)\n",
    "    # Para isso usamos quantis da normal padrão\n",
    "    m = norm.ppf([(i - 0.375) / (n + 0.25) for i in range(1, n + 1)])\n",
    "    m = m / np.linalg.norm(m)  # Normaliza m\n",
    "\n",
    "    # Soma ponderada dos dados ordenados com os coeficientes m\n",
    "    W_numerador = (np.sum(m * dados))**2\n",
    "    W_denominador = np.sum((dados - media)**2)\n",
    "\n",
    "    W = W_numerador / W_denominador\n",
    "    p_valor = shapiro(dados)[1]\n",
    "    return (W, p_valor)"
   ]
  },
  {
   "cell_type": "code",
   "execution_count": 11,
   "id": "45435671",
   "metadata": {},
   "outputs": [
    {
     "name": "stdout",
     "output_type": "stream",
     "text": [
      "Shapiro-Wilk Manual: 0.9988 | p-value: 0.7431\n"
     ]
    }
   ],
   "source": [
    "print(f\"Shapiro-Wilk Manual: {shapiro_wilk(dados)[0]:.4f} | p-value: {shapiro_wilk(dados)[1]:.4f}\")"
   ]
  },
  {
   "cell_type": "markdown",
   "id": "f9135ce0",
   "metadata": {},
   "source": [
    "### Teste Shapiro-Wilk Biblioteca\n"
   ]
  },
  {
   "cell_type": "code",
   "execution_count": 12,
   "id": "593f3515",
   "metadata": {},
   "outputs": [
    {
     "name": "stdout",
     "output_type": "stream",
     "text": [
      "estatística = 0.9988, \n",
      "p-valor = 0.7431\n"
     ]
    }
   ],
   "source": [
    "estatistica, p_valor = shapiro(dados)\n",
    "print(f\"estatística = {estatistica:.4f}, \\np-valor = {p_valor:.4f}\")"
   ]
  },
  {
   "cell_type": "code",
   "execution_count": 13,
   "id": "0340ecab",
   "metadata": {},
   "outputs": [
    {
     "name": "stdout",
     "output_type": "stream",
     "text": [
      "A amostra é normalmente distribuída (não rejeita H0)\n"
     ]
    }
   ],
   "source": [
    "if p_valor <= 0.05:\n",
    "    print(\"A amostra não é normalmente distribuída (rejeita H0)\")\n",
    "else:\n",
    "    print(\"A amostra é normalmente distribuída (não rejeita H0)\")"
   ]
  },
  {
   "cell_type": "code",
   "execution_count": 14,
   "id": "1b202bd1",
   "metadata": {},
   "outputs": [
    {
     "data": {
      "image/png": "[encoded data removed]",
      "text/plain": [
       "<Figure size 640x480 with 1 Axes>"
      ]
     },
     "metadata": {},
     "output_type": "display_data"
    }
   ],
   "source": [
    "x = np.linspace(min(dados), max(dados), 300)\n",
    "y = norm.pdf(x, loc=0, scale=1)\n",
    "plt.hist(dados, bins=30, density=True, edgecolor='black', alpha=0.7, label='Histograma')\n",
    "plt.plot(x, y, color='blue', linewidth=2, label='Curva Normal')\n",
    "\n",
    "# Marcar o p_valor\n",
    "plt.axvline(p_valor, color='red', linestyle='--', label=f'p_valor = {p_valor:.4f}')\n",
    "\n",
    "# Marcar o valor 0.05\n",
    "plt.axvline(0.05, color='green', linestyle='--', label='0.05')\n",
    "\n",
    "plt.legend()\n",
    "plt.show()"
   ]
  },
  {
   "cell_type": "markdown",
   "id": "cea4cbf9",
   "metadata": {},
   "source": [
    "### Teste Shapiro-Francia"
   ]
  },
  {
   "cell_type": "markdown",
   "id": "da73d0c1",
   "metadata": {},
   "source": [
    "### Teste Shapiro-Francia Manual"
   ]
  },
  {
   "cell_type": "code",
   "execution_count": 15,
   "id": "bcfce54f",
   "metadata": {},
   "outputs": [],
   "source": [
    "def shapiro_francia_test(x):\n",
    "    x = np.sort(x)\n",
    "    n = len(x)\n",
    "\n",
    "    # Média dos dados\n",
    "    x_mean = np.mean(x)\n",
    "\n",
    "    # Quantis esperados da normal padrão\n",
    "    m = norm.ppf([(i - 0.375) / (n + 0.25) for i in range(1, n + 1)])\n",
    "    m_mean = np.mean(m)\n",
    "\n",
    "    # Coeficientes 'a' (normalizados)\n",
    "    u = m - m_mean\n",
    "    a = u / np.sqrt(np.sum(u ** 2))\n",
    "\n",
    "    # Numerador e denominador de W'\n",
    "    numerator = (np.sum(a * x)) ** 2\n",
    "    denominator = np.sum((x - x_mean) ** 2)\n",
    "\n",
    "    W_prime = numerator / denominator\n",
    "    p_value = shapiro(x)[1]\n",
    "    return (W_prime, p_value)"
   ]
  },
  {
   "cell_type": "code",
   "execution_count": 16,
   "id": "482a5215",
   "metadata": {},
   "outputs": [
    {
     "name": "stdout",
     "output_type": "stream",
     "text": [
      "Shapiro-Francia: W' = 0.9988, p-valor = 0.7431\n"
     ]
    }
   ],
   "source": [
    "stat, p = shapiro_francia_test(dados)\n",
    "print(f\"Shapiro-Francia: W' = {stat:.4f}, p-valor = {p:.4f}\")"
   ]
  },
  {
   "cell_type": "code",
   "execution_count": 17,
   "id": "af6e2233",
   "metadata": {},
   "outputs": [
    {
     "name": "stdout",
     "output_type": "stream",
     "text": [
      "A amostra é normalmente distribuída (não rejeita H0)\n"
     ]
    }
   ],
   "source": [
    "if p <= 0.05:\n",
    "    print(\"A amostra não é normalmente distribuída (rejeita H0)\")\n",
    "else:\n",
    "    print(\"A amostra é normalmente distribuída (não rejeita H0)\")"
   ]
  },
  {
   "cell_type": "code",
   "execution_count": 18,
   "id": "117d6a2f",
   "metadata": {},
   "outputs": [
    {
     "data": {
      "image/png": "[encoded data removed]",
      "text/plain": [
       "<Figure size 640x480 with 1 Axes>"
      ]
     },
     "metadata": {},
     "output_type": "display_data"
    }
   ],
   "source": [
    "x = np.linspace(min(dados), max(dados), 300)\n",
    "y = norm.pdf(x, loc=0, scale=1)\n",
    "plt.hist(dados, bins=30, density=True, edgecolor='black', alpha=0.7, label='Histograma')\n",
    "plt.plot(x, y, color='blue', linewidth=2, label='Curva Normal')\n",
    "\n",
    "# Marcar o p_valor\n",
    "plt.axvline(p_valor, color='red', linestyle='--', label=f'p_valor = {p_valor:.4f}')\n",
    "\n",
    "# Marcar o valor 0.05\n",
    "plt.axvline(0.05, color='green', linestyle='--', label='0.05')\n",
    "\n",
    "plt.legend()\n",
    "plt.show()"
   ]
  },
  {
   "cell_type": "markdown",
   "id": "d437b050",
   "metadata": {},
   "source": [
    "### Dados para Teste de Média Populacional"
   ]
  },
  {
   "cell_type": "markdown",
   "id": "89757286",
   "metadata": {},
   "source": [
    "Comparar se a média de dois grupos é diferente"
   ]
  },
  {
   "cell_type": "markdown",
   "id": "96a66702",
   "metadata": {},
   "source": [
    "Então iremos avaliar o p_valor:\n",
    "\n",
    "- p > 0.05 → as médias são provavelmente iguais\n",
    "\n",
    "- p ≤ 0.05 → as médias são provavelmente diferentes"
   ]
  },
  {
   "cell_type": "code",
   "execution_count": 19,
   "id": "3d854313",
   "metadata": {},
   "outputs": [],
   "source": [
    "grupo1 = random.choice([\n",
    "    np.random.normal(0, 1, 20),\n",
    "    np.random.exponential(1, 20),\n",
    "    np.random.uniform(-2, 2, 20),\n",
    "    np.concatenate([np.random.normal(0, 1, 20), np.random.uniform(10, 20, 50)])\n",
    "])\n",
    "\n",
    "grupo2 = random.choice([\n",
    "    np.random.normal(0, 1, 20),\n",
    "    np.random.exponential(1, 20),\n",
    "    np.random.uniform(-2, 2, 20),\n",
    "    np.concatenate([np.random.normal(0, 1, 20), np.random.uniform(10, 20, 50)])\n",
    "])"
   ]
  },
  {
   "cell_type": "code",
   "execution_count": 20,
   "id": "77617848",
   "metadata": {},
   "outputs": [
    {
     "data": {
      "text/plain": [
       "array([1.91581872, 0.11373242, 0.30794004, 0.01770033, 0.60360775,\n",
       "       0.77881454, 0.79366616, 3.12721699, 0.67313997, 0.094587  ,\n",
       "       0.0779666 , 1.44356793, 0.53241953, 0.74519593, 0.35536302,\n",
       "       1.41271113, 0.25238168, 0.28456117, 0.70741263, 1.50183042])"
      ]
     },
     "execution_count": 20,
     "metadata": {},
     "output_type": "execute_result"
    }
   ],
   "source": [
    "grupo1"
   ]
  },
  {
   "cell_type": "code",
   "execution_count": 21,
   "id": "3982cf45",
   "metadata": {},
   "outputs": [
    {
     "data": {
      "text/plain": [
       "array([1.2078381 , 0.49990393, 1.78380748, 1.12044809, 0.88359883,\n",
       "       0.80758019, 1.50314931, 0.15488474, 0.36684423, 1.3859548 ,\n",
       "       1.14687733, 0.04510163, 1.38815526, 0.3197745 , 1.55234429,\n",
       "       1.26433449, 2.24310416, 0.91546168, 2.05076201, 0.1372785 ])"
      ]
     },
     "execution_count": 21,
     "metadata": {},
     "output_type": "execute_result"
    }
   ],
   "source": [
    "grupo2"
   ]
  },
  {
   "cell_type": "markdown",
   "id": "9cc4b8d9",
   "metadata": {},
   "source": [
    "### Teste Z"
   ]
  },
  {
   "cell_type": "markdown",
   "id": "dc04f19c",
   "metadata": {},
   "source": [
    "### Teste Z manual"
   ]
  },
  {
   "cell_type": "code",
   "execution_count": 22,
   "id": "9489834b",
   "metadata": {},
   "outputs": [],
   "source": [
    "def teste_z_duas_amostras(grupo1, grupo2, sigma1, sigma2):\n",
    "    n1, n2 = len(grupo1), len(grupo2)\n",
    "    media1, media2 = np.mean(grupo1), np.mean(grupo2)\n",
    "\n",
    "    # Fórmula do Z para duas amostras com desvio conhecido\n",
    "    z = (media1 - media2) / np.sqrt((sigma1**2)/n1 + (sigma2**2)/n2)\n",
    "\n",
    "    # P-valor para teste bilateral\n",
    "    p_valor = 2 * (1 - norm.cdf(abs(z)))\n",
    "\n",
    "    return z, p_valor"
   ]
  },
  {
   "cell_type": "code",
   "execution_count": 23,
   "id": "a5c6e6bb",
   "metadata": {},
   "outputs": [],
   "source": [
    "z, p = teste_z_duas_amostras(grupo1, grupo2, sigma1=1, sigma2=1)"
   ]
  },
  {
   "cell_type": "code",
   "execution_count": 24,
   "id": "04823d74",
   "metadata": {},
   "outputs": [
    {
     "name": "stdout",
     "output_type": "stream",
     "text": [
      "Z = -0.7965\n",
      "P-valor = 0.4257\n"
     ]
    }
   ],
   "source": [
    "print(f\"Z = {z:.4f}\")\n",
    "print(f\"P-valor = {p:.4f}\")"
   ]
  },
  {
   "cell_type": "code",
   "execution_count": 25,
   "id": "80c4f26f",
   "metadata": {},
   "outputs": [
    {
     "name": "stdout",
     "output_type": "stream",
     "text": [
      "Não rejeita H0: não há evidência forte de diferença.\n"
     ]
    }
   ],
   "source": [
    "if p < 0.05:\n",
    "    print(\"Rejeita H0: diferença estatisticamente significativa.\")\n",
    "else:\n",
    "    print(\"Não rejeita H0: não há evidência forte de diferença.\")"
   ]
  },
  {
   "cell_type": "markdown",
   "id": "7c19f4df",
   "metadata": {},
   "source": [
    "### Teste TStudent"
   ]
  },
  {
   "cell_type": "markdown",
   "id": "bc7e253b",
   "metadata": {},
   "source": [
    "### Tstudent uma amostra manual"
   ]
  },
  {
   "cell_type": "code",
   "execution_count": 26,
   "id": "03ff949a",
   "metadata": {},
   "outputs": [
    {
     "name": "stdout",
     "output_type": "stream",
     "text": [
      "Valor t calculado: 4.5870\n"
     ]
    }
   ],
   "source": [
    "mu = 0\n",
    "\n",
    "# Calcular a média da amostra (x_bar)\n",
    "media_amostra = np.mean(grupo1)\n",
    "\n",
    "# Calcular o desvio padrão amostral (s)\n",
    "desvio_amostra = np.std(grupo1, ddof=1)  # ddof=1 para desvio padrão amostral\n",
    "\n",
    "# Calcular o valor t\n",
    "n = len(grupo1)\n",
    "t_calculado = (media_amostra - mu) / (desvio_amostra / np.sqrt(n))\n",
    "\n",
    "# Determinar os graus de liberdade (df)\n",
    "df = n - 1\n",
    "\n",
    "# Calcular o valor crítico t para um nível de significância α (por exemplo, 0.05)\n",
    "alpha = 0.05\n",
    "t_critico = t_dist.ppf(1 - alpha / 2, df)  # valor crítico para um teste bilateral\n",
    "\n",
    "# Comparar o valor t calculado com o valor t crítico\n",
    "rejeitar_H0 = abs(t_calculado) > t_critico\n",
    "\n",
    "# Exibindo os resultados\n",
    "print(f\"Valor t calculado: {t_calculado:.4f}\")"
   ]
  },
  {
   "cell_type": "markdown",
   "id": "30eb5cf9",
   "metadata": {},
   "source": [
    "### Tstudent uma amostra biblioteca"
   ]
  },
  {
   "cell_type": "code",
   "execution_count": 27,
   "id": "f0c71ab2",
   "metadata": {},
   "outputs": [],
   "source": [
    "mu = 0\n",
    "t_stat, p_value = stats.ttest_1samp(grupo1, mu)"
   ]
  },
  {
   "cell_type": "code",
   "execution_count": 28,
   "id": "a87b8d89",
   "metadata": {},
   "outputs": [
    {
     "name": "stdout",
     "output_type": "stream",
     "text": [
      "Valor t calculado: 4.5870\n",
      "Valor p: 0.0002\n",
      "Média da amostra: 0.7870\n",
      "Rejeitar H0: A média da amostra é significativamente diferente de 0\n"
     ]
    }
   ],
   "source": [
    "print(f\"Valor t calculado: {t_stat:.4f}\")\n",
    "print(f\"Valor p: {p_value:.4f}\")\n",
    "print(f\"Média da amostra: {media_amostra:.4f}\")\n",
    "\n",
    "# Decisão sobre a hipótese nula\n",
    "alpha = 0.05\n",
    "if p_value < alpha:\n",
    "    print(\"Rejeitar H0: A média da amostra é significativamente diferente de\", mu)\n",
    "else:\n",
    "    print(\"Não rejeitar H0: A média da amostra não é significativamente diferente de\", mu)"
   ]
  },
  {
   "cell_type": "markdown",
   "id": "1e431117",
   "metadata": {},
   "source": [
    "### Tstudent Independente Manual"
   ]
  },
  {
   "cell_type": "code",
   "execution_count": 29,
   "id": "58c261ce",
   "metadata": {},
   "outputs": [],
   "source": [
    "def t_student_duas_amostras(amostra1, amostra2):\n",
    "    import math\n",
    "    n1, n2 = len(amostra1), len(amostra2)\n",
    "    media1 = sum(amostra1) / n1\n",
    "    media2 = sum(amostra2) / n2\n",
    "\n",
    "    var1 = sum((x - media1)**2 for x in amostra1) / (n1 - 1)\n",
    "    var2 = sum((x - media2)**2 for x in amostra2) / (n2 - 1)\n",
    "\n",
    "    # variância combinada\n",
    "    sp = math.sqrt(((n1 - 1)*var1 + (n2 - 1)*var2) / (n1 + n2 - 2))\n",
    "\n",
    "    t = (media1 - media2) / (sp * math.sqrt(1/n1 + 1/n2))\n",
    "    return t"
   ]
  },
  {
   "cell_type": "code",
   "execution_count": 30,
   "id": "032aec0e",
   "metadata": {},
   "outputs": [
    {
     "name": "stdout",
     "output_type": "stream",
     "text": [
      "Tstudent Manual = -1.1274\n"
     ]
    }
   ],
   "source": [
    "print(f\"Tstudent Manual = {t_student_duas_amostras(grupo1, grupo2):.4f}\")"
   ]
  },
  {
   "cell_type": "markdown",
   "id": "c4a5396e",
   "metadata": {},
   "source": [
    "### Tstudent Independente pela Biblioteca"
   ]
  },
  {
   "cell_type": "code",
   "execution_count": 31,
   "id": "808923bb",
   "metadata": {},
   "outputs": [
    {
     "name": "stdout",
     "output_type": "stream",
     "text": [
      "t-Student: estatística = -1.1274, p-valor = 0.2666\n"
     ]
    }
   ],
   "source": [
    "stat, p = ttest_ind(grupo1, grupo2, equal_var=True)\n",
    "print(f\"t-Student: estatística = {stat:.4f}, p-valor = {p:.4f}\")"
   ]
  },
  {
   "cell_type": "code",
   "execution_count": 32,
   "id": "e793f00b",
   "metadata": {},
   "outputs": [
    {
     "name": "stdout",
     "output_type": "stream",
     "text": [
      "As médias são significativamente iguais (não rejeita H0)\n"
     ]
    }
   ],
   "source": [
    "if p <= 0.05:\n",
    "    print(\"As médias são diferentes (rejeita H0)\")\n",
    "else:  \n",
    "    print(\"As médias são significativamente iguais (não rejeita H0)\")"
   ]
  },
  {
   "cell_type": "code",
   "execution_count": 33,
   "id": "72738112",
   "metadata": {},
   "outputs": [
    {
     "data": {
      "image/png": "[encoded data removed]",
      "text/plain": [
       "<Figure size 640x480 with 1 Axes>"
      ]
     },
     "metadata": {},
     "output_type": "display_data"
    }
   ],
   "source": [
    "sns.boxplot(data=[grupo1, grupo2])\n",
    "plt.xticks([0, 1], ['Grupo 1', 'Grupo 2'])\n",
    "plt.title('Boxplot dos Grupos')\n",
    "plt.ylabel('Valores')\n",
    "plt.show()"
   ]
  },
  {
   "cell_type": "markdown",
   "id": "c9f16f06",
   "metadata": {},
   "source": [
    "### Tstudent Emparelhado"
   ]
  },
  {
   "cell_type": "code",
   "execution_count": 34,
   "id": "da8b70c8",
   "metadata": {},
   "outputs": [],
   "source": [
    "grupo1 = random.choice([\n",
    "    np.random.normal(0, 1, 20),\n",
    "    np.random.exponential(1, 20),\n",
    "    np.random.uniform(-2, 2, 20),\n",
    "    np.concatenate([np.random.normal(0, 1, 10), np.random.uniform(10, 20, 10)])  \n",
    "])\n",
    "\n",
    "# Simulando uma mudança no grupo (grupo2) para amostras pareadas\n",
    "grupo2 = grupo1 + np.random.normal(0, 0.5, 20)"
   ]
  },
  {
   "cell_type": "code",
   "execution_count": 35,
   "id": "a841fa7c",
   "metadata": {},
   "outputs": [
    {
     "name": "stdout",
     "output_type": "stream",
     "text": [
      "Valor de t calculado: -1.0624\n"
     ]
    }
   ],
   "source": [
    "# Calcular as diferenças (d = grupo1 - grupo2)\n",
    "diferencas = grupo1 - grupo2\n",
    "\n",
    "# Calcular a média das diferenças (d_bar)\n",
    "media_diferencas = np.mean(diferencas)\n",
    "\n",
    "# Calcular o desvio padrão das diferenças (s_d)\n",
    "desvio_diferencas = np.std(diferencas, ddof=1)  # ddof=1 para obter o desvio padrão amostral\n",
    "\n",
    "# Calcular o valor t\n",
    "n = len(diferencas)\n",
    "t_calculado = media_diferencas / (desvio_diferencas / np.sqrt(n))\n",
    "\n",
    "# Exibindo os resultados\n",
    "print(f\"Valor de t calculado: {t_calculado:.4f}\")"
   ]
  },
  {
   "cell_type": "markdown",
   "id": "46e6e8fc",
   "metadata": {},
   "source": [
    "### Tsudent Emparelhado Pela Biblioteca"
   ]
  },
  {
   "cell_type": "code",
   "execution_count": 36,
   "id": "84b87893",
   "metadata": {},
   "outputs": [
    {
     "name": "stdout",
     "output_type": "stream",
     "text": [
      "Estatística t: -1.0624\n",
      "P-valor: 0.3014\n"
     ]
    }
   ],
   "source": [
    "t_stat, p_value = stats.ttest_rel(grupo1, grupo2)\n",
    "print(f\"Estatística t: {t_stat:.4f}\")\n",
    "print(f\"P-valor: {p_value:.4f}\")"
   ]
  },
  {
   "cell_type": "code",
   "execution_count": 37,
   "id": "e278efba",
   "metadata": {},
   "outputs": [
    {
     "name": "stdout",
     "output_type": "stream",
     "text": [
      "Não rejeitamos H0: As médias dos dois grupos pareados são significadamente iguais.\n"
     ]
    }
   ],
   "source": [
    "if p_value < 0.05:\n",
    "    print(\"Rejeitamos H0: As médias dos dois grupos pareados são diferentes.\")\n",
    "else:\n",
    "    print(\"Não rejeitamos H0: As médias dos dois grupos pareados são significadamente iguais.\")"
   ]
  },
  {
   "cell_type": "code",
   "execution_count": 38,
   "id": "004c788a",
   "metadata": {},
   "outputs": [
    {
     "data": {
      "image/png": "[encoded data removed]",
      "text/plain": [
       "<Figure size 640x480 with 1 Axes>"
      ]
     },
     "metadata": {},
     "output_type": "display_data"
    }
   ],
   "source": [
    "sns.boxplot(data=[grupo1, grupo2])\n",
    "plt.xticks([0, 1], ['Grupo 1', 'Grupo 2'])\n",
    "plt.title('Boxplot dos Grupos')\n",
    "plt.ylabel('Valores')\n",
    "plt.show()"
   ]
  },
  {
   "cell_type": "markdown",
   "id": "24b6bbf0",
   "metadata": {},
   "source": [
    "### Testes de Homogeneidade de variâncias"
   ]
  },
  {
   "cell_type": "markdown",
   "id": "f0d97ade",
   "metadata": {},
   "source": [
    "Então iremos avaliar o p_valor:\n",
    "\n",
    "- p > 0.05 → as variâncias são provavelmente iguais\n",
    "\n",
    "- p ≤ 0.05 → as variâncias são provavelmente diferentes"
   ]
  },
  {
   "cell_type": "markdown",
   "id": "87f69916",
   "metadata": {},
   "source": [
    "### Teste Bartlett"
   ]
  },
  {
   "cell_type": "markdown",
   "id": "97f73d84",
   "metadata": {},
   "source": [
    "Teste Bartlett Manual"
   ]
  },
  {
   "cell_type": "code",
   "execution_count": 39,
   "id": "0bd4f491",
   "metadata": {},
   "outputs": [],
   "source": [
    "def bartlett_duas_amostras(amostra1, amostra2):\n",
    "    import math\n",
    "    # Calcula o tamanho das amostras\n",
    "    n1, n2 = len(amostra1), len(amostra2)\n",
    "    \n",
    "    # Calcula a média de cada amostra\n",
    "    media1 = sum(amostra1) / n1\n",
    "    media2 = sum(amostra2) / n2\n",
    "\n",
    "    # Calcula a variância de cada amostra\n",
    "    var1 = sum((x - media1)**2 for x in amostra1) / (n1 - 1)\n",
    "    var2 = sum((x - media2)**2 for x in amostra2) / (n2 - 1)\n",
    "\n",
    "    # Calcula a variância combinada (sp)\n",
    "    sp = ((n1 - 1)*var1 + (n2 - 1)*var2) / (n1 + n2 - 2)\n",
    "\n",
    "    # Calcula a estatística A do teste de Bartlett\n",
    "    A = (n1 + n2 - 2)*math.log(sp) - (n1 - 1)*math.log(var1) - (n2 - 1)*math.log(var2)\n",
    "    \n",
    "    # Calcula o fator de correção B\n",
    "    B = 1 + (1/(3*(2 - 1))) * (1/(n1 - 1) + 1/(n2 - 1) - 1/(n1 + n2 - 2))\n",
    "    \n",
    "    # Calcula a estatística do teste\n",
    "    estatistica = A / B\n",
    "\n",
    "    # Calcula o p-valor usando a distribuição qui-quadrado com 1 grau de liberdade\n",
    "    p_valor = 1 - stats.chi2.cdf(estatistica, df=1)\n",
    "    \n",
    "    # Retorna a estatística do teste e o p-valor\n",
    "    return estatistica, p_valor"
   ]
  },
  {
   "cell_type": "code",
   "execution_count": 40,
   "id": "9b351124",
   "metadata": {},
   "outputs": [
    {
     "name": "stdout",
     "output_type": "stream",
     "text": [
      "Bartlett Manual = 0.8938 p-valor: 0.3445\n"
     ]
    }
   ],
   "source": [
    "print(f\"Bartlett Manual = {bartlett_duas_amostras(grupo1, grupo2)[0]:.4f} p-valor: {bartlett_duas_amostras(grupo1, grupo2)[1]:.4f}\")"
   ]
  },
  {
   "cell_type": "markdown",
   "id": "8c57064c",
   "metadata": {},
   "source": [
    "### Teste Barlett pela Biblioteca"
   ]
  },
  {
   "cell_type": "code",
   "execution_count": 41,
   "id": "3f3dc168",
   "metadata": {},
   "outputs": [
    {
     "name": "stdout",
     "output_type": "stream",
     "text": [
      "Bartlett: estatística = 0.8938, p-valor = 0.3445\n"
     ]
    }
   ],
   "source": [
    "stat, p = bartlett(grupo1, grupo2)\n",
    "print(f\"Bartlett: estatística = {stat:.4f}, p-valor = {p:.4f}\")"
   ]
  },
  {
   "cell_type": "code",
   "execution_count": 42,
   "id": "4747d829",
   "metadata": {},
   "outputs": [
    {
     "name": "stdout",
     "output_type": "stream",
     "text": [
      "Variancia grupo1: 1.1014871922058678\n",
      "Variancia grupo2: 1.71236666873233\n"
     ]
    }
   ],
   "source": [
    "print(\"Variancia grupo1:\", np.var(grupo1, ddof=1))\n",
    "print(\"Variancia grupo2:\", np.var(grupo2, ddof=1))"
   ]
  },
  {
   "cell_type": "code",
   "execution_count": 43,
   "id": "409c078e",
   "metadata": {},
   "outputs": [
    {
     "name": "stdout",
     "output_type": "stream",
     "text": [
      "Todas as variâncias são significamente iguais (não rejeita H0)\n"
     ]
    }
   ],
   "source": [
    "if p <= 0.05:\n",
    "    print(\"Uma ou mais variâncias são diferentes (rejeita H0)\")\n",
    "else:\n",
    "    print(\"Todas as variâncias são significamente iguais (não rejeita H0)\")"
   ]
  },
  {
   "cell_type": "code",
   "execution_count": 44,
   "id": "05891e4f",
   "metadata": {},
   "outputs": [
    {
     "data": {
      "image/png": "[encoded data removed]",
      "text/plain": [
       "<Figure size 640x480 with 1 Axes>"
      ]
     },
     "metadata": {},
     "output_type": "display_data"
    }
   ],
   "source": [
    "sns.boxplot(data=[grupo1, grupo2])\n",
    "plt.xticks([0, 1], ['Grupo 1', 'Grupo 2'])\n",
    "plt.title('Boxplot dos Grupos')\n",
    "plt.ylabel('Valores')\n",
    "plt.show()"
   ]
  }
 ],
 "metadata": {
  "kernelspec": {
   "display_name": "Python 3",
   "language": "python",
   "name": "python3"
  },
  "language_info": {
   "codemirror_mode": {
    "name": "ipython",
    "version": 3
   },
   "file_extension": ".py",
   "mimetype": "text/x-python",
   "name": "python",
   "nbconvert_exporter": "python",
   "pygments_lexer": "ipython3",
   "version": "3.12.10"
  }
 },
 "nbformat": 4,
 "nbformat_minor": 5
}
