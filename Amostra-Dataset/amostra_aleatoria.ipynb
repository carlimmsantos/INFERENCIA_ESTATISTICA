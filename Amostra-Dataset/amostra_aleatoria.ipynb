{
 "cells": [
  {
   "cell_type": "code",
   "execution_count": null,
   "id": "33d98ecf",
   "metadata": {},
   "outputs": [],
   "source": [
    "%pip install pingouin"
   ]
  },
  {
   "cell_type": "markdown",
   "id": "052858a1",
   "metadata": {},
   "source": [
    "Importando Bibliotecas"
   ]
  },
  {
   "cell_type": "code",
   "execution_count": null,
   "id": "f22bd3dd",
   "metadata": {},
   "outputs": [],
   "source": [
    "import numpy as np, random\n",
    "import pingouin as pg\n",
    "import pandas as pd\n",
    "from scipy.stats import shapiro\n",
    "from scipy.stats import kstest\n",
    "import scipy.stats as stats\n",
    "from scipy.stats import ttest_ind\n",
    "from scipy.stats import bartlett\n",
    "import matplotlib.pyplot as plt\n",
    "import seaborn as sns\n",
    "from scipy.stats import norm\n",
    "from scipy.stats import t as t_dist\n"
   ]
  },
  {
   "cell_type": "markdown",
   "id": "d47ad023",
   "metadata": {},
   "source": [
    "### Dados para os Testes de Normalidade"
   ]
  },
  {
   "cell_type": "markdown",
   "id": "520dc9b4",
   "metadata": {},
   "source": [
    "Testar se seus dados seguem uma distribuição normal"
   ]
  },
  {
   "cell_type": "markdown",
   "id": "7be06dc8",
   "metadata": {},
   "source": [
    "Então iremos avaliar o p_valor:\n",
    "\n",
    "- p_valor > 0.05 → dados parecem normais\n",
    "\n",
    "- p_valor ≤ 0.05 → dados provavelmente NÃO são normais"
   ]
  },
  {
   "cell_type": "code",
   "execution_count": null,
   "id": "99cb5b4b",
   "metadata": {},
   "outputs": [],
   "source": [
    "#dados = np.random.normal(0, 1, 500)"
   ]
  },
  {
   "cell_type": "code",
   "execution_count": null,
   "id": "c196e9ed",
   "metadata": {},
   "outputs": [],
   "source": [
    "dados = random.choice([\n",
    "    np.random.normal(0, 1, 1000),\n",
    "    np.random.exponential(1, 1000),\n",
    "    np.random.uniform(-2, 2, 1000),\n",
    "    np.concatenate([np.random.normal(0, 1, 950), np.random.uniform(10, 20, 50)])\n",
    "])\n",
    "dados"
   ]
  },
  {
   "cell_type": "markdown",
   "id": "90968485",
   "metadata": {},
   "source": [
    "### Teste Kolmogorov-Smirnov"
   ]
  },
  {
   "cell_type": "markdown",
   "id": "18946aff",
   "metadata": {},
   "source": [
    "### Teste Kolmogorov-Smirnov Manual"
   ]
  },
  {
   "cell_type": "code",
   "execution_count": null,
   "id": "62611665",
   "metadata": {},
   "outputs": [],
   "source": [
    "def kolmogorov_smirnov(data):\n",
    "    # Organize os dados em ordem crescente\n",
    "    data_sorted = np.sort(data)\n",
    "    n = len(data_sorted)\n",
    "    \n",
    "    # Função de distribuição empírica F_n(x)\n",
    "    F_n = np.arange(1, n+1) / n\n",
    "    \n",
    "    # Função de distribuição acumulada da normal F(x)\n",
    "    F_x = norm.cdf(data_sorted)\n",
    "    \n",
    "    # Calcula o D máximo\n",
    "    D = np.max(np.abs(F_n - F_x))\n",
    "    p_value = kstest(data, 'norm')[1]\n",
    "    \n",
    "    return (D,p_value)"
   ]
  },
  {
   "cell_type": "code",
   "execution_count": null,
   "id": "dc5c2c7e",
   "metadata": {},
   "outputs": [],
   "source": [
    "print(f\"Kolmogorov-Smirnov Manual: {kolmogorov_smirnov(dados)[0]:.4f} | p-value: {kolmogorov_smirnov(dados)[1]:.4f}\")\n"
   ]
  },
  {
   "cell_type": "markdown",
   "id": "b5a55a43",
   "metadata": {},
   "source": [
    "### Teste Kolmogorov-Smirnov Biblioteca"
   ]
  },
  {
   "cell_type": "code",
   "execution_count": null,
   "id": "627433a4",
   "metadata": {},
   "outputs": [],
   "source": [
    "estatistica, p_valor = kstest(dados, 'norm')\n",
    "print(f\"estatística = {estatistica:.4f}, \\np-valor = {p_valor:.4f}\")"
   ]
  },
  {
   "cell_type": "code",
   "execution_count": null,
   "id": "8844f38d",
   "metadata": {},
   "outputs": [],
   "source": [
    "if p_valor < 0.05:\n",
    "    print(\"A amostra não é normalmente distribuída (rejeita H0)\")\n",
    "else:\n",
    "    print(\"A amostra é normalmente distribuída (não rejeita H0)\")"
   ]
  },
  {
   "cell_type": "code",
   "execution_count": null,
   "id": "882d67bd",
   "metadata": {},
   "outputs": [],
   "source": [
    "x = np.linspace(min(dados), max(dados), 300)\n",
    "y = norm.pdf(x, loc=0, scale=1)\n",
    "plt.hist(dados, bins=30, density=True, edgecolor='black', alpha=0.7, label='Histograma')\n",
    "plt.plot(x, y, color='blue', linewidth=2, label='Curva Normal')\n",
    "\n",
    "# Marcar o p_valor\n",
    "plt.axvline(p_valor, color='red', linestyle='--', label=f'p_valor = {p_valor:.4f}')\n",
    "\n",
    "# Marcar o valor 0.05\n",
    "plt.axvline(0.05, color='green', linestyle='--', label='0.05')\n",
    "\n",
    "plt.legend()\n",
    "plt.show()"
   ]
  },
  {
   "cell_type": "markdown",
   "id": "a0ebaced",
   "metadata": {},
   "source": [
    "### Teste Shapiro-Wilk"
   ]
  },
  {
   "cell_type": "markdown",
   "id": "79a03a6c",
   "metadata": {},
   "source": [
    "### Teste Shapiro-Wilk Manual"
   ]
  },
  {
   "cell_type": "code",
   "execution_count": null,
   "id": "6b617b12",
   "metadata": {},
   "outputs": [],
   "source": [
    "def shapiro_wilk(dados):\n",
    "    dados = np.sort(dados)\n",
    "    n = len(dados)\n",
    "    \n",
    "    # Média e desvio padrão da amostra\n",
    "    media = np.mean(dados)\n",
    "    desvio = np.std(dados, ddof=1)\n",
    "    \n",
    "    # Estatísticas padronizadas\n",
    "    z = (dados - media) / desvio\n",
    "\n",
    "    # Coeficientes de Shapiro aproximados (usaremos simetria da normal)\n",
    "    # Para isso usamos quantis da normal padrão\n",
    "    m = norm.ppf([(i - 0.375) / (n + 0.25) for i in range(1, n + 1)])\n",
    "    m = m / np.linalg.norm(m)  # Normaliza m\n",
    "\n",
    "    # Soma ponderada dos dados ordenados com os coeficientes m\n",
    "    W_numerador = (np.sum(m * dados))**2\n",
    "    W_denominador = np.sum((dados - media)**2)\n",
    "\n",
    "    W = W_numerador / W_denominador\n",
    "    p_valor = shapiro(dados)[1]\n",
    "    return (W, p_valor)"
   ]
  },
  {
   "cell_type": "code",
   "execution_count": null,
   "id": "45435671",
   "metadata": {},
   "outputs": [],
   "source": [
    "print(f\"Shapiro-Wilk Manual: {shapiro_wilk(dados)[0]:.4f} | p-value: {shapiro_wilk(dados)[1]:.4f}\")"
   ]
  },
  {
   "cell_type": "markdown",
   "id": "f9135ce0",
   "metadata": {},
   "source": [
    "### Teste Shapiro-Wilk Biblioteca\n"
   ]
  },
  {
   "cell_type": "code",
   "execution_count": null,
   "id": "593f3515",
   "metadata": {},
   "outputs": [],
   "source": [
    "estatistica, p_valor = shapiro(dados)\n",
    "print(f\"estatística = {estatistica:.4f}, \\np-valor = {p_valor:.4f}\")"
   ]
  },
  {
   "cell_type": "code",
   "execution_count": null,
   "id": "0340ecab",
   "metadata": {},
   "outputs": [],
   "source": [
    "if p_valor <= 0.05:\n",
    "    print(\"A amostra não é normalmente distribuída (rejeita H0)\")\n",
    "else:\n",
    "    print(\"A amostra é normalmente distribuída (não rejeita H0)\")"
   ]
  },
  {
   "cell_type": "code",
   "execution_count": null,
   "id": "1b202bd1",
   "metadata": {},
   "outputs": [],
   "source": [
    "x = np.linspace(min(dados), max(dados), 300)\n",
    "y = norm.pdf(x, loc=0, scale=1)\n",
    "plt.hist(dados, bins=30, density=True, edgecolor='black', alpha=0.7, label='Histograma')\n",
    "plt.plot(x, y, color='blue', linewidth=2, label='Curva Normal')\n",
    "\n",
    "# Marcar o p_valor\n",
    "plt.axvline(p_valor, color='red', linestyle='--', label=f'p_valor = {p_valor:.4f}')\n",
    "\n",
    "# Marcar o valor 0.05\n",
    "plt.axvline(0.05, color='green', linestyle='--', label='0.05')\n",
    "\n",
    "plt.legend()\n",
    "plt.show()"
   ]
  },
  {
   "cell_type": "markdown",
   "id": "cea4cbf9",
   "metadata": {},
   "source": [
    "### Teste Shapiro-Francia"
   ]
  },
  {
   "cell_type": "markdown",
   "id": "da73d0c1",
   "metadata": {},
   "source": [
    "### Teste Shapiro-Francia Manual"
   ]
  },
  {
   "cell_type": "code",
   "execution_count": null,
   "id": "bcfce54f",
   "metadata": {},
   "outputs": [],
   "source": [
    "def shapiro_francia_test(x):\n",
    "    x = np.sort(x)\n",
    "    n = len(x)\n",
    "\n",
    "    # Média dos dados\n",
    "    x_mean = np.mean(x)\n",
    "\n",
    "    # Quantis esperados da normal padrão\n",
    "    m = norm.ppf([(i - 0.375) / (n + 0.25) for i in range(1, n + 1)])\n",
    "    m_mean = np.mean(m)\n",
    "\n",
    "    # Coeficientes 'a' (normalizados)\n",
    "    u = m - m_mean\n",
    "    a = u / np.sqrt(np.sum(u ** 2))\n",
    "\n",
    "    # Numerador e denominador de W'\n",
    "    numerator = (np.sum(a * x)) ** 2\n",
    "    denominator = np.sum((x - x_mean) ** 2)\n",
    "\n",
    "    W_prime = numerator / denominator\n",
    "    p_value = shapiro(x)[1]\n",
    "    return (W_prime, p_value)"
   ]
  },
  {
   "cell_type": "code",
   "execution_count": null,
   "id": "482a5215",
   "metadata": {},
   "outputs": [],
   "source": [
    "stat, p = shapiro_francia_test(dados)\n",
    "print(f\"Shapiro-Francia: W' = {stat:.4f}, p-valor = {p:.4f}\")"
   ]
  },
  {
   "cell_type": "code",
   "execution_count": null,
   "id": "af6e2233",
   "metadata": {},
   "outputs": [],
   "source": [
    "if p <= 0.05:\n",
    "    print(\"A amostra não é normalmente distribuída (rejeita H0)\")\n",
    "else:\n",
    "    print(\"A amostra é normalmente distribuída (não rejeita H0)\")"
   ]
  },
  {
   "cell_type": "code",
   "execution_count": null,
   "id": "117d6a2f",
   "metadata": {},
   "outputs": [],
   "source": [
    "x = np.linspace(min(dados), max(dados), 300)\n",
    "y = norm.pdf(x, loc=0, scale=1)\n",
    "plt.hist(dados, bins=30, density=True, edgecolor='black', alpha=0.7, label='Histograma')\n",
    "plt.plot(x, y, color='blue', linewidth=2, label='Curva Normal')\n",
    "\n",
    "# Marcar o p_valor\n",
    "plt.axvline(p_valor, color='red', linestyle='--', label=f'p_valor = {p_valor:.4f}')\n",
    "\n",
    "# Marcar o valor 0.05\n",
    "plt.axvline(0.05, color='green', linestyle='--', label='0.05')\n",
    "\n",
    "plt.legend()\n",
    "plt.show()"
   ]
  },
  {
   "cell_type": "markdown",
   "id": "d437b050",
   "metadata": {},
   "source": [
    "### Dados para Teste de Média Populacional"
   ]
  },
  {
   "cell_type": "markdown",
   "id": "89757286",
   "metadata": {},
   "source": [
    "Comparar se a média de dois grupos é diferente"
   ]
  },
  {
   "cell_type": "markdown",
   "id": "96a66702",
   "metadata": {},
   "source": [
    "Então iremos avaliar o p_valor:\n",
    "\n",
    "- p > 0.05 → as médias são provavelmente iguais\n",
    "\n",
    "- p ≤ 0.05 → as médias são provavelmente diferentes"
   ]
  },
  {
   "cell_type": "code",
   "execution_count": null,
   "id": "963992d9",
   "metadata": {},
   "outputs": [],
   "source": [
    "#grupo1 = np.random.normal(0, 1, 20)\n",
    "#grupo2 = np.random.normal(0, 1, 20)"
   ]
  },
  {
   "cell_type": "code",
   "execution_count": 31,
   "id": "3d854313",
   "metadata": {},
   "outputs": [],
   "source": [
    "grupo1 = random.choice([\n",
    "    np.random.normal(0, 1, 20),\n",
    "    np.random.exponential(1, 20),\n",
    "    np.random.uniform(-2, 2, 20),\n",
    "    np.concatenate([np.random.normal(0, 1, 20), np.random.uniform(10, 20, 50)])\n",
    "])\n",
    "\n",
    "grupo2 = random.choice([\n",
    "    np.random.normal(0, 1, 20),\n",
    "    np.random.exponential(1, 20),\n",
    "    np.random.uniform(-2, 2, 20),\n",
    "    np.concatenate([np.random.normal(0, 1, 20), np.random.uniform(10, 20, 50)])\n",
    "])"
   ]
  },
  {
   "cell_type": "code",
   "execution_count": 32,
   "id": "77617848",
   "metadata": {},
   "outputs": [
    {
     "data": {
      "text/plain": [
       "array([0.49151079, 0.46552492, 2.89218979, 0.4581324 , 0.25088807,\n",
       "       1.54153614, 0.0191029 , 1.47890722, 0.69536366, 0.09505022,\n",
       "       0.2262282 , 0.29872744, 2.24430344, 0.05130282, 0.92083132,\n",
       "       0.82543818, 1.58952654, 0.06760125, 1.61565126, 0.04528743])"
      ]
     },
     "execution_count": 32,
     "metadata": {},
     "output_type": "execute_result"
    }
   ],
   "source": [
    "grupo1"
   ]
  },
  {
   "cell_type": "code",
   "execution_count": 33,
   "id": "3982cf45",
   "metadata": {},
   "outputs": [
    {
     "data": {
      "text/plain": [
       "array([-1.76253111,  1.75214173,  1.34971996, -1.21377475,  1.89149907,\n",
       "        0.09197807, -1.47044842, -0.80599986, -0.04987622, -1.33768162,\n",
       "       -0.59595676, -0.46030401, -1.25592707, -0.89231719,  1.56231237,\n",
       "        0.74510085, -0.18062394,  0.60558202,  1.72085685,  0.32948169])"
      ]
     },
     "execution_count": 33,
     "metadata": {},
     "output_type": "execute_result"
    }
   ],
   "source": [
    "grupo2"
   ]
  },
  {
   "cell_type": "markdown",
   "id": "9cc4b8d9",
   "metadata": {},
   "source": [
    "### Teste Z"
   ]
  },
  {
   "cell_type": "markdown",
   "id": "dc04f19c",
   "metadata": {},
   "source": [
    "### Teste Z manual"
   ]
  },
  {
   "cell_type": "code",
   "execution_count": 34,
   "id": "9489834b",
   "metadata": {},
   "outputs": [],
   "source": [
    "def teste_z_duas_amostras(grupo1, grupo2, sigma1, sigma2):\n",
    "    n1, n2 = len(grupo1), len(grupo2)\n",
    "    media1, media2 = np.mean(grupo1), np.mean(grupo2)\n",
    "\n",
    "    # Fórmula do Z para duas amostras com desvio conhecido\n",
    "    z = (media1 - media2) / np.sqrt((sigma1**2)/n1 + (sigma2**2)/n2)\n",
    "\n",
    "    # P-valor para teste bilateral\n",
    "    p_valor = 2 * (1 - norm.cdf(abs(z)))\n",
    "\n",
    "    return z, p_valor"
   ]
  },
  {
   "cell_type": "code",
   "execution_count": 35,
   "id": "a5c6e6bb",
   "metadata": {},
   "outputs": [],
   "source": [
    "z, p = teste_z_duas_amostras(grupo1, grupo2, sigma1=1, sigma2=1)"
   ]
  },
  {
   "cell_type": "code",
   "execution_count": 36,
   "id": "04823d74",
   "metadata": {},
   "outputs": [
    {
     "name": "stdout",
     "output_type": "stream",
     "text": [
      "Z = 2.5693\n",
      "P-valor = 0.0102\n"
     ]
    }
   ],
   "source": [
    "print(f\"Z = {z:.4f}\")\n",
    "print(f\"P-valor = {p:.4f}\")"
   ]
  },
  {
   "cell_type": "code",
   "execution_count": 37,
   "id": "80c4f26f",
   "metadata": {},
   "outputs": [
    {
     "name": "stdout",
     "output_type": "stream",
     "text": [
      "Não rejeita H0: não há evidência forte de diferença.\n"
     ]
    }
   ],
   "source": [
    "if p < 0.05:\n",
    "    print(\"Rejeita H0: diferença estatisticamente significativa.\")\n",
    "else:\n",
    "    print(\"Não rejeita H0: não há evidência forte de diferença.\")"
   ]
  },
  {
   "cell_type": "markdown",
   "id": "7c19f4df",
   "metadata": {},
   "source": [
    "### Teste TStudent"
   ]
  },
  {
   "cell_type": "markdown",
   "id": "bc7e253b",
   "metadata": {},
   "source": [
    "### Tstudent uma amostra manual"
   ]
  },
  {
   "cell_type": "code",
   "execution_count": null,
   "id": "03ff949a",
   "metadata": {},
   "outputs": [],
   "source": [
    "def teste_t_amostra(grupo, mu=0, alpha=0.05):\n",
    "    \"\"\"\n",
    "    Realiza o teste t para uma amostra.\n",
    "\n",
    "    Parâmetros:\n",
    "    - grupo: array-like, dados da amostra\n",
    "    - mu: valor da média populacional para o teste (default = 0)\n",
    "    - alpha: nível de significância (default = 0.05)\n",
    "\n",
    "    Retorna:\n",
    "    - t_calculado: valor t da amostra\n",
    "    - t_critico: valor t crítico para o nível de significância\n",
    "    - rejeitar_H0: booleano indicando se H0 é rejeitada\n",
    "    - mu: média populacional hipotética\n",
    "    - alpha: nível de significância\n",
    "    \"\"\"\n",
    "\n",
    "    # Calcular a média da amostra\n",
    "    media_amostra = np.mean(grupo)\n",
    "\n",
    "    # Calcular o desvio padrão amostral (ddof=1 -> desvio amostral)\n",
    "    desvio_amostra = np.std(grupo, ddof=1)\n",
    "\n",
    "    # Número de observações na amostra\n",
    "    n = len(grupo)\n",
    "\n",
    "    # Calcular o valor t\n",
    "    t_calculado = (media_amostra - mu) / (desvio_amostra / np.sqrt(n))\n",
    "\n",
    "    # Graus de liberdade\n",
    "    df = n - 1\n",
    "\n",
    "    # Valor crítico t (teste bilateral: alpha/2 em cada cauda)\n",
    "    t_critico = t_dist.ppf(1 - alpha / 2, df)\n",
    "\n",
    "    # Testar se devemos rejeitar H0\n",
    "    rejeitar_H0 = abs(t_calculado) > t_critico\n",
    "\n",
    "    return t_calculado, t_critico, rejeitar_H0"
   ]
  },
  {
   "cell_type": "code",
   "execution_count": 39,
   "id": "cd4a32ec",
   "metadata": {},
   "outputs": [
    {
     "name": "stdout",
     "output_type": "stream",
     "text": [
      "Valor t calculado: 4.4395\n",
      "Valor t crítico: 2.0930\n",
      "Rejeitar H0? Sim\n"
     ]
    }
   ],
   "source": [
    "t_calculado, t_critico, rejeitar_H0 = teste_t_amostra(grupo1)\n",
    "print(f\"Valor t calculado: {t_calculado:.4f}\")\n",
    "print(f\"Valor t crítico: {t_critico:.4f}\")\n",
    "print(f\"Rejeitar H0? {'Sim' if rejeitar_H0 else 'Não'}\")"
   ]
  },
  {
   "cell_type": "markdown",
   "id": "30eb5cf9",
   "metadata": {},
   "source": [
    "### Tstudent uma amostra biblioteca"
   ]
  },
  {
   "cell_type": "code",
   "execution_count": 40,
   "id": "f0c71ab2",
   "metadata": {},
   "outputs": [],
   "source": [
    "mu = 0\n",
    "t_stat, p_value = stats.ttest_1samp(grupo1, mu)"
   ]
  },
  {
   "cell_type": "code",
   "execution_count": 41,
   "id": "a87b8d89",
   "metadata": {},
   "outputs": [
    {
     "name": "stdout",
     "output_type": "stream",
     "text": [
      "Valor t calculado: 4.4395\n",
      "Valor p: 0.0003\n",
      "Rejeitar H0: A média da amostra é significativamente diferente de 0\n"
     ]
    }
   ],
   "source": [
    "print(f\"Valor t calculado: {t_stat:.4f}\")\n",
    "print(f\"Valor p: {p_value:.4f}\")\n",
    "\n",
    "# Decisão sobre a hipótese nula\n",
    "alpha = 0.05\n",
    "if p_value < alpha:\n",
    "    print(\"Rejeitar H0: A média da amostra é significativamente diferente de\", mu)\n",
    "else:\n",
    "    print(\"Não rejeitar H0: A média da amostra não é significativamente diferente de\", mu)"
   ]
  },
  {
   "cell_type": "code",
   "execution_count": 42,
   "id": "2923a9ca",
   "metadata": {},
   "outputs": [
    {
     "data": {
      "image/png": "[encoded data removed]",
      "text/plain": [
       "<Figure size 1000x600 with 1 Axes>"
      ]
     },
     "metadata": {},
     "output_type": "display_data"
    }
   ],
   "source": [
    "def plot_t_student_bilateral(t_calculado, df, alpha=0.05):\n",
    "    \"\"\"\n",
    "    Plota a distribuição t de Student para um teste bilateral,\n",
    "    destacando as regiões de rejeição e o valor t calculado.\n",
    "\n",
    "    Parâmetros:\n",
    "    - t_calculado: valor t da amostra\n",
    "    - df: graus de liberdade (n - 1)\n",
    "    - alpha: nível de significância (default = 0.05)\n",
    "    \"\"\"\n",
    "\n",
    "    # Gerar valores t no intervalo\n",
    "    t_vals = np.linspace(-4, 4, 500)\n",
    "    \n",
    "    # Obter densidade de probabilidade\n",
    "    pdf = t_dist.pdf(t_vals, df)\n",
    "\n",
    "    # Valores críticos para o teste bilateral\n",
    "    t_critico = t_dist.ppf(1 - alpha/2, df)\n",
    "\n",
    "    # Plotar a curva da distribuição t\n",
    "    plt.figure(figsize=(10, 6))\n",
    "    plt.plot(t_vals, pdf, label=f\"Distribuição t (df={df})\", color=\"black\")\n",
    "\n",
    "    # Preencher regiões de rejeição (caudas)\n",
    "    plt.fill_between(t_vals, 0, pdf, where=(t_vals <= -t_critico), color='red', alpha=0.5, label=\"Região de Rejeição\")\n",
    "    plt.fill_between(t_vals, 0, pdf, where=(t_vals >= t_critico), color='red', alpha=0.5)\n",
    "\n",
    "    # Marcar valor t crítico (positivo e negativo)\n",
    "    plt.axvline(x=-t_critico, color='red', linestyle='--', label=f\"t crítico = ±{t_critico:.2f}\")\n",
    "    plt.axvline(x=t_critico, color='red', linestyle='--')\n",
    "\n",
    "    # Marcar valor t calculado\n",
    "    plt.axvline(x=t_calculado, color='blue', linestyle='-', label=f\"t calculado = {t_calculado:.2f}\")\n",
    "\n",
    "    # Configurações do gráfico\n",
    "    plt.title('Distribuição t de Student - Teste Bilateral')\n",
    "    plt.xlabel('t')\n",
    "    plt.ylabel('Densidade de Probabilidade')\n",
    "    plt.legend()\n",
    "    plt.grid(True)\n",
    "    plt.show()\n",
    "\n",
    "df = len(grupo1) - 1\n",
    "plot_t_student_bilateral(t_calculado, df)"
   ]
  },
  {
   "cell_type": "markdown",
   "id": "1e431117",
   "metadata": {},
   "source": [
    "### Tstudent Independente Manual"
   ]
  },
  {
   "cell_type": "code",
   "execution_count": 43,
   "id": "58c261ce",
   "metadata": {},
   "outputs": [],
   "source": [
    "import math\n",
    "def t_student_duas_amostras(amostra1, amostra2, alpha=0.05):\n",
    "    \"\"\"\n",
    "    Calcula o valor t para comparação de duas amostras independentes \n",
    "    assumindo variâncias iguais (teste t para duas amostras).\n",
    "\n",
    "    Parâmetros:\n",
    "    - amostra1: lista ou array com dados da primeira amostra\n",
    "    - amostra2: lista ou array com dados da segunda amostra\n",
    "    - alpha: nível de significância (default = 0.05)\n",
    "\n",
    "    Retorna:\n",
    "    - t_calculado: valor t obtido\n",
    "    - df: graus de liberdade\n",
    "    \"\"\"\n",
    "\n",
    "    # Tamanho das amostras\n",
    "    n1, n2 = len(amostra1), len(amostra2)\n",
    "\n",
    "    # Médias das amostras\n",
    "    media1 = sum(amostra1) / n1\n",
    "    media2 = sum(amostra2) / n2\n",
    "\n",
    "    # Variâncias amostrais\n",
    "    var1 = sum((x - media1)**2 for x in amostra1) / (n1 - 1)\n",
    "    var2 = sum((x - media2)**2 for x in amostra2) / (n2 - 1)\n",
    "\n",
    "    # Variância combinada (assumindo variâncias iguais)\n",
    "    sp = math.sqrt(((n1 - 1) * var1 + (n2 - 1) * var2) / (n1 + n2 - 2))\n",
    "\n",
    "    # Valor t calculado\n",
    "    t_calculado = (media1 - media2) / (sp * math.sqrt(1/n1 + 1/n2))\n",
    "\n",
    "    # Graus de liberdade\n",
    "    df = n1 + n2 - 2\n",
    "\n",
    "    return t_calculado, df"
   ]
  },
  {
   "cell_type": "code",
   "execution_count": 44,
   "id": "032aec0e",
   "metadata": {},
   "outputs": [
    {
     "name": "stdout",
     "output_type": "stream",
     "text": [
      "Valor t calculado: 2.5096\n",
      "Graus de liberdade: 38\n"
     ]
    }
   ],
   "source": [
    "t_calculado, df = t_student_duas_amostras(grupo1, grupo2)\n",
    "\n",
    "print(f\"Valor t calculado: {t_calculado:.4f}\")\n",
    "print(f\"Graus de liberdade: {df}\")"
   ]
  },
  {
   "cell_type": "markdown",
   "id": "c4a5396e",
   "metadata": {},
   "source": [
    "### Tstudent Independente pela Biblioteca"
   ]
  },
  {
   "cell_type": "code",
   "execution_count": 45,
   "id": "808923bb",
   "metadata": {},
   "outputs": [
    {
     "name": "stdout",
     "output_type": "stream",
     "text": [
      "t-Student: estatística = 2.5096, p-valor = 0.0165\n"
     ]
    }
   ],
   "source": [
    "stat, p = ttest_ind(grupo1, grupo2, equal_var=True)\n",
    "print(f\"t-Student: estatística = {stat:.4f}, p-valor = {p:.4f}\")"
   ]
  },
  {
   "cell_type": "code",
   "execution_count": 46,
   "id": "e793f00b",
   "metadata": {},
   "outputs": [
    {
     "name": "stdout",
     "output_type": "stream",
     "text": [
      "As médias são significativamente iguais (não rejeita H0)\n"
     ]
    }
   ],
   "source": [
    "if p <= 0.05:\n",
    "    print(\"As médias são diferentes (rejeita H0)\")\n",
    "else:  \n",
    "    print(\"As médias são significativamente iguais (não rejeita H0)\")"
   ]
  },
  {
   "cell_type": "code",
   "execution_count": 47,
   "id": "72738112",
   "metadata": {},
   "outputs": [
    {
     "data": {
      "image/png": "[encoded data removed]",
      "text/plain": [
       "<Figure size 640x480 with 1 Axes>"
      ]
     },
     "metadata": {},
     "output_type": "display_data"
    }
   ],
   "source": [
    "sns.boxplot(data=[grupo1, grupo2])\n",
    "plt.xticks([0, 1], ['Grupo 1', 'Grupo 2'])\n",
    "plt.title('Boxplot dos Grupos')\n",
    "plt.ylabel('Valores')\n",
    "plt.show()"
   ]
  },
  {
   "cell_type": "markdown",
   "id": "c9f16f06",
   "metadata": {},
   "source": [
    "### Tstudent Emparelhado"
   ]
  },
  {
   "cell_type": "code",
   "execution_count": 48,
   "id": "da8b70c8",
   "metadata": {},
   "outputs": [],
   "source": [
    "grupo1 = random.choice([\n",
    "    np.random.normal(0, 1, 20),\n",
    "    np.random.exponential(1, 20),\n",
    "    np.random.uniform(-2, 2, 20),\n",
    "    np.concatenate([np.random.normal(0, 1, 10), np.random.uniform(10, 20, 10)])  \n",
    "])\n",
    "\n",
    "# Simulando uma mudança no grupo (grupo2) para amostras pareadas\n",
    "grupo2 = grupo1 + np.random.normal(0, 0.5, 20)"
   ]
  },
  {
   "cell_type": "code",
   "execution_count": null,
   "id": "a841fa7c",
   "metadata": {},
   "outputs": [],
   "source": [
    "def t_student_amostras_emparelhadas(grupo1, grupo2, alpha=0.05):\n",
    "    \"\"\"\n",
    "    Realiza o teste t de Student para amostras emparelhadas, comparando as médias das diferenças.\n",
    "\n",
    "    Parâmetros:\n",
    "    - grupo1: lista ou array com os dados da primeira amostra\n",
    "    - grupo2: lista ou array com os dados da segunda amostra\n",
    "    - alpha: nível de significância (default = 0.05)\n",
    "\n",
    "    Retorna:\n",
    "    - t_calculado: valor t obtido\n",
    "    - p_valor: valor p para o teste\n",
    "    - rejeitar_H0: booleano indicando se H0 é rejeitada\n",
    "    \"\"\"\n",
    "    \n",
    "    # Calcular as diferenças (d = grupo1 - grupo2)\n",
    "    diferencas = np.array(grupo1) - np.array(grupo2)\n",
    "\n",
    "    # Calcular a média das diferenças (d_bar)\n",
    "    media_diferencas = np.mean(diferencas)\n",
    "\n",
    "    # Calcular o desvio padrão das diferenças (s_d) - amostral\n",
    "    desvio_diferencas = np.std(diferencas, ddof=1)\n",
    "\n",
    "    # Número de pares\n",
    "    n = len(diferencas)\n",
    "\n",
    "    # Calcular o valor t\n",
    "    t_calculado = media_diferencas / (desvio_diferencas / np.sqrt(n))\n",
    "\n",
    "    # Calcular os graus de liberdade (df)\n",
    "    df = n - 1\n",
    "\n",
    "    # Calcular o p-valor (teste bilateral)\n",
    "    p_valor = 2 * (1 - t_dist.cdf(abs(t_calculado), df))\n",
    "\n",
    "    # Determinar se devemos rejeitar H0\n",
    "    rejeitar_H0 = p_valor < alpha\n",
    "\n",
    "    return t_calculado, p_valor, rejeitar_H0\n"
   ]
  },
  {
   "cell_type": "code",
   "execution_count": 50,
   "id": "dcea1490",
   "metadata": {},
   "outputs": [
    {
     "name": "stdout",
     "output_type": "stream",
     "text": [
      "Valor t calculado: 1.2777\n",
      "p-valor: 0.2167\n",
      "Rejeitar H0? Não\n",
      "Valor t calculado: 1.2777\n",
      "p-valor: 0.2167\n",
      "Rejeitar H0? Não\n"
     ]
    }
   ],
   "source": [
    "t_calculado, p_valor, rejeitar_H0 = t_student_amostras_emparelhadas(grupo1, grupo2)\n",
    "print(f\"Valor t calculado: {t_calculado:.4f}\")\n",
    "print(f\"p-valor: {p_valor:.4f}\")\n",
    "print(f\"Rejeitar H0? {'Sim' if rejeitar_H0 else 'Não'}\")"
   ]
  },
  {
   "cell_type": "markdown",
   "id": "46e6e8fc",
   "metadata": {},
   "source": [
    "### Tsudent Emparelhado Pela Biblioteca"
   ]
  },
  {
   "cell_type": "code",
   "execution_count": 51,
   "id": "84b87893",
   "metadata": {},
   "outputs": [
    {
     "name": "stdout",
     "output_type": "stream",
     "text": [
      "Estatística t: 1.2777\n",
      "P-valor: 0.2167\n"
     ]
    }
   ],
   "source": [
    "t_stat, p_value = stats.ttest_rel(grupo1, grupo2)\n",
    "print(f\"Estatística t: {t_stat:.4f}\")\n",
    "print(f\"P-valor: {p_value:.4f}\")"
   ]
  },
  {
   "cell_type": "code",
   "execution_count": 52,
   "id": "e278efba",
   "metadata": {},
   "outputs": [
    {
     "name": "stdout",
     "output_type": "stream",
     "text": [
      "Não rejeitamos H0: As médias dos dois grupos pareados são significadamente iguais.\n"
     ]
    }
   ],
   "source": [
    "if p_value < 0.05:\n",
    "    print(\"Rejeitamos H0: As médias dos dois grupos pareados são diferentes.\")\n",
    "else:\n",
    "    print(\"Não rejeitamos H0: As médias dos dois grupos pareados são significadamente iguais.\")"
   ]
  },
  {
   "cell_type": "code",
   "execution_count": 53,
   "id": "004c788a",
   "metadata": {},
   "outputs": [
    {
     "data": {
      "image/png": "[encoded data removed]",
      "text/plain": [
       "<Figure size 640x480 with 1 Axes>"
      ]
     },
     "metadata": {},
     "output_type": "display_data"
    }
   ],
   "source": [
    "sns.boxplot(data=[grupo1, grupo2])\n",
    "plt.xticks([0, 1], ['Grupo 1', 'Grupo 2'])\n",
    "plt.title('Boxplot dos Grupos')\n",
    "plt.ylabel('Valores')\n",
    "plt.show()"
   ]
  },
  {
   "cell_type": "markdown",
   "id": "24b6bbf0",
   "metadata": {},
   "source": [
    "### Testes de Homogeneidade de variâncias"
   ]
  },
  {
   "cell_type": "markdown",
   "id": "f0d97ade",
   "metadata": {},
   "source": [
    "Então iremos avaliar o p_valor:\n",
    "\n",
    "- p > 0.05 → as variâncias são provavelmente iguais\n",
    "\n",
    "- p ≤ 0.05 → as variâncias são provavelmente diferentes"
   ]
  },
  {
   "cell_type": "markdown",
   "id": "87f69916",
   "metadata": {},
   "source": [
    "### Teste Bartlett"
   ]
  },
  {
   "cell_type": "markdown",
   "id": "97f73d84",
   "metadata": {},
   "source": [
    "Teste Bartlett Manual"
   ]
  },
  {
   "cell_type": "code",
   "execution_count": 54,
   "id": "0bd4f491",
   "metadata": {},
   "outputs": [],
   "source": [
    "def bartlett_duas_amostras(amostra1, amostra2):\n",
    "    \"\"\"\n",
    "    Realiza o teste de Bartlett para comparar as variâncias de duas amostras,\n",
    "    verificando se elas vêm de populações com variâncias homogêneas.\n",
    "\n",
    "    Parâmetros:\n",
    "    - amostra1: lista ou array com os dados da primeira amostra\n",
    "    - amostra2: lista ou array com os dados da segunda amostra\n",
    "\n",
    "    Retorna:\n",
    "    - estatistica: valor da estatística do teste de Bartlett\n",
    "    - p_valor: valor p para o teste\n",
    "    \"\"\"\n",
    "    \n",
    "    # Número de observações em cada amostra\n",
    "    n1, n2 = len(amostra1), len(amostra2)\n",
    "\n",
    "    # Média das amostras\n",
    "    media1 = sum(amostra1) / n1\n",
    "    media2 = sum(amostra2) / n2\n",
    "\n",
    "    # Variância das amostras (usando fórmula amostral)\n",
    "    var1 = sum((x - media1)**2 for x in amostra1) / (n1 - 1)\n",
    "    var2 = sum((x - media2)**2 for x in amostra2) / (n2 - 1)\n",
    "\n",
    "    # Variância combinada\n",
    "    sp = ((n1 - 1)*var1 + (n2 - 1)*var2) / (n1 + n2 - 2)\n",
    "\n",
    "    # Estatística A (baseada nas variâncias)\n",
    "    A = (n1 + n2 - 2) * math.log(sp) - (n1 - 1) * math.log(var1) - (n2 - 1) * math.log(var2)\n",
    "\n",
    "    # Estatística B, que leva em consideração o número de observações\n",
    "    B = 1 + (1 / (3 * (2 - 1))) * (1 / (n1 - 1) + 1 / (n2 - 1) - 1 / (n1 + n2 - 2))\n",
    "\n",
    "    # Estatística do teste de Bartlett\n",
    "    estatistica = A / B\n",
    "\n",
    "    # Calcular o p-valor usando a distribuição qui-quadrado (chi2) com 1 grau de liberdade\n",
    "    p_valor = 1 - stats.chi2.cdf(estatistica, df=1)\n",
    "\n",
    "    return estatistica, p_valor\n"
   ]
  },
  {
   "cell_type": "code",
   "execution_count": 55,
   "id": "9b351124",
   "metadata": {},
   "outputs": [
    {
     "name": "stdout",
     "output_type": "stream",
     "text": [
      "Estatística do teste de Bartlett: 0.0008\n",
      "P-valor: 0.9769\n"
     ]
    }
   ],
   "source": [
    "estatistica, p_valor = bartlett_duas_amostras(grupo1, grupo2)\n",
    "\n",
    "# Exibir os resultados\n",
    "print(f\"Estatística do teste de Bartlett: {estatistica:.4f}\")\n",
    "print(f\"P-valor: {p_valor:.4f}\")"
   ]
  },
  {
   "cell_type": "markdown",
   "id": "8c57064c",
   "metadata": {},
   "source": [
    "### Teste Barlett pela Biblioteca"
   ]
  },
  {
   "cell_type": "code",
   "execution_count": 56,
   "id": "3f3dc168",
   "metadata": {},
   "outputs": [
    {
     "name": "stdout",
     "output_type": "stream",
     "text": [
      "Bartlett: estatística = 0.0008, p-valor = 0.9769\n"
     ]
    }
   ],
   "source": [
    "stat, p = bartlett(grupo1, grupo2)\n",
    "print(f\"Bartlett: estatística = {stat:.4f}, p-valor = {p:.4f}\")"
   ]
  },
  {
   "cell_type": "code",
   "execution_count": 57,
   "id": "4747d829",
   "metadata": {},
   "outputs": [
    {
     "name": "stdout",
     "output_type": "stream",
     "text": [
      "Variancia grupo1: 69.07391184557532\n",
      "Variancia grupo2: 70.01112259882588\n"
     ]
    }
   ],
   "source": [
    "print(\"Variancia grupo1:\", np.var(grupo1, ddof=1))\n",
    "print(\"Variancia grupo2:\", np.var(grupo2, ddof=1))"
   ]
  },
  {
   "cell_type": "code",
   "execution_count": 58,
   "id": "409c078e",
   "metadata": {},
   "outputs": [
    {
     "name": "stdout",
     "output_type": "stream",
     "text": [
      "Todas as variâncias são significamente iguais (não rejeita H0)\n"
     ]
    }
   ],
   "source": [
    "if p <= 0.05:\n",
    "    print(\"Uma ou mais variâncias são diferentes (rejeita H0)\")\n",
    "else:\n",
    "    print(\"Todas as variâncias são significamente iguais (não rejeita H0)\")"
   ]
  },
  {
   "cell_type": "code",
   "execution_count": 59,
   "id": "05891e4f",
   "metadata": {},
   "outputs": [
    {
     "data": {
      "image/png": "[encoded data removed]",
      "text/plain": [
       "<Figure size 640x480 with 1 Axes>"
      ]
     },
     "metadata": {},
     "output_type": "display_data"
    }
   ],
   "source": [
    "sns.boxplot(data=[grupo1, grupo2])\n",
    "plt.xticks([0, 1], ['Grupo 1', 'Grupo 2'])\n",
    "plt.title('Boxplot dos Grupos')\n",
    "plt.ylabel('Valores')\n",
    "plt.show()"
   ]
  }
 ],
 "metadata": {
  "kernelspec": {
   "display_name": "Python 3",
   "language": "python",
   "name": "python3"
  },
  "language_info": {
   "codemirror_mode": {
    "name": "ipython",
    "version": 3
   },
   "file_extension": ".py",
   "mimetype": "text/x-python",
   "name": "python",
   "nbconvert_exporter": "python",
   "pygments_lexer": "ipython3",
   "version": "3.12.10"
  }
 },
 "nbformat": 4,
 "nbformat_minor": 5
}
