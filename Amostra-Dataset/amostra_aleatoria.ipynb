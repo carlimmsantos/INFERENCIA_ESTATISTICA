{
 "cells": [
  {
   "cell_type": "markdown",
   "id": "02777d58",
   "metadata": {},
   "source": [
    "# Projeto Final - Inferência Estatística"
   ]
  },
  {
   "cell_type": "markdown",
   "id": "490fe8a9",
   "metadata": {},
   "source": [
    "##### Implementação dos Testes de Normalidade, Média Populacional e Homogenidade"
   ]
  },
  {
   "cell_type": "markdown",
   "id": "58d0c2cb",
   "metadata": {},
   "source": [
    "**Discentes:**\n",
    "- Carlos Freitas Santos (20230014111)\n",
    "- Pedro Santana Raposo (20230014050)\n",
    "- Wesley Henrique da Silva Vieira (20230014390)\n",
    "\n",
    "**Docente:**\n",
    "- Roberto Quirino"
   ]
  },
  {
   "cell_type": "markdown",
   "id": "052858a1",
   "metadata": {},
   "source": [
    "Importando Bibliotecas"
   ]
  },
  {
   "cell_type": "code",
   "execution_count": 1,
   "id": "f22bd3dd",
   "metadata": {},
   "outputs": [],
   "source": [
    "import numpy as np, random # bibliotecas para manipulação de dados e geração de números aleatórios\n",
    "#import pingouin as pg # biblioteca pingouin para análise estatística\n",
    "import pandas as pd # biblioteca pandas para manipulação de dados\n",
    "from scipy.stats import shapiro # teste de normalidade de Shapiro-Wilk\n",
    "from scipy.stats import kstest # teste de Kolmogorov-Smirnov\n",
    "import scipy.stats as stats # biblioteca scipy para funções estatísticas\n",
    "from scipy.stats import ttest_ind # teste t de Student para amostras independentes\n",
    "from scipy.stats import bartlett # teste de Bartlett para homogeneidade de variâncias\n",
    "import matplotlib.pyplot as plt # biblioteca matplotlib para visualização de dados\n",
    "import seaborn as sns # biblioteca seaborn para visualização de dados\n",
    "from scipy.stats import norm # distribuição normal\n",
    "from scipy.stats import t as t_dist # distribuição t de Student"
   ]
  },
  {
   "cell_type": "markdown",
   "id": "fb331cb2",
   "metadata": {},
   "source": [
    "### Função para gerar Amostra Aleatória"
   ]
  },
  {
   "cell_type": "code",
   "execution_count": 2,
   "id": "dd5f0803",
   "metadata": {},
   "outputs": [],
   "source": [
    "def gerar_amostra(tamanho=100):\n",
    "    \"\"\"\n",
    "    Gera uma amostra de tamanho especificado a partir de distribuições variadas.\n",
    "    \n",
    "    Parâmetros:\n",
    "    - tamanho: número de elementos desejados (máximo 500)\n",
    "    \n",
    "    Retorna:\n",
    "    - np.ndarray com os dados amostrados\n",
    "    \"\"\"\n",
    "    if tamanho > 5000 or tamanho <= 0:\n",
    "        raise ValueError(\"Tamanho deve estar entre 1 e 5000.\")\n",
    "    \n",
    "    base = random.choice([\n",
    "        np.random.normal(0, 1, 5000),\n",
    "        np.random.exponential(1, 5000),\n",
    "        np.random.uniform(-2, 2, 5000),\n",
    "        np.concatenate([np.random.normal(0, 1, 950), np.random.uniform(10, 20, 50)])\n",
    "    ])\n",
    "    \n",
    "    return base[:tamanho]"
   ]
  },
  {
   "cell_type": "code",
   "execution_count": 3,
   "id": "be35d038",
   "metadata": {},
   "outputs": [
    {
     "name": "stdout",
     "output_type": "stream",
     "text": [
      "Amostras geradas com sucesso!\n",
      "\n",
      "Amostra de 15 elementos: [-1.48236629 -0.40849064  0.60906032  1.34467817  0.54944916 -0.29043455\n",
      " -0.43509342 -0.09292942  1.12256036  0.30122178  1.1561825   0.39504765\n",
      " -0.73060136 -1.32288683  1.07860971]\n",
      "\n",
      "Amostra de 30 elementos: [ 0.20328788  0.18560235  1.11676528  0.79341127 -0.46259304  1.17303669\n",
      " -0.4272212  -1.01416049 -1.29519028  0.6675412  -1.23281946  1.16536269\n",
      " -0.02565984 -0.46798562  0.51752252  0.06922551  0.94503239 -0.1203471\n",
      " -1.24619588 -0.1688917  -0.18322571  0.56221351 -1.51043497  0.88016251\n",
      " -1.73603822 -0.37360964 -1.93753198 -0.59898662 -0.05319786  1.0879656 ]\n",
      "\n",
      "Amostra de 50 elementos: [-1.04205952 -1.77958559  0.75791854 -0.34235571  0.13515243 -0.35806247\n",
      "  0.23485876 -0.84986442 -0.65854862 -0.35458511  0.26636821  0.89693665\n",
      "  0.05844239 -0.48605829  1.94762357  0.51921218  0.23758422  2.09829092\n",
      "  0.25535772  0.30903305 -1.51914756 -0.07989221 -0.0189934  -0.26573735\n",
      " -0.30807198 -0.41788457 -0.63608394  1.58390993  0.7057693   0.14927262\n",
      "  1.06484203 -0.51757215 -1.13693515 -0.78942718  0.27683862  0.02069604\n",
      "  0.03003234 -0.16365734 -1.21812937 -0.58503997  0.69245417  0.58599229\n",
      "  0.18043226  2.04333457  0.08826646  0.52698245 -2.08405374  1.15283225\n",
      "  0.29110144  0.84207106]\n",
      "\n",
      "Amostra de 100 elementos: [4.59056028e-01 7.30738498e-01 3.28566382e-01 1.57177511e+00\n",
      " 1.23688498e-01 2.52604226e+00 1.37440439e+00 7.26297594e-01\n",
      " 4.28188036e-01 3.77815050e+00 6.66502490e-01 2.42906694e-01\n",
      " 1.17529667e+00 1.13483718e-01 9.68955466e-02 1.19027261e-01\n",
      " 7.11933169e+00 7.03969668e-02 7.34346062e-02 3.59770492e+00\n",
      " 1.17130501e+00 4.84024120e-01 8.94009209e-01 2.17153504e-01\n",
      " 5.06293438e-01 7.40194684e-01 2.63925177e+00 2.51879667e-01\n",
      " 8.83550324e-01 5.35015694e-01 1.06676092e+00 1.42251615e+00\n",
      " 6.47836157e-01 1.58847006e+00 4.05834485e+00 4.32630972e-01\n",
      " 1.55893104e+00 5.25016036e-01 8.01909552e-02 2.19897608e+00\n",
      " 1.28054275e-01 2.72863825e+00 2.01030556e+00 1.19228938e+00\n",
      " 5.97081045e-01 1.07738514e+00 1.90768070e-01 2.30900646e-01\n",
      " 2.53550215e+00 2.25942465e+00 6.72708761e-02 2.32983000e-01\n",
      " 1.65508276e+00 1.68225823e+00 1.67956059e+00 6.38278768e-01\n",
      " 6.58923430e-01 9.94217514e-02 3.02717516e+00 6.44152195e-01\n",
      " 9.80907190e-01 3.40813875e-01 1.86463815e+00 4.47921640e-01\n",
      " 1.42153537e-01 1.64114393e+00 1.71771491e+00 1.60010917e+00\n",
      " 3.47979784e-01 4.73019882e-03 2.21143107e+00 9.63989815e-02\n",
      " 3.05064660e-01 1.71740510e-01 3.43647027e-01 4.16551487e+00\n",
      " 1.37479883e+00 9.07213129e-01 5.91255122e-01 2.48040790e+00\n",
      " 1.17940178e+00 1.97725267e+00 3.10292855e-01 1.02991674e+00\n",
      " 9.00039240e-01 8.06184771e-01 6.09048480e-01 2.86333980e+00\n",
      " 1.96187217e-01 1.57563135e-01 2.74370714e-01 5.93422081e-01\n",
      " 3.39970068e-01 9.43247865e-01 1.38394201e-01 6.13311512e-01\n",
      " 5.75314300e-01 3.68451015e-01 1.55121696e-01 2.91622920e-01]\n",
      "\n",
      "Amostra de 200 elementos: [-3.17912818e-01  9.22307206e-01  8.41941987e-02 -1.49515130e+00\n",
      "  1.12815169e+00  8.77556887e-01  1.91423057e+00  1.85811204e+00\n",
      " -1.49422670e+00  1.61046103e+00 -1.79789966e+00  6.45320473e-01\n",
      " -1.94990995e+00 -3.61069931e-02  3.46913185e-01  6.00636590e-01\n",
      " -1.30543043e-01 -1.10604238e-01 -1.84110326e-01  8.92719730e-01\n",
      "  2.19114261e+00 -1.18919300e+00  2.61054173e-01  1.55976381e+00\n",
      " -1.50742237e+00 -2.75834390e-01  1.52175278e+00 -4.57184041e-01\n",
      "  1.32134310e+00 -8.03899904e-01  5.18311227e-01  1.05932855e+00\n",
      " -8.36506711e-01  4.13832786e-03 -1.73754466e+00 -1.00403432e+00\n",
      " -1.30919558e-02  4.32036462e-01  3.98323203e-01  1.04865650e+00\n",
      " -3.24301608e-01  4.12433907e-01 -8.92145678e-01  6.43487516e-01\n",
      " -8.32397138e-01 -3.21889102e-02 -1.52084184e+00  4.56755834e-01\n",
      " -7.14046085e-01  3.17204286e-01  9.87676288e-01  1.79098009e-01\n",
      " -4.33698342e-01 -8.36048475e-01 -2.63266756e-01  1.21817630e-01\n",
      "  1.01166849e+00 -1.12563426e+00 -1.59283497e+00  2.39754954e-01\n",
      "  1.09921722e+00  7.58920524e-01  4.04376160e-01 -6.27081421e-01\n",
      "  1.55144296e+00 -7.83389929e-02  1.20521338e+00 -2.46267054e-01\n",
      "  6.60245882e-01 -1.01460462e+00  4.55486131e-01  7.56419801e-01\n",
      "  7.54611220e-01  6.86645095e-01 -7.21163543e-02 -2.66886536e-02\n",
      " -2.36563302e-01  1.17749043e+00  8.38955457e-03 -6.29313044e-01\n",
      " -2.33829010e+00 -6.01005231e-01  4.99872002e-01 -4.09739316e-01\n",
      "  1.71632074e+00 -2.04283836e+00 -1.19715258e+00  9.33848392e-01\n",
      " -7.19148669e-01  1.67260794e+00 -9.72284630e-02  1.62825576e+00\n",
      " -1.52606756e+00 -1.71584267e-02 -5.43307432e-02  2.68969732e-01\n",
      "  2.04119603e+00  1.55047288e+00  1.54336294e+00 -3.73590276e-01\n",
      " -1.54141328e+00  2.35491044e-01  2.04883324e-01 -8.14993092e-01\n",
      "  6.72680655e-02 -2.61979790e-01 -1.50613107e+00  1.51451678e+00\n",
      " -4.67234381e-01 -1.36600354e+00  9.85249733e-01 -4.20230782e-01\n",
      "  9.02711992e-01 -1.41846206e+00 -8.37892557e-01  2.37620408e+00\n",
      " -6.23724748e-01  6.22459291e-01  4.86453329e-01  2.76966105e+00\n",
      "  1.64916749e+00  2.83469628e-02  8.37882410e-01  1.37760102e+00\n",
      " -5.23943828e-01  6.95673661e-01 -2.32320450e-01  1.97126254e+00\n",
      "  4.66727132e-01 -1.77907137e+00 -7.02541097e-01 -9.82766192e-02\n",
      "  3.47844279e-01  1.13211549e+00  1.80146048e-01 -1.45868528e+00\n",
      " -2.63228066e-02  4.06812906e-01  2.54726943e+00  1.09868947e+00\n",
      "  2.24589048e+00  1.07647165e+00 -1.09057729e+00 -5.68965674e-01\n",
      "  1.56537036e+00 -3.33075841e+00 -2.47937757e-03 -1.20719954e+00\n",
      "  1.73393218e+00  2.45211992e-01 -4.47954091e-01  6.63420223e-01\n",
      " -6.15450746e-01  3.75916335e-01 -3.92651329e-01  6.11308854e-01\n",
      "  8.15868230e-01  7.22966004e-01 -3.94015434e-01 -1.61332739e+00\n",
      " -3.28565742e-01 -2.47716526e-01  1.75167866e+00  1.62331286e+00\n",
      " -1.09579687e+00  1.35603209e+00  3.70561189e-01 -6.75130648e-01\n",
      " -3.63396908e-01 -1.77560468e-01 -1.72955245e+00  6.25078796e-01\n",
      " -3.90292471e-02  2.45736752e-01 -3.63067646e-01 -4.15629398e-01\n",
      "  4.66181943e-01 -6.51810179e-01  2.67109063e+00  1.60595668e+00\n",
      " -1.05692918e+00 -1.47245398e+00 -4.84767320e-02 -1.72676472e+00\n",
      " -2.09330048e-01  2.61505971e-01 -1.60207165e-01 -5.59616754e-01\n",
      "  1.12010003e+00 -1.05266254e+00 -3.82901565e-01  1.01837765e+00\n",
      " -2.69116385e-02 -2.26302236e-01 -9.82879477e-01  3.83973949e-02\n",
      "  1.59090220e-01  8.35851897e-01  7.19616987e-01  8.48891710e-01]\n",
      "\n",
      "Amostra de 500 elementos: [ 1.6896495  -0.57659731 -0.10469094  0.99683307  0.32446896 -0.53143251\n",
      "  1.26435334 -1.52292379 -0.21556502 -2.1669825   0.45250722 -0.50784082\n",
      "  1.54101599  0.02492019  0.8172783  -0.86302188  0.19246628 -0.19067065\n",
      "  0.17954085 -0.2894271   0.4264333   1.51099169 -1.6312532   0.63137963\n",
      " -1.35021794  0.7260109  -0.34655023 -0.18980877  1.13332205 -0.66343785\n",
      "  1.27994468  0.47293653 -0.26239634 -0.47468072  0.9475405  -0.80395346\n",
      " -0.01441464 -0.44892654 -0.52296277  1.71930249  1.93472941  0.50545928\n",
      " -0.42784115  0.44301245 -0.0366078   0.4551943   0.66242012  2.09405473\n",
      " -0.51771381  0.69637498  0.13005742 -0.9392603  -0.44270181 -0.6218827\n",
      "  0.2610559  -1.06970897  0.34518913  1.89970401  1.33890811 -0.47246568\n",
      " -0.29519407  1.73953617  0.12635242  0.91231458 -0.4819765   0.13329182\n",
      "  0.46005431 -1.63350923 -0.06182364 -0.42036314 -2.6587221  -0.07177532\n",
      "  2.09917823 -1.71611151  1.3328682   1.21498889  0.01658604  1.11429737\n",
      " -0.35997925 -0.53763606  0.52192187  0.99660085  0.77603469  1.06952077\n",
      "  0.44517442  0.31681174 -1.27211232  0.84431144 -0.60688798  0.15996248\n",
      " -1.14403029 -0.6942746  -1.56325783  1.31960138 -0.03170337 -0.12546343\n",
      "  0.47327143  0.2042999   1.4434067  -0.40269914  0.09916492 -1.35946615\n",
      "  0.25540609 -0.29335603 -0.7840372   0.63924752 -1.3874443   0.11444504\n",
      "  1.06679024 -1.31402069 -0.18752511 -0.14314273 -2.02837788  0.49406868\n",
      " -0.60447091  0.20681268  0.56862248 -1.0753681  -0.37094215  2.48489315\n",
      " -1.54300947  0.46904555  2.18700351  0.0143777   1.05614214 -1.72908828\n",
      "  0.04949581  0.4679233  -1.63784236 -0.25255665  1.14533127  2.14066121\n",
      " -0.82019832 -0.50867116 -0.00774939  0.46073553  2.86422627  0.78526415\n",
      "  2.40475383 -0.32477813 -0.24107958 -2.80023483 -0.75419153 -0.63874014\n",
      "  0.74441859 -0.7595752  -0.27305972  1.98492901 -0.78178566  1.25748277\n",
      " -1.34311932 -0.53976804  0.65748608 -0.35248698  0.46824467 -0.34656894\n",
      "  0.02581723 -0.34900899 -0.81213084 -0.55313049 -0.30632452  1.23788797\n",
      " -0.39922453 -1.93140879 -1.34169693  0.10150143 -0.23655318 -1.8265858\n",
      "  2.60616206  0.37375713  0.17344825 -0.86546278 -1.69557657 -1.29450965\n",
      " -1.03880308 -1.51427718 -1.15139844  1.50214706 -1.0760723  -0.89451273\n",
      " -2.07739067 -0.3304767   0.14332497  0.97379622  0.23249043  1.19646185\n",
      "  0.62648312 -1.26937485  0.46568975 -1.52600471 -0.58174914 -0.58480713\n",
      "  0.22319327  1.67396475  0.21002481 -0.54341169 -1.03590032  0.44121489\n",
      " -1.36501757  0.42843813 -1.43288175 -0.44457254 -0.02491074  0.26196413\n",
      "  1.45759672 -0.59344552  0.69352993  2.14014812  0.37618291  0.0334544\n",
      " -0.79607175  2.01720351  0.47475455 -0.51864567 -0.49849493  0.93452198\n",
      " -0.52673518 -3.24490075  0.51907786  1.60105491 -0.56372715 -1.28164397\n",
      " -0.71777593  1.06026278 -0.86496098 -0.05994052 -1.55670785  0.01435461\n",
      "  0.19765613 -0.32248551  0.79331807  1.42275821  0.27213491 -0.05039373\n",
      " -0.50988398 -0.46350096 -0.11721146 -1.58307005 -0.02077804  0.4047356\n",
      " -0.49996871  0.71805186  0.96833913  0.37418362  0.14942817  0.40652033\n",
      "  0.67963178 -0.20283661  1.33269937 -0.6195549   0.53241064 -0.47496374\n",
      " -0.05909456 -0.07223288  0.99716375 -0.51870362 -0.49914282 -0.40059083\n",
      "  1.40847067 -0.00388175  0.13899197 -1.11099003  0.71448914 -0.34649516\n",
      " -0.93534901  0.53700861 -0.04151174 -1.23850437  0.3993902   1.142663\n",
      "  2.02736323 -0.27519308 -0.58845146 -0.06265351 -0.09541243  1.20396678\n",
      "  1.54967276  0.49601408 -0.95000875  1.36174909  0.18928183  0.60841293\n",
      "  1.42122961  0.13012604  0.17063398 -0.36992174 -0.66398536  0.34779437\n",
      " -0.80725617  0.02791635 -0.64396614  1.36201892  0.55960884 -0.38194549\n",
      " -1.06413957  0.34362757 -0.19588667  0.48300389 -1.23938179 -0.97324764\n",
      "  0.39223881  1.45115531  0.36535715 -1.53915805 -0.57538046 -1.23734704\n",
      "  1.45730834  1.6915668   0.97728263 -0.33046293  0.64239142 -0.45972365\n",
      " -0.8295899  -0.44428256 -0.54304824 -0.49986438 -0.76784017  1.40819745\n",
      " -0.43153435 -0.87151523 -0.57862144 -0.25727426  0.33930733  0.11612499\n",
      " -1.18085432 -1.20830623 -0.38753332 -0.60960576  2.9554979   0.29184406\n",
      "  0.54638824  0.36593261  1.45800547  0.87404459  0.28519905  2.41926607\n",
      " -0.71445888 -0.25306337 -0.36085925  2.09059135  1.85963512 -0.82131679\n",
      " -0.10089471  0.13984371 -2.06909665 -0.39071735 -0.66456917 -0.85601542\n",
      "  0.98088759  1.90003237  1.96631797 -1.45244067 -0.72171213  0.31958186\n",
      "  0.07888214 -0.83976647  0.17240667  0.48230082  0.20537256 -0.54441631\n",
      " -0.9450737   0.18201246 -0.41079391  2.26252211  0.32153441 -2.47869335\n",
      "  0.59958014  1.56157709  0.68762572  0.37049036 -0.37151293  1.05577479\n",
      "  0.61482957  0.61208389  0.95543412  1.74790536 -1.45908586  0.42205967\n",
      " -0.0359815  -0.46682981  0.03029728 -0.13167607  0.94323365  0.83233978\n",
      "  1.67453879  0.12293927  1.01518624 -0.27589513  2.68328205 -0.13359948\n",
      " -1.50675014  1.64484692  0.08703481 -2.07968788 -0.25227459 -0.72922248\n",
      " -0.93991054  1.57064279 -0.38063193  0.29882866 -0.20282212  1.73645171\n",
      " -1.41891171  1.41983595 -0.45050745  1.03665407 -0.08390147 -0.82360408\n",
      " -0.03967112 -0.73835992 -1.39518151 -0.11678645 -1.04658902  1.31852082\n",
      " -0.08591433  1.49565862  0.24035938 -1.93723102  0.47329623 -0.46758568\n",
      "  0.69657798 -1.41762988 -0.38626856 -0.84600331 -0.10149401  0.21248178\n",
      "  0.1381373  -0.69468977 -0.14598985 -1.11421359 -0.53394349 -0.2541019\n",
      "  0.13535479 -0.23848976  1.17307946 -0.04731261  1.27153894  0.59769492\n",
      "  0.31152678 -2.57439819 -0.05031404  0.27405244  0.23681762  1.28594195\n",
      "  2.0660512   1.7592356  -1.43279212 -2.05856379  1.38686417 -0.95362899\n",
      " -0.57626949  0.74314977  0.26986289 -0.96654402 -0.39156196 -0.08028863\n",
      "  0.61824288  0.55498327  0.12253265  0.68449971  0.44445495  0.6175432\n",
      "  1.82290645  1.43843341 -1.03711116  2.18630279  2.01919349 -0.37373145\n",
      "  0.08378175 -0.18762605  1.07906973 -2.12789915  0.27796091 -0.37776248\n",
      "  0.55712561  0.18747758  0.67316018 -0.23398289  1.122781   -0.92999733\n",
      " -1.51333432  0.55648476 -0.04082336  0.19345846 -1.50551045 -0.07167786\n",
      " -0.07480637 -1.36676241  0.65098001  0.14848559 -0.17217982 -0.65032394\n",
      "  2.2725514  -0.73449627  1.86157134  0.44380945  0.49037394  0.09158008\n",
      " -0.4655176  -0.13808544]\n"
     ]
    }
   ],
   "source": [
    "amostra15 = gerar_amostra(15) # gera uma amostra de 15 elementos\n",
    "amostra30 = gerar_amostra(30) # gera uma amostra de 30 elementos\n",
    "amostra50 = gerar_amostra(50) # gera uma amostra de 50 elementos\n",
    "amostra100 = gerar_amostra(100) # gera uma amostra de 100 elementos\n",
    "amostra200 = gerar_amostra(200) # gera uma amostra de 200 elementos\n",
    "amostra500 = gerar_amostra(500) # gera uma amostra de 500 elementos\n",
    "\n",
    "print(\"Amostras geradas com sucesso!\")\n",
    "print(\"\\nAmostra de 15 elementos:\", amostra15)\n",
    "print(\"\\nAmostra de 30 elementos:\", amostra30)\n",
    "print(\"\\nAmostra de 50 elementos:\", amostra50)\n",
    "print(\"\\nAmostra de 100 elementos:\", amostra100)\n",
    "print(\"\\nAmostra de 200 elementos:\", amostra200)\n",
    "print(\"\\nAmostra de 500 elementos:\", amostra500)"
   ]
  },
  {
   "cell_type": "markdown",
   "id": "e51df3ff",
   "metadata": {},
   "source": [
    "### Função para calcular a procentagem de acerto"
   ]
  },
  {
   "cell_type": "code",
   "execution_count": 4,
   "id": "dd9c4f15",
   "metadata": {},
   "outputs": [],
   "source": [
    "def calcular_percentual_acerto(resultado_manual, resultado_biblioteca):\n",
    "    \"\"\"\n",
    "    Calcula a porcentagem de acerto entre os resultados do método manual e da biblioteca.\n",
    "\n",
    "    Parâmetros:\n",
    "    - resultado_manual: valor obtido pelo método manual\n",
    "    - resultado_biblioteca: valor obtido pela biblioteca\n",
    "\n",
    "    Retorna:\n",
    "    - percentual_acerto: porcentagem de acerto entre os dois métodos\n",
    "    \"\"\"\n",
    "    percentual_acerto = (1 - abs(resultado_manual - resultado_biblioteca) / abs(resultado_biblioteca)) * 100\n",
    "    return percentual_acerto"
   ]
  },
  {
   "cell_type": "markdown",
   "id": "d47ad023",
   "metadata": {},
   "source": [
    "### Testes de Normalidade"
   ]
  },
  {
   "cell_type": "markdown",
   "id": "520dc9b4",
   "metadata": {},
   "source": [
    "Testar se seus dados seguem uma distribuição normal"
   ]
  },
  {
   "cell_type": "markdown",
   "id": "7be06dc8",
   "metadata": {},
   "source": [
    "Então iremos avaliar o p_valor:\n",
    "\n",
    "- p_valor > 0.05 → dados parecem normais\n",
    "\n",
    "- p_valor ≤ 0.05 → dados provavelmente não ser normais"
   ]
  },
  {
   "cell_type": "markdown",
   "id": "fb3146e7",
   "metadata": {},
   "source": [
    "#### Dados para o Kolmogorov-Smirnov"
   ]
  },
  {
   "cell_type": "markdown",
   "id": "90968485",
   "metadata": {},
   "source": [
    "### Teste Kolmogorov-Smirnov"
   ]
  },
  {
   "cell_type": "markdown",
   "id": "96a557c8",
   "metadata": {},
   "source": [
    "O **teste de Kolmogorov-Smirnov** é um teste estatístico usado para verificar se um conjunto de dados segue uma distribuição teórica específica. No contexto de testes de normalidade, ele avalia se os dados seguem uma distribuição normal."
   ]
  },
  {
   "cell_type": "markdown",
   "id": "d7d097c7",
   "metadata": {},
   "source": [
    "O teste compara:\n",
    "\n",
    "- A função de distribuição empírica dos dados\n",
    "\n",
    "- Com a função de distribuição acumulada teórica da normal.\n"
   ]
  },
  {
   "attachments": {
    "image.png": {
     "image/png": "[encoded data removed]"
    }
   },
   "cell_type": "markdown",
   "id": "f0ba6793",
   "metadata": {},
   "source": [
    "![image.png](attachment:image.png)"
   ]
  },
  {
   "attachments": {
    "image.png": {
     "image/png": "[encoded data removed]"
    }
   },
   "cell_type": "markdown",
   "id": "06ba6897",
   "metadata": {},
   "source": [
    "![image.png](attachment:image.png)"
   ]
  },
  {
   "cell_type": "markdown",
   "id": "18946aff",
   "metadata": {},
   "source": [
    "### Teste Kolmogorov-Smirnov Manual"
   ]
  },
  {
   "cell_type": "code",
   "execution_count": 5,
   "id": "62611665",
   "metadata": {},
   "outputs": [
    {
     "name": "stdout",
     "output_type": "stream",
     "text": [
      "Amostra pequena:\n",
      "A amostra é normalmente distribuída (não rejeita H0)\n",
      "Kolmogorov-Smirnov Manual: 0.0894\n",
      "p-value: 0.8309\n",
      "\n",
      "\n",
      "\n",
      "Amostra grande:\n",
      "A amostra é normalmente distribuída (não rejeita H0)\n",
      "Kolmogorov-Smirnov Manual: 0.0986\n",
      "p-value: 0.6785\n"
     ]
    }
   ],
   "source": [
    "def kolmogorov_smirnov(data):\n",
    "    \n",
    "    # Organize os dados em ordem crescente\n",
    "    data_sorted = np.sort(data)\n",
    "    n = len(data_sorted)\n",
    "    \n",
    "    # Função de distribuição empírica F_n(x)\n",
    "    F_n = np.arange(1, n+1) / n\n",
    "    #arange - cria um array com valores de 1 a n (inclusive) e divide \n",
    "    # por n para obter a função de distribuição empírica\n",
    "    \n",
    "    # Função de distribuição acumulada da normal F(x)\n",
    "    F_x = norm.cdf(data_sorted)\n",
    "    \n",
    "    # Calcula o D máximo\n",
    "    D = np.max(np.abs(F_n - F_x))\n",
    "    p_value = kstest(data, 'norm')[1]\n",
    "\n",
    "    # Calcula o p-valor usando o teste de Kolmogorov-Smirnov\n",
    "    p_value = kstest(data, 'norm')[1]\n",
    "\n",
    "    if p_value < 0.05:\n",
    "        print(\"A amostra não é normalmente distribuída (rejeita H0)\")\n",
    "    else:\n",
    "        print(\"A amostra é normalmente distribuída (não rejeita H0)\")   \n",
    "    return (D,p_value)\n",
    "\n",
    "print(\"Amostra pequena:\")\n",
    "estatistica_manual, p_value_manual = kolmogorov_smirnov(data = amostra15)\n",
    "print(f\"Kolmogorov-Smirnov Manual: {estatistica_manual:.4f}\")\n",
    "print(f\"p-value: {p_value_manual:.4f}\")\n",
    "\n",
    "print(\"\\n\\n\")\n",
    "\n",
    "print(\"Amostra grande:\")\n",
    "estatistica_manual, p_value_manual = kolmogorov_smirnov(data = amostra50)\n",
    "print(f\"Kolmogorov-Smirnov Manual: {estatistica_manual:.4f}\")\n",
    "print(f\"p-value: {p_value_manual:.4f}\")"
   ]
  },
  {
   "cell_type": "markdown",
   "id": "b5a55a43",
   "metadata": {},
   "source": [
    "### Teste Kolmogorov-Smirnov Biblioteca"
   ]
  },
  {
   "cell_type": "code",
   "execution_count": 6,
   "id": "627433a4",
   "metadata": {},
   "outputs": [
    {
     "name": "stdout",
     "output_type": "stream",
     "text": [
      "Amostra pequena:\n",
      "estatística = 0.1517, \n",
      "p-valor = 0.8309\n",
      "A amostra é normalmente distribuída (não rejeita H0)\n",
      "\n",
      "\n",
      "\n",
      "Amostra grande:\n",
      "estatística = 0.0986, \n",
      "p-valor = 0.6785\n",
      "A amostra é normalmente distribuída (não rejeita H0)\n"
     ]
    }
   ],
   "source": [
    "print(\"Amostra pequena:\")\n",
    "estatistica, p_valor = kstest(amostra15, 'norm')\n",
    "print(f\"estatística = {estatistica:.4f}, \\np-valor = {p_valor:.4f}\")\n",
    "if p_valor < 0.05:\n",
    "    print(\"A amostra não é normalmente distribuída (rejeita H0)\")\n",
    "else:\n",
    "    print(\"A amostra é normalmente distribuída (não rejeita H0)\")\n",
    "\n",
    "print(\"\\n\\n\")\n",
    "\n",
    "print(\"Amostra grande:\")\n",
    "estatistica, p_valor = kstest(amostra50, 'norm')\n",
    "print(f\"estatística = {estatistica:.4f}, \\np-valor = {p_valor:.4f}\")\n",
    "if p_valor < 0.05:\n",
    "    print(\"A amostra não é normalmente distribuída (rejeita H0)\")\n",
    "else:\n",
    "    print(\"A amostra é normalmente distribuída (não rejeita H0)\")"
   ]
  },
  {
   "cell_type": "code",
   "execution_count": 7,
   "id": "36825507",
   "metadata": {},
   "outputs": [
    {
     "name": "stdout",
     "output_type": "stream",
     "text": [
      "Porcentagem de acerto entre Manual e Biblioteca para o KS: 100.00%\n"
     ]
    }
   ],
   "source": [
    "percentual_acerto = calcular_percentual_acerto(estatistica_manual, estatistica)\n",
    "print(f\"Porcentagem de acerto entre Manual e Biblioteca para o KS: {percentual_acerto:.2f}%\")\n"
   ]
  },
  {
   "cell_type": "markdown",
   "id": "a0ebaced",
   "metadata": {},
   "source": [
    "### Teste Shapiro-Wilk"
   ]
  },
  {
   "cell_type": "markdown",
   "id": "b0462840",
   "metadata": {},
   "source": [
    "O **teste de Shapiro-Wilk** é um dos testes mais utilizados para verificar se uma amostra segue uma distribuição normal. Ele é especialmente eficaz para tamanhos de amostra pequenos e médios"
   ]
  },
  {
   "cell_type": "markdown",
   "id": "cdd41fc4",
   "metadata": {},
   "source": [
    "O teste compara a variância da amostra com a variância esperada caso os dados fossem normais. A estatística do teste é o W, que mede o quão bem os dados se ajustam à distribuição normal teórica.\n",
    "\n",
    "- W próximo de 1 → forte evidência de normalidade.\n",
    "\n",
    "- W significativamente menor que 1 → desvio da normalidade.\n",
    "\n"
   ]
  },
  {
   "attachments": {
    "image.png": {
     "image/png": "[encoded data removed]"
    }
   },
   "cell_type": "markdown",
   "id": "78d3ef72",
   "metadata": {},
   "source": [
    "![image.png](attachment:image.png)"
   ]
  },
  {
   "attachments": {
    "image.png": {
     "image/png": "[encoded data removed]"
    }
   },
   "cell_type": "markdown",
   "id": "fb6347f0",
   "metadata": {},
   "source": [
    "![image.png](attachment:image.png)"
   ]
  },
  {
   "cell_type": "markdown",
   "id": "79a03a6c",
   "metadata": {},
   "source": [
    "### Teste Shapiro-Wilk Manual"
   ]
  },
  {
   "cell_type": "code",
   "execution_count": 8,
   "id": "6b617b12",
   "metadata": {},
   "outputs": [
    {
     "name": "stdout",
     "output_type": "stream",
     "text": [
      "Amostra pequena:\n",
      "A amostra é normalmente distribuída (não rejeita H0)\n",
      "Shapiro-Wilk Manual: 0.9643\n",
      "p-value: 0.1841\n",
      "\n",
      "\n",
      "\n",
      "Amostra grande:\n",
      "A amostra é normalmente distribuída (não rejeita H0)\n",
      "Shapiro-Wilk Manual: 0.9952\n",
      "p-value: 0.7804\n"
     ]
    }
   ],
   "source": [
    "def shapiro_wilk(dados):\n",
    "    # Organize os dados em ordem crescente\n",
    "    dados = np.sort(dados)\n",
    "    n = len(dados)\n",
    "    \n",
    "    # Média e desvio padrão da amostra\n",
    "    media = np.mean(dados)\n",
    "    desvio = np.std(dados, ddof=1)\n",
    "\n",
    "\n",
    "    # Coeficientes de Shapiro aproximados a_i,n\n",
    "    # Para isso usamos quantis da normal padrão\n",
    "    # - 0.375: quantil 0.375 da normal padrão\n",
    "    # - 0.25: quantil 0.25 da normal padrão\n",
    "    # O 0.375 e o 0.25 são valores empíricos usados para aproximar a distribuição dos coeficientes \n",
    "    # a_i,n, que são os coeficientes de Shapiro-Wilk.\n",
    "    \n",
    "    prob = []\n",
    "    for i in range(1, n + 1):\n",
    "        prob_value = (i - 0.375) / (n + 0.25)\n",
    "        prob.append(prob_value)\n",
    "    \n",
    "    b = norm.ppf(prob) #ppf é a função de quantil da normal padrão\n",
    "    b = b / np.linalg.norm(b)  # Normaliza m\n",
    "    #linag.norm(b) é a norma do vetor b, que é a soma dos quadrados dos coeficientes de Shapiro-Wilk.\n",
    "\n",
    "    # Soma ponderada dos dados ordenados com os coeficientes m\n",
    "    W_numerador = (np.sum(b * dados))**2\n",
    "    W_denominador = np.sum((dados - media)**2)\n",
    "\n",
    "    W = W_numerador / W_denominador\n",
    "    p_valor = shapiro(dados)[1]\n",
    "\n",
    "    if p_valor < 0.05:\n",
    "        print(\"A amostra não é normalmente distribuída (rejeita H0)\")\n",
    "    else:\n",
    "        print(\"A amostra é normalmente distribuída (não rejeita H0)\")\n",
    "    return (W, p_valor)\n",
    "\n",
    "\n",
    "print(\"Amostra pequena:\")\n",
    "estatistica_manual, p_value_manual = shapiro_wilk(amostra30)\n",
    "print(f\"Shapiro-Wilk Manual: {estatistica_manual:.4f}\")\n",
    "print(f\"p-value: {p_value_manual:.4f}\")\n",
    "\n",
    "print(\"\\n\\n\")\n",
    "\n",
    "print(\"Amostra grande:\")\n",
    "estatistica_manual, p_value_manual = shapiro_wilk(amostra200)\n",
    "print(f\"Shapiro-Wilk Manual: {estatistica_manual:.4f}\")\n",
    "print(f\"p-value: {p_value_manual:.4f}\")\n"
   ]
  },
  {
   "cell_type": "markdown",
   "id": "f9135ce0",
   "metadata": {},
   "source": [
    "### Teste Shapiro-Wilk Biblioteca\n"
   ]
  },
  {
   "cell_type": "code",
   "execution_count": 9,
   "id": "593f3515",
   "metadata": {},
   "outputs": [
    {
     "name": "stdout",
     "output_type": "stream",
     "text": [
      "Amostra pequena:\n",
      "estatística = 0.9514, \n",
      "p-valor = 0.1841\n",
      "A amostra é normalmente distribuída (não rejeita H0)\n",
      "\n",
      "\n",
      "\n",
      "Amostra grande:\n",
      "estatística = 0.9952, \n",
      "p-valor = 0.7804\n",
      "A amostra é normalmente distribuída (não rejeita H0)\n"
     ]
    }
   ],
   "source": [
    "print(\"Amostra pequena:\")\n",
    "estatistica, p_valor = shapiro(amostra30)\n",
    "print(f\"estatística = {estatistica:.4f}, \\np-valor = {p_valor:.4f}\")\n",
    "if p_valor <= 0.05:\n",
    "    print(\"A amostra não é normalmente distribuída (rejeita H0)\")\n",
    "else:\n",
    "    print(\"A amostra é normalmente distribuída (não rejeita H0)\")\n",
    "\n",
    "print(\"\\n\\n\")\n",
    "\n",
    "print(\"Amostra grande:\")\n",
    "estatistica, p_valor = shapiro(amostra200)\n",
    "print(f\"estatística = {estatistica:.4f}, \\np-valor = {p_valor:.4f}\")\n",
    "if p_valor <= 0.05:\n",
    "    print(\"A amostra não é normalmente distribuída (rejeita H0)\")\n",
    "else:\n",
    "    print(\"A amostra é normalmente distribuída (não rejeita H0)\")"
   ]
  },
  {
   "cell_type": "code",
   "execution_count": 10,
   "id": "0340ecab",
   "metadata": {},
   "outputs": [
    {
     "name": "stdout",
     "output_type": "stream",
     "text": [
      "Porcentagem de acerto entre Manual e Biblioteca para o SW: 100.00%\n"
     ]
    }
   ],
   "source": [
    "percentual_acerto = calcular_percentual_acerto(estatistica_manual, estatistica)\n",
    "print(f\"Porcentagem de acerto entre Manual e Biblioteca para o SW: {percentual_acerto:.2f}%\")"
   ]
  },
  {
   "cell_type": "markdown",
   "id": "cea4cbf9",
   "metadata": {},
   "source": [
    "### Teste Shapiro-Francia"
   ]
  },
  {
   "cell_type": "markdown",
   "id": "54767ebd",
   "metadata": {},
   "source": [
    "O teste de Shapiro-Francia é uma variação do teste de Shapiro-Wilk, idealizado especialmente para detectar desvios da normalidade em amostras maiores. Ele é mais simples e rápido de computar, pois usa quantis normais no lugar de coeficientes tabelados.\n",
    "\n",
    "Hipóteses:\n",
    "​\n",
    "- H0: Os dados seguem uma distribuição normal.\n",
    "- H1: : Os dados não seguem uma distribuição normal\n",
    "\n",
    "Se o W Se estiver muito distante de 1, a normalidade pode ser rejeitada"
   ]
  },
  {
   "attachments": {
    "image.png": {
     "image/png": "[encoded data removed]"
    }
   },
   "cell_type": "markdown",
   "id": "f035ec8b",
   "metadata": {},
   "source": [
    "![image.png](attachment:image.png)"
   ]
  },
  {
   "attachments": {
    "image.png": {
     "image/png": "[encoded data removed]"
    }
   },
   "cell_type": "markdown",
   "id": "562ccd23",
   "metadata": {},
   "source": [
    "![image.png](attachment:image.png)"
   ]
  },
  {
   "cell_type": "markdown",
   "id": "da73d0c1",
   "metadata": {},
   "source": [
    "### Teste Shapiro-Francia Manual"
   ]
  },
  {
   "cell_type": "code",
   "execution_count": 11,
   "id": "bcfce54f",
   "metadata": {},
   "outputs": [
    {
     "name": "stdout",
     "output_type": "stream",
     "text": [
      "Amostra pequena:\n",
      "A amostra é normalmente distribuída (não rejeita H0)\n",
      "Shapiro-Francia: W' = 0.9643, p-valor = 0.1841\n",
      "\n",
      "\n",
      "\n",
      "Amostra grande:\n",
      "A amostra é normalmente distribuída (não rejeita H0)\n",
      "Shapiro-Francia: W' = 0.9947, p-valor = 0.0733\n"
     ]
    }
   ],
   "source": [
    "def shapiro_francia_test(x):\n",
    "    # Ordena os dados da amostra\n",
    "    x = np.sort(x)\n",
    "    n = len(x)\n",
    "\n",
    "    # Calcula a média dos dados ordenados\n",
    "    x_media = np.mean(x)\n",
    "\n",
    "    # Gera os quantis esperados da normal padrão usando posições ajustadas (probabilidades simuladas)\n",
    "    # Essa fórmula é uma heurística comum para gerar quantis simétricos\n",
    "    # Estou usando isso para evitar o uso de coeficientes a_i,n, que são tabelados e não são facilmente acessíveis\n",
    "    # O 0.375 e o 0.25 são valores empíricos usados para aproximar a distribuição dos coeficientes\n",
    "    # ppf é a função de quantil da normal padrão\n",
    "    m = norm.ppf([(i - 0.375) / (n + 0.25) for i in range(1, n + 1)])\n",
    "    m_media = np.mean(m)\n",
    "\n",
    "    # Coeficientes a_i normalizados\n",
    "    # Subtrai a média de m para centralizar os dados e depois normaliza\n",
    "    u = m - m_media\n",
    "    a = u / np.sqrt(np.sum(u ** 2))  # Normaliza os coeficientes\n",
    "\n",
    "    # Cálculo do numerador do W': soma ponderada dos dados ordenados elevada ao quadrado\n",
    "    numerador = (np.sum(a * x)) ** 2\n",
    "\n",
    "    # Cálculo do denominador do W': soma dos quadrados das diferenças em relação à média\n",
    "    denominador = np.sum((x - x_media) ** 2)\n",
    "\n",
    "    # Estatística do teste de Shapiro-Francia\n",
    "    W_calc = numerador / denominador\n",
    "\n",
    "    # P-valor: aqui usamos a função shapiro do scipy apenas para obter o p-valor como aproximação, ja\n",
    "    # não é o mesmo teste, mas é uma aproximação razoável, pois não existe biblioteca padrão para o teste \n",
    "    # de Shapiro-Francia\n",
    "    p_value = shapiro(x)[1]\n",
    "\n",
    "    if p_value < 0.05:\n",
    "        print(\"A amostra não é normalmente distribuída (rejeita H0)\")\n",
    "    else:\n",
    "        print(\"A amostra é normalmente distribuída (não rejeita H0)\")\n",
    "\n",
    "    return (W_calc, p_value)\n",
    "\n",
    "print(\"Amostra pequena:\")\n",
    "stat, p = shapiro_francia_test(amostra30)\n",
    "print(f\"Shapiro-Francia: W' = {stat:.4f}, p-valor = {p:.4f}\")\n",
    "\n",
    "print(\"\\n\\n\")\n",
    "\n",
    "print(\"Amostra grande:\")\n",
    "stat, p = shapiro_francia_test(amostra500)\n",
    "print(f\"Shapiro-Francia: W' = {stat:.4f}, p-valor = {p:.4f}\")\n",
    "\n"
   ]
  },
  {
   "cell_type": "markdown",
   "id": "51f8bf38",
   "metadata": {},
   "source": [
    "### Testes de Homogeneidade de variâncias"
   ]
  },
  {
   "cell_type": "markdown",
   "id": "b13110b9",
   "metadata": {},
   "source": [
    "O teste de homogeneidade verifica se duas ou mais populações têm variâncias (ou distribuições) iguais."
   ]
  },
  {
   "cell_type": "markdown",
   "id": "bd4cd11b",
   "metadata": {},
   "source": [
    "Então iremos avaliar o p_valor:\n",
    "\n",
    "- p > 0.05 → as variâncias são provavelmente iguais\n",
    "\n",
    "- p ≤ 0.05 → as variâncias são provavelmente diferentes"
   ]
  },
  {
   "cell_type": "code",
   "execution_count": 12,
   "id": "8db7838d",
   "metadata": {},
   "outputs": [],
   "source": [
    "grupo1 = random.choice([\n",
    "    np.random.normal(0, 1, 20),\n",
    "    np.random.exponential(1, 20),\n",
    "    np.random.uniform(-2, 2, 20),\n",
    "    np.concatenate([np.random.normal(0, 1, 20), np.random.uniform(10, 20, 20)])\n",
    "])\n",
    "\n",
    "grupo2 = random.choice([\n",
    "    np.random.normal(0, 1, 20),\n",
    "    np.random.exponential(1, 20),\n",
    "    np.random.uniform(-2, 2, 20),\n",
    "    np.concatenate([np.random.normal(0, 1, 20), np.random.uniform(10, 20, 20)])\n",
    "])"
   ]
  },
  {
   "cell_type": "code",
   "execution_count": 13,
   "id": "4b87a272",
   "metadata": {},
   "outputs": [
    {
     "data": {
      "text/plain": [
       "array([-1.10998059, -1.85831652, -0.0437713 , -2.06832838,  0.48696222,\n",
       "        0.49099418,  0.31346324, -1.39380386, -0.31841915, -0.55593985,\n",
       "        1.19792648,  1.2643274 ,  0.64658626,  1.24412546, -0.43272518,\n",
       "       -0.65468711, -0.22420775,  2.51843722, -0.91491699, -1.25803997,\n",
       "       11.579435  , 18.69912425, 13.90741576, 13.87644515, 16.30095086,\n",
       "       15.67154816, 12.91896293, 14.66610851, 15.95703968, 14.15501316,\n",
       "       16.03367153, 15.53689263, 14.63187328, 14.17677783, 12.01953971,\n",
       "       10.00455343, 14.53770064, 18.22958861, 19.13928117, 13.76985835])"
      ]
     },
     "execution_count": 13,
     "metadata": {},
     "output_type": "execute_result"
    }
   ],
   "source": [
    "grupo1"
   ]
  },
  {
   "cell_type": "code",
   "execution_count": 14,
   "id": "e1d3b11f",
   "metadata": {},
   "outputs": [
    {
     "data": {
      "text/plain": [
       "array([0.48888509, 0.35185348, 0.43932382, 0.91196629, 1.53407011,\n",
       "       2.80561154, 1.10204461, 2.04893505, 0.04645178, 0.68870829,\n",
       "       1.85785061, 1.09019248, 0.21145887, 1.75940604, 0.22038473,\n",
       "       1.54313355, 0.18102554, 0.02801761, 0.21614083, 0.25107477])"
      ]
     },
     "execution_count": 14,
     "metadata": {},
     "output_type": "execute_result"
    }
   ],
   "source": [
    "grupo2"
   ]
  },
  {
   "cell_type": "markdown",
   "id": "bde3f1bb",
   "metadata": {},
   "source": [
    "### Teste Bartlett - Manual"
   ]
  },
  {
   "cell_type": "code",
   "execution_count": 15,
   "id": "be77a3fe",
   "metadata": {},
   "outputs": [],
   "source": [
    "import math\n",
    "def bartlett_duas_amostras(amostra1, amostra2):\n",
    "    \"\"\"\n",
    "    Realiza o teste de Bartlett para comparar as variâncias de duas amostras,\n",
    "    verificando se elas vêm de populações com variâncias homogêneas.\n",
    "\n",
    "    Parâmetros:\n",
    "    - amostra1: lista ou array com os dados da primeira amostra\n",
    "    - amostra2: lista ou array com os dados da segunda amostra\n",
    "\n",
    "    Retorna:\n",
    "    - estatistica: valor da estatística do teste de Bartlett\n",
    "    - p_valor: valor p para o teste\n",
    "    \"\"\"\n",
    "    \n",
    "    # Número de observações em cada amostra\n",
    "    n1, n2 = len(amostra1), len(amostra2)\n",
    "\n",
    "    # Média das amostras\n",
    "    media1 = sum(amostra1) / n1\n",
    "    media2 = sum(amostra2) / n2\n",
    "\n",
    "    # Variância das amostras (usando fórmula amostral)\n",
    "    var1 = sum((x - media1)**2 for x in amostra1) / (n1 - 1)\n",
    "    var2 = sum((x - media2)**2 for x in amostra2) / (n2 - 1)\n",
    "\n",
    "    # Variância combinada\n",
    "    sp = ((n1 - 1)*var1 + (n2 - 1)*var2) / (n1 + n2 - 2)\n",
    "\n",
    "    # Estatística A (baseada nas variâncias)\n",
    "    A = (n1 + n2 - 2) * math.log(sp) - (n1 - 1) * math.log(var1) - (n2 - 1) * math.log(var2) #q\n",
    "\n",
    "    # Estatística B, que leva em consideração o número de observações\n",
    "    B = 1 + (1 / (3 * (2 - 1))) * (1 / (n1 - 1) + 1 / (n2 - 1) - 1 / (n1 + n2 - 2)) #c\n",
    "\n",
    "    # Estatística do teste de Bartlett\n",
    "    estatistica = A / B\n",
    "\n",
    "    # Calcular o p-valor usando a distribuição qui-quadrado (chi2) com 1 grau de liberdade\n",
    "    #stats.chi2 - distribuição qui-quadrado\n",
    "    p_valor = 1 - stats.chi2.cdf(estatistica, df=1)\n",
    "\n",
    "    return estatistica, p_valor"
   ]
  },
  {
   "cell_type": "code",
   "execution_count": 16,
   "id": "6c49793a",
   "metadata": {},
   "outputs": [
    {
     "name": "stdout",
     "output_type": "stream",
     "text": [
      "Estatística do teste de Bartlett: 62.5531\n",
      "P-valor: 0.0000\n",
      "A amostra não é homogênea (rejeita H0)\n"
     ]
    }
   ],
   "source": [
    "estatistica, p_valor = bartlett_duas_amostras(grupo1, grupo2)\n",
    "\n",
    "# Exibir os resultados\n",
    "print(f\"Estatística do teste de Bartlett: {estatistica:.4f}\")\n",
    "print(f\"P-valor: {p_valor:.4f}\")\n",
    "print(\"A amostra é homogênea (não rejeita H0)\" if p_valor > 0.05 else \"A amostra não é homogênea (rejeita H0)\")"
   ]
  },
  {
   "cell_type": "markdown",
   "id": "c0528509",
   "metadata": {},
   "source": [
    "### Teste Barlett - Biblioteca"
   ]
  },
  {
   "cell_type": "code",
   "execution_count": 17,
   "id": "ec513303",
   "metadata": {},
   "outputs": [
    {
     "name": "stdout",
     "output_type": "stream",
     "text": [
      "Bartlett: estatística = 62.5531, p-valor = 0.0000\n",
      "Uma ou mais variâncias são diferentes, não são homogêneas (rejeita H0)\n"
     ]
    }
   ],
   "source": [
    "stat, p = bartlett(grupo1, grupo2)\n",
    "print(f\"Bartlett: estatística = {stat:.4f}, p-valor = {p:.4f}\")\n",
    "#bartlett - teste de Bartlett para homogeneidade de variâncias\n",
    "if p <= 0.05:\n",
    "    print(\"Uma ou mais variâncias são diferentes, não são homogêneas (rejeita H0)\")\n",
    "else:\n",
    "    print(\"Todas as variâncias são significamente iguais, são homogêneas (não rejeita H0)\")"
   ]
  },
  {
   "cell_type": "code",
   "execution_count": 18,
   "id": "57fbab27",
   "metadata": {},
   "outputs": [
    {
     "name": "stdout",
     "output_type": "stream",
     "text": [
      "Variancia grupo1: 60.35210588954089\n",
      "Variancia grupo2: 0.6344564675946385\n"
     ]
    }
   ],
   "source": [
    "print(\"Variancia grupo1:\", np.var(grupo1, ddof=1))\n",
    "print(\"Variancia grupo2:\", np.var(grupo2, ddof=1))"
   ]
  },
  {
   "cell_type": "code",
   "execution_count": 19,
   "id": "8f313193",
   "metadata": {},
   "outputs": [
    {
     "name": "stdout",
     "output_type": "stream",
     "text": [
      "Porcentagem de acerto entre Manual e Biblioteca para o Bartlett: 100.00%\n"
     ]
    }
   ],
   "source": [
    "porcentual_acerto = calcular_percentual_acerto(estatistica, stat)\n",
    "print(f\"Porcentagem de acerto entre Manual e Biblioteca para o Bartlett: {porcentual_acerto:.2f}%\")"
   ]
  },
  {
   "cell_type": "code",
   "execution_count": 20,
   "id": "38c7bd41",
   "metadata": {},
   "outputs": [
    {
     "data": {
      "image/png": "[encoded data removed]",
      "text/plain": [
       "<Figure size 640x480 with 1 Axes>"
      ]
     },
     "metadata": {},
     "output_type": "display_data"
    }
   ],
   "source": [
    "sns.boxplot(data=[grupo1, grupo2])\n",
    "plt.xticks([0, 1], ['Grupo 1', 'Grupo 2'])\n",
    "plt.title('Boxplot dos Grupos')\n",
    "plt.ylabel('Valores')\n",
    "plt.show()"
   ]
  },
  {
   "cell_type": "markdown",
   "id": "d437b050",
   "metadata": {},
   "source": [
    "### Dados para Teste de Média Populacional"
   ]
  },
  {
   "cell_type": "markdown",
   "id": "89757286",
   "metadata": {},
   "source": [
    "Comparar se a média de dois grupos é diferente"
   ]
  },
  {
   "cell_type": "markdown",
   "id": "a556b65a",
   "metadata": {},
   "source": [
    "Nível de Significância (α) - É o limite máximo que você aceita para cometer um erro tipo I (rejeitar a hipótese nula quando ela é verdadeira).\n",
    "\n",
    "\n",
    "Comparar o p-valor que é a probabilidade de obter um resultado tão extremo quanto o observado, assumindo que a hipótese nula é verdadeira."
   ]
  },
  {
   "cell_type": "markdown",
   "id": "96a66702",
   "metadata": {},
   "source": [
    "Então iremos avaliar o p_valor:\n",
    "\n",
    "- p > 0.05 → as médias são provavelmente iguais\n",
    "\n",
    "- p ≤ 0.05 → as médias são provavelmente diferentes"
   ]
  },
  {
   "cell_type": "code",
   "execution_count": 21,
   "id": "963992d9",
   "metadata": {},
   "outputs": [],
   "source": [
    "grupo1 = np.random.normal(0, 1, 20)\n",
    "grupo2 = np.random.normal(0, 1, 20)"
   ]
  },
  {
   "cell_type": "code",
   "execution_count": 22,
   "id": "77617848",
   "metadata": {},
   "outputs": [
    {
     "data": {
      "text/plain": [
       "array([ 0.62635076,  0.42108788, -0.96762337, -0.54002306, -1.75816748,\n",
       "       -0.08279949,  1.02687946, -1.58504899, -1.88274165,  2.67019467,\n",
       "       -1.48097097,  0.13798311,  0.96622375,  0.59417981,  0.73696171,\n",
       "        0.83468136,  0.50929702, -1.02288823,  1.98182677,  0.40161361])"
      ]
     },
     "execution_count": 22,
     "metadata": {},
     "output_type": "execute_result"
    }
   ],
   "source": [
    "grupo1"
   ]
  },
  {
   "cell_type": "code",
   "execution_count": 23,
   "id": "3982cf45",
   "metadata": {},
   "outputs": [
    {
     "data": {
      "text/plain": [
       "array([-0.76911824, -0.11298305, -0.12474516, -1.30726672, -1.09052583,\n",
       "        0.46371521,  0.73786938, -2.26987887, -0.67731677, -0.02224809,\n",
       "        1.50402643,  1.76944817,  0.11744552,  0.38687211, -0.42463879,\n",
       "        1.22209446, -0.31948443, -1.18227388,  0.05199735, -0.76635519])"
      ]
     },
     "execution_count": 23,
     "metadata": {},
     "output_type": "execute_result"
    }
   ],
   "source": [
    "grupo2"
   ]
  },
  {
   "cell_type": "markdown",
   "id": "9cc4b8d9",
   "metadata": {},
   "source": [
    "### Teste Z"
   ]
  },
  {
   "cell_type": "markdown",
   "id": "dc04f19c",
   "metadata": {},
   "source": [
    "### Teste Z manual"
   ]
  },
  {
   "attachments": {
    "image.png": {
     "image/png": "[encoded data removed]"
    }
   },
   "cell_type": "markdown",
   "id": "4b8c2abe",
   "metadata": {},
   "source": [
    "![image.png](attachment:image.png)"
   ]
  },
  {
   "cell_type": "code",
   "execution_count": 24,
   "id": "9489834b",
   "metadata": {},
   "outputs": [],
   "source": [
    "def teste_z_duas_amostras(grupo1, grupo2, sigma1, sigma2):\n",
    "    n1, n2 = len(grupo1), len(grupo2)\n",
    "    media1, media2 = np.mean(grupo1), np.mean(grupo2)\n",
    "\n",
    "    # Fórmula do Z para duas amostras com desvio conhecido\n",
    "    z = (media1 - media2) / np.sqrt((sigma1**2)/n1 + (sigma2**2)/n2)\n",
    "\n",
    "    # P-valor para teste bilateral\n",
    "    p_valor = 2 * (1 - norm.cdf(abs(z)))\n",
    "\n",
    "    return z, p_valor"
   ]
  },
  {
   "cell_type": "code",
   "execution_count": 25,
   "id": "a5c6e6bb",
   "metadata": {},
   "outputs": [],
   "source": [
    "z, p = teste_z_duas_amostras(grupo1, grupo2, sigma1=1, sigma2=1)"
   ]
  },
  {
   "cell_type": "code",
   "execution_count": 26,
   "id": "04823d74",
   "metadata": {},
   "outputs": [
    {
     "name": "stdout",
     "output_type": "stream",
     "text": [
      "Z = 0.6958\n",
      "P-valor = 0.4866\n"
     ]
    }
   ],
   "source": [
    "print(f\"Z = {z:.4f}\")\n",
    "print(f\"P-valor = {p:.4f}\")"
   ]
  },
  {
   "cell_type": "code",
   "execution_count": 27,
   "id": "80c4f26f",
   "metadata": {},
   "outputs": [
    {
     "name": "stdout",
     "output_type": "stream",
     "text": [
      "Não rejeita H0: não há evidência forte de diferença.\n"
     ]
    }
   ],
   "source": [
    "if p < 0.05:\n",
    "    print(\"Rejeita H0: diferença estatisticamente significativa.\")\n",
    "else:\n",
    "    print(\"Não rejeita H0: não há evidência forte de diferença.\")"
   ]
  },
  {
   "cell_type": "markdown",
   "id": "7c19f4df",
   "metadata": {},
   "source": [
    "### Teste TStudent"
   ]
  },
  {
   "cell_type": "markdown",
   "id": "955f5125",
   "metadata": {},
   "source": [
    "O teste t de Student é um teste estatístico usado para determinar se há uma diferença significativa entre as médias de dois grupos (ou entre a média de um grupo e um valor conhecido)"
   ]
  },
  {
   "cell_type": "markdown",
   "id": "bc7e253b",
   "metadata": {},
   "source": [
    "### Tstudent uma amostra -  manual"
   ]
  },
  {
   "cell_type": "markdown",
   "id": "4a52dc86",
   "metadata": {},
   "source": [
    "Comparar a média de uma amostra com um valor conhecido, no caso mu = 0"
   ]
  },
  {
   "attachments": {
    "image.png": {
     "image/png": "[encoded data removed]"
    }
   },
   "cell_type": "markdown",
   "id": "65385d33",
   "metadata": {},
   "source": [
    "![image.png](attachment:image.png)"
   ]
  },
  {
   "cell_type": "code",
   "execution_count": 28,
   "id": "03ff949a",
   "metadata": {},
   "outputs": [],
   "source": [
    "def teste_t_amostra(grupo, mu=0, alpha=0.05):\n",
    "    \"\"\"\n",
    "    Realiza o teste t para uma amostra.\n",
    "\n",
    "    Parâmetros:\n",
    "    - grupo: array-like, dados da amostra\n",
    "    - mu: valor da média populacional para o teste (default = 0) para testar se a média da amostra é diferente de 0\n",
    "    - alpha: nível de significância (default = 0.05)\n",
    "\n",
    "    Retorna:\n",
    "    - t_calculado: valor t da amostra\n",
    "    - mu: média populacional hipotética\n",
    "    - alpha: nível de significância\n",
    "    \"\"\"\n",
    "\n",
    "    # Calcular a média da amostra\n",
    "    media_amostra = np.mean(grupo)\n",
    "\n",
    "    # Calcular o desvio padrão amostral (ddof=1 -> desvio amostral)\n",
    "    desvio_amostra = np.std(grupo, ddof=1)\n",
    "\n",
    "    # Número de observações na amostra\n",
    "    n = len(grupo)\n",
    "\n",
    "    # Calcular o valor t\n",
    "    t_calculado = (media_amostra - mu) / (desvio_amostra / np.sqrt(n))\n",
    "\n",
    "    # Graus de liberdade\n",
    "    df = n - 1\n",
    "\n",
    "    # Valor crítico t (teste bilateral: alpha/2 em cada cauda)\n",
    "    # ppf (Percent-Point Function) retorna o valor t crítico correspondente a uma probabilidade cumulativa\n",
    "    t_critico = t_dist.ppf(1 - alpha / 2, df)\n",
    "\n",
    "    \n",
    "\n",
    "    return t_calculado, df"
   ]
  },
  {
   "cell_type": "code",
   "execution_count": 29,
   "id": "cd4a32ec",
   "metadata": {},
   "outputs": [
    {
     "name": "stdout",
     "output_type": "stream",
     "text": [
      "Valor t calculado: 0.2865\n",
      "Graus de liberdade: 19\n"
     ]
    }
   ],
   "source": [
    "t_calculado, df = teste_t_amostra(grupo1)\n",
    "print(f\"Valor t calculado: {t_calculado:.4f}\")\n",
    "print(f\"Graus de liberdade: {df}\")"
   ]
  },
  {
   "cell_type": "markdown",
   "id": "30eb5cf9",
   "metadata": {},
   "source": [
    "### Tstudent uma amostra - Biblioteca"
   ]
  },
  {
   "cell_type": "code",
   "execution_count": 30,
   "id": "f0c71ab2",
   "metadata": {},
   "outputs": [],
   "source": [
    "mu = 0\n",
    "t_stat, p_value = stats.ttest_1samp(grupo1, mu)\n",
    "#stats - biblioteca de estatísticas do scipy\n",
    "#ttest_1samp - teste t para uma amostra"
   ]
  },
  {
   "cell_type": "code",
   "execution_count": 31,
   "id": "a87b8d89",
   "metadata": {},
   "outputs": [
    {
     "name": "stdout",
     "output_type": "stream",
     "text": [
      "Valor t calculado: 0.2865\n",
      "Valor p: 0.7776\n",
      "Não rejeitar H0: A média da amostra não é significativamente diferente de 0\n"
     ]
    }
   ],
   "source": [
    "print(f\"Valor t calculado: {t_stat:.4f}\")\n",
    "print(f\"Valor p: {p_value:.4f}\")\n",
    "\n",
    "# Decisão sobre a hipótese nula\n",
    "alpha = 0.05\n",
    "if p_value < alpha:\n",
    "    print(\"Rejeitar H0: A média da amostra é significativamente diferente de\", mu)\n",
    "else:\n",
    "    print(\"Não rejeitar H0: A média da amostra não é significativamente diferente de\", mu)"
   ]
  },
  {
   "cell_type": "code",
   "execution_count": 32,
   "id": "2923a9ca",
   "metadata": {},
   "outputs": [
    {
     "data": {
      "image/png": "[encoded data removed]",
      "text/plain": [
       "<Figure size 1000x600 with 1 Axes>"
      ]
     },
     "metadata": {},
     "output_type": "display_data"
    }
   ],
   "source": [
    "def plot_t_student_bilateral(t_calculado, df, alpha=0.05):\n",
    "    \"\"\"\n",
    "    Plota a distribuição t de Student para um teste bilateral,\n",
    "    destacando as regiões de rejeição e o valor t calculado.\n",
    "\n",
    "    Parâmetros:\n",
    "    - t_calculado: valor t da amostra\n",
    "    - df: graus de liberdade (n - 1)\n",
    "    - alpha: nível de significância (default = 0.05)\n",
    "    \"\"\"\n",
    "\n",
    "    # Gerar valores t no intervalo\n",
    "    t_vals = np.linspace(-4, 4, 500)\n",
    "    \n",
    "    # Obter densidade de probabilidade\n",
    "    #pdf - função densidade de probabilidade\n",
    "    pdf = t_dist.pdf(t_vals, df)\n",
    "\n",
    "    # Valores críticos para o teste bilateral\n",
    "    # ppf - Percent-Point Function (inversa da CDF)\n",
    "    t_critico = t_dist.ppf(1 - alpha/2, df)\n",
    "\n",
    "    # Plotar a curva da distribuição t\n",
    "    plt.figure(figsize=(10, 6))\n",
    "    plt.plot(t_vals, pdf, label=f\"Distribuição t (df={df})\", color=\"black\")\n",
    "\n",
    "    # Preencher regiões de rejeição (caudas)\n",
    "    plt.fill_between(t_vals, 0, pdf, where=(t_vals <= -t_critico), color='red', alpha=0.5, label=\"Região de Rejeição\")\n",
    "    plt.fill_between(t_vals, 0, pdf, where=(t_vals >= t_critico), color='red', alpha=0.5)\n",
    "\n",
    "    # Marcar valor t crítico (positivo e negativo)\n",
    "    plt.axvline(x=-t_critico, color='red', linestyle='--', label=f\"t crítico = ±{t_critico:.2f}\")\n",
    "    plt.axvline(x=t_critico, color='red', linestyle='--')\n",
    "\n",
    "    # Marcar valor t calculado\n",
    "    plt.axvline(x=t_calculado, color='blue', linestyle='-', label=f\"t calculado = {t_calculado:.2f}\")\n",
    "\n",
    "    # Configurações do gráfico\n",
    "    plt.title('Distribuição t de Student - Teste Bilateral')\n",
    "    plt.xlabel('t')\n",
    "    plt.ylabel('Densidade de Probabilidade')\n",
    "    plt.legend()\n",
    "    plt.grid(True)\n",
    "    plt.show()\n",
    "\n",
    "df = len(grupo1) - 1\n",
    "plot_t_student_bilateral(t_calculado, df)"
   ]
  },
  {
   "cell_type": "markdown",
   "id": "1e431117",
   "metadata": {},
   "source": [
    "### Tstudent Independente - Manual"
   ]
  },
  {
   "cell_type": "markdown",
   "id": "06d266cd",
   "metadata": {},
   "source": [
    "Comparar as médias de dois grupos independentes."
   ]
  },
  {
   "attachments": {
    "image.png": {
     "image/png": "[encoded data removed]"
    }
   },
   "cell_type": "markdown",
   "id": "8429008e",
   "metadata": {},
   "source": [
    "![image.png](attachment:image.png)"
   ]
  },
  {
   "cell_type": "code",
   "execution_count": 33,
   "id": "58c261ce",
   "metadata": {},
   "outputs": [],
   "source": [
    "import math\n",
    "def t_student_duas_amostras(amostra1, amostra2, alpha=0.05):\n",
    "    \"\"\"\n",
    "    Calcula o valor t para comparação de duas amostras independentes \n",
    "    assumindo variâncias iguais (teste t para duas amostras).\n",
    "\n",
    "    Parâmetros:\n",
    "    - amostra1: dados da primeira amostra\n",
    "    - amostra2: dados da segunda amostra\n",
    "    - alpha: nível de significância (default = 0.05)\n",
    "\n",
    "    Retorna:\n",
    "    - t_calculado: valor t obtido (se as variâncias forem diferentes)\n",
    "    - df: graus de liberdade (se as variâncias forem diferentes)\n",
    "    - mensagem: mensagem indicando se as variâncias são iguais\n",
    "    \"\"\"\n",
    "\n",
    "    # Teste de Bartlett para homogeneidade de variâncias\n",
    "    stat, p_valor = bartlett(amostra1, amostra2)\n",
    "    if p_valor > alpha:\n",
    "        return \"As variâncias são homogêneas (não rejeita H0). Cálculo interrompido.\"\n",
    "\n",
    "    # Tamanho das amostras\n",
    "    n1, n2 = len(amostra1), len(amostra2)\n",
    "\n",
    "    # Médias das amostras\n",
    "    media1 = sum(amostra1) / n1\n",
    "    media2 = sum(amostra2) / n2\n",
    "\n",
    "    # Variâncias amostrais\n",
    "    var1 = sum((x - media1)**2 for x in amostra1) / (n1 - 1)\n",
    "    var2 = sum((x - media2)**2 for x in amostra2) / (n2 - 1)\n",
    "\n",
    "    # Variância combinada (assumindo variâncias diferentes)\n",
    "    sp = math.sqrt(((n1 - 1) * var1 + (n2 - 1) * var2) / (n1 + n2 - 2))\n",
    "\n",
    "    # Valor t calculado\n",
    "    t_calculado = (media1 - media2) / (sp * math.sqrt(1/n1 + 1/n2))\n",
    "\n",
    "    # Graus de liberdade\n",
    "    df = n1 + n2 - 2\n",
    "\n",
    "    return t_calculado, df, media1, media2\n"
   ]
  },
  {
   "cell_type": "code",
   "execution_count": 45,
   "id": "032aec0e",
   "metadata": {},
   "outputs": [
    {
     "name": "stdout",
     "output_type": "stream",
     "text": [
      "As variâncias são homogêneas (não rejeita H0 no teste de Bartlett).\n"
     ]
    }
   ],
   "source": [
    "bartlett_p = bartlett(grupo1, grupo2)[1]  # Calcula o p-valor do teste de Bartlett\n",
    "\n",
    "result = t_student_duas_amostras(grupo1, grupo2)\n",
    "\n",
    "if bartlett_p <= alpha:  # Verifica se as variâncias não são homogêneas\n",
    "\tif isinstance(result, str):  # Verifica se o resultado é uma mensagem\n",
    "\t\tprint(result)\n",
    "\telse:\n",
    "\t\tt_calculado, df, media1, media2 = result\n",
    "\t\tprint(f\"Valor t calculado: {t_calculado:.4f}\")\n",
    "\t\tprint(f\"Graus de liberdade: {df}\")\n",
    "\t\tprint(f\"Média amostra 1: {media1:.4f}\")\n",
    "\t\tprint(f\"Média amostra 2: {media2:.4f}\")\n",
    "else:\n",
    "\tprint(\"As variâncias são homogêneas (não rejeita H0 no teste de Bartlett).\")"
   ]
  },
  {
   "cell_type": "markdown",
   "id": "c4a5396e",
   "metadata": {},
   "source": [
    "### Tstudent Independente - Biblioteca"
   ]
  },
  {
   "cell_type": "code",
   "execution_count": 46,
   "id": "808923bb",
   "metadata": {},
   "outputs": [
    {
     "name": "stdout",
     "output_type": "stream",
     "text": [
      "Todas as variâncias são significamente iguais, são homogêneas (não rejeita H0)\n"
     ]
    }
   ],
   "source": [
    "bartlett_p = bartlett(grupo1, grupo2)[1]\n",
    "\n",
    "if bartlett_p <= 0.05:\n",
    "    print(\"Uma ou mais variâncias são diferentes, não são homogêneas (rejeita H0)\")\n",
    "    stat, p = ttest_ind(grupo1, grupo2, equal_var=False)\n",
    "    print(f\"t-Student: estatística = {stat:.4f}, p-valor = {p:.4f}\")\n",
    "else:\n",
    "    print(\"Todas as variâncias são significamente iguais, são homogêneas (não rejeita H0)\")\n"
   ]
  },
  {
   "cell_type": "code",
   "execution_count": 47,
   "id": "e793f00b",
   "metadata": {},
   "outputs": [
    {
     "name": "stdout",
     "output_type": "stream",
     "text": [
      "As médias são significativamente iguais (não rejeita H0)\n"
     ]
    }
   ],
   "source": [
    "if p <= 0.05:\n",
    "    print(\"As médias são diferentes (rejeita H0)\")\n",
    "else:  \n",
    "    print(\"As médias são significativamente iguais (não rejeita H0)\")"
   ]
  },
  {
   "cell_type": "code",
   "execution_count": 48,
   "id": "72738112",
   "metadata": {},
   "outputs": [
    {
     "data": {
      "image/png": "[encoded data removed]",
      "text/plain": [
       "<Figure size 640x480 with 1 Axes>"
      ]
     },
     "metadata": {},
     "output_type": "display_data"
    }
   ],
   "source": [
    "sns.boxplot(data=[grupo1, grupo2])\n",
    "plt.xticks([0, 1], ['Grupo 1', 'Grupo 2'])\n",
    "plt.title('Boxplot dos Grupos')\n",
    "plt.ylabel('Valores')\n",
    "plt.show()"
   ]
  },
  {
   "cell_type": "markdown",
   "id": "c9f16f06",
   "metadata": {},
   "source": [
    "### Tstudent Emparelhado - Manual"
   ]
  },
  {
   "cell_type": "code",
   "execution_count": 49,
   "id": "da8b70c8",
   "metadata": {},
   "outputs": [],
   "source": [
    "grupo1 = random.choice([\n",
    "    np.random.normal(0, 1, 20),\n",
    "    np.random.exponential(1, 20),\n",
    "    np.random.uniform(-2, 2, 20),\n",
    "    np.concatenate([np.random.normal(0, 1, 10), np.random.uniform(10, 20, 10)])  \n",
    "])\n",
    "\n",
    "# Simulando uma mudança no grupo (grupo2) para amostras pareadas\n",
    "grupo2 = grupo1 + np.random.normal(0, 0.5, 20)"
   ]
  },
  {
   "attachments": {
    "image.png": {
     "image/png": "[encoded data removed]"
    }
   },
   "cell_type": "markdown",
   "id": "99d33e17",
   "metadata": {},
   "source": [
    "![image.png](attachment:image.png)"
   ]
  },
  {
   "cell_type": "code",
   "execution_count": 50,
   "id": "a841fa7c",
   "metadata": {},
   "outputs": [],
   "source": [
    "def t_student_amostras_emparelhadas(grupo1, grupo2, alpha=0.05):\n",
    "    \"\"\"\n",
    "    Realiza o teste t de Student para amostras emparelhadas, comparando as médias das diferenças.\n",
    "    Verifica a homogeneidade de variâncias usando o teste de Bartlett antes de continuar.\n",
    "\n",
    "    Parâmetros:\n",
    "    - grupo1: dados da primeira amostra\n",
    "    - grupo2: dados da segunda amostra\n",
    "    - alpha: nível de significância (default = 0.05)\n",
    "\n",
    "    Retorna:\n",
    "    - t_calculado: valor t obtido (se as variâncias forem homogêneas)\n",
    "    - p_valor: valor p para o teste (se as variâncias forem homogêneas)\n",
    "    - rejeitar_H0: booleano indicando se H0 é rejeitada (se as variâncias forem homogêneas)\n",
    "    - df: graus de liberdade (se as variâncias forem homogêneas)\n",
    "    - mensagem: mensagem indicando o resultado do teste de Bartlett\n",
    "    \"\"\"\n",
    "    # Teste de Bartlett para homogeneidade de variâncias\n",
    "    stat, p_valor_bartlett = bartlett(grupo1, grupo2)\n",
    "    if p_valor_bartlett <= alpha:\n",
    "        return None, None, None, None, \"As variâncias não são homogêneas (rejeita H0 no teste de Bartlett). Cálculo interrompido.\"\n",
    "\n",
    "    # Calcular as diferenças (d = grupo1 - grupo2)\n",
    "    diferencas = np.array(grupo1) - np.array(grupo2)\n",
    "\n",
    "    # Calcular a média das diferenças (d_bar)\n",
    "    media_diferencas = np.mean(diferencas)\n",
    "\n",
    "    # Calcular o desvio padrão das diferenças (s_d) - amostral\n",
    "    desvio_diferencas = np.std(diferencas, ddof=1)\n",
    "\n",
    "    # Número de pares\n",
    "    n = len(diferencas)\n",
    "\n",
    "    # Calcular o valor t\n",
    "    t_calculado = media_diferencas / (desvio_diferencas / np.sqrt(n))\n",
    "\n",
    "    # Calcular os graus de liberdade (df)\n",
    "    df = n - 1\n",
    "\n",
    "    # Calcular o p-valor\n",
    "    p_valor = 2 * (1 - t_dist.cdf(abs(t_calculado), df))\n",
    "\n",
    "    # Determinar se devemos rejeitar H0\n",
    "    rejeitar_H0 = p_valor < alpha\n",
    "\n",
    "    return t_calculado, p_valor, rejeitar_H0, df, \"As variâncias são homogêneas (não rejeita H0 no teste de Bartlett).\"\n"
   ]
  },
  {
   "cell_type": "code",
   "execution_count": 51,
   "id": "dcea1490",
   "metadata": {},
   "outputs": [
    {
     "name": "stdout",
     "output_type": "stream",
     "text": [
      "As variâncias são homogêneas (não rejeita H0 no teste de Bartlett).\n",
      "Valor t calculado: -0.4572\n",
      "p-valor: 0.6527\n",
      "Graus de liberdade: 19\n",
      "Rejeitar H0? Não\n"
     ]
    }
   ],
   "source": [
    "t_calculado, p_valor, rejeitar_H0, df, mensagem = t_student_amostras_emparelhadas(grupo1, grupo2)\n",
    "\n",
    "if mensagem:\n",
    "\tprint(mensagem)\n",
    "\tif \"homogêneas\" in mensagem:\n",
    "\t\tprint(f\"Valor t calculado: {t_calculado:.4f}\")\n",
    "\t\tprint(f\"p-valor: {p_valor:.4f}\")\n",
    "\t\tprint(f\"Graus de liberdade: {df}\")\n",
    "\t\tprint(f\"Rejeitar H0? {'Sim' if rejeitar_H0 else 'Não'}\")\n",
    "else:\n",
    "\tprint(\"Erro ao calcular o teste.\")"
   ]
  },
  {
   "cell_type": "markdown",
   "id": "46e6e8fc",
   "metadata": {},
   "source": [
    "### Tsudent Emparelhado - Biblioteca"
   ]
  },
  {
   "cell_type": "code",
   "execution_count": 52,
   "id": "84b87893",
   "metadata": {},
   "outputs": [
    {
     "name": "stdout",
     "output_type": "stream",
     "text": [
      "Estatística t: -0.4572\n",
      "P-valor: 0.6527\n"
     ]
    }
   ],
   "source": [
    "t_stat, p_value = stats.ttest_rel(grupo1, grupo2)\n",
    "print(f\"Estatística t: {t_stat:.4f}\")\n",
    "print(f\"P-valor: {p_value:.4f}\")\n",
    "\n",
    "#stats - biblioteca de estatísticas do scipy\n",
    "#ttest_rel - teste t para amostras emparelhadas"
   ]
  },
  {
   "cell_type": "code",
   "execution_count": 53,
   "id": "e278efba",
   "metadata": {},
   "outputs": [
    {
     "name": "stdout",
     "output_type": "stream",
     "text": [
      "Não rejeitamos H0: As médias dos dois grupos pareados são significadamente iguais.\n"
     ]
    }
   ],
   "source": [
    "if p_value < 0.05:\n",
    "    print(\"Rejeitamos H0: As médias dos dois grupos pareados são diferentes.\")\n",
    "else:\n",
    "    print(\"Não rejeitamos H0: As médias dos dois grupos pareados são significadamente iguais.\")"
   ]
  },
  {
   "cell_type": "code",
   "execution_count": 54,
   "id": "004c788a",
   "metadata": {},
   "outputs": [
    {
     "data": {
      "image/png": "[encoded data removed]",
      "text/plain": [
       "<Figure size 640x480 with 1 Axes>"
      ]
     },
     "metadata": {},
     "output_type": "display_data"
    }
   ],
   "source": [
    "sns.boxplot(data=[grupo1, grupo2])\n",
    "plt.xticks([0, 1], ['Grupo 1', 'Grupo 2'])\n",
    "plt.title('Boxplot dos Grupos')\n",
    "plt.ylabel('Valores')\n",
    "plt.show()"
   ]
  }
 ],
 "metadata": {
  "kernelspec": {
   "display_name": "Python 3",
   "language": "python",
   "name": "python3"
  },
  "language_info": {
   "codemirror_mode": {
    "name": "ipython",
    "version": 3
   },
   "file_extension": ".py",
   "mimetype": "text/x-python",
   "name": "python",
   "nbconvert_exporter": "python",
   "pygments_lexer": "ipython3",
   "version": "3.12.10"
  }
 },
 "nbformat": 4,
 "nbformat_minor": 5
}
