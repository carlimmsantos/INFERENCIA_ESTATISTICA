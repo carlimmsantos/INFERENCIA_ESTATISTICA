{
 "cells": [
  {
   "cell_type": "code",
   "execution_count": 1,
   "id": "33d98ecf",
   "metadata": {},
   "outputs": [
    {
     "name": "stdout",
     "output_type": "stream",
     "text": [
      "Defaulting to user installation because normal site-packages is not writeable\n",
      "Requirement already satisfied: pingouin in c:\\users\\wesle\\appdata\\local\\packages\\pythonsoftwarefoundation.python.3.12_qbz5n2kfra8p0\\localcache\\local-packages\\python312\\site-packages (0.5.5)\n",
      "Requirement already satisfied: matplotlib in c:\\users\\wesle\\appdata\\local\\packages\\pythonsoftwarefoundation.python.3.12_qbz5n2kfra8p0\\localcache\\local-packages\\python312\\site-packages (from pingouin) (3.8.3)\n",
      "Requirement already satisfied: numpy in c:\\users\\wesle\\appdata\\local\\packages\\pythonsoftwarefoundation.python.3.12_qbz5n2kfra8p0\\localcache\\local-packages\\python312\\site-packages (from pingouin) (1.26.4)\n",
      "Requirement already satisfied: pandas>=1.5 in c:\\users\\wesle\\appdata\\local\\packages\\pythonsoftwarefoundation.python.3.12_qbz5n2kfra8p0\\localcache\\local-packages\\python312\\site-packages (from pingouin) (2.2.1)\n",
      "Requirement already satisfied: pandas-flavor in c:\\users\\wesle\\appdata\\local\\packages\\pythonsoftwarefoundation.python.3.12_qbz5n2kfra8p0\\localcache\\local-packages\\python312\\site-packages (from pingouin) (0.7.0)\n",
      "Requirement already satisfied: scikit-learn>=1.2 in c:\\users\\wesle\\appdata\\local\\packages\\pythonsoftwarefoundation.python.3.12_qbz5n2kfra8p0\\localcache\\local-packages\\python312\\site-packages (from pingouin) (1.4.1.post1)\n",
      "Requirement already satisfied: scipy in c:\\users\\wesle\\appdata\\local\\packages\\pythonsoftwarefoundation.python.3.12_qbz5n2kfra8p0\\localcache\\local-packages\\python312\\site-packages (from pingouin) (1.13.0)\n",
      "Requirement already satisfied: seaborn in c:\\users\\wesle\\appdata\\local\\packages\\pythonsoftwarefoundation.python.3.12_qbz5n2kfra8p0\\localcache\\local-packages\\python312\\site-packages (from pingouin) (0.13.2)\n",
      "Requirement already satisfied: statsmodels in c:\\users\\wesle\\appdata\\local\\packages\\pythonsoftwarefoundation.python.3.12_qbz5n2kfra8p0\\localcache\\local-packages\\python312\\site-packages (from pingouin) (0.14.2)\n",
      "Requirement already satisfied: tabulate in c:\\users\\wesle\\appdata\\local\\packages\\pythonsoftwarefoundation.python.3.12_qbz5n2kfra8p0\\localcache\\local-packages\\python312\\site-packages (from pingouin) (0.9.0)\n",
      "Requirement already satisfied: python-dateutil>=2.8.2 in c:\\users\\wesle\\appdata\\local\\packages\\pythonsoftwarefoundation.python.3.12_qbz5n2kfra8p0\\localcache\\local-packages\\python312\\site-packages (from pandas>=1.5->pingouin) (2.8.2)\n",
      "Requirement already satisfied: pytz>=2020.1 in c:\\users\\wesle\\appdata\\local\\packages\\pythonsoftwarefoundation.python.3.12_qbz5n2kfra8p0\\localcache\\local-packages\\python312\\site-packages (from pandas>=1.5->pingouin) (2024.1)\n",
      "Requirement already satisfied: tzdata>=2022.7 in c:\\users\\wesle\\appdata\\local\\packages\\pythonsoftwarefoundation.python.3.12_qbz5n2kfra8p0\\localcache\\local-packages\\python312\\site-packages (from pandas>=1.5->pingouin) (2024.1)\n",
      "Requirement already satisfied: joblib>=1.2.0 in c:\\users\\wesle\\appdata\\local\\packages\\pythonsoftwarefoundation.python.3.12_qbz5n2kfra8p0\\localcache\\local-packages\\python312\\site-packages (from scikit-learn>=1.2->pingouin) (1.3.2)\n",
      "Requirement already satisfied: threadpoolctl>=2.0.0 in c:\\users\\wesle\\appdata\\local\\packages\\pythonsoftwarefoundation.python.3.12_qbz5n2kfra8p0\\localcache\\local-packages\\python312\\site-packages (from scikit-learn>=1.2->pingouin) (3.4.0)\n",
      "Requirement already satisfied: contourpy>=1.0.1 in c:\\users\\wesle\\appdata\\local\\packages\\pythonsoftwarefoundation.python.3.12_qbz5n2kfra8p0\\localcache\\local-packages\\python312\\site-packages (from matplotlib->pingouin) (1.2.0)\n",
      "Requirement already satisfied: cycler>=0.10 in c:\\users\\wesle\\appdata\\local\\packages\\pythonsoftwarefoundation.python.3.12_qbz5n2kfra8p0\\localcache\\local-packages\\python312\\site-packages (from matplotlib->pingouin) (0.12.1)\n",
      "Requirement already satisfied: fonttools>=4.22.0 in c:\\users\\wesle\\appdata\\local\\packages\\pythonsoftwarefoundation.python.3.12_qbz5n2kfra8p0\\localcache\\local-packages\\python312\\site-packages (from matplotlib->pingouin) (4.50.0)\n",
      "Requirement already satisfied: kiwisolver>=1.3.1 in c:\\users\\wesle\\appdata\\local\\packages\\pythonsoftwarefoundation.python.3.12_qbz5n2kfra8p0\\localcache\\local-packages\\python312\\site-packages (from matplotlib->pingouin) (1.4.5)\n",
      "Requirement already satisfied: packaging>=20.0 in c:\\users\\wesle\\appdata\\local\\packages\\pythonsoftwarefoundation.python.3.12_qbz5n2kfra8p0\\localcache\\local-packages\\python312\\site-packages (from matplotlib->pingouin) (24.0)\n",
      "Requirement already satisfied: pillow>=8 in c:\\users\\wesle\\appdata\\local\\packages\\pythonsoftwarefoundation.python.3.12_qbz5n2kfra8p0\\localcache\\local-packages\\python312\\site-packages (from matplotlib->pingouin) (10.2.0)\n",
      "Requirement already satisfied: pyparsing>=2.3.1 in c:\\users\\wesle\\appdata\\local\\packages\\pythonsoftwarefoundation.python.3.12_qbz5n2kfra8p0\\localcache\\local-packages\\python312\\site-packages (from matplotlib->pingouin) (3.1.2)\n",
      "Requirement already satisfied: xarray in c:\\users\\wesle\\appdata\\local\\packages\\pythonsoftwarefoundation.python.3.12_qbz5n2kfra8p0\\localcache\\local-packages\\python312\\site-packages (from pandas-flavor->pingouin) (2025.3.1)\n",
      "Requirement already satisfied: patsy>=0.5.6 in c:\\users\\wesle\\appdata\\local\\packages\\pythonsoftwarefoundation.python.3.12_qbz5n2kfra8p0\\localcache\\local-packages\\python312\\site-packages (from statsmodels->pingouin) (0.5.6)\n",
      "Requirement already satisfied: six in c:\\users\\wesle\\appdata\\local\\packages\\pythonsoftwarefoundation.python.3.12_qbz5n2kfra8p0\\localcache\\local-packages\\python312\\site-packages (from patsy>=0.5.6->statsmodels->pingouin) (1.16.0)\n",
      "Note: you may need to restart the kernel to use updated packages.\n"
     ]
    }
   ],
   "source": [
    "%pip install pingouin"
   ]
  },
  {
   "cell_type": "markdown",
   "id": "052858a1",
   "metadata": {},
   "source": [
    "Importando Bibliotecas"
   ]
  },
  {
   "cell_type": "code",
   "execution_count": 2,
   "id": "f22bd3dd",
   "metadata": {},
   "outputs": [],
   "source": [
    "import numpy as np, random\n",
    "import pingouin as pg\n",
    "import pandas as pd\n",
    "from scipy.stats import shapiro\n",
    "from scipy.stats import kstest\n",
    "import scipy.stats as stats\n",
    "from scipy.stats import ttest_ind\n",
    "from scipy.stats import bartlett\n",
    "import matplotlib.pyplot as plt\n",
    "import seaborn as sns\n",
    "from scipy.stats import norm\n",
    "from scipy.stats import t as t_dist\n"
   ]
  },
  {
   "cell_type": "markdown",
   "id": "d47ad023",
   "metadata": {},
   "source": [
    "### Dados para os Testes de Normalidade"
   ]
  },
  {
   "cell_type": "markdown",
   "id": "520dc9b4",
   "metadata": {},
   "source": [
    "Testar se seus dados seguem uma distribuição normal"
   ]
  },
  {
   "cell_type": "markdown",
   "id": "7be06dc8",
   "metadata": {},
   "source": [
    "Então iremos avaliar o p_valor:\n",
    "\n",
    "- p_valor > 0.05 → dados parecem normais\n",
    "\n",
    "- p_valor ≤ 0.05 → dados provavelmente NÃO são normais"
   ]
  },
  {
   "cell_type": "code",
   "execution_count": 3,
   "id": "99cb5b4b",
   "metadata": {},
   "outputs": [],
   "source": [
    "#dados = np.random.normal(0, 1, 500)"
   ]
  },
  {
   "cell_type": "code",
   "execution_count": 4,
   "id": "c196e9ed",
   "metadata": {},
   "outputs": [
    {
     "data": {
      "text/plain": [
       "array([1.18010129e+00, 4.33407637e-01, 1.46120293e-01, 2.31762871e+00,\n",
       "       2.53226476e+00, 1.26308107e+00, 1.19979758e+00, 2.47612461e-01,\n",
       "       2.89435777e-01, 1.00218389e-01, 4.38275604e+00, 4.29264646e-02,\n",
       "       1.15652939e-01, 1.90036223e+00, 9.89117782e-01, 2.51522177e-01,\n",
       "       1.40973436e+00, 2.85320774e-01, 1.42696177e+00, 5.14622230e-01,\n",
       "       1.41489833e+00, 5.81358916e+00, 2.14615798e-01, 1.37041164e+00,\n",
       "       1.44503781e+00, 3.07405674e-01, 1.77624280e+00, 8.13777534e-01,\n",
       "       1.01328024e+00, 1.71954334e-01, 2.70344308e+00, 8.08799943e-01,\n",
       "       6.84954425e-01, 1.21600602e+00, 5.94459094e-01, 7.59975220e-01,\n",
       "       1.89725238e+00, 3.93568921e-02, 1.83286432e-02, 7.06179780e-01,\n",
       "       4.07726718e-01, 1.48885031e+00, 1.69544496e-01, 1.86936658e+00,\n",
       "       1.74131823e+00, 4.44180068e-01, 6.62367609e-01, 8.73859615e-01,\n",
       "       1.85548615e+00, 2.88932346e-01, 2.16189242e+00, 1.44326560e-01,\n",
       "       1.06506557e+00, 7.97148515e-01, 5.42217642e-01, 2.40905409e+00,\n",
       "       1.46298250e+00, 5.33083374e-01, 1.53097890e+00, 1.93164185e+00,\n",
       "       5.80368835e-01, 1.28106706e+00, 3.96724984e-01, 9.42846662e-02,\n",
       "       2.45241948e-01, 1.37356480e-01, 1.46062763e+00, 4.74550633e+00,\n",
       "       8.43310794e-01, 8.36981468e-02, 9.99353047e-01, 3.40556744e-01,\n",
       "       1.81614085e-01, 1.55888181e+00, 2.46511384e-01, 1.85105884e+00,\n",
       "       4.27532007e-01, 5.81705723e-01, 7.81751991e-01, 1.96950314e-01,\n",
       "       1.67004057e+00, 2.80703931e-01, 4.77459980e-01, 7.42671655e-01,\n",
       "       3.89374507e-01, 1.16920521e+00, 7.29249992e-02, 1.03543633e+00,\n",
       "       4.06456346e+00, 1.24104807e-01, 1.55659342e-01, 1.87059420e+00,\n",
       "       2.61120356e+00, 1.11371518e+00, 2.79536054e-01, 3.50153433e+00,\n",
       "       1.21538814e+00, 3.01946534e-01, 5.56759056e-01, 2.89067547e-01,\n",
       "       1.92065915e-02, 3.33306449e-01, 7.17251827e-01, 1.36660061e+00,\n",
       "       1.11918470e+00, 1.73708531e+00, 2.31400734e-01, 1.15832687e+00,\n",
       "       1.67125108e+00, 5.75162705e-01, 1.02888854e+00, 7.91613132e-02,\n",
       "       7.13694732e-01, 1.18608752e+00, 7.81946233e-02, 8.90522472e-01,\n",
       "       1.88121394e-01, 2.17726354e+00, 7.38112227e-01, 5.45412965e-01,\n",
       "       4.24150369e-01, 1.62341862e+00, 5.21021692e+00, 1.16265626e-01,\n",
       "       2.75205280e+00, 8.28516175e-01, 1.10053233e+00, 9.49673587e-02,\n",
       "       3.56990870e-01, 1.04933497e+00, 4.66392924e-01, 2.77052350e-01,\n",
       "       8.35988639e-02, 1.83327016e-01, 1.25564203e+00, 1.95217561e-01,\n",
       "       8.61309908e-02, 1.03919195e+00, 1.68651325e+00, 6.11917997e-01,\n",
       "       1.14168477e+00, 3.21424921e+00, 2.31425185e-01, 6.63202893e-02,\n",
       "       1.50756707e+00, 1.19919445e+00, 6.33721290e-01, 1.05423004e+00,\n",
       "       3.02395373e-01, 6.20005930e-01, 2.27596028e+00, 2.07663529e+00,\n",
       "       4.25915732e-01, 8.51869464e-02, 2.87103471e-01, 1.03073363e+00,\n",
       "       7.32036721e-02, 1.18231149e+00, 7.10108678e-01, 7.79860558e-02,\n",
       "       8.17511306e-01, 3.77164067e-02, 2.72050859e+00, 4.66439610e-01,\n",
       "       2.49945476e+00, 1.92769062e+00, 1.34818901e+00, 2.81136495e+00,\n",
       "       6.84360168e-02, 3.29041705e-01, 1.67547831e+00, 1.28767988e+00,\n",
       "       1.65605681e-01, 8.28471261e-01, 9.47647691e-03, 2.77612020e+00,\n",
       "       1.40048714e+00, 4.37224907e-01, 1.03280885e+00, 4.84866742e-02,\n",
       "       1.57861492e+00, 1.35506674e-02, 5.00936128e-01, 2.61775592e-02,\n",
       "       3.57191139e-01, 6.69392544e-01, 5.03258350e-01, 1.53948073e-01,\n",
       "       1.03698742e+00, 1.51431035e+00, 3.04620910e+00, 2.88309252e-01,\n",
       "       7.64778135e-02, 1.52481433e+00, 9.55404491e-01, 3.15560426e-01,\n",
       "       2.00741618e-01, 8.15694119e-02, 4.49094873e-01, 1.77163902e-01,\n",
       "       4.39009883e-01, 1.30076272e-01, 6.78500429e-01, 1.97958519e-01,\n",
       "       1.99842284e+00, 1.40333371e+00, 2.58061185e-01, 1.05761219e-01,\n",
       "       2.42747429e+00, 2.98137603e+00, 1.27973266e+00, 1.08763169e+00,\n",
       "       5.17504702e-01, 9.56742600e-01, 2.56794583e-02, 2.45306005e-01,\n",
       "       1.65454709e-02, 8.63407705e-01, 2.96854717e-01, 5.11646513e-01,\n",
       "       3.64292964e-01, 1.22929776e+00, 1.61526051e+00, 1.49798160e+00,\n",
       "       1.00363816e+00, 3.51992335e-01, 5.62713436e-01, 6.92028399e-01,\n",
       "       2.19530112e+00, 5.40590427e-02, 2.49147480e+00, 2.33058638e+00,\n",
       "       1.15238376e+00, 2.50940975e+00, 8.84835449e-02, 4.55158211e-01,\n",
       "       6.08779184e-01, 4.11311939e-01, 4.42209235e-01, 2.07900588e+00,\n",
       "       8.43471749e-01, 6.00442318e-03, 1.44296498e+00, 8.08990412e-01,\n",
       "       1.36095966e+00, 1.73630123e-01, 5.91239373e-01, 7.26945151e-02,\n",
       "       1.72991513e+00, 1.08786490e-01, 4.58520822e-01, 5.20852785e-01,\n",
       "       1.03820725e+00, 7.51658793e-01, 8.64926133e-01, 9.45344465e-01,\n",
       "       1.55006937e+00, 2.32821547e-01, 1.31743042e+00, 2.21553799e-01,\n",
       "       7.18025361e-02, 3.11054732e+00, 2.69699702e-01, 6.33682809e-01,\n",
       "       2.56747385e+00, 3.36939920e+00, 3.10327806e-01, 4.02140683e-01,\n",
       "       3.96997457e-01, 1.37452072e+00, 3.53084612e-01, 3.79535673e+00,\n",
       "       5.59492997e-01, 2.21781008e+00, 5.27432114e-01, 1.62062897e+00,\n",
       "       8.05478745e-01, 8.58641324e-01, 1.25266799e+00, 1.20776156e+00,\n",
       "       9.72901833e-01, 6.55504058e-01, 1.83762048e+00, 2.29094804e+00,\n",
       "       1.27902535e+00, 1.65332388e+00, 4.10589585e-01, 7.31056971e-01,\n",
       "       3.75464598e-01, 1.95316552e+00, 8.80561543e-01, 1.35148520e+00,\n",
       "       4.00297583e-01, 4.33905586e-01, 4.53184718e-01, 2.06574191e+00,\n",
       "       3.02859940e+00, 2.04476373e+00, 5.01538377e-01, 1.02785704e+00,\n",
       "       8.50141379e-02, 2.66855993e+00, 3.59339571e-01, 1.97122575e+00,\n",
       "       1.27438040e+00, 9.24224946e-02, 6.90300409e-01, 1.42696441e+00,\n",
       "       9.95921989e-01, 5.20742572e-01, 1.40817121e+00, 1.06771265e+00,\n",
       "       2.92924113e-01, 3.59413235e-01, 3.22898324e-01, 2.54879821e+00,\n",
       "       9.28219464e-01, 2.13790031e-02, 7.18642585e-01, 8.20277857e-01,\n",
       "       1.58169462e+00, 6.24377829e-01, 4.95316351e-01, 4.16609207e-01,\n",
       "       1.94554138e+00, 1.07058152e+00, 8.11821804e-01, 3.61056559e+00,\n",
       "       7.94173216e-01, 2.00133643e+00, 1.03158425e+00, 9.43394192e-01,\n",
       "       6.07104702e-01, 4.44215917e-01, 6.49405175e-01, 1.08814742e+00,\n",
       "       4.08559873e-01, 1.43890146e+00, 5.56646170e-01, 3.42878516e-01,\n",
       "       1.41999524e-01, 9.05302995e-01, 1.19391408e+00, 3.35585055e-01,\n",
       "       7.96030381e-01, 1.53576786e+00, 9.64571645e-02, 2.68150419e-01,\n",
       "       4.25195023e-02, 7.44103601e-01, 7.56854630e-01, 7.98246214e-01,\n",
       "       2.41086310e+00, 2.11530279e+00, 9.67536137e-01, 2.68895302e+00,\n",
       "       6.75781901e-01, 2.29681713e+00, 2.37887395e-01, 1.32653592e-01,\n",
       "       1.37126783e+00, 1.11653847e+00, 1.68513697e-02, 5.09549657e-01,\n",
       "       7.41405372e-01, 1.28563390e+00, 3.24015266e-01, 1.75096415e-02,\n",
       "       1.30844150e+00, 3.48748570e-01, 1.33335527e+00, 1.30534414e+00,\n",
       "       6.14875513e-01, 1.11443973e-01, 1.25654928e+00, 3.19546088e-01,\n",
       "       2.77795926e-01, 3.59091174e+00, 1.42985933e-02, 7.69761647e-01,\n",
       "       2.27387885e+00, 8.33803542e-01, 3.28886421e+00, 1.93943978e+00,\n",
       "       2.84958196e-01, 3.24194219e+00, 1.19569102e+00, 4.03325931e+00,\n",
       "       3.67956349e-02, 2.51794049e-01, 1.09364740e+00, 1.25569456e-01,\n",
       "       6.97413975e-01, 7.17367895e-01, 6.55184372e-01, 2.92983879e-01,\n",
       "       1.28360323e-01, 1.29937762e+00, 3.54430493e-01, 3.58563860e+00,\n",
       "       3.12592328e-01, 1.24476945e+00, 1.55551317e+00, 6.50957570e-01,\n",
       "       9.49379470e-01, 1.78492067e+00, 1.32869940e+00, 8.79522323e-01,\n",
       "       2.01105400e+00, 2.40790738e+00, 1.78032720e-01, 3.11695917e-01,\n",
       "       6.26401509e-01, 2.51739289e+00, 1.77251196e+00, 4.27140536e-01,\n",
       "       2.09419033e-01, 1.38368057e-01, 2.57336166e+00, 1.74010191e+00,\n",
       "       1.15653507e-01, 5.05025279e-01, 1.89132732e+00, 1.02527668e+00,\n",
       "       1.67689659e-01, 5.00431892e-01, 4.98264508e-01, 1.71030108e+00,\n",
       "       3.45530837e+00, 8.91669899e-01, 5.08074605e-01, 1.22731988e+00,\n",
       "       2.26647824e+00, 1.08676799e+00, 1.39893509e+00, 3.41902469e-03,\n",
       "       1.36550165e+00, 8.11863504e-01, 5.96230276e-01, 5.90142804e-01,\n",
       "       1.27034276e-02, 6.89165033e-01, 2.63570827e-01, 5.18284356e-01,\n",
       "       3.29664250e-01, 2.96216138e-01, 7.49290076e-01, 4.90557374e-01,\n",
       "       2.00523704e+00, 1.02414440e+00, 3.19429783e-01, 1.38672751e+00,\n",
       "       1.50505422e+00, 8.16143399e-01, 1.08690335e+00, 1.26925762e+00,\n",
       "       6.26910515e-01, 2.44479165e+00, 1.95750753e-01, 4.73192332e-01,\n",
       "       1.31160639e+00, 1.88623246e-01, 7.11060480e-01, 6.36165237e-01,\n",
       "       5.87236336e-01, 4.19856698e-01, 1.27044880e+00, 2.55184838e+00,\n",
       "       6.01330625e-01, 1.25233390e+00, 6.73764549e-01, 1.17621106e+00,\n",
       "       1.40123383e-01, 2.27400818e+00, 7.96758747e-01, 4.85202861e-01,\n",
       "       7.22046757e-01, 1.11859084e+00, 5.59166824e-02, 1.57185981e+00,\n",
       "       2.10651246e+00, 1.66042920e-01, 1.07199670e-01, 2.37657239e+00,\n",
       "       1.32761842e+00, 3.29651886e-03, 5.86416830e-01, 4.46937526e-01,\n",
       "       1.27935212e-01, 1.73753416e-01, 4.45923844e+00, 1.60839647e-01,\n",
       "       5.69329713e-02, 9.28983107e-01, 2.07800110e+00, 3.33841574e-01,\n",
       "       1.25917803e+00, 1.54059672e-01, 1.59922413e-01, 2.13385087e-01,\n",
       "       7.19420871e-01, 2.78684451e-01, 3.38714180e+00, 7.59735130e-01,\n",
       "       1.69902274e+00, 3.22199788e-01, 4.78800282e-02, 7.98452225e-01,\n",
       "       3.13144232e-01, 6.07794150e-01, 4.41036527e-01, 8.09413659e-01,\n",
       "       8.18073535e-01, 2.02574367e+00, 6.48976706e-01, 6.17745687e-01,\n",
       "       2.39382872e+00, 8.06274711e-01, 2.12578418e+00, 1.76623911e+00,\n",
       "       7.12489567e-02, 3.18498366e-01, 1.28220712e+00, 2.98738070e-01,\n",
       "       1.24427020e+00, 3.51567450e-01, 1.06421823e+00, 1.30736092e-01,\n",
       "       1.14717441e+00, 2.13473044e+00, 1.26799063e+00, 2.62107173e-01,\n",
       "       5.63814282e-01, 5.44061088e-01, 1.12926870e+00, 2.31091619e+00,\n",
       "       8.66445727e-01, 2.07959085e-01, 3.12911717e+00, 2.59386144e-01,\n",
       "       5.76142628e-01, 3.07808069e-01, 2.94022769e+00, 1.96224205e+00,\n",
       "       1.53555644e+00, 7.59357560e-01, 7.23958462e-01, 5.30371871e-01,\n",
       "       7.55449581e-01, 2.16470629e+00, 8.89395558e-01, 2.76430636e-01,\n",
       "       1.50744802e+00, 1.51328775e+00, 1.75946693e+00, 6.19676684e-01,\n",
       "       3.45748728e-01, 3.50598220e-02, 2.44284728e+00, 7.80527715e-01,\n",
       "       3.03277461e+00, 6.89875833e-01, 1.90762960e-02, 1.74420386e+00,\n",
       "       3.83040381e+00, 1.83580005e+00, 8.66561686e-02, 2.30747093e-01,\n",
       "       6.16582488e-01, 2.76461502e-02, 2.58236461e+00, 1.02058434e+00,\n",
       "       3.82422816e-01, 1.70066104e+00, 1.17819406e+00, 5.33131245e-01,\n",
       "       2.30226712e+00, 9.10127647e-01, 8.68477018e-01, 3.34085160e+00,\n",
       "       3.92122167e-01, 5.17740841e+00, 6.08112286e-01, 9.89138265e-02,\n",
       "       1.15636678e+00, 3.62170938e-01, 1.06438095e+00, 7.08509105e-01,\n",
       "       4.96334712e-01, 1.71812561e-01, 1.39679448e+00, 1.78327121e+00,\n",
       "       3.83507856e-01, 3.64643740e-01, 4.25270829e-01, 1.17822855e+00,\n",
       "       1.99226295e-01, 1.16022380e+00, 2.26025742e+00, 3.26488791e-01,\n",
       "       7.62371178e-01, 3.21256534e+00, 1.34314455e+00, 4.36538887e-02,\n",
       "       1.08864793e-01, 1.83992588e+00, 9.09403313e-02, 3.05948949e-01,\n",
       "       1.56023273e+00, 1.06752795e+00, 1.24714146e+00, 3.11373894e-02,\n",
       "       2.26085590e+00, 4.84510047e-01, 7.26644889e-01, 2.01972380e+00,\n",
       "       9.47692933e-01, 2.10490363e+00, 2.89061668e+00, 1.04301673e-01,\n",
       "       1.62719188e+00, 5.25951295e-01, 9.36604950e-01, 1.45256332e-01,\n",
       "       2.01584188e-01, 4.40508843e-01, 5.60315249e-01, 3.64003707e-01,\n",
       "       6.04357524e-01, 3.32923612e+00, 2.19759261e+00, 1.26124686e+00,\n",
       "       8.09949070e-01, 2.20713147e-01, 8.35130663e-02, 3.81915001e-01,\n",
       "       5.81633117e-01, 1.04754704e+00, 6.58049838e-01, 6.18893994e-01,\n",
       "       5.77617052e-01, 1.15046111e+00, 6.93188741e+00, 2.75642002e-01,\n",
       "       2.79706150e-02, 3.45472716e-01, 1.91614706e+00, 1.56513832e+00,\n",
       "       2.46349791e-01, 5.92517865e-01, 1.21293274e+00, 3.66066766e+00,\n",
       "       2.87834204e+00, 1.25996306e+00, 7.97293350e-01, 1.96539716e-01,\n",
       "       6.65690334e-01, 1.10658750e+00, 5.97091780e-01, 1.66175707e-01,\n",
       "       8.00347629e-02, 1.79121659e-01, 1.76874991e+00, 1.25803199e+00,\n",
       "       7.14122531e-01, 9.86239769e-01, 2.32896701e+00, 4.55470176e-01,\n",
       "       4.85104084e-01, 2.84524858e-01, 2.29739399e-01, 8.04138924e-02,\n",
       "       3.40433788e-01, 9.23581205e-01, 2.76798774e+00, 1.07299910e+00,\n",
       "       8.00464453e-01, 2.15819206e+00, 1.10915599e+00, 1.29976703e+00,\n",
       "       3.79158914e-02, 4.98477966e-01, 1.35009719e-01, 2.48479667e-01,\n",
       "       1.45812075e+00, 1.54222250e-01, 3.34801313e+00, 3.74672071e+00,\n",
       "       1.40097069e+00, 3.92080059e-01, 6.63384461e-01, 1.68576584e+00,\n",
       "       7.23283913e-01, 6.79553063e-01, 3.08468580e-01, 2.50997207e-01,\n",
       "       4.47768471e-01, 1.69297897e-01, 3.13240018e-02, 1.87587660e+00,\n",
       "       1.87634072e-01, 2.22319218e+00, 1.98641562e+00, 6.89991172e-01,\n",
       "       1.85756691e+00, 3.79162082e+00, 1.57888983e+00, 1.63334374e+00,\n",
       "       2.53968923e-01, 1.73011645e+00, 3.56443730e-01, 1.06379025e+00,\n",
       "       3.26428796e+00, 1.29822676e+00, 4.58170206e+00, 1.24717451e+00,\n",
       "       5.56830342e-01, 2.60606330e-01, 1.99806147e+00, 8.06577223e-01,\n",
       "       5.65941916e-01, 1.52676352e-01, 1.40158472e-01, 1.75508608e+00,\n",
       "       1.34340570e-01, 4.98262814e-01, 2.40102979e-01, 2.49335939e-01,\n",
       "       3.22716540e-01, 1.40872262e+00, 2.22922749e+00, 3.82756993e-01,\n",
       "       1.34052177e+00, 2.01550018e+00, 2.16437087e-01, 3.54489798e-01,\n",
       "       1.52838128e-01, 1.49566288e-01, 1.10158319e+00, 6.31829085e-01,\n",
       "       2.20688896e+00, 2.19277565e-01, 4.14856880e-01, 6.09477084e-01,\n",
       "       2.39297277e+00, 5.38444662e-01, 5.31567708e-01, 5.77851396e+00,\n",
       "       2.85906673e+00, 8.81656557e-01, 3.09976878e-01, 1.80657545e+00,\n",
       "       6.58576743e-01, 1.04702309e+00, 2.95895014e+00, 7.29396973e-01,\n",
       "       2.33763259e+00, 7.87546748e-02, 2.42384466e+00, 6.75274140e-01,\n",
       "       8.88732843e-02, 5.10970098e-03, 3.06939674e-01, 2.98324777e-01,\n",
       "       9.98486392e-01, 2.10520431e+00, 1.17598578e+00, 6.23166957e-01,\n",
       "       2.45625724e-01, 1.69174605e-02, 4.51417705e-01, 1.22822994e+00,\n",
       "       1.65597821e+00, 1.20941019e-01, 1.29234203e+00, 8.74997552e-02,\n",
       "       1.27262327e+00, 2.31434952e+00, 1.53879555e+00, 1.90182694e-01,\n",
       "       2.52690487e-01, 8.63350252e-02, 3.43957950e-01, 8.50897218e-01,\n",
       "       2.42016595e-01, 9.43385624e-01, 2.87505712e-01, 7.27742473e-01,\n",
       "       6.46268874e-01, 7.40172658e-01, 2.53874093e+00, 1.31154675e-01,\n",
       "       1.60577751e+00, 4.26231666e-02, 3.72009678e-01, 1.68938117e-02,\n",
       "       3.24067871e-02, 1.23928620e+00, 4.69153988e-01, 5.51562185e-01,\n",
       "       4.99665520e-02, 7.42053432e-02, 1.32967405e+00, 1.78945944e-01,\n",
       "       8.71564279e-01, 7.90252936e-01, 1.39161015e-01, 1.33789721e+00,\n",
       "       1.84140970e+00, 2.70737317e-02, 1.87658424e-01, 2.99834609e-01,\n",
       "       9.43077934e-01, 2.51589936e-01, 3.53634566e-01, 4.18575728e-01,\n",
       "       2.97359711e-01, 1.05271354e+00, 1.45047339e+00, 1.82195878e+00,\n",
       "       1.02532033e-01, 2.87033083e-01, 9.03992822e-01, 5.22237997e+00,\n",
       "       3.77224552e-01, 6.22331301e-01, 5.46499573e-01, 5.59414100e+00,\n",
       "       1.95900497e+00, 2.89769286e-01, 2.93899783e+00, 3.03023629e-03,\n",
       "       4.88520211e-01, 1.51691046e+00, 4.80519642e-01, 2.74878337e-01,\n",
       "       3.65781034e-01, 1.36888082e+00, 1.61819391e+00, 7.51818391e-01,\n",
       "       2.75780855e-01, 6.37573207e-02, 5.03516868e-01, 3.53530831e-02,\n",
       "       6.52384744e-01, 1.67383061e+00, 8.67974412e-01, 3.23209665e-01,\n",
       "       1.44329894e+00, 7.00289410e-01, 2.89680458e-02, 3.80470651e-02,\n",
       "       2.76594765e-01, 1.46523555e+00, 1.51271474e+00, 1.78434445e+00,\n",
       "       1.11362127e+00, 1.48811482e+00, 3.29350332e+00, 2.22954954e+00,\n",
       "       1.98275241e-01, 1.21112921e-01, 1.02804901e+00, 2.26962101e+00,\n",
       "       3.66989098e-01, 1.51468493e-01, 1.02603767e-01, 3.52851181e-01,\n",
       "       3.39411639e-01, 9.97007488e-01, 5.83042840e-01, 6.61229540e-02,\n",
       "       1.23022853e+00, 2.14187758e+00, 3.46331427e-01, 4.47703842e-01,\n",
       "       8.02696167e-02, 2.33703329e-02, 8.94445055e-01, 4.43358959e-01,\n",
       "       4.74088792e+00, 1.91340326e-01, 8.80915011e-01, 2.15295881e-01,\n",
       "       6.39017281e-01, 1.98639472e-01, 3.32184977e-01, 2.60445144e-01,\n",
       "       6.24835924e-01, 1.48475214e-01, 7.31977181e-01, 6.26162918e-01,\n",
       "       3.19826965e-01, 3.35111620e-01, 8.76038647e-01, 2.12964851e+00,\n",
       "       1.57719334e+00, 3.44517067e+00, 6.18457845e-02, 5.61258848e-01,\n",
       "       6.05434961e-01, 1.68003254e+00, 9.36841830e-01, 2.18496981e+00,\n",
       "       1.34931674e-01, 1.26127779e+00, 2.87039403e-01, 2.92560387e-01,\n",
       "       5.37446881e-01, 5.63412977e-01, 1.89655593e+00, 3.17051767e+00,\n",
       "       9.40199752e-01, 1.92592530e+00, 1.75769303e+00, 2.34799544e+00,\n",
       "       2.18724823e-01, 1.16462328e+00, 8.42295778e-01, 1.33396775e+00,\n",
       "       1.28870864e+00, 1.30668186e-04, 2.25532024e-02, 1.27455752e-01,\n",
       "       7.57503488e-02, 2.72341764e+00, 4.82224233e-01, 1.68712674e+00,\n",
       "       1.97961079e-01, 1.41882977e+00, 1.38453834e-02, 2.82423988e-01,\n",
       "       1.20446490e-01, 1.30145275e+00, 2.15664359e+00, 4.97552598e-01,\n",
       "       8.48053523e-01, 1.98201777e-01, 6.70093710e-01, 9.41392867e-01,\n",
       "       3.35463525e-01, 6.56035672e-01, 4.17323806e-01, 4.89347781e-01,\n",
       "       3.53252140e+00, 1.55115289e-01, 7.45135495e-02, 1.22408557e+00,\n",
       "       1.04014016e+00, 6.29367344e-01, 1.24336325e+00, 2.97332556e+00,\n",
       "       2.31192206e-01, 2.77475459e-01, 4.40392493e-01, 2.96309147e+00,\n",
       "       5.49542303e-02, 1.08614690e+00, 1.10273347e+00, 7.55487640e-01,\n",
       "       3.43278650e-01, 1.04730476e-01, 5.70442299e-01, 7.51265091e-01,\n",
       "       7.41971419e-01, 6.92917140e-02, 2.01416211e+00, 1.48063101e-01,\n",
       "       5.35249569e-01, 1.68469902e+00, 3.04021017e+00, 1.16242074e+00,\n",
       "       1.49828087e+00, 2.15976101e+00, 1.15807509e+00, 1.16673267e+00,\n",
       "       1.37764475e+00, 7.30792208e-01, 1.71507994e-01, 1.00290239e+00,\n",
       "       2.04142364e+00, 3.64029617e-01, 1.75575602e+00, 9.38933039e-01,\n",
       "       1.53811038e-01, 5.69002375e-01, 1.06050970e-01, 9.14860412e-01,\n",
       "       3.65820296e-01, 6.44400962e-01, 1.93882684e-01, 1.97351995e+00,\n",
       "       1.64412717e+00, 1.77678795e-01, 1.34719457e+00, 8.77646782e-01,\n",
       "       4.84565272e-02, 1.51898433e+00, 6.49826327e-01, 2.01116939e+00])"
      ]
     },
     "execution_count": 4,
     "metadata": {},
     "output_type": "execute_result"
    }
   ],
   "source": [
    "dados = random.choice([\n",
    "    np.random.normal(0, 1, 1000),\n",
    "    np.random.exponential(1, 1000),\n",
    "    np.random.uniform(-2, 2, 1000),\n",
    "    np.concatenate([np.random.normal(0, 1, 950), np.random.uniform(10, 20, 50)])\n",
    "])\n",
    "dados"
   ]
  },
  {
   "cell_type": "markdown",
   "id": "90968485",
   "metadata": {},
   "source": [
    "### Teste Kolmogorov-Smirnov"
   ]
  },
  {
   "cell_type": "markdown",
   "id": "18946aff",
   "metadata": {},
   "source": [
    "### Teste Kolmogorov-Smirnov Manual"
   ]
  },
  {
   "cell_type": "code",
   "execution_count": 5,
   "id": "62611665",
   "metadata": {},
   "outputs": [],
   "source": [
    "def kolmogorov_smirnov(data):\n",
    "    # Organize os dados em ordem crescente\n",
    "    data_sorted = np.sort(data)\n",
    "    n = len(data_sorted)\n",
    "    \n",
    "    # Função de distribuição empírica F_n(x)\n",
    "    F_n = np.arange(1, n+1) / n\n",
    "    \n",
    "    # Função de distribuição acumulada da normal F(x)\n",
    "    F_x = norm.cdf(data_sorted)\n",
    "    \n",
    "    # Calcula o D máximo\n",
    "    D = np.max(np.abs(F_n - F_x))\n",
    "    p_value = kstest(data, 'norm')[1]\n",
    "    \n",
    "    return (D,p_value)"
   ]
  },
  {
   "cell_type": "code",
   "execution_count": 6,
   "id": "dc5c2c7e",
   "metadata": {},
   "outputs": [
    {
     "name": "stdout",
     "output_type": "stream",
     "text": [
      "Kolmogorov-Smirnov Manual: 0.4992 | p-value: 0.0000\n"
     ]
    }
   ],
   "source": [
    "print(f\"Kolmogorov-Smirnov Manual: {kolmogorov_smirnov(dados)[0]:.4f} | p-value: {kolmogorov_smirnov(dados)[1]:.4f}\")\n"
   ]
  },
  {
   "cell_type": "markdown",
   "id": "b5a55a43",
   "metadata": {},
   "source": [
    "### Teste Kolmogorov-Smirnov Biblioteca"
   ]
  },
  {
   "cell_type": "code",
   "execution_count": 7,
   "id": "627433a4",
   "metadata": {},
   "outputs": [
    {
     "name": "stdout",
     "output_type": "stream",
     "text": [
      "estatística = 0.5002, \n",
      "p-valor = 0.0000\n"
     ]
    }
   ],
   "source": [
    "estatistica, p_valor = kstest(dados, 'norm')\n",
    "print(f\"estatística = {estatistica:.4f}, \\np-valor = {p_valor:.4f}\")"
   ]
  },
  {
   "cell_type": "code",
   "execution_count": 8,
   "id": "8844f38d",
   "metadata": {},
   "outputs": [
    {
     "name": "stdout",
     "output_type": "stream",
     "text": [
      "A amostra não é normalmente distribuída (rejeita H0)\n"
     ]
    }
   ],
   "source": [
    "if p_valor < 0.05:\n",
    "    print(\"A amostra não é normalmente distribuída (rejeita H0)\")\n",
    "else:\n",
    "    print(\"A amostra é normalmente distribuída (não rejeita H0)\")"
   ]
  },
  {
   "cell_type": "code",
   "execution_count": 9,
   "id": "882d67bd",
   "metadata": {},
   "outputs": [
    {
     "data": {
      "image/png": "[encoded data removed]",
      "text/plain": [
       "<Figure size 640x480 with 1 Axes>"
      ]
     },
     "metadata": {},
     "output_type": "display_data"
    }
   ],
   "source": [
    "x = np.linspace(min(dados), max(dados), 300)\n",
    "y = norm.pdf(x, loc=0, scale=1)\n",
    "plt.hist(dados, bins=30, density=True, edgecolor='black', alpha=0.7, label='Histograma')\n",
    "plt.plot(x, y, color='blue', linewidth=2, label='Curva Normal')\n",
    "\n",
    "# Marcar o p_valor\n",
    "plt.axvline(p_valor, color='red', linestyle='--', label=f'p_valor = {p_valor:.4f}')\n",
    "\n",
    "# Marcar o valor 0.05\n",
    "plt.axvline(0.05, color='green', linestyle='--', label='0.05')\n",
    "\n",
    "plt.legend()\n",
    "plt.show()"
   ]
  },
  {
   "cell_type": "markdown",
   "id": "a0ebaced",
   "metadata": {},
   "source": [
    "### Teste Shapiro-Wilk"
   ]
  },
  {
   "cell_type": "markdown",
   "id": "79a03a6c",
   "metadata": {},
   "source": [
    "### Teste Shapiro-Wilk Manual"
   ]
  },
  {
   "cell_type": "code",
   "execution_count": 10,
   "id": "6b617b12",
   "metadata": {},
   "outputs": [],
   "source": [
    "def shapiro_wilk(dados):\n",
    "    dados = np.sort(dados)\n",
    "    n = len(dados)\n",
    "    \n",
    "    # Média e desvio padrão da amostra\n",
    "    media = np.mean(dados)\n",
    "    desvio = np.std(dados, ddof=1)\n",
    "    \n",
    "    # Estatísticas padronizadas\n",
    "    z = (dados - media) / desvio\n",
    "\n",
    "    # Coeficientes de Shapiro aproximados (usaremos simetria da normal)\n",
    "    # Para isso usamos quantis da normal padrão\n",
    "    m = norm.ppf([(i - 0.375) / (n + 0.25) for i in range(1, n + 1)])\n",
    "    m = m / np.linalg.norm(m)  # Normaliza m\n",
    "\n",
    "    # Soma ponderada dos dados ordenados com os coeficientes m\n",
    "    W_numerador = (np.sum(m * dados))**2\n",
    "    W_denominador = np.sum((dados - media)**2)\n",
    "\n",
    "    W = W_numerador / W_denominador\n",
    "    p_valor = shapiro(dados)[1]\n",
    "    return (W, p_valor)"
   ]
  },
  {
   "cell_type": "code",
   "execution_count": 11,
   "id": "45435671",
   "metadata": {},
   "outputs": [
    {
     "name": "stdout",
     "output_type": "stream",
     "text": [
      "Shapiro-Wilk Manual: 0.8375 | p-value: 0.0000\n"
     ]
    }
   ],
   "source": [
    "print(f\"Shapiro-Wilk Manual: {shapiro_wilk(dados)[0]:.4f} | p-value: {shapiro_wilk(dados)[1]:.4f}\")"
   ]
  },
  {
   "cell_type": "markdown",
   "id": "f9135ce0",
   "metadata": {},
   "source": [
    "### Teste Shapiro-Wilk Biblioteca\n"
   ]
  },
  {
   "cell_type": "code",
   "execution_count": 12,
   "id": "593f3515",
   "metadata": {},
   "outputs": [
    {
     "name": "stdout",
     "output_type": "stream",
     "text": [
      "estatística = 0.8380, \n",
      "p-valor = 0.0000\n"
     ]
    }
   ],
   "source": [
    "estatistica, p_valor = shapiro(dados)\n",
    "print(f\"estatística = {estatistica:.4f}, \\np-valor = {p_valor:.4f}\")"
   ]
  },
  {
   "cell_type": "code",
   "execution_count": 13,
   "id": "0340ecab",
   "metadata": {},
   "outputs": [
    {
     "name": "stdout",
     "output_type": "stream",
     "text": [
      "A amostra não é normalmente distribuída (rejeita H0)\n"
     ]
    }
   ],
   "source": [
    "if p_valor <= 0.05:\n",
    "    print(\"A amostra não é normalmente distribuída (rejeita H0)\")\n",
    "else:\n",
    "    print(\"A amostra é normalmente distribuída (não rejeita H0)\")"
   ]
  },
  {
   "cell_type": "code",
   "execution_count": 14,
   "id": "1b202bd1",
   "metadata": {},
   "outputs": [
    {
     "data": {
      "image/png": "[encoded data removed]",
      "text/plain": [
       "<Figure size 640x480 with 1 Axes>"
      ]
     },
     "metadata": {},
     "output_type": "display_data"
    }
   ],
   "source": [
    "x = np.linspace(min(dados), max(dados), 300)\n",
    "y = norm.pdf(x, loc=0, scale=1)\n",
    "plt.hist(dados, bins=30, density=True, edgecolor='black', alpha=0.7, label='Histograma')\n",
    "plt.plot(x, y, color='blue', linewidth=2, label='Curva Normal')\n",
    "\n",
    "# Marcar o p_valor\n",
    "plt.axvline(p_valor, color='red', linestyle='--', label=f'p_valor = {p_valor:.4f}')\n",
    "\n",
    "# Marcar o valor 0.05\n",
    "plt.axvline(0.05, color='green', linestyle='--', label='0.05')\n",
    "\n",
    "plt.legend()\n",
    "plt.show()"
   ]
  },
  {
   "cell_type": "markdown",
   "id": "cea4cbf9",
   "metadata": {},
   "source": [
    "### Teste Shapiro-Francia"
   ]
  },
  {
   "cell_type": "markdown",
   "id": "da73d0c1",
   "metadata": {},
   "source": [
    "### Teste Shapiro-Francia Manual"
   ]
  },
  {
   "cell_type": "code",
   "execution_count": 15,
   "id": "bcfce54f",
   "metadata": {},
   "outputs": [],
   "source": [
    "def shapiro_francia_test(x):\n",
    "    x = np.sort(x)\n",
    "    n = len(x)\n",
    "\n",
    "    # Média dos dados\n",
    "    x_mean = np.mean(x)\n",
    "\n",
    "    # Quantis esperados da normal padrão\n",
    "    m = norm.ppf([(i - 0.375) / (n + 0.25) for i in range(1, n + 1)])\n",
    "    m_mean = np.mean(m)\n",
    "\n",
    "    # Coeficientes 'a' (normalizados)\n",
    "    u = m - m_mean\n",
    "    a = u / np.sqrt(np.sum(u ** 2))\n",
    "\n",
    "    # Numerador e denominador de W'\n",
    "    numerator = (np.sum(a * x)) ** 2\n",
    "    denominator = np.sum((x - x_mean) ** 2)\n",
    "\n",
    "    W_prime = numerator / denominator\n",
    "    p_value = shapiro(x)[1]\n",
    "    return (W_prime, p_value)"
   ]
  },
  {
   "cell_type": "code",
   "execution_count": 16,
   "id": "482a5215",
   "metadata": {},
   "outputs": [
    {
     "name": "stdout",
     "output_type": "stream",
     "text": [
      "Shapiro-Francia: W' = 0.8375, p-valor = 0.0000\n"
     ]
    }
   ],
   "source": [
    "stat, p = shapiro_francia_test(dados)\n",
    "print(f\"Shapiro-Francia: W' = {stat:.4f}, p-valor = {p:.4f}\")"
   ]
  },
  {
   "cell_type": "code",
   "execution_count": 17,
   "id": "af6e2233",
   "metadata": {},
   "outputs": [
    {
     "name": "stdout",
     "output_type": "stream",
     "text": [
      "A amostra não é normalmente distribuída (rejeita H0)\n"
     ]
    }
   ],
   "source": [
    "if p <= 0.05:\n",
    "    print(\"A amostra não é normalmente distribuída (rejeita H0)\")\n",
    "else:\n",
    "    print(\"A amostra é normalmente distribuída (não rejeita H0)\")"
   ]
  },
  {
   "cell_type": "code",
   "execution_count": 18,
   "id": "117d6a2f",
   "metadata": {},
   "outputs": [
    {
     "data": {
      "image/png": "[encoded data removed]",
      "text/plain": [
       "<Figure size 640x480 with 1 Axes>"
      ]
     },
     "metadata": {},
     "output_type": "display_data"
    }
   ],
   "source": [
    "x = np.linspace(min(dados), max(dados), 300)\n",
    "y = norm.pdf(x, loc=0, scale=1)\n",
    "plt.hist(dados, bins=30, density=True, edgecolor='black', alpha=0.7, label='Histograma')\n",
    "plt.plot(x, y, color='blue', linewidth=2, label='Curva Normal')\n",
    "\n",
    "# Marcar o p_valor\n",
    "plt.axvline(p_valor, color='red', linestyle='--', label=f'p_valor = {p_valor:.4f}')\n",
    "\n",
    "# Marcar o valor 0.05\n",
    "plt.axvline(0.05, color='green', linestyle='--', label='0.05')\n",
    "\n",
    "plt.legend()\n",
    "plt.show()"
   ]
  },
  {
   "cell_type": "markdown",
   "id": "d437b050",
   "metadata": {},
   "source": [
    "### Dados para Teste de Média Populacional"
   ]
  },
  {
   "cell_type": "markdown",
   "id": "89757286",
   "metadata": {},
   "source": [
    "Comparar se a média de dois grupos é diferente"
   ]
  },
  {
   "cell_type": "markdown",
   "id": "96a66702",
   "metadata": {},
   "source": [
    "Então iremos avaliar o p_valor:\n",
    "\n",
    "- p > 0.05 → as médias são provavelmente iguais\n",
    "\n",
    "- p ≤ 0.05 → as médias são provavelmente diferentes"
   ]
  },
  {
   "cell_type": "code",
   "execution_count": 19,
   "id": "963992d9",
   "metadata": {},
   "outputs": [],
   "source": [
    "#grupo1 = np.random.normal(0, 1, 20)\n",
    "#grupo2 = np.random.normal(0, 1, 20)"
   ]
  },
  {
   "cell_type": "code",
   "execution_count": 20,
   "id": "3d854313",
   "metadata": {},
   "outputs": [],
   "source": [
    "grupo1 = random.choice([\n",
    "    np.random.normal(0, 1, 20),\n",
    "    np.random.exponential(1, 20),\n",
    "    np.random.uniform(-2, 2, 20),\n",
    "    np.concatenate([np.random.normal(0, 1, 20), np.random.uniform(10, 20, 50)])\n",
    "])\n",
    "\n",
    "grupo2 = random.choice([\n",
    "    np.random.normal(0, 1, 20),\n",
    "    np.random.exponential(1, 20),\n",
    "    np.random.uniform(-2, 2, 20),\n",
    "    np.concatenate([np.random.normal(0, 1, 20), np.random.uniform(10, 20, 50)])\n",
    "])"
   ]
  },
  {
   "cell_type": "code",
   "execution_count": 21,
   "id": "77617848",
   "metadata": {},
   "outputs": [
    {
     "data": {
      "text/plain": [
       "array([-1.03507595, -0.08733907, -0.82131035, -0.93367667,  0.86807131,\n",
       "        1.27459487,  1.15188342, -0.4082014 , -0.02949921,  0.1181291 ,\n",
       "       -1.33592291,  0.79678969,  1.76069249, -0.22888885, -0.91458828,\n",
       "       -0.97992846,  0.95791422, -1.00991367,  0.40138194,  0.97840071])"
      ]
     },
     "execution_count": 21,
     "metadata": {},
     "output_type": "execute_result"
    }
   ],
   "source": [
    "grupo1"
   ]
  },
  {
   "cell_type": "code",
   "execution_count": 22,
   "id": "3982cf45",
   "metadata": {},
   "outputs": [
    {
     "data": {
      "text/plain": [
       "array([-0.05854566,  0.82901305, -0.5530032 , -0.57436064,  1.27551991,\n",
       "       -0.1853043 , -2.12636537,  1.594864  , -1.03451712, -0.01567106,\n",
       "        0.10823384,  0.39124498,  0.98970376,  0.17000339,  0.68296624,\n",
       "        0.58726197,  2.02044312,  0.73283177,  0.37651754,  1.17368213])"
      ]
     },
     "execution_count": 22,
     "metadata": {},
     "output_type": "execute_result"
    }
   ],
   "source": [
    "grupo2"
   ]
  },
  {
   "cell_type": "markdown",
   "id": "9cc4b8d9",
   "metadata": {},
   "source": [
    "### Teste Z"
   ]
  },
  {
   "cell_type": "markdown",
   "id": "dc04f19c",
   "metadata": {},
   "source": [
    "### Teste Z manual"
   ]
  },
  {
   "cell_type": "code",
   "execution_count": 23,
   "id": "9489834b",
   "metadata": {},
   "outputs": [],
   "source": [
    "def teste_z_duas_amostras(grupo1, grupo2, sigma1, sigma2):\n",
    "    n1, n2 = len(grupo1), len(grupo2)\n",
    "    media1, media2 = np.mean(grupo1), np.mean(grupo2)\n",
    "\n",
    "    # Fórmula do Z para duas amostras com desvio conhecido\n",
    "    z = (media1 - media2) / np.sqrt((sigma1**2)/n1 + (sigma2**2)/n2)\n",
    "\n",
    "    # P-valor para teste bilateral\n",
    "    p_valor = 2 * (1 - norm.cdf(abs(z)))\n",
    "\n",
    "    return z, p_valor"
   ]
  },
  {
   "cell_type": "code",
   "execution_count": 24,
   "id": "a5c6e6bb",
   "metadata": {},
   "outputs": [],
   "source": [
    "z, p = teste_z_duas_amostras(grupo1, grupo2, sigma1=1, sigma2=1)"
   ]
  },
  {
   "cell_type": "code",
   "execution_count": 25,
   "id": "04823d74",
   "metadata": {},
   "outputs": [
    {
     "name": "stdout",
     "output_type": "stream",
     "text": [
      "Z = -0.9267\n",
      "P-valor = 0.3541\n"
     ]
    }
   ],
   "source": [
    "print(f\"Z = {z:.4f}\")\n",
    "print(f\"P-valor = {p:.4f}\")"
   ]
  },
  {
   "cell_type": "code",
   "execution_count": 26,
   "id": "80c4f26f",
   "metadata": {},
   "outputs": [
    {
     "name": "stdout",
     "output_type": "stream",
     "text": [
      "Não rejeita H0: não há evidência forte de diferença.\n"
     ]
    }
   ],
   "source": [
    "if p < 0.05:\n",
    "    print(\"Rejeita H0: diferença estatisticamente significativa.\")\n",
    "else:\n",
    "    print(\"Não rejeita H0: não há evidência forte de diferença.\")"
   ]
  },
  {
   "cell_type": "markdown",
   "id": "7c19f4df",
   "metadata": {},
   "source": [
    "### Teste TStudent"
   ]
  },
  {
   "cell_type": "markdown",
   "id": "bc7e253b",
   "metadata": {},
   "source": [
    "### Tstudent uma amostra -  manual"
   ]
  },
  {
   "cell_type": "code",
   "execution_count": null,
   "id": "03ff949a",
   "metadata": {},
   "outputs": [],
   "source": [
    "def teste_t_amostra(grupo, mu=0, alpha=0.05):\n",
    "    \"\"\"\n",
    "    Realiza o teste t para uma amostra.\n",
    "\n",
    "    Parâmetros:\n",
    "    - grupo: array-like, dados da amostra\n",
    "    - mu: valor da média populacional para o teste (default = 0)\n",
    "    - alpha: nível de significância (default = 0.05)\n",
    "\n",
    "    Retorna:\n",
    "    - t_calculado: valor t da amostra\n",
    "    - t_critico: valor t crítico para o nível de significância\n",
    "    - rejeitar_H0: booleano indicando se H0 é rejeitada\n",
    "    - mu: média populacional hipotética\n",
    "    - alpha: nível de significância\n",
    "    \"\"\"\n",
    "\n",
    "    # Calcular a média da amostra\n",
    "    media_amostra = np.mean(grupo)\n",
    "\n",
    "    # Calcular o desvio padrão amostral (ddof=1 -> desvio amostral)\n",
    "    desvio_amostra = np.std(grupo, ddof=1)\n",
    "\n",
    "    # Número de observações na amostra\n",
    "    n = len(grupo)\n",
    "\n",
    "    # Calcular o valor t\n",
    "    t_calculado = (media_amostra - mu) / (desvio_amostra / np.sqrt(n))\n",
    "\n",
    "    # Graus de liberdade\n",
    "    df = n - 1\n",
    "\n",
    "    # Valor crítico t (teste bilateral: alpha/2 em cada cauda)\n",
    "    t_critico = t_dist.ppf(1 - alpha / 2, df)\n",
    "\n",
    "    # Testar se devemos rejeitar H0\n",
    "    rejeitar_H0 = abs(t_calculado) > t_critico\n",
    "\n",
    "    return t_calculado, t_critico, rejeitar_H0, df"
   ]
  },
  {
   "cell_type": "code",
   "execution_count": null,
   "id": "cd4a32ec",
   "metadata": {},
   "outputs": [
    {
     "name": "stdout",
     "output_type": "stream",
     "text": [
      "Valor t calculado: 0.1240\n",
      "Valor t crítico: 2.0930\n",
      "Rejeitar H0? Não\n"
     ]
    }
   ],
   "source": [
    "t_calculado, t_critico, rejeitar_H0, df = teste_t_amostra(grupo1)\n",
    "print(f\"Valor t calculado: {t_calculado:.4f}\")\n",
    "print(f\"Valor t crítico: {t_critico:.4f}\")\n",
    "print(f\"Graus de liberdade: {df}\")\n",
    "print(f\"Rejeitar H0? {'Sim' if rejeitar_H0 else 'Não'}\")"
   ]
  },
  {
   "cell_type": "markdown",
   "id": "30eb5cf9",
   "metadata": {},
   "source": [
    "### Tstudent uma amostra - Biblioteca"
   ]
  },
  {
   "cell_type": "code",
   "execution_count": 29,
   "id": "f0c71ab2",
   "metadata": {},
   "outputs": [],
   "source": [
    "mu = 0\n",
    "t_stat, p_value = stats.ttest_1samp(grupo1, mu)"
   ]
  },
  {
   "cell_type": "code",
   "execution_count": 30,
   "id": "a87b8d89",
   "metadata": {},
   "outputs": [
    {
     "name": "stdout",
     "output_type": "stream",
     "text": [
      "Valor t calculado: 0.1240\n",
      "Valor p: 0.9026\n",
      "Não rejeitar H0: A média da amostra não é significativamente diferente de 0\n"
     ]
    }
   ],
   "source": [
    "print(f\"Valor t calculado: {t_stat:.4f}\")\n",
    "print(f\"Valor p: {p_value:.4f}\")\n",
    "\n",
    "# Decisão sobre a hipótese nula\n",
    "alpha = 0.05\n",
    "if p_value < alpha:\n",
    "    print(\"Rejeitar H0: A média da amostra é significativamente diferente de\", mu)\n",
    "else:\n",
    "    print(\"Não rejeitar H0: A média da amostra não é significativamente diferente de\", mu)"
   ]
  },
  {
   "cell_type": "code",
   "execution_count": 31,
   "id": "2923a9ca",
   "metadata": {},
   "outputs": [
    {
     "data": {
      "image/png": "[encoded data removed]",
      "text/plain": [
       "<Figure size 1000x600 with 1 Axes>"
      ]
     },
     "metadata": {},
     "output_type": "display_data"
    }
   ],
   "source": [
    "def plot_t_student_bilateral(t_calculado, df, alpha=0.05):\n",
    "    \"\"\"\n",
    "    Plota a distribuição t de Student para um teste bilateral,\n",
    "    destacando as regiões de rejeição e o valor t calculado.\n",
    "\n",
    "    Parâmetros:\n",
    "    - t_calculado: valor t da amostra\n",
    "    - df: graus de liberdade (n - 1)\n",
    "    - alpha: nível de significância (default = 0.05)\n",
    "    \"\"\"\n",
    "\n",
    "    # Gerar valores t no intervalo\n",
    "    t_vals = np.linspace(-4, 4, 500)\n",
    "    \n",
    "    # Obter densidade de probabilidade\n",
    "    pdf = t_dist.pdf(t_vals, df)\n",
    "\n",
    "    # Valores críticos para o teste bilateral\n",
    "    t_critico = t_dist.ppf(1 - alpha/2, df)\n",
    "\n",
    "    # Plotar a curva da distribuição t\n",
    "    plt.figure(figsize=(10, 6))\n",
    "    plt.plot(t_vals, pdf, label=f\"Distribuição t (df={df})\", color=\"black\")\n",
    "\n",
    "    # Preencher regiões de rejeição (caudas)\n",
    "    plt.fill_between(t_vals, 0, pdf, where=(t_vals <= -t_critico), color='red', alpha=0.5, label=\"Região de Rejeição\")\n",
    "    plt.fill_between(t_vals, 0, pdf, where=(t_vals >= t_critico), color='red', alpha=0.5)\n",
    "\n",
    "    # Marcar valor t crítico (positivo e negativo)\n",
    "    plt.axvline(x=-t_critico, color='red', linestyle='--', label=f\"t crítico = ±{t_critico:.2f}\")\n",
    "    plt.axvline(x=t_critico, color='red', linestyle='--')\n",
    "\n",
    "    # Marcar valor t calculado\n",
    "    plt.axvline(x=t_calculado, color='blue', linestyle='-', label=f\"t calculado = {t_calculado:.2f}\")\n",
    "\n",
    "    # Configurações do gráfico\n",
    "    plt.title('Distribuição t de Student - Teste Bilateral')\n",
    "    plt.xlabel('t')\n",
    "    plt.ylabel('Densidade de Probabilidade')\n",
    "    plt.legend()\n",
    "    plt.grid(True)\n",
    "    plt.show()\n",
    "\n",
    "df = len(grupo1) - 1\n",
    "plot_t_student_bilateral(t_calculado, df)"
   ]
  },
  {
   "cell_type": "markdown",
   "id": "1e431117",
   "metadata": {},
   "source": [
    "### Tstudent Independente - Manual"
   ]
  },
  {
   "cell_type": "code",
   "execution_count": 32,
   "id": "58c261ce",
   "metadata": {},
   "outputs": [],
   "source": [
    "import math\n",
    "def t_student_duas_amostras(amostra1, amostra2, alpha=0.05):\n",
    "    \"\"\"\n",
    "    Calcula o valor t para comparação de duas amostras independentes \n",
    "    assumindo variâncias iguais (teste t para duas amostras).\n",
    "\n",
    "    Parâmetros:\n",
    "    - amostra1: dados da primeira amostra\n",
    "    - amostra2: dados da segunda amostra\n",
    "    - alpha: nível de significância (default = 0.05)\n",
    "\n",
    "    Retorna:\n",
    "    - t_calculado: valor t obtido\n",
    "    - df: graus de liberdade\n",
    "    \"\"\"\n",
    "\n",
    "    # Tamanho das amostras\n",
    "    n1, n2 = len(amostra1), len(amostra2)\n",
    "\n",
    "    # Médias das amostras\n",
    "    media1 = sum(amostra1) / n1\n",
    "    media2 = sum(amostra2) / n2\n",
    "\n",
    "    # Variâncias amostrais\n",
    "    var1 = sum((x - media1)**2 for x in amostra1) / (n1 - 1)\n",
    "    var2 = sum((x - media2)**2 for x in amostra2) / (n2 - 1)\n",
    "\n",
    "    # Variância combinada (assumindo variâncias iguais)\n",
    "    sp = math.sqrt(((n1 - 1) * var1 + (n2 - 1) * var2) / (n1 + n2 - 2))\n",
    "\n",
    "    # Valor t calculado\n",
    "    t_calculado = (media1 - media2) / (sp * math.sqrt(1/n1 + 1/n2))\n",
    "\n",
    "    # Graus de liberdade\n",
    "    df = n1 + n2 - 2\n",
    "\n",
    "    return t_calculado, df"
   ]
  },
  {
   "cell_type": "code",
   "execution_count": 33,
   "id": "032aec0e",
   "metadata": {},
   "outputs": [
    {
     "name": "stdout",
     "output_type": "stream",
     "text": [
      "Valor t calculado: -0.9778\n",
      "Graus de liberdade: 38\n"
     ]
    }
   ],
   "source": [
    "t_calculado, df = t_student_duas_amostras(grupo1, grupo2)\n",
    "\n",
    "print(f\"Valor t calculado: {t_calculado:.4f}\")\n",
    "print(f\"Graus de liberdade: {df}\")"
   ]
  },
  {
   "cell_type": "markdown",
   "id": "c4a5396e",
   "metadata": {},
   "source": [
    "### Tstudent Independente - Biblioteca"
   ]
  },
  {
   "cell_type": "code",
   "execution_count": 34,
   "id": "808923bb",
   "metadata": {},
   "outputs": [
    {
     "name": "stdout",
     "output_type": "stream",
     "text": [
      "t-Student: estatística = -0.9778, p-valor = 0.3343\n"
     ]
    }
   ],
   "source": [
    "stat, p = ttest_ind(grupo1, grupo2, equal_var=True)\n",
    "print(f\"t-Student: estatística = {stat:.4f}, p-valor = {p:.4f}\")"
   ]
  },
  {
   "cell_type": "code",
   "execution_count": 35,
   "id": "e793f00b",
   "metadata": {},
   "outputs": [
    {
     "name": "stdout",
     "output_type": "stream",
     "text": [
      "As médias são significativamente iguais (não rejeita H0)\n"
     ]
    }
   ],
   "source": [
    "if p <= 0.05:\n",
    "    print(\"As médias são diferentes (rejeita H0)\")\n",
    "else:  \n",
    "    print(\"As médias são significativamente iguais (não rejeita H0)\")"
   ]
  },
  {
   "cell_type": "code",
   "execution_count": 36,
   "id": "72738112",
   "metadata": {},
   "outputs": [
    {
     "data": {
      "image/png": "[encoded data removed]",
      "text/plain": [
       "<Figure size 640x480 with 1 Axes>"
      ]
     },
     "metadata": {},
     "output_type": "display_data"
    }
   ],
   "source": [
    "sns.boxplot(data=[grupo1, grupo2])\n",
    "plt.xticks([0, 1], ['Grupo 1', 'Grupo 2'])\n",
    "plt.title('Boxplot dos Grupos')\n",
    "plt.ylabel('Valores')\n",
    "plt.show()"
   ]
  },
  {
   "cell_type": "markdown",
   "id": "c9f16f06",
   "metadata": {},
   "source": [
    "### Tstudent Emparelhado - Manual"
   ]
  },
  {
   "cell_type": "code",
   "execution_count": 37,
   "id": "da8b70c8",
   "metadata": {},
   "outputs": [],
   "source": [
    "grupo1 = random.choice([\n",
    "    np.random.normal(0, 1, 20),\n",
    "    np.random.exponential(1, 20),\n",
    "    np.random.uniform(-2, 2, 20),\n",
    "    np.concatenate([np.random.normal(0, 1, 10), np.random.uniform(10, 20, 10)])  \n",
    "])\n",
    "\n",
    "# Simulando uma mudança no grupo (grupo2) para amostras pareadas\n",
    "grupo2 = grupo1 + np.random.normal(0, 0.5, 20)"
   ]
  },
  {
   "cell_type": "code",
   "execution_count": null,
   "id": "a841fa7c",
   "metadata": {},
   "outputs": [],
   "source": [
    "def t_student_amostras_emparelhadas(grupo1, grupo2, alpha=0.05):\n",
    "    \"\"\"\n",
    "    Realiza o teste t de Student para amostras emparelhadas, comparando as médias das diferenças.\n",
    "\n",
    "    Parâmetros:\n",
    "    - grupo1: dados da primeira amostra\n",
    "    - grupo2: dados da segunda amostra\n",
    "    - alpha: nível de significância (default = 0.05)\n",
    "\n",
    "    Retorna:\n",
    "    - t_calculado: valor t obtido\n",
    "    - p_valor: valor p para o teste\n",
    "    - rejeitar_H0: booleano indicando se H0 é rejeitada\n",
    "    \"\"\"\n",
    "    \n",
    "    # Calcular as diferenças (d = grupo1 - grupo2)\n",
    "    diferencas = np.array(grupo1) - np.array(grupo2)\n",
    "\n",
    "    # Calcular a média das diferenças (d_bar)\n",
    "    media_diferencas = np.mean(diferencas)\n",
    "\n",
    "    # Calcular o desvio padrão das diferenças (s_d) - amostral\n",
    "    desvio_diferencas = np.std(diferencas, ddof=1)\n",
    "\n",
    "    # Número de pares\n",
    "    n = len(diferencas)\n",
    "\n",
    "    # Calcular o valor t\n",
    "    t_calculado = media_diferencas / (desvio_diferencas / np.sqrt(n))\n",
    "\n",
    "    # Calcular os graus de liberdade (df)\n",
    "    df = n - 1\n",
    "\n",
    "    # Calcular o p-valor (teste bilateral)\n",
    "    p_valor = 2 * (1 - t_dist.cdf(abs(t_calculado), df))\n",
    "\n",
    "    # Determinar se devemos rejeitar H0\n",
    "    rejeitar_H0 = p_valor < alpha\n",
    "\n",
    "    return t_calculado, p_valor, rejeitar_H0, df\n"
   ]
  },
  {
   "cell_type": "code",
   "execution_count": null,
   "id": "dcea1490",
   "metadata": {},
   "outputs": [
    {
     "name": "stdout",
     "output_type": "stream",
     "text": [
      "Valor t calculado: -0.3666\n",
      "p-valor: 0.7180\n",
      "Rejeitar H0? Não\n"
     ]
    }
   ],
   "source": [
    "t_calculado, p_valor, rejeitar_H0, df = t_student_amostras_emparelhadas(grupo1, grupo2)\n",
    "print(f\"Valor t calculado: {t_calculado:.4f}\")\n",
    "print(f\"p-valor: {p_valor:.4f}\")\n",
    "print(f\"Graus de liberdade: {df}\")\n",
    "print(f\"Rejeitar H0? {'Sim' if rejeitar_H0 else 'Não'}\")"
   ]
  },
  {
   "cell_type": "markdown",
   "id": "46e6e8fc",
   "metadata": {},
   "source": [
    "### Tsudent Emparelhado - Biblioteca"
   ]
  },
  {
   "cell_type": "code",
   "execution_count": 40,
   "id": "84b87893",
   "metadata": {},
   "outputs": [
    {
     "name": "stdout",
     "output_type": "stream",
     "text": [
      "Estatística t: -0.3666\n",
      "P-valor: 0.7180\n"
     ]
    }
   ],
   "source": [
    "t_stat, p_value = stats.ttest_rel(grupo1, grupo2)\n",
    "print(f\"Estatística t: {t_stat:.4f}\")\n",
    "print(f\"P-valor: {p_value:.4f}\")"
   ]
  },
  {
   "cell_type": "code",
   "execution_count": 41,
   "id": "e278efba",
   "metadata": {},
   "outputs": [
    {
     "name": "stdout",
     "output_type": "stream",
     "text": [
      "Não rejeitamos H0: As médias dos dois grupos pareados são significadamente iguais.\n"
     ]
    }
   ],
   "source": [
    "if p_value < 0.05:\n",
    "    print(\"Rejeitamos H0: As médias dos dois grupos pareados são diferentes.\")\n",
    "else:\n",
    "    print(\"Não rejeitamos H0: As médias dos dois grupos pareados são significadamente iguais.\")"
   ]
  },
  {
   "cell_type": "code",
   "execution_count": 42,
   "id": "004c788a",
   "metadata": {},
   "outputs": [
    {
     "data": {
      "image/png": "[encoded data removed]",
      "text/plain": [
       "<Figure size 640x480 with 1 Axes>"
      ]
     },
     "metadata": {},
     "output_type": "display_data"
    }
   ],
   "source": [
    "sns.boxplot(data=[grupo1, grupo2])\n",
    "plt.xticks([0, 1], ['Grupo 1', 'Grupo 2'])\n",
    "plt.title('Boxplot dos Grupos')\n",
    "plt.ylabel('Valores')\n",
    "plt.show()"
   ]
  },
  {
   "cell_type": "markdown",
   "id": "24b6bbf0",
   "metadata": {},
   "source": [
    "### Testes de Homogeneidade de variâncias"
   ]
  },
  {
   "cell_type": "markdown",
   "id": "f0d97ade",
   "metadata": {},
   "source": [
    "Então iremos avaliar o p_valor:\n",
    "\n",
    "- p > 0.05 → as variâncias são provavelmente iguais\n",
    "\n",
    "- p ≤ 0.05 → as variâncias são provavelmente diferentes"
   ]
  },
  {
   "cell_type": "markdown",
   "id": "87f69916",
   "metadata": {},
   "source": [
    "### Teste Bartlett - Manual"
   ]
  },
  {
   "cell_type": "markdown",
   "id": "97f73d84",
   "metadata": {},
   "source": [
    "Teste Bartlett Manual"
   ]
  },
  {
   "cell_type": "code",
   "execution_count": null,
   "id": "0bd4f491",
   "metadata": {},
   "outputs": [],
   "source": [
    "def bartlett_duas_amostras(amostra1, amostra2):\n",
    "    \"\"\"\n",
    "    Realiza o teste de Bartlett para comparar as variâncias de duas amostras,\n",
    "    verificando se elas vêm de populações com variâncias homogêneas.\n",
    "\n",
    "    Parâmetros:\n",
    "    - amostra1: lista ou array com os dados da primeira amostra\n",
    "    - amostra2: lista ou array com os dados da segunda amostra\n",
    "\n",
    "    Retorna:\n",
    "    - estatistica: valor da estatística do teste de Bartlett\n",
    "    - p_valor: valor p para o teste\n",
    "    \"\"\"\n",
    "    \n",
    "    # Número de observações em cada amostra\n",
    "    n1, n2 = len(amostra1), len(amostra2)\n",
    "\n",
    "    # Média das amostras\n",
    "    media1 = sum(amostra1) / n1\n",
    "    media2 = sum(amostra2) / n2\n",
    "\n",
    "    # Variância das amostras (usando fórmula amostral)\n",
    "    var1 = sum((x - media1)**2 for x in amostra1) / (n1 - 1)\n",
    "    var2 = sum((x - media2)**2 for x in amostra2) / (n2 - 1)\n",
    "\n",
    "    # Variância combinada\n",
    "    sp = ((n1 - 1)*var1 + (n2 - 1)*var2) / (n1 + n2 - 2)\n",
    "\n",
    "    # Estatística A (baseada nas variâncias)\n",
    "    A = (n1 + n2 - 2) * math.log(sp) - (n1 - 1) * math.log(var1) - (n2 - 1) * math.log(var2)\n",
    "\n",
    "    # Estatística B, que leva em consideração o número de observações\n",
    "    B = 1 + (1 / (3 * (2 - 1))) * (1 / (n1 - 1) + 1 / (n2 - 1) - 1 / (n1 + n2 - 2))\n",
    "\n",
    "    # Estatística do teste de Bartlett\n",
    "    estatistica = A / B\n",
    "\n",
    "    # Calcular o p-valor usando a distribuição qui-quadrado (chi2) com 1 grau de liberdade\n",
    "    p_valor = 1 - stats.chi2.cdf(estatistica, df=1)\n",
    "\n",
    "    return estatistica, p_valor"
   ]
  },
  {
   "cell_type": "markdown",
   "id": "4706f80a",
   "metadata": {},
   "source": [
    "O CDF calcula a probabilidade acumulada de um valor observado ser menor ou igual a um valor específico em uma distribuição qui-quadrado.\n",
    "\n",
    "Subtrair o CDF de 1 nos dá a probabilidade de que o valor observado seja maior que o valor calculado, que é o p-valor usado para tomar a decisão no teste de hipóteses."
   ]
  },
  {
   "cell_type": "code",
   "execution_count": 44,
   "id": "9b351124",
   "metadata": {},
   "outputs": [
    {
     "name": "stdout",
     "output_type": "stream",
     "text": [
      "Estatística do teste de Bartlett: 0.4166\n",
      "P-valor: 0.5186\n"
     ]
    }
   ],
   "source": [
    "estatistica, p_valor = bartlett_duas_amostras(grupo1, grupo2)\n",
    "\n",
    "# Exibir os resultados\n",
    "print(f\"Estatística do teste de Bartlett: {estatistica:.4f}\")\n",
    "print(f\"P-valor: {p_valor:.4f}\")"
   ]
  },
  {
   "cell_type": "markdown",
   "id": "8c57064c",
   "metadata": {},
   "source": [
    "### Teste Barlett - Biblioteca"
   ]
  },
  {
   "cell_type": "code",
   "execution_count": 45,
   "id": "3f3dc168",
   "metadata": {},
   "outputs": [
    {
     "name": "stdout",
     "output_type": "stream",
     "text": [
      "Bartlett: estatística = 0.4166, p-valor = 0.5186\n"
     ]
    }
   ],
   "source": [
    "stat, p = bartlett(grupo1, grupo2)\n",
    "print(f\"Bartlett: estatística = {stat:.4f}, p-valor = {p:.4f}\")"
   ]
  },
  {
   "cell_type": "code",
   "execution_count": 46,
   "id": "4747d829",
   "metadata": {},
   "outputs": [
    {
     "name": "stdout",
     "output_type": "stream",
     "text": [
      "Variancia grupo1: 0.3158247499670753\n",
      "Variancia grupo2: 0.42657381309300524\n"
     ]
    }
   ],
   "source": [
    "print(\"Variancia grupo1:\", np.var(grupo1, ddof=1))\n",
    "print(\"Variancia grupo2:\", np.var(grupo2, ddof=1))"
   ]
  },
  {
   "cell_type": "code",
   "execution_count": 47,
   "id": "409c078e",
   "metadata": {},
   "outputs": [
    {
     "name": "stdout",
     "output_type": "stream",
     "text": [
      "Todas as variâncias são significamente iguais (não rejeita H0)\n"
     ]
    }
   ],
   "source": [
    "if p <= 0.05:\n",
    "    print(\"Uma ou mais variâncias são diferentes (rejeita H0)\")\n",
    "else:\n",
    "    print(\"Todas as variâncias são significamente iguais (não rejeita H0)\")"
   ]
  },
  {
   "cell_type": "code",
   "execution_count": 48,
   "id": "05891e4f",
   "metadata": {},
   "outputs": [
    {
     "data": {
      "image/png": "[encoded data removed]",
      "text/plain": [
       "<Figure size 640x480 with 1 Axes>"
      ]
     },
     "metadata": {},
     "output_type": "display_data"
    }
   ],
   "source": [
    "sns.boxplot(data=[grupo1, grupo2])\n",
    "plt.xticks([0, 1], ['Grupo 1', 'Grupo 2'])\n",
    "plt.title('Boxplot dos Grupos')\n",
    "plt.ylabel('Valores')\n",
    "plt.show()"
   ]
  }
 ],
 "metadata": {
  "kernelspec": {
   "display_name": "Python 3",
   "language": "python",
   "name": "python3"
  },
  "language_info": {
   "codemirror_mode": {
    "name": "ipython",
    "version": 3
   },
   "file_extension": ".py",
   "mimetype": "text/x-python",
   "name": "python",
   "nbconvert_exporter": "python",
   "pygments_lexer": "ipython3",
   "version": "3.12.10"
  }
 },
 "nbformat": 4,
 "nbformat_minor": 5
}
