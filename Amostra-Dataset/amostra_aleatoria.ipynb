{
 "cells": [
  {
   "cell_type": "code",
   "execution_count": 1,
   "id": "33d98ecf",
   "metadata": {},
   "outputs": [
    {
     "name": "stdout",
     "output_type": "stream",
     "text": [
      "Defaulting to user installation because normal site-packages is not writeable\n",
      "Requirement already satisfied: pingouin in c:\\users\\wesle\\appdata\\local\\packages\\pythonsoftwarefoundation.python.3.12_qbz5n2kfra8p0\\localcache\\local-packages\\python312\\site-packages (0.5.5)\n",
      "Requirement already satisfied: matplotlib in c:\\users\\wesle\\appdata\\local\\packages\\pythonsoftwarefoundation.python.3.12_qbz5n2kfra8p0\\localcache\\local-packages\\python312\\site-packages (from pingouin) (3.8.3)\n",
      "Requirement already satisfied: numpy in c:\\users\\wesle\\appdata\\local\\packages\\pythonsoftwarefoundation.python.3.12_qbz5n2kfra8p0\\localcache\\local-packages\\python312\\site-packages (from pingouin) (1.26.4)\n",
      "Requirement already satisfied: pandas>=1.5 in c:\\users\\wesle\\appdata\\local\\packages\\pythonsoftwarefoundation.python.3.12_qbz5n2kfra8p0\\localcache\\local-packages\\python312\\site-packages (from pingouin) (2.2.1)\n",
      "Requirement already satisfied: pandas-flavor in c:\\users\\wesle\\appdata\\local\\packages\\pythonsoftwarefoundation.python.3.12_qbz5n2kfra8p0\\localcache\\local-packages\\python312\\site-packages (from pingouin) (0.7.0)\n",
      "Requirement already satisfied: scikit-learn>=1.2 in c:\\users\\wesle\\appdata\\local\\packages\\pythonsoftwarefoundation.python.3.12_qbz5n2kfra8p0\\localcache\\local-packages\\python312\\site-packages (from pingouin) (1.4.1.post1)\n",
      "Requirement already satisfied: scipy in c:\\users\\wesle\\appdata\\local\\packages\\pythonsoftwarefoundation.python.3.12_qbz5n2kfra8p0\\localcache\\local-packages\\python312\\site-packages (from pingouin) (1.13.0)\n",
      "Requirement already satisfied: seaborn in c:\\users\\wesle\\appdata\\local\\packages\\pythonsoftwarefoundation.python.3.12_qbz5n2kfra8p0\\localcache\\local-packages\\python312\\site-packages (from pingouin) (0.13.2)\n",
      "Requirement already satisfied: statsmodels in c:\\users\\wesle\\appdata\\local\\packages\\pythonsoftwarefoundation.python.3.12_qbz5n2kfra8p0\\localcache\\local-packages\\python312\\site-packages (from pingouin) (0.14.2)\n",
      "Requirement already satisfied: tabulate in c:\\users\\wesle\\appdata\\local\\packages\\pythonsoftwarefoundation.python.3.12_qbz5n2kfra8p0\\localcache\\local-packages\\python312\\site-packages (from pingouin) (0.9.0)\n",
      "Requirement already satisfied: python-dateutil>=2.8.2 in c:\\users\\wesle\\appdata\\local\\packages\\pythonsoftwarefoundation.python.3.12_qbz5n2kfra8p0\\localcache\\local-packages\\python312\\site-packages (from pandas>=1.5->pingouin) (2.8.2)\n",
      "Requirement already satisfied: pytz>=2020.1 in c:\\users\\wesle\\appdata\\local\\packages\\pythonsoftwarefoundation.python.3.12_qbz5n2kfra8p0\\localcache\\local-packages\\python312\\site-packages (from pandas>=1.5->pingouin) (2024.1)\n",
      "Requirement already satisfied: tzdata>=2022.7 in c:\\users\\wesle\\appdata\\local\\packages\\pythonsoftwarefoundation.python.3.12_qbz5n2kfra8p0\\localcache\\local-packages\\python312\\site-packages (from pandas>=1.5->pingouin) (2024.1)\n",
      "Requirement already satisfied: joblib>=1.2.0 in c:\\users\\wesle\\appdata\\local\\packages\\pythonsoftwarefoundation.python.3.12_qbz5n2kfra8p0\\localcache\\local-packages\\python312\\site-packages (from scikit-learn>=1.2->pingouin) (1.3.2)\n",
      "Requirement already satisfied: threadpoolctl>=2.0.0 in c:\\users\\wesle\\appdata\\local\\packages\\pythonsoftwarefoundation.python.3.12_qbz5n2kfra8p0\\localcache\\local-packages\\python312\\site-packages (from scikit-learn>=1.2->pingouin) (3.4.0)\n",
      "Requirement already satisfied: contourpy>=1.0.1 in c:\\users\\wesle\\appdata\\local\\packages\\pythonsoftwarefoundation.python.3.12_qbz5n2kfra8p0\\localcache\\local-packages\\python312\\site-packages (from matplotlib->pingouin) (1.2.0)\n",
      "Requirement already satisfied: cycler>=0.10 in c:\\users\\wesle\\appdata\\local\\packages\\pythonsoftwarefoundation.python.3.12_qbz5n2kfra8p0\\localcache\\local-packages\\python312\\site-packages (from matplotlib->pingouin) (0.12.1)\n",
      "Requirement already satisfied: fonttools>=4.22.0 in c:\\users\\wesle\\appdata\\local\\packages\\pythonsoftwarefoundation.python.3.12_qbz5n2kfra8p0\\localcache\\local-packages\\python312\\site-packages (from matplotlib->pingouin) (4.50.0)\n",
      "Requirement already satisfied: kiwisolver>=1.3.1 in c:\\users\\wesle\\appdata\\local\\packages\\pythonsoftwarefoundation.python.3.12_qbz5n2kfra8p0\\localcache\\local-packages\\python312\\site-packages (from matplotlib->pingouin) (1.4.5)\n",
      "Requirement already satisfied: packaging>=20.0 in c:\\users\\wesle\\appdata\\local\\packages\\pythonsoftwarefoundation.python.3.12_qbz5n2kfra8p0\\localcache\\local-packages\\python312\\site-packages (from matplotlib->pingouin) (24.0)\n",
      "Requirement already satisfied: pillow>=8 in c:\\users\\wesle\\appdata\\local\\packages\\pythonsoftwarefoundation.python.3.12_qbz5n2kfra8p0\\localcache\\local-packages\\python312\\site-packages (from matplotlib->pingouin) (10.2.0)\n",
      "Requirement already satisfied: pyparsing>=2.3.1 in c:\\users\\wesle\\appdata\\local\\packages\\pythonsoftwarefoundation.python.3.12_qbz5n2kfra8p0\\localcache\\local-packages\\python312\\site-packages (from matplotlib->pingouin) (3.1.2)\n",
      "Requirement already satisfied: xarray in c:\\users\\wesle\\appdata\\local\\packages\\pythonsoftwarefoundation.python.3.12_qbz5n2kfra8p0\\localcache\\local-packages\\python312\\site-packages (from pandas-flavor->pingouin) (2025.3.1)\n",
      "Requirement already satisfied: patsy>=0.5.6 in c:\\users\\wesle\\appdata\\local\\packages\\pythonsoftwarefoundation.python.3.12_qbz5n2kfra8p0\\localcache\\local-packages\\python312\\site-packages (from statsmodels->pingouin) (0.5.6)\n",
      "Requirement already satisfied: six in c:\\users\\wesle\\appdata\\local\\packages\\pythonsoftwarefoundation.python.3.12_qbz5n2kfra8p0\\localcache\\local-packages\\python312\\site-packages (from patsy>=0.5.6->statsmodels->pingouin) (1.16.0)\n",
      "Note: you may need to restart the kernel to use updated packages.\n"
     ]
    }
   ],
   "source": [
    "%pip install pingouin"
   ]
  },
  {
   "cell_type": "markdown",
   "id": "052858a1",
   "metadata": {},
   "source": [
    "Importando Bibliotecas"
   ]
  },
  {
   "cell_type": "code",
   "execution_count": 2,
   "id": "f22bd3dd",
   "metadata": {},
   "outputs": [],
   "source": [
    "import numpy as np, random\n",
    "import pingouin as pg\n",
    "import pandas as pd\n",
    "from scipy.stats import shapiro\n",
    "from scipy.stats import kstest\n",
    "import scipy.stats as stats\n",
    "from scipy.stats import ttest_ind\n",
    "from scipy.stats import bartlett\n",
    "import matplotlib.pyplot as plt\n",
    "import seaborn as sns\n",
    "from scipy.stats import norm\n",
    "from scipy.stats import t as t_dist\n"
   ]
  },
  {
   "cell_type": "markdown",
   "id": "d47ad023",
   "metadata": {},
   "source": [
    "### Dados para os Testes de Normalidade"
   ]
  },
  {
   "cell_type": "markdown",
   "id": "520dc9b4",
   "metadata": {},
   "source": [
    "Testar se seus dados seguem uma distribuição normal"
   ]
  },
  {
   "cell_type": "markdown",
   "id": "7be06dc8",
   "metadata": {},
   "source": [
    "Então iremos avaliar o p_valor:\n",
    "\n",
    "- p_valor > 0.05 → dados parecem normais\n",
    "\n",
    "- p_valor ≤ 0.05 → dados provavelmente NÃO são normais"
   ]
  },
  {
   "cell_type": "code",
   "execution_count": 3,
   "id": "99cb5b4b",
   "metadata": {},
   "outputs": [],
   "source": [
    "#dados = np.random.normal(0, 1, 500)"
   ]
  },
  {
   "cell_type": "code",
   "execution_count": 4,
   "id": "c196e9ed",
   "metadata": {},
   "outputs": [
    {
     "data": {
      "text/plain": [
       "array([ 1.20949716e+00, -2.16570351e-01, -2.03007160e+00,  5.37632452e-01,\n",
       "       -1.87435255e-01, -1.25306601e-01,  1.65097793e+00, -6.68141994e-01,\n",
       "        1.08578861e+00, -4.15951562e-01, -5.80667046e-02,  2.93020506e-01,\n",
       "       -9.38492937e-02, -2.30038391e+00,  7.19037567e-02, -6.82370014e-01,\n",
       "        2.06437186e+00, -1.06386252e+00,  6.85447398e-01, -2.31114597e-01,\n",
       "       -7.89059155e-01,  5.57793232e-01,  7.35106601e-01, -3.82598599e-01,\n",
       "       -3.14138614e-01,  8.14346737e-01, -1.84825198e+00,  5.45441232e-01,\n",
       "       -1.50737668e+00,  9.49817371e-01,  3.00414273e-01,  5.90864559e-02,\n",
       "       -4.78830345e-01,  2.85068673e-01, -6.87059166e-01,  2.25249150e+00,\n",
       "        1.77705106e-01,  1.30541627e+00, -2.34662324e+00, -1.16282093e+00,\n",
       "        5.80729051e-02, -1.69479245e+00, -3.49463036e-02,  1.54903727e+00,\n",
       "        9.53856730e-01, -2.52377166e+00, -6.94099042e-02,  9.41595809e-02,\n",
       "        9.30739520e-01, -2.87454986e-01, -1.73545315e-01, -8.07744586e-01,\n",
       "        6.81998057e-01,  1.45611043e+00, -5.59698873e-01, -6.90945976e-01,\n",
       "        7.62670641e-01, -1.65985466e+00,  4.05553727e-01, -9.37725440e-01,\n",
       "       -1.60962987e-01, -1.13064720e+00,  1.56694342e+00, -9.42642365e-01,\n",
       "        9.93909544e-02, -7.57608232e-02,  3.89372276e-01, -2.09193567e-01,\n",
       "        9.60089356e-01,  8.23892250e-01, -2.33446932e-01,  9.58984163e-01,\n",
       "        4.49823626e-01, -9.37103361e-01, -1.94295851e+00, -4.80575174e-01,\n",
       "        9.05960538e-02,  1.12216663e+00, -1.51732694e+00, -1.15841663e+00,\n",
       "        5.18356875e-01, -4.64672350e-01,  7.33228992e-02,  1.12086999e+00,\n",
       "       -1.26983226e-01, -1.50228677e+00, -2.82809151e-01, -5.28216829e-01,\n",
       "        6.09061339e-02, -2.31797902e+00,  9.07697211e-01,  1.72319407e+00,\n",
       "       -5.51572286e-01, -9.86623879e-02,  1.72497962e+00,  7.58073959e-01,\n",
       "       -2.45988442e-01,  1.23036614e+00,  1.14747941e+00,  9.80107296e-01,\n",
       "        2.47647321e-01, -7.89094035e-01,  9.89305266e-01, -5.69853127e-01,\n",
       "        2.29985038e+00,  4.68863101e-01, -6.78947578e-01, -7.23606841e-02,\n",
       "        5.38908363e-01,  3.16567839e-02,  9.18527075e-01, -1.73641230e+00,\n",
       "       -2.46767452e+00,  2.88949906e-01, -1.22917686e+00,  3.32230396e-02,\n",
       "        9.43721570e-01, -1.33448505e+00, -2.36677093e+00,  1.40945094e+00,\n",
       "        1.48532461e+00,  1.78134523e+00, -1.53499342e-01,  1.33438856e-01,\n",
       "        6.47761059e-01,  7.63949128e-01, -5.57134103e-01,  1.43720815e+00,\n",
       "       -1.29037101e+00,  2.47252101e+00,  1.63556887e+00,  2.25879672e-01,\n",
       "       -1.45875863e+00, -8.91999779e-02,  1.10174723e+00,  1.98469942e+00,\n",
       "        3.95531575e-01, -1.82668408e+00, -1.48864834e+00,  1.50453375e-01,\n",
       "        8.26783906e-01, -3.30686686e-01,  1.49633322e+00, -6.62307218e-01,\n",
       "       -2.13435322e-01, -1.59340319e+00, -1.57365566e-01,  3.53639121e-01,\n",
       "       -1.48958903e-01,  4.88061116e-01,  6.10196581e-01,  1.33994906e+00,\n",
       "       -7.87371953e-01,  1.15768075e-01,  6.54921121e-01,  5.65471204e-01,\n",
       "        9.10598604e-01,  7.16538223e-01,  1.41693143e+00,  8.87097464e-01,\n",
       "       -1.14591215e+00, -4.49497993e-01,  5.08679148e-01, -4.70935832e-01,\n",
       "        1.18989359e+00, -4.93650851e-01,  2.94999778e-01, -1.74695431e+00,\n",
       "       -8.53592398e-01,  3.01942193e-01,  2.47761001e+00,  9.23286346e-02,\n",
       "        3.46147164e-01, -1.36773360e+00, -3.46741143e-01,  1.65452020e+00,\n",
       "       -7.76529268e-01, -1.46834326e-02, -5.78439124e-01,  8.51708291e-02,\n",
       "       -1.42997172e-01, -9.10910774e-01,  8.09825308e-01, -8.03351815e-01,\n",
       "        2.82659521e-01, -1.81884781e+00,  1.58796830e+00, -6.13884090e-01,\n",
       "       -1.38197214e+00,  8.01448407e-01,  1.40224211e-01, -4.32316608e-01,\n",
       "       -4.97950073e-01, -1.36709169e-01,  1.88509830e-01, -9.72703751e-01,\n",
       "        5.88665447e-01, -3.53750663e-01, -1.05329526e-01, -1.62057590e+00,\n",
       "       -1.08239416e+00,  2.87655187e-01, -1.70115636e+00,  6.98488578e-01,\n",
       "       -5.06131695e-01, -5.43054785e-01, -1.22482596e+00,  4.76214675e-01,\n",
       "       -1.51333852e+00, -3.79855318e-01,  1.02292215e+00, -1.39954452e+00,\n",
       "        3.34109187e-01, -1.45550885e+00,  2.02547875e-01, -2.00655369e-01,\n",
       "        2.98062534e-01,  4.02653805e-01,  1.70674625e+00, -7.23466906e-01,\n",
       "       -1.89491230e+00,  1.37782836e+00,  1.78025371e+00, -7.33855303e-01,\n",
       "       -4.86431079e-01,  1.35296670e+00, -5.83423361e-01,  1.12383403e+00,\n",
       "       -2.23327024e-01,  1.10529470e+00,  1.65360120e+00,  5.01105596e-02,\n",
       "        5.45091604e-01, -3.20943609e-01,  1.22260759e+00, -4.95632554e-01,\n",
       "       -5.95401658e-01, -7.73281003e-02,  5.26161797e-01,  6.03645448e-01,\n",
       "       -5.62327263e-01,  5.72189628e-01, -5.87603256e-01, -1.69700776e+00,\n",
       "        1.29623566e+00, -8.78020956e-01,  4.15868037e-01,  1.92044596e+00,\n",
       "       -1.13871374e+00,  5.91457628e-03, -1.11788961e+00,  7.50450787e-02,\n",
       "       -1.51051509e+00, -9.31848174e-01,  6.88897010e-02, -5.74687416e-01,\n",
       "        1.33275023e-01, -4.92401965e-01, -7.36244128e-02,  1.79125282e-01,\n",
       "        1.13609622e+00,  1.97473595e-01,  9.21140982e-01, -1.52353485e+00,\n",
       "        9.78116861e-01,  3.70127569e-01, -2.98461058e-01,  5.52012233e-01,\n",
       "       -1.11578328e+00,  6.52195485e-01,  3.12581372e-01,  7.59960672e-02,\n",
       "       -6.96676920e-01,  2.57488881e-01,  6.36218992e-01,  5.24144051e-01,\n",
       "        8.62053914e-01, -1.75408732e+00, -9.42184652e-01,  1.84392523e+00,\n",
       "       -7.23480290e-01,  1.34259772e+00,  6.88471326e-01,  3.72400220e-01,\n",
       "       -1.52349957e+00,  8.73575261e-01,  3.41734263e-01, -4.06954005e-01,\n",
       "        2.77194453e-01,  4.76793016e-01,  6.02534896e-01, -6.62227508e-01,\n",
       "       -6.62466963e-02, -4.47322158e-02,  2.00937719e+00, -1.59306273e+00,\n",
       "       -8.75055736e-02, -2.45653633e-03, -1.03751139e+00, -6.12631707e-01,\n",
       "       -2.39135736e-03,  4.31273099e-01, -1.92773715e+00,  8.61393313e-01,\n",
       "        1.68242859e+00, -9.57264270e-01, -3.99714262e-01, -1.40199333e+00,\n",
       "        5.11707038e-01, -1.02232730e+00, -5.00662826e-01,  4.08132485e-01,\n",
       "        1.52487011e-03, -3.92824609e-01, -2.47448189e-01,  1.24851033e-01,\n",
       "       -1.74478297e+00,  1.46437732e+00, -9.99176197e-01, -1.20074370e+00,\n",
       "        3.39447024e-01,  4.77202243e-01,  7.42083115e-01, -7.81362271e-01,\n",
       "        1.43528560e+00, -2.10838039e+00, -2.89907716e-01,  4.60440460e-01,\n",
       "        3.28486717e+00,  2.66145461e-01, -8.66694842e-01, -6.03317154e-01,\n",
       "       -5.08335522e-01, -6.78171865e-01, -1.53359025e+00, -8.08333335e-01,\n",
       "        6.52370898e-01, -1.87058570e-01, -6.86344493e-01, -4.98655087e-01,\n",
       "       -7.61122410e-01, -8.64022480e-01, -1.24767806e+00,  4.90983056e-01,\n",
       "       -5.68047970e-01, -1.47366397e+00, -5.81451130e-01, -1.58718074e+00,\n",
       "        1.37173510e-02,  2.24513268e+00,  1.20986350e+00, -4.56569378e-01,\n",
       "        3.57817731e-01, -1.25174359e+00,  9.24841409e-02,  1.68225770e-01,\n",
       "       -4.12521810e-01,  1.59010250e+00, -3.88522475e-01, -6.27685552e-01,\n",
       "        4.57949229e-01,  6.17683240e-01,  9.25928278e-02,  1.78784593e+00,\n",
       "       -1.91338593e+00, -3.95253925e-01, -1.17575470e+00,  1.18106538e+00,\n",
       "        1.73162896e+00,  1.87993935e+00,  1.20137289e+00,  8.02938774e-01,\n",
       "        1.34488774e-01,  2.21340233e-01,  2.16697351e+00, -8.43653668e-01,\n",
       "        1.78343871e+00,  9.73465393e-01, -3.37228120e-01, -1.35381432e+00,\n",
       "       -1.22568057e+00, -1.57690325e+00, -1.09330514e+00,  6.97594486e-01,\n",
       "        4.31310844e-01, -1.16545325e+00, -7.73276922e-02,  5.82967904e-02,\n",
       "        6.08514571e-01,  1.21547866e+00, -1.14178491e+00,  6.75619933e-03,\n",
       "        1.84985711e+00, -1.76235785e-01,  9.85866895e-01, -5.29766280e-01,\n",
       "        3.85267259e-02,  2.29980546e-01,  1.40689772e+00,  1.09700258e+00,\n",
       "       -1.90416200e+00, -8.64809371e-01,  1.39375571e-01, -1.21842444e+00,\n",
       "        3.21241234e-02, -6.92362215e-02,  4.85255275e-01,  5.22964478e-01,\n",
       "       -4.15950617e-01, -7.23283197e-01,  8.69583683e-02,  3.27225659e+00,\n",
       "        5.64452647e-01,  2.90008824e-03,  8.87838811e-01, -1.14321314e+00,\n",
       "        1.41826461e+00,  1.07887290e-01,  1.22473049e+00, -1.92128129e-01,\n",
       "        8.89779412e-01, -1.97304338e+00, -6.20807909e-01, -1.21991132e+00,\n",
       "       -3.35103561e-02,  1.99095156e-01,  1.79756623e-01, -1.56701080e+00,\n",
       "        6.06551882e-01, -2.10987661e+00,  4.08603397e-01, -7.75749926e-01,\n",
       "        1.25230664e+00, -1.62951513e+00,  1.91653644e+00,  2.70228946e-02,\n",
       "        1.58958406e-01, -1.42171245e-03, -8.32218362e-01, -6.63244185e-01,\n",
       "        6.15998414e-01, -1.21194825e+00,  3.04935494e-01, -2.26661986e-01,\n",
       "        2.37558280e-02,  3.11823800e+00,  3.91330350e-01, -1.18880804e+00,\n",
       "        1.95772890e-01,  1.56853603e-02, -6.34739450e-01, -2.40168322e-02,\n",
       "       -5.79523661e-01, -9.50705362e-01,  2.48914210e+00, -1.21757706e+00,\n",
       "       -2.07998205e-01,  3.54417932e-01, -1.34993291e+00, -9.69901651e-01,\n",
       "       -2.33115666e-01,  1.14578321e+00,  2.12753725e+00,  6.91557889e-01,\n",
       "        1.25490278e+00, -4.34044517e-01, -1.42073027e+00, -2.80395633e-01,\n",
       "       -1.98848377e+00,  5.71077737e-01, -1.50555146e+00, -1.10599850e+00,\n",
       "        5.99552148e-01, -3.45595404e-01,  1.51850281e+00,  7.39144816e-01,\n",
       "       -2.43824586e+00,  5.19243557e-01,  5.41732746e-01, -6.93146582e-01,\n",
       "        1.20978196e+00,  1.71035909e-01, -7.70561727e-01,  1.32795118e-01,\n",
       "        3.76372823e-01,  2.10530142e-01, -3.97471983e-01,  2.37271194e-01,\n",
       "        8.60254560e-01,  1.75060879e-01,  1.47682054e+00, -3.48059448e-01,\n",
       "       -3.39110313e-01, -1.04369475e+00, -2.05533800e-01, -4.59415809e-01,\n",
       "        1.70828565e+00,  9.64129102e-01,  8.06734676e-01,  4.68923626e-01,\n",
       "        8.37891581e-01, -6.24903277e-01, -2.43783017e+00, -3.18356516e-02,\n",
       "        3.53471562e-01,  7.75084651e-01,  5.93203815e-01,  4.18818386e-01,\n",
       "        1.27610783e-01, -5.79902757e-01, -6.44915918e-01, -3.33143331e-01,\n",
       "        5.50492546e-01,  1.04384320e+00, -6.91150494e-01, -5.65426475e-02,\n",
       "        1.64447503e+00, -1.65694693e+00,  3.66012010e-02, -2.65320203e-01,\n",
       "       -1.74197531e+00,  1.54719133e+00,  1.27300498e-01,  1.50883959e+00,\n",
       "       -1.70772903e+00, -4.74608798e-01,  2.33687674e-01, -4.04392496e-01,\n",
       "       -4.61265652e-01, -5.66292673e-01,  7.72644468e-01, -3.91834812e-01,\n",
       "       -7.16784987e-01,  4.75933510e-02,  1.32325104e+00, -4.09743023e-02,\n",
       "        1.04834134e+00,  1.01180002e+00, -1.10363090e+00, -8.22962325e-01,\n",
       "        1.36316170e+00, -1.82023084e+00, -1.23550970e+00, -1.74250418e+00,\n",
       "       -9.60053146e-01,  1.63095393e+00, -7.31889211e-02, -1.20818294e+00,\n",
       "       -1.31947044e-01,  1.13261505e+00,  4.50766291e-01,  1.07227503e+00,\n",
       "       -6.10139480e-01, -4.33232703e-01,  9.85956530e-01, -9.52265856e-02,\n",
       "       -7.90651629e-02, -5.52024757e-02,  6.78398928e-01,  1.99581383e-01,\n",
       "       -1.15812736e+00,  7.64281548e-01, -7.34825166e-02,  8.28450891e-01,\n",
       "       -1.82885608e-01, -1.15976594e+00,  5.28504443e-01, -8.80974661e-01,\n",
       "        2.77863765e-01, -1.76879796e+00,  1.80096474e+00,  3.09661988e+00,\n",
       "        1.18827909e-02,  5.44942525e-01,  2.24831139e-01, -8.12662386e-01,\n",
       "       -2.40064622e+00, -1.24922707e-01, -8.12167823e-01,  6.12720934e-01,\n",
       "        1.12931169e+00,  2.20530428e+00, -7.44460908e-01,  1.34559824e+00,\n",
       "        2.02185468e-01,  6.60329140e-01,  3.10494731e-02,  1.39515757e-01,\n",
       "        1.15524456e+00,  1.39973802e+00, -2.82376009e-01, -1.06369787e-01,\n",
       "       -1.12012154e+00, -2.40685429e-01,  5.91600891e-01, -7.83620915e-01,\n",
       "       -4.64619015e-02, -8.81732249e-02, -9.77204859e-01,  4.97141587e-01,\n",
       "       -2.41287002e-01,  1.52141847e+00,  5.49606874e-01,  1.05259886e-01,\n",
       "       -5.52520173e-01, -6.05526297e-02, -7.44961840e-01,  4.66917822e-01,\n",
       "        1.11729869e+00, -3.97535640e-01,  1.00247302e+00,  1.98501074e+00,\n",
       "        1.68884226e+00, -2.11215309e-01,  1.35329917e+00,  3.91314033e-01,\n",
       "        3.30632077e-01, -3.53416084e-02,  6.99968224e-01,  1.06941980e+00,\n",
       "        2.07397521e-01, -8.20174240e-01, -3.50267065e-01,  3.49919396e-01,\n",
       "       -1.51863871e-01,  5.90245226e-01, -1.56029127e+00, -2.98677320e-01,\n",
       "       -6.47710574e-01, -2.99724464e-01, -5.29105324e-02,  1.11120289e+00,\n",
       "       -7.42829961e-01,  1.76505457e-01, -2.08328123e+00, -1.27563883e+00,\n",
       "       -2.41063558e+00, -1.59671876e+00,  2.93250286e-01, -1.38444096e-02,\n",
       "        4.22518053e-01, -1.96949652e+00, -7.66347541e-02,  1.62860524e+00,\n",
       "       -1.20098334e+00, -2.07444486e-02,  1.44736394e-01,  1.22186191e-02,\n",
       "       -2.41084704e-01, -1.39392989e+00, -1.21966107e-01, -1.14428289e+00,\n",
       "        1.04919233e+00,  1.76260150e+00,  1.66677092e+00,  2.18552404e-01,\n",
       "       -1.21663228e+00, -4.74736229e-01,  1.69793775e+00,  1.58429717e+00,\n",
       "        1.14880151e+00,  5.37388913e-01, -2.79844001e-01,  1.01476630e-01,\n",
       "       -1.42407009e-01,  1.69928758e+00, -2.49024703e-01, -2.27371330e-01,\n",
       "        4.51795239e-01,  7.47980834e-01, -6.83307466e-03, -3.79952912e-01,\n",
       "        1.96170270e-01, -2.80139006e-01, -7.70070276e-02,  1.46016275e+00,\n",
       "        8.95019365e-02,  4.08943296e-01, -1.65697307e+00,  1.85800106e+00,\n",
       "        1.09204098e+00,  8.40797487e-03, -5.09741362e-01, -1.45619703e-01,\n",
       "        1.62606884e-01, -4.03702762e-01, -1.48373580e+00, -1.00219613e+00,\n",
       "       -1.65822821e+00, -7.59482855e-01,  9.97602306e-03,  9.90418941e-01,\n",
       "        1.77487989e+00, -1.45152117e-01, -9.04710861e-01,  1.40173150e+00,\n",
       "       -7.98273723e-01, -8.16021926e-01,  2.32598406e-01, -2.03910939e-01,\n",
       "       -3.96049614e-01,  1.85246977e+00,  2.94323677e-01,  1.91243242e-01,\n",
       "        1.83534477e+00, -5.31798065e-01, -1.10073457e+00,  7.91402936e-02,\n",
       "       -8.58234062e-01,  1.04280046e+00, -7.84481891e-02, -1.85536581e+00,\n",
       "        1.94482406e+00,  6.97344602e-01,  6.44022438e-01, -1.14924005e+00,\n",
       "        1.04049902e-01,  9.71626253e-01, -7.64855238e-01, -2.49583385e-01,\n",
       "       -9.53575658e-01, -2.63734549e+00, -1.04346452e+00, -6.82664470e-01,\n",
       "       -3.39100986e+00,  9.04315609e-01, -2.47372987e+00, -9.05024350e-01,\n",
       "        2.00361215e+00, -3.58032083e-01, -3.44176522e-01, -8.00135298e-02,\n",
       "        8.86184238e-01,  4.00697549e-01, -2.95462109e-01,  3.30695205e-01,\n",
       "        7.52486976e-01, -4.25543012e-01,  1.02345259e+00, -1.05943983e+00,\n",
       "        3.31665204e-01, -8.93319909e-01,  1.54355898e+00,  1.51654315e+00,\n",
       "        1.04085857e-01, -9.57282695e-01,  8.84739488e-01, -5.01030907e-01,\n",
       "        7.74016844e-01,  9.90749126e-01, -6.94702860e-01, -1.28574380e+00,\n",
       "       -2.65474874e-01,  8.38366566e-01,  3.07921446e-01, -1.17988043e+00,\n",
       "        2.82765358e-02, -1.04299887e+00,  8.69937659e-01,  9.90696627e-01,\n",
       "       -4.08766837e-01,  2.86955402e-01, -8.85437582e-01, -4.11835372e-02,\n",
       "       -3.33479928e-01,  4.62407588e-01,  9.91112351e-01,  7.76272592e-01,\n",
       "       -4.48035523e-01, -9.62028887e-02,  1.06915174e+00,  5.75528954e-02,\n",
       "        2.90405144e-01, -1.09944637e-01, -2.29612277e-01, -1.74514596e+00,\n",
       "       -1.22939831e+00,  1.27296039e+00,  4.38327637e-01,  1.88549925e-02,\n",
       "        1.60993333e-01,  4.05805850e-01,  1.06303779e+00, -6.46001298e-01,\n",
       "        8.97293978e-01, -5.04992377e-02, -2.13530484e+00,  8.30163289e-01,\n",
       "        1.01847520e+00, -3.38494928e-01, -1.76258689e+00,  1.43318463e+00,\n",
       "        1.62022276e+00, -2.60399624e-01,  3.94754970e-01,  2.82061885e-01,\n",
       "        1.29012942e+00, -8.32497046e-01,  1.17633762e+00,  1.73981949e-01,\n",
       "        4.32483549e-01,  2.27001847e+00,  6.83517778e-01,  7.32467963e-01,\n",
       "        2.00457737e-01, -9.46017763e-02,  1.40228087e+00,  2.31683325e+00,\n",
       "       -2.94685997e-01,  1.51579962e-01, -2.15623285e-01, -8.41287953e-01,\n",
       "        1.29107051e+00, -1.26605636e+00,  1.27328250e+00, -7.40236370e-01,\n",
       "        3.20737592e-01, -1.07164302e+00, -8.65958846e-02, -1.20585311e-01,\n",
       "        2.61259672e-01, -1.94206338e+00,  5.55685233e-01,  2.13022409e+00,\n",
       "        8.89121617e-01,  6.43072569e-01, -2.23566303e+00,  5.53237341e-01,\n",
       "        6.02302233e-01, -4.87306594e-01, -5.05003475e-01, -6.11450809e-01,\n",
       "       -2.37246424e+00, -1.60196978e+00, -7.84277450e-01, -8.15526819e-01,\n",
       "        1.03569984e+00,  1.01555165e+00,  1.55652470e-02, -1.68615885e+00,\n",
       "        3.01244811e-01, -1.46383623e+00,  1.18727714e+00,  7.45413823e-01,\n",
       "       -6.03698195e-01,  8.79619165e-01, -1.26323614e+00,  1.35550725e+00,\n",
       "        1.09946552e+00,  1.36590271e-01,  1.39383211e-01,  7.73262953e-01,\n",
       "        1.39920495e+00,  2.40167279e-02,  9.61555830e-02,  5.46772278e-01,\n",
       "        2.32251658e+00, -1.39693230e+00, -7.56424760e-01,  1.01384623e-02,\n",
       "        1.45025046e+00, -6.57195867e-01, -3.81436881e-01,  1.12714507e+00,\n",
       "       -9.47101892e-01, -4.16286999e-01, -1.02448294e-01,  3.99373581e-01,\n",
       "       -5.95407506e-01,  2.04916436e+00, -4.70091739e-01,  9.19837924e-01,\n",
       "        9.55171162e-01,  6.70734318e-01, -3.76387951e-03,  6.94896596e-01,\n",
       "       -1.00523876e+00, -3.50885769e-01, -1.13365381e+00, -6.56205467e-01,\n",
       "       -9.89740838e-01,  4.80731204e-01, -3.31114736e-01,  2.26169325e-01,\n",
       "        1.27482916e+00, -3.95143891e-01,  1.23574634e+00,  8.23846226e-01,\n",
       "        4.91834052e-01,  9.50187060e-02, -1.83576921e-01,  7.14647648e-01,\n",
       "       -1.68172483e+00, -1.95070388e+00,  1.14153411e+00, -2.12074124e+00,\n",
       "       -4.21459941e-01,  6.71042263e-01, -6.45914617e-01,  1.73938880e+00,\n",
       "        1.04661926e+00, -1.23454435e+00, -1.17460875e+00, -4.80993729e-01,\n",
       "       -4.80138633e-01,  4.08393140e-01, -5.82008359e-02, -5.14978625e-01,\n",
       "        5.88588514e-01, -1.83019955e+00, -4.09726908e-01,  3.74705482e-01,\n",
       "       -3.46309385e-01,  2.32087292e+00, -1.90577870e-01, -1.87675267e-01,\n",
       "        2.98844411e-01,  1.44566894e+00, -1.15180948e+00,  1.01632452e+00,\n",
       "        1.67437265e-01,  4.95845938e-01,  2.14684642e-02, -3.13034623e-01,\n",
       "       -7.03885020e-01, -1.38102607e+00,  1.84603316e+00, -2.21157031e+00,\n",
       "       -8.44479771e-01, -8.82592467e-01, -2.88386091e-01, -5.03048847e-01,\n",
       "        7.78488072e-01,  1.97909774e-01,  2.87739352e-01,  1.43263666e+00,\n",
       "       -1.16732505e+00,  5.03442836e-01,  2.20972135e-01, -2.46075224e-01,\n",
       "       -6.85675016e-01, -9.05000815e-01, -2.00266359e-01,  1.47925632e+00,\n",
       "       -1.87592187e-01, -7.11817672e-01, -9.03321237e-01,  1.09504497e+00,\n",
       "        3.02587337e-01, -1.13410126e+00, -1.02843102e+00, -4.57279438e-01,\n",
       "       -3.64954233e-01,  1.10739537e+00, -1.46365064e-01,  8.16960446e-02,\n",
       "        1.89103853e+00,  4.32202492e-01,  9.79573322e-01,  1.35997703e+00,\n",
       "        1.71117739e+00, -2.92565364e-01,  1.27555990e+00,  2.46653916e-01,\n",
       "       -4.17693687e-01,  2.08826395e-01,  2.95389594e-01,  9.62791519e-01,\n",
       "       -4.67214227e-01, -3.42050073e-01,  4.00905048e-01, -1.05856119e+00,\n",
       "       -7.50513166e-01,  1.44991110e+00,  8.96780111e-01,  1.16893087e+00,\n",
       "       -1.40117288e+00,  7.62051089e-01,  2.86516563e-01, -3.21261733e-01,\n",
       "        3.43472765e-01,  1.61742199e-01,  1.17841130e+00, -8.33104782e-01,\n",
       "       -2.19285333e-01, -7.23353827e-01,  8.70526633e-01,  2.56717734e-01,\n",
       "        4.64586090e-01,  3.21664210e-01,  1.49671351e+00, -1.19296016e+00,\n",
       "        1.82142109e+00,  1.59709642e-01, -6.95683814e-01,  8.55181678e-01,\n",
       "       -2.78997442e-01, -3.19319015e-01, -5.31372728e-01, -2.14850477e-01])"
      ]
     },
     "execution_count": 4,
     "metadata": {},
     "output_type": "execute_result"
    }
   ],
   "source": [
    "dados = random.choice([\n",
    "    np.random.normal(0, 1, 1000),\n",
    "    np.random.exponential(1, 1000),\n",
    "    np.random.uniform(-2, 2, 1000),\n",
    "    np.concatenate([np.random.normal(0, 1, 950), np.random.uniform(10, 20, 50)])\n",
    "])\n",
    "dados"
   ]
  },
  {
   "cell_type": "markdown",
   "id": "90968485",
   "metadata": {},
   "source": [
    "### Teste Kolmogorov-Smirnov"
   ]
  },
  {
   "cell_type": "markdown",
   "id": "18946aff",
   "metadata": {},
   "source": [
    "Teste Kolmogorov-Smirnov Manual"
   ]
  },
  {
   "cell_type": "code",
   "execution_count": 5,
   "id": "62611665",
   "metadata": {},
   "outputs": [],
   "source": [
    "def kolmogorov_smirnov(data):\n",
    "    # Organize os dados em ordem crescente\n",
    "    data_sorted = np.sort(data)\n",
    "    n = len(data_sorted)\n",
    "    \n",
    "    # Função de distribuição empírica F_n(x)\n",
    "    F_n = np.arange(1, n+1) / n\n",
    "    \n",
    "    # Função de distribuição acumulada da normal F(x)\n",
    "    F_x = norm.cdf(data_sorted)\n",
    "    \n",
    "    # Calcula o D máximo\n",
    "    D = np.max(np.abs(F_n - F_x))\n",
    "    p_value = kstest(data, 'norm')[1]\n",
    "    \n",
    "    return (D,p_value)"
   ]
  },
  {
   "cell_type": "code",
   "execution_count": 6,
   "id": "dc5c2c7e",
   "metadata": {},
   "outputs": [
    {
     "name": "stdout",
     "output_type": "stream",
     "text": [
      "Kolmogorov-Smirnov Manual: 0.0191 | p-value: 0.8053\n"
     ]
    }
   ],
   "source": [
    "print(f\"Kolmogorov-Smirnov Manual: {kolmogorov_smirnov(dados)[0]:.4f} | p-value: {kolmogorov_smirnov(dados)[1]:.4f}\")\n"
   ]
  },
  {
   "cell_type": "markdown",
   "id": "b5a55a43",
   "metadata": {},
   "source": [
    "Teste Kolmogorov-Smirnov Biblioteca"
   ]
  },
  {
   "cell_type": "code",
   "execution_count": 7,
   "id": "627433a4",
   "metadata": {},
   "outputs": [
    {
     "name": "stdout",
     "output_type": "stream",
     "text": [
      "estatística = 0.0201, \n",
      "p-valor = 0.8053\n"
     ]
    }
   ],
   "source": [
    "estatistica, p_valor = kstest(dados, 'norm')\n",
    "print(f\"estatística = {estatistica:.4f}, \\np-valor = {p_valor:.4f}\")"
   ]
  },
  {
   "cell_type": "code",
   "execution_count": 8,
   "id": "8844f38d",
   "metadata": {},
   "outputs": [
    {
     "name": "stdout",
     "output_type": "stream",
     "text": [
      "A amostra é normalmente distribuída (não rejeita H0)\n"
     ]
    }
   ],
   "source": [
    "if p_valor < 0.05:\n",
    "    print(\"A amostra não é normalmente distribuída (rejeita H0)\")\n",
    "else:\n",
    "    print(\"A amostra é normalmente distribuída (não rejeita H0)\")"
   ]
  },
  {
   "cell_type": "code",
   "execution_count": 9,
   "id": "882d67bd",
   "metadata": {},
   "outputs": [
    {
     "data": {
      "image/png": "[encoded data removed]",
      "text/plain": [
       "<Figure size 640x480 with 1 Axes>"
      ]
     },
     "metadata": {},
     "output_type": "display_data"
    }
   ],
   "source": [
    "x = np.linspace(min(dados), max(dados), 300)\n",
    "y = norm.pdf(x, loc=0, scale=1)\n",
    "plt.hist(dados, bins=30, density=True, edgecolor='black', alpha=0.7, label='Histograma')\n",
    "plt.plot(x, y, color='blue', linewidth=2, label='Curva Normal')\n",
    "\n",
    "# Marcar o p_valor\n",
    "plt.axvline(p_valor, color='red', linestyle='--', label=f'p_valor = {p_valor:.4f}')\n",
    "\n",
    "# Marcar o valor 0.05\n",
    "plt.axvline(0.05, color='green', linestyle='--', label='0.05')\n",
    "\n",
    "plt.legend()\n",
    "plt.show()"
   ]
  },
  {
   "cell_type": "markdown",
   "id": "a0ebaced",
   "metadata": {},
   "source": [
    "### Teste Shapiro-Wilk"
   ]
  },
  {
   "cell_type": "markdown",
   "id": "79a03a6c",
   "metadata": {},
   "source": [
    "Teste Shapiro-Wilk Manual"
   ]
  },
  {
   "cell_type": "code",
   "execution_count": 10,
   "id": "6b617b12",
   "metadata": {},
   "outputs": [],
   "source": [
    "def shapiro_wilk(dados):\n",
    "    dados = np.sort(dados)\n",
    "    n = len(dados)\n",
    "    \n",
    "    # Média e desvio padrão da amostra\n",
    "    media = np.mean(dados)\n",
    "    desvio = np.std(dados, ddof=1)\n",
    "    \n",
    "    # Estatísticas padronizadas\n",
    "    z = (dados - media) / desvio\n",
    "\n",
    "    # Coeficientes de Shapiro aproximados (usaremos simetria da normal)\n",
    "    # Para isso usamos quantis da normal padrão\n",
    "    m = norm.ppf([(i - 0.375) / (n + 0.25) for i in range(1, n + 1)])\n",
    "    m = m / np.linalg.norm(m)  # Normaliza m\n",
    "\n",
    "    # Soma ponderada dos dados ordenados com os coeficientes m\n",
    "    W_numerador = (np.sum(m * dados))**2\n",
    "    W_denominador = np.sum((dados - media)**2)\n",
    "\n",
    "    W = W_numerador / W_denominador\n",
    "    p_valor = shapiro(dados)[1]\n",
    "    return (W, p_valor)"
   ]
  },
  {
   "cell_type": "code",
   "execution_count": 11,
   "id": "45435671",
   "metadata": {},
   "outputs": [
    {
     "name": "stdout",
     "output_type": "stream",
     "text": [
      "Shapiro-Wilk Manual: 0.9987 | p-value: 0.6418\n"
     ]
    }
   ],
   "source": [
    "print(f\"Shapiro-Wilk Manual: {shapiro_wilk(dados)[0]:.4f} | p-value: {shapiro_wilk(dados)[1]:.4f}\")"
   ]
  },
  {
   "cell_type": "markdown",
   "id": "f9135ce0",
   "metadata": {},
   "source": [
    "Teste Shapiro-Wilk Biblioteca\n"
   ]
  },
  {
   "cell_type": "code",
   "execution_count": 12,
   "id": "593f3515",
   "metadata": {},
   "outputs": [
    {
     "name": "stdout",
     "output_type": "stream",
     "text": [
      "estatística = 0.9986, \n",
      "p-valor = 0.6418\n"
     ]
    }
   ],
   "source": [
    "estatistica, p_valor = shapiro(dados)\n",
    "print(f\"estatística = {estatistica:.4f}, \\np-valor = {p_valor:.4f}\")"
   ]
  },
  {
   "cell_type": "code",
   "execution_count": 13,
   "id": "0340ecab",
   "metadata": {},
   "outputs": [
    {
     "name": "stdout",
     "output_type": "stream",
     "text": [
      "A amostra é normalmente distribuída (não rejeita H0)\n"
     ]
    }
   ],
   "source": [
    "if p_valor <= 0.05:\n",
    "    print(\"A amostra não é normalmente distribuída (rejeita H0)\")\n",
    "else:\n",
    "    print(\"A amostra é normalmente distribuída (não rejeita H0)\")"
   ]
  },
  {
   "cell_type": "code",
   "execution_count": 14,
   "id": "1b202bd1",
   "metadata": {},
   "outputs": [
    {
     "data": {
      "image/png": "[encoded data removed]",
      "text/plain": [
       "<Figure size 640x480 with 1 Axes>"
      ]
     },
     "metadata": {},
     "output_type": "display_data"
    }
   ],
   "source": [
    "x = np.linspace(min(dados), max(dados), 300)\n",
    "y = norm.pdf(x, loc=0, scale=1)\n",
    "plt.hist(dados, bins=30, density=True, edgecolor='black', alpha=0.7, label='Histograma')\n",
    "plt.plot(x, y, color='blue', linewidth=2, label='Curva Normal')\n",
    "\n",
    "# Marcar o p_valor\n",
    "plt.axvline(p_valor, color='red', linestyle='--', label=f'p_valor = {p_valor:.4f}')\n",
    "\n",
    "# Marcar o valor 0.05\n",
    "plt.axvline(0.05, color='green', linestyle='--', label='0.05')\n",
    "\n",
    "plt.legend()\n",
    "plt.show()"
   ]
  },
  {
   "cell_type": "markdown",
   "id": "cea4cbf9",
   "metadata": {},
   "source": [
    "### Teste Shapiro-Francia"
   ]
  },
  {
   "cell_type": "markdown",
   "id": "da73d0c1",
   "metadata": {},
   "source": [
    "Teste Shapiro-Francia Manual"
   ]
  },
  {
   "cell_type": "code",
   "execution_count": 15,
   "id": "bcfce54f",
   "metadata": {},
   "outputs": [],
   "source": [
    "def shapiro_francia_test(x):\n",
    "    x = np.asarray(x)\n",
    "    x_sorted = np.sort(x)\n",
    "    n = len(x)\n",
    "\n",
    "    # Quantis esperados da normal padrão\n",
    "    quantis = stats.norm.ppf([(i - 0.375) / (n + 0.25) for i in range(1, n + 1)])\n",
    "\n",
    "    # Correlação de Pearson entre dados ordenados e quantis\n",
    "    r = np.corrcoef(x_sorted, quantis)[0, 1]\n",
    "    \n",
    "    # Estatística do teste (r²)\n",
    "    W_prime = r**2\n",
    "\n",
    "    # Aproximação do p-valor via normal padrão\n",
    "    # A precisão é limitada: Shapiro-Francia não tem p-valor exato fechado\n",
    "    # Vamos usar uma aproximação baseada em simulações\n",
    "    # Se o valor de W_prime for muito menor que 1, a normalidade é rejeitada\n",
    "\n",
    "    # Para simplificação: convertemos a estatística para z usando simulação empírica\n",
    "    # Aqui usamos uma aproximação baseada na distribuição do W' de dados normais\n",
    "    # Pode não ser exato, mas funciona bem para propósitos práticos\n",
    "\n",
    "    z = (W_prime - 1) * np.sqrt(n / 0.05)\n",
    "    p_value = stats.norm.cdf(z)  # p pequeno => rejeita H0 (normalidade)\n",
    "\n",
    "    return W_prime, p_value"
   ]
  },
  {
   "cell_type": "code",
   "execution_count": 16,
   "id": "482a5215",
   "metadata": {},
   "outputs": [
    {
     "name": "stdout",
     "output_type": "stream",
     "text": [
      "Shapiro-Francia: W' = 0.9987, p-valor = 0.4256\n"
     ]
    }
   ],
   "source": [
    "stat, p = shapiro_francia_test(dados)\n",
    "print(f\"Shapiro-Francia: W' = {stat:.4f}, p-valor = {p:.4f}\")"
   ]
  },
  {
   "cell_type": "code",
   "execution_count": 17,
   "id": "af6e2233",
   "metadata": {},
   "outputs": [
    {
     "name": "stdout",
     "output_type": "stream",
     "text": [
      "A amostra é normalmente distribuída (não rejeita H0)\n"
     ]
    }
   ],
   "source": [
    "if p <= 0.05:\n",
    "    print(\"A amostra não é normalmente distribuída (rejeita H0)\")\n",
    "else:\n",
    "    print(\"A amostra é normalmente distribuída (não rejeita H0)\")"
   ]
  },
  {
   "cell_type": "code",
   "execution_count": 18,
   "id": "117d6a2f",
   "metadata": {},
   "outputs": [
    {
     "data": {
      "image/png": "[encoded data removed]",
      "text/plain": [
       "<Figure size 640x480 with 1 Axes>"
      ]
     },
     "metadata": {},
     "output_type": "display_data"
    }
   ],
   "source": [
    "x = np.linspace(min(dados), max(dados), 300)\n",
    "y = norm.pdf(x, loc=0, scale=1)\n",
    "plt.hist(dados, bins=30, density=True, edgecolor='black', alpha=0.7, label='Histograma')\n",
    "plt.plot(x, y, color='blue', linewidth=2, label='Curva Normal')\n",
    "\n",
    "# Marcar o p_valor\n",
    "plt.axvline(p_valor, color='red', linestyle='--', label=f'p_valor = {p_valor:.4f}')\n",
    "\n",
    "# Marcar o valor 0.05\n",
    "plt.axvline(0.05, color='green', linestyle='--', label='0.05')\n",
    "\n",
    "plt.legend()\n",
    "plt.show()"
   ]
  },
  {
   "cell_type": "markdown",
   "id": "d437b050",
   "metadata": {},
   "source": [
    "### Dados para Teste de Média Populacional"
   ]
  },
  {
   "cell_type": "markdown",
   "id": "89757286",
   "metadata": {},
   "source": [
    "Comparar se a média de dois grupos é diferente"
   ]
  },
  {
   "cell_type": "markdown",
   "id": "96a66702",
   "metadata": {},
   "source": [
    "Então iremos avaliar o p_valor:\n",
    "\n",
    "- p > 0.05 → as médias são provavelmente iguais\n",
    "\n",
    "- p ≤ 0.05 → as médias são provavelmente diferentes"
   ]
  },
  {
   "cell_type": "code",
   "execution_count": 19,
   "id": "3d854313",
   "metadata": {},
   "outputs": [],
   "source": [
    "grupo1 = random.choice([\n",
    "    np.random.normal(0, 1, 20),\n",
    "    np.random.exponential(1, 20),\n",
    "    np.random.uniform(-2, 2, 20),\n",
    "    np.concatenate([np.random.normal(0, 1, 20), np.random.uniform(10, 20, 50)])\n",
    "])\n",
    "\n",
    "grupo2 = random.choice([\n",
    "    np.random.normal(0, 1, 20),\n",
    "    np.random.exponential(1, 20),\n",
    "    np.random.uniform(-2, 2, 20),\n",
    "    np.concatenate([np.random.normal(0, 1, 20), np.random.uniform(10, 20, 50)])\n",
    "])"
   ]
  },
  {
   "cell_type": "code",
   "execution_count": 20,
   "id": "77617848",
   "metadata": {},
   "outputs": [
    {
     "data": {
      "text/plain": [
       "array([3.19592885, 0.67720848, 3.54603097, 1.44297322, 1.04640322,\n",
       "       0.49100269, 0.39230787, 0.14605607, 0.5730968 , 1.57855049,\n",
       "       0.49083143, 1.12111804, 0.59253447, 0.12992384, 0.97605655,\n",
       "       0.13704458, 0.17386614, 0.61427903, 0.9558033 , 0.91693904])"
      ]
     },
     "execution_count": 20,
     "metadata": {},
     "output_type": "execute_result"
    }
   ],
   "source": [
    "grupo1"
   ]
  },
  {
   "cell_type": "code",
   "execution_count": 21,
   "id": "3982cf45",
   "metadata": {},
   "outputs": [
    {
     "data": {
      "text/plain": [
       "array([-1.09022719,  0.78116881,  1.71548375,  1.71474811, -0.62138382,\n",
       "       -0.89628338, -0.91065416,  1.9966255 , -1.26790421,  1.38213063,\n",
       "       -0.09590642,  0.58306783, -1.17247512,  1.53440486, -1.37484951,\n",
       "        0.77622076,  0.25622195,  0.7819862 , -0.06272386,  0.14062779])"
      ]
     },
     "execution_count": 21,
     "metadata": {},
     "output_type": "execute_result"
    }
   ],
   "source": [
    "grupo2"
   ]
  },
  {
   "cell_type": "markdown",
   "id": "9cc4b8d9",
   "metadata": {},
   "source": [
    "### Teste Z"
   ]
  },
  {
   "cell_type": "markdown",
   "id": "dc04f19c",
   "metadata": {},
   "source": [
    "Teste Z manual"
   ]
  },
  {
   "cell_type": "code",
   "execution_count": 22,
   "id": "9489834b",
   "metadata": {},
   "outputs": [],
   "source": [
    "def teste_z_duas_amostras(grupo1, grupo2, sigma1, sigma2):\n",
    "    n1, n2 = len(grupo1), len(grupo2)\n",
    "    media1, media2 = np.mean(grupo1), np.mean(grupo2)\n",
    "\n",
    "    # Fórmula do Z para duas amostras com desvio conhecido\n",
    "    z = (media1 - media2) / np.sqrt((sigma1**2)/n1 + (sigma2**2)/n2)\n",
    "\n",
    "    # P-valor para teste bilateral\n",
    "    p_valor = 2 * (1 - norm.cdf(abs(z)))\n",
    "\n",
    "    return z, p_valor"
   ]
  },
  {
   "cell_type": "code",
   "execution_count": 23,
   "id": "a5c6e6bb",
   "metadata": {},
   "outputs": [],
   "source": [
    "z, p = teste_z_duas_amostras(grupo1, grupo2, sigma1=1, sigma2=1)"
   ]
  },
  {
   "cell_type": "code",
   "execution_count": 24,
   "id": "04823d74",
   "metadata": {},
   "outputs": [
    {
     "name": "stdout",
     "output_type": "stream",
     "text": [
      "Z = 2.3761\n",
      "P-valor = 0.0175\n"
     ]
    }
   ],
   "source": [
    "print(f\"Z = {z:.4f}\")\n",
    "print(f\"P-valor = {p:.4f}\")"
   ]
  },
  {
   "cell_type": "code",
   "execution_count": 25,
   "id": "80c4f26f",
   "metadata": {},
   "outputs": [
    {
     "name": "stdout",
     "output_type": "stream",
     "text": [
      "Rejeita H0: diferença estatisticamente significativa.\n"
     ]
    }
   ],
   "source": [
    "if p < 0.05:\n",
    "    print(\"Rejeita H0: diferença estatisticamente significativa.\")\n",
    "else:\n",
    "    print(\"Não rejeita H0: não há evidência forte de diferença.\")"
   ]
  },
  {
   "cell_type": "markdown",
   "id": "7c19f4df",
   "metadata": {},
   "source": [
    "### Teste TStudent"
   ]
  },
  {
   "cell_type": "markdown",
   "id": "bc7e253b",
   "metadata": {},
   "source": [
    "Tstudent uma amostra manual"
   ]
  },
  {
   "cell_type": "code",
   "execution_count": 26,
   "id": "03ff949a",
   "metadata": {},
   "outputs": [
    {
     "name": "stdout",
     "output_type": "stream",
     "text": [
      "Valor t calculado: 4.6445\n"
     ]
    }
   ],
   "source": [
    "mu = 0\n",
    "\n",
    "# Calcular a média da amostra (x_bar)\n",
    "media_amostra = np.mean(grupo1)\n",
    "\n",
    "# Calcular o desvio padrão amostral (s)\n",
    "desvio_amostra = np.std(grupo1, ddof=1)  # ddof=1 para desvio padrão amostral\n",
    "\n",
    "# Calcular o valor t\n",
    "n = len(grupo1)\n",
    "t_calculado = (media_amostra - mu) / (desvio_amostra / np.sqrt(n))\n",
    "\n",
    "# Determinar os graus de liberdade (df)\n",
    "df = n - 1\n",
    "\n",
    "# Calcular o valor crítico t para um nível de significância α (por exemplo, 0.05)\n",
    "alpha = 0.05\n",
    "t_critico = t_dist.ppf(1 - alpha / 2, df)  # valor crítico para um teste bilateral\n",
    "\n",
    "# Comparar o valor t calculado com o valor t crítico\n",
    "rejeitar_H0 = abs(t_calculado) > t_critico\n",
    "\n",
    "# Exibindo os resultados\n",
    "print(f\"Valor t calculado: {t_calculado:.4f}\")"
   ]
  },
  {
   "cell_type": "markdown",
   "id": "30eb5cf9",
   "metadata": {},
   "source": [
    "Tstudent uma amostra biblioteca"
   ]
  },
  {
   "cell_type": "code",
   "execution_count": 27,
   "id": "f0c71ab2",
   "metadata": {},
   "outputs": [],
   "source": [
    "mu = 0\n",
    "t_stat, p_value = stats.ttest_1samp(grupo1, mu)"
   ]
  },
  {
   "cell_type": "code",
   "execution_count": 28,
   "id": "a87b8d89",
   "metadata": {},
   "outputs": [
    {
     "name": "stdout",
     "output_type": "stream",
     "text": [
      "Valor t calculado: 4.6445\n",
      "Valor p: 0.0002\n",
      "Média da amostra: 0.9599\n",
      "Rejeitar H0: A média da amostra é significativamente diferente de 0\n"
     ]
    }
   ],
   "source": [
    "print(f\"Valor t calculado: {t_stat:.4f}\")\n",
    "print(f\"Valor p: {p_value:.4f}\")\n",
    "print(f\"Média da amostra: {media_amostra:.4f}\")\n",
    "\n",
    "# Decisão sobre a hipótese nula\n",
    "alpha = 0.05\n",
    "if p_value < alpha:\n",
    "    print(\"Rejeitar H0: A média da amostra é significativamente diferente de\", mu)\n",
    "else:\n",
    "    print(\"Não rejeitar H0: A média da amostra não é significativamente diferente de\", mu)"
   ]
  },
  {
   "cell_type": "code",
   "execution_count": 29,
   "id": "2923a9ca",
   "metadata": {},
   "outputs": [
    {
     "data": {
      "image/png": "[encoded data removed]",
      "text/plain": [
       "<Figure size 800x600 with 1 Axes>"
      ]
     },
     "metadata": {},
     "output_type": "display_data"
    }
   ],
   "source": [
    "# Plotando o histograma da amostra\n",
    "plt.figure(figsize=(8, 6))\n",
    "sns.histplot(grupo1, kde=True, color='blue', bins=15, stat=\"density\", linewidth=0)\n",
    "\n",
    "# Plotando a distribuição normal com a média e desvio padrão da amostra\n",
    "xmin, xmax = plt.xlim()\n",
    "x = np.linspace(xmin, xmax, 100)\n",
    "p = stats.norm.pdf(x, np.mean(grupo1), np.std(grupo1, ddof=1))  # Usando a média e desvio padrão amostral\n",
    "plt.plot(x, p, 'k', linewidth=2)\n",
    "\n",
    "\n",
    "# Marcando as áreas de rejeição do teste t bilateral\n",
    "alpha = 0.05  # Nível de significância\n",
    "critical_value = stats.t.ppf(1 - alpha / 2, df=len(grupo1) - 1)  # Para um teste bilateral (alpha = 0.05)\n",
    "plt.axvline(critical_value, color='green', linestyle='dashed', label=f'Valor crítico: {critical_value:.2f}')\n",
    "plt.axvline(-critical_value, color='green', linestyle='dashed')\n",
    "\n",
    "# Área de rejeição em ambos os lados\n",
    "plt.fill_between(x, p, where=(x >= critical_value), color='red', alpha=0.3, label=f'Rejeição (alpha = {alpha})')\n",
    "plt.fill_between(x, p, where=(x <= -critical_value), color='red', alpha=0.3)\n",
    "\n",
    "# Exibindo o título e a legenda\n",
    "plt.title(\"Histograma da Amostra e Distribuição Normal Teórica com Teste t Bilateral\")\n",
    "plt.legend()\n",
    "\n",
    "# Exibindo o gráfico\n",
    "plt.show()"
   ]
  },
  {
   "cell_type": "markdown",
   "id": "1e431117",
   "metadata": {},
   "source": [
    "Tstudent Independente Manual"
   ]
  },
  {
   "cell_type": "code",
   "execution_count": 30,
   "id": "58c261ce",
   "metadata": {},
   "outputs": [],
   "source": [
    "def t_student_duas_amostras(amostra1, amostra2):\n",
    "    import math\n",
    "    n1, n2 = len(amostra1), len(amostra2)\n",
    "    media1 = sum(amostra1) / n1\n",
    "    media2 = sum(amostra2) / n2\n",
    "\n",
    "    var1 = sum((x - media1)**2 for x in amostra1) / (n1 - 1)\n",
    "    var2 = sum((x - media2)**2 for x in amostra2) / (n2 - 1)\n",
    "\n",
    "    # variância combinada\n",
    "    sp = math.sqrt(((n1 - 1)*var1 + (n2 - 1)*var2) / (n1 + n2 - 2))\n",
    "\n",
    "    t = (media1 - media2) / (sp * math.sqrt(1/n1 + 1/n2))\n",
    "    return t"
   ]
  },
  {
   "cell_type": "code",
   "execution_count": 31,
   "id": "032aec0e",
   "metadata": {},
   "outputs": [
    {
     "name": "stdout",
     "output_type": "stream",
     "text": [
      "Tstudent Manual = 2.3206\n"
     ]
    }
   ],
   "source": [
    "print(f\"Tstudent Manual = {t_student_duas_amostras(grupo1, grupo2):.4f}\")"
   ]
  },
  {
   "cell_type": "markdown",
   "id": "c4a5396e",
   "metadata": {},
   "source": [
    "Tstudent Independente pela Biblioteca"
   ]
  },
  {
   "cell_type": "code",
   "execution_count": 32,
   "id": "808923bb",
   "metadata": {},
   "outputs": [
    {
     "name": "stdout",
     "output_type": "stream",
     "text": [
      "t-Student: estatística = 2.3206, p-valor = 0.0258\n"
     ]
    }
   ],
   "source": [
    "stat, p = ttest_ind(grupo1, grupo2, equal_var=True)\n",
    "print(f\"t-Student: estatística = {stat:.4f}, p-valor = {p:.4f}\")"
   ]
  },
  {
   "cell_type": "code",
   "execution_count": 33,
   "id": "e793f00b",
   "metadata": {},
   "outputs": [
    {
     "name": "stdout",
     "output_type": "stream",
     "text": [
      "As médias são diferentes (rejeita H0)\n"
     ]
    }
   ],
   "source": [
    "if p <= 0.05:\n",
    "    print(\"As médias são diferentes (rejeita H0)\")\n",
    "else:  \n",
    "    print(\"As médias são significativamente iguais (não rejeita H0)\")"
   ]
  },
  {
   "cell_type": "code",
   "execution_count": 34,
   "id": "72738112",
   "metadata": {},
   "outputs": [
    {
     "data": {
      "image/png": "[encoded data removed]",
      "text/plain": [
       "<Figure size 640x480 with 1 Axes>"
      ]
     },
     "metadata": {},
     "output_type": "display_data"
    }
   ],
   "source": [
    "sns.boxplot(data=[grupo1, grupo2])\n",
    "plt.xticks([0, 1], ['Grupo 1', 'Grupo 2'])\n",
    "plt.title('Boxplot dos Grupos')\n",
    "plt.ylabel('Valores')\n",
    "plt.show()"
   ]
  },
  {
   "cell_type": "markdown",
   "id": "c9f16f06",
   "metadata": {},
   "source": [
    "Tstudent Emparelhado"
   ]
  },
  {
   "cell_type": "code",
   "execution_count": 35,
   "id": "da8b70c8",
   "metadata": {},
   "outputs": [],
   "source": [
    "grupo1 = random.choice([\n",
    "    np.random.normal(0, 1, 20),\n",
    "    np.random.exponential(1, 20),\n",
    "    np.random.uniform(-2, 2, 20),\n",
    "    np.concatenate([np.random.normal(0, 1, 10), np.random.uniform(10, 20, 10)])  \n",
    "])\n",
    "\n",
    "# Simulando uma mudança no grupo (grupo2) para amostras pareadas\n",
    "grupo2 = grupo1 + np.random.normal(0, 0.5, 20)"
   ]
  },
  {
   "cell_type": "code",
   "execution_count": 36,
   "id": "a841fa7c",
   "metadata": {},
   "outputs": [
    {
     "name": "stdout",
     "output_type": "stream",
     "text": [
      "Valor de t calculado: -0.6589\n"
     ]
    }
   ],
   "source": [
    "# Calcular as diferenças (d = grupo1 - grupo2)\n",
    "diferencas = grupo1 - grupo2\n",
    "\n",
    "# Calcular a média das diferenças (d_bar)\n",
    "media_diferencas = np.mean(diferencas)\n",
    "\n",
    "# Calcular o desvio padrão das diferenças (s_d)\n",
    "desvio_diferencas = np.std(diferencas, ddof=1)  # ddof=1 para obter o desvio padrão amostral\n",
    "\n",
    "# Calcular o valor t\n",
    "n = len(diferencas)\n",
    "t_calculado = media_diferencas / (desvio_diferencas / np.sqrt(n))\n",
    "\n",
    "# Exibindo os resultados\n",
    "print(f\"Valor de t calculado: {t_calculado:.4f}\")"
   ]
  },
  {
   "cell_type": "markdown",
   "id": "46e6e8fc",
   "metadata": {},
   "source": [
    "Pela Biblioteca"
   ]
  },
  {
   "cell_type": "code",
   "execution_count": 37,
   "id": "84b87893",
   "metadata": {},
   "outputs": [
    {
     "name": "stdout",
     "output_type": "stream",
     "text": [
      "Estatística t: -0.6589\n",
      "P-valor: 0.5179\n"
     ]
    }
   ],
   "source": [
    "t_stat, p_value = stats.ttest_rel(grupo1, grupo2)\n",
    "print(f\"Estatística t: {t_stat:.4f}\")\n",
    "print(f\"P-valor: {p_value:.4f}\")"
   ]
  },
  {
   "cell_type": "code",
   "execution_count": 38,
   "id": "e278efba",
   "metadata": {},
   "outputs": [
    {
     "name": "stdout",
     "output_type": "stream",
     "text": [
      "Não rejeitamos H0: As médias dos dois grupos pareados são significadamente iguais.\n"
     ]
    }
   ],
   "source": [
    "if p_value < 0.05:\n",
    "    print(\"Rejeitamos H0: As médias dos dois grupos pareados são diferentes.\")\n",
    "else:\n",
    "    print(\"Não rejeitamos H0: As médias dos dois grupos pareados são significadamente iguais.\")"
   ]
  },
  {
   "cell_type": "code",
   "execution_count": 39,
   "id": "004c788a",
   "metadata": {},
   "outputs": [
    {
     "data": {
      "image/png": "[encoded data removed]",
      "text/plain": [
       "<Figure size 640x480 with 1 Axes>"
      ]
     },
     "metadata": {},
     "output_type": "display_data"
    }
   ],
   "source": [
    "sns.boxplot(data=[grupo1, grupo2])\n",
    "plt.xticks([0, 1], ['Grupo 1', 'Grupo 2'])\n",
    "plt.title('Boxplot dos Grupos')\n",
    "plt.ylabel('Valores')\n",
    "plt.show()"
   ]
  },
  {
   "cell_type": "markdown",
   "id": "24b6bbf0",
   "metadata": {},
   "source": [
    "### Testes de Homogeneidade de variâncias"
   ]
  },
  {
   "cell_type": "markdown",
   "id": "f0d97ade",
   "metadata": {},
   "source": [
    "Então iremos avaliar o p_valor:\n",
    "\n",
    "- p > 0.05 → as variâncias são provavelmente iguais\n",
    "\n",
    "- p ≤ 0.05 → as variâncias são provavelmente diferentes"
   ]
  },
  {
   "cell_type": "markdown",
   "id": "87f69916",
   "metadata": {},
   "source": [
    "### Teste Bartlett"
   ]
  },
  {
   "cell_type": "markdown",
   "id": "97f73d84",
   "metadata": {},
   "source": [
    "Teste Bartlett Manual"
   ]
  },
  {
   "cell_type": "code",
   "execution_count": 40,
   "id": "0bd4f491",
   "metadata": {},
   "outputs": [],
   "source": [
    "def bartlett_duas_amostras(amostra1, amostra2):\n",
    "    import math\n",
    "    n1, n2 = len(amostra1), len(amostra2)\n",
    "    media1 = sum(amostra1) / n1\n",
    "    media2 = sum(amostra2) / n2\n",
    "\n",
    "    var1 = sum((x - media1)**2 for x in amostra1) / (n1 - 1)\n",
    "    var2 = sum((x - media2)**2 for x in amostra2) / (n2 - 1)\n",
    "\n",
    "    sp = ((n1 - 1)*var1 + (n2 - 1)*var2) / (n1 + n2 - 2)\n",
    "\n",
    "    A = (n1 + n2 - 2)*math.log(sp) - (n1 - 1)*math.log(var1) - (n2 - 1)*math.log(var2)\n",
    "    B = 1 + (1/(3*(2 - 1))) * (1/(n1 - 1) + 1/(n2 - 1) - 1/(n1 + n2 - 2))\n",
    "    estatistica = A / B\n",
    "\n",
    "    p_valor = 1 - stats.chi2.cdf(estatistica, df=1)\n",
    "    return estatistica, p_valor"
   ]
  },
  {
   "cell_type": "code",
   "execution_count": 41,
   "id": "9b351124",
   "metadata": {},
   "outputs": [
    {
     "name": "stdout",
     "output_type": "stream",
     "text": [
      "Bartlett Manual = 0.8715 p-valor: 0.3506\n"
     ]
    }
   ],
   "source": [
    "print(f\"Bartlett Manual = {bartlett_duas_amostras(grupo1, grupo2)[0]:.4f} p-valor: {bartlett_duas_amostras(grupo1, grupo2)[1]:.4f}\")"
   ]
  },
  {
   "cell_type": "code",
   "execution_count": 42,
   "id": "3f3dc168",
   "metadata": {},
   "outputs": [
    {
     "name": "stdout",
     "output_type": "stream",
     "text": [
      "Bartlett: estatística = 0.8715, p-valor = 0.3506\n"
     ]
    }
   ],
   "source": [
    "stat, p = bartlett(grupo1, grupo2)\n",
    "print(f\"Bartlett: estatística = {stat:.4f}, p-valor = {p:.4f}\")"
   ]
  },
  {
   "cell_type": "code",
   "execution_count": 43,
   "id": "4747d829",
   "metadata": {},
   "outputs": [
    {
     "name": "stdout",
     "output_type": "stream",
     "text": [
      "Variancia grupo1: 1.5110612645244321\n",
      "Variancia grupo2: 2.3360120131236943\n"
     ]
    }
   ],
   "source": [
    "print(\"Variancia grupo1:\", np.var(grupo1, ddof=1))\n",
    "print(\"Variancia grupo2:\", np.var(grupo2, ddof=1))"
   ]
  },
  {
   "cell_type": "code",
   "execution_count": 44,
   "id": "409c078e",
   "metadata": {},
   "outputs": [
    {
     "name": "stdout",
     "output_type": "stream",
     "text": [
      "Todas as variâncias são significamente iguais (não rejeita H0)\n"
     ]
    }
   ],
   "source": [
    "if p <= 0.05:\n",
    "    print(\"Uma ou mais variâncias são diferentes (rejeita H0)\")\n",
    "else:\n",
    "    print(\"Todas as variâncias são significamente iguais (não rejeita H0)\")"
   ]
  },
  {
   "cell_type": "code",
   "execution_count": 45,
   "id": "05891e4f",
   "metadata": {},
   "outputs": [
    {
     "data": {
      "image/png": "[encoded data removed]",
      "text/plain": [
       "<Figure size 640x480 with 1 Axes>"
      ]
     },
     "metadata": {},
     "output_type": "display_data"
    }
   ],
   "source": [
    "sns.boxplot(data=[grupo1, grupo2])\n",
    "plt.xticks([0, 1], ['Grupo 1', 'Grupo 2'])\n",
    "plt.title('Boxplot dos Grupos')\n",
    "plt.ylabel('Valores')\n",
    "plt.show()"
   ]
  }
 ],
 "metadata": {
  "kernelspec": {
   "display_name": "Python 3",
   "language": "python",
   "name": "python3"
  },
  "language_info": {
   "codemirror_mode": {
    "name": "ipython",
    "version": 3
   },
   "file_extension": ".py",
   "mimetype": "text/x-python",
   "name": "python",
   "nbconvert_exporter": "python",
   "pygments_lexer": "ipython3",
   "version": "3.12.10"
  }
 },
 "nbformat": 4,
 "nbformat_minor": 5
}
