{
 "cells": [
  {
   "cell_type": "code",
   "execution_count": 1,
   "id": "33d98ecf",
   "metadata": {},
   "outputs": [
    {
     "name": "stdout",
     "output_type": "stream",
     "text": [
      "Defaulting to user installation because normal site-packages is not writeable\n",
      "Requirement already satisfied: pingouin in c:\\users\\wesle\\appdata\\local\\packages\\pythonsoftwarefoundation.python.3.12_qbz5n2kfra8p0\\localcache\\local-packages\\python312\\site-packages (0.5.5)\n",
      "Requirement already satisfied: matplotlib in c:\\users\\wesle\\appdata\\local\\packages\\pythonsoftwarefoundation.python.3.12_qbz5n2kfra8p0\\localcache\\local-packages\\python312\\site-packages (from pingouin) (3.8.3)\n",
      "Requirement already satisfied: numpy in c:\\users\\wesle\\appdata\\local\\packages\\pythonsoftwarefoundation.python.3.12_qbz5n2kfra8p0\\localcache\\local-packages\\python312\\site-packages (from pingouin) (1.26.4)\n",
      "Requirement already satisfied: pandas>=1.5 in c:\\users\\wesle\\appdata\\local\\packages\\pythonsoftwarefoundation.python.3.12_qbz5n2kfra8p0\\localcache\\local-packages\\python312\\site-packages (from pingouin) (2.2.1)\n",
      "Requirement already satisfied: pandas-flavor in c:\\users\\wesle\\appdata\\local\\packages\\pythonsoftwarefoundation.python.3.12_qbz5n2kfra8p0\\localcache\\local-packages\\python312\\site-packages (from pingouin) (0.7.0)\n",
      "Requirement already satisfied: scikit-learn>=1.2 in c:\\users\\wesle\\appdata\\local\\packages\\pythonsoftwarefoundation.python.3.12_qbz5n2kfra8p0\\localcache\\local-packages\\python312\\site-packages (from pingouin) (1.4.1.post1)\n",
      "Requirement already satisfied: scipy in c:\\users\\wesle\\appdata\\local\\packages\\pythonsoftwarefoundation.python.3.12_qbz5n2kfra8p0\\localcache\\local-packages\\python312\\site-packages (from pingouin) (1.13.0)\n",
      "Requirement already satisfied: seaborn in c:\\users\\wesle\\appdata\\local\\packages\\pythonsoftwarefoundation.python.3.12_qbz5n2kfra8p0\\localcache\\local-packages\\python312\\site-packages (from pingouin) (0.13.2)\n",
      "Requirement already satisfied: statsmodels in c:\\users\\wesle\\appdata\\local\\packages\\pythonsoftwarefoundation.python.3.12_qbz5n2kfra8p0\\localcache\\local-packages\\python312\\site-packages (from pingouin) (0.14.2)\n",
      "Requirement already satisfied: tabulate in c:\\users\\wesle\\appdata\\local\\packages\\pythonsoftwarefoundation.python.3.12_qbz5n2kfra8p0\\localcache\\local-packages\\python312\\site-packages (from pingouin) (0.9.0)\n",
      "Requirement already satisfied: python-dateutil>=2.8.2 in c:\\users\\wesle\\appdata\\local\\packages\\pythonsoftwarefoundation.python.3.12_qbz5n2kfra8p0\\localcache\\local-packages\\python312\\site-packages (from pandas>=1.5->pingouin) (2.8.2)\n",
      "Requirement already satisfied: pytz>=2020.1 in c:\\users\\wesle\\appdata\\local\\packages\\pythonsoftwarefoundation.python.3.12_qbz5n2kfra8p0\\localcache\\local-packages\\python312\\site-packages (from pandas>=1.5->pingouin) (2024.1)\n",
      "Requirement already satisfied: tzdata>=2022.7 in c:\\users\\wesle\\appdata\\local\\packages\\pythonsoftwarefoundation.python.3.12_qbz5n2kfra8p0\\localcache\\local-packages\\python312\\site-packages (from pandas>=1.5->pingouin) (2024.1)\n",
      "Requirement already satisfied: joblib>=1.2.0 in c:\\users\\wesle\\appdata\\local\\packages\\pythonsoftwarefoundation.python.3.12_qbz5n2kfra8p0\\localcache\\local-packages\\python312\\site-packages (from scikit-learn>=1.2->pingouin) (1.3.2)\n",
      "Requirement already satisfied: threadpoolctl>=2.0.0 in c:\\users\\wesle\\appdata\\local\\packages\\pythonsoftwarefoundation.python.3.12_qbz5n2kfra8p0\\localcache\\local-packages\\python312\\site-packages (from scikit-learn>=1.2->pingouin) (3.4.0)\n",
      "Requirement already satisfied: contourpy>=1.0.1 in c:\\users\\wesle\\appdata\\local\\packages\\pythonsoftwarefoundation.python.3.12_qbz5n2kfra8p0\\localcache\\local-packages\\python312\\site-packages (from matplotlib->pingouin) (1.2.0)\n",
      "Requirement already satisfied: cycler>=0.10 in c:\\users\\wesle\\appdata\\local\\packages\\pythonsoftwarefoundation.python.3.12_qbz5n2kfra8p0\\localcache\\local-packages\\python312\\site-packages (from matplotlib->pingouin) (0.12.1)\n",
      "Requirement already satisfied: fonttools>=4.22.0 in c:\\users\\wesle\\appdata\\local\\packages\\pythonsoftwarefoundation.python.3.12_qbz5n2kfra8p0\\localcache\\local-packages\\python312\\site-packages (from matplotlib->pingouin) (4.50.0)\n",
      "Requirement already satisfied: kiwisolver>=1.3.1 in c:\\users\\wesle\\appdata\\local\\packages\\pythonsoftwarefoundation.python.3.12_qbz5n2kfra8p0\\localcache\\local-packages\\python312\\site-packages (from matplotlib->pingouin) (1.4.5)\n",
      "Requirement already satisfied: packaging>=20.0 in c:\\users\\wesle\\appdata\\local\\packages\\pythonsoftwarefoundation.python.3.12_qbz5n2kfra8p0\\localcache\\local-packages\\python312\\site-packages (from matplotlib->pingouin) (24.0)\n",
      "Requirement already satisfied: pillow>=8 in c:\\users\\wesle\\appdata\\local\\packages\\pythonsoftwarefoundation.python.3.12_qbz5n2kfra8p0\\localcache\\local-packages\\python312\\site-packages (from matplotlib->pingouin) (10.2.0)\n",
      "Requirement already satisfied: pyparsing>=2.3.1 in c:\\users\\wesle\\appdata\\local\\packages\\pythonsoftwarefoundation.python.3.12_qbz5n2kfra8p0\\localcache\\local-packages\\python312\\site-packages (from matplotlib->pingouin) (3.1.2)\n",
      "Requirement already satisfied: xarray in c:\\users\\wesle\\appdata\\local\\packages\\pythonsoftwarefoundation.python.3.12_qbz5n2kfra8p0\\localcache\\local-packages\\python312\\site-packages (from pandas-flavor->pingouin) (2025.3.1)\n",
      "Requirement already satisfied: patsy>=0.5.6 in c:\\users\\wesle\\appdata\\local\\packages\\pythonsoftwarefoundation.python.3.12_qbz5n2kfra8p0\\localcache\\local-packages\\python312\\site-packages (from statsmodels->pingouin) (0.5.6)\n",
      "Requirement already satisfied: six in c:\\users\\wesle\\appdata\\local\\packages\\pythonsoftwarefoundation.python.3.12_qbz5n2kfra8p0\\localcache\\local-packages\\python312\\site-packages (from patsy>=0.5.6->statsmodels->pingouin) (1.16.0)\n",
      "Note: you may need to restart the kernel to use updated packages.\n"
     ]
    },
    {
     "name": "stderr",
     "output_type": "stream",
     "text": [
      "\n",
      "[notice] A new release of pip is available: 25.0.1 -> 25.1\n",
      "[notice] To update, run: C:\\Users\\wesle\\AppData\\Local\\Microsoft\\WindowsApps\\PythonSoftwareFoundation.Python.3.12_qbz5n2kfra8p0\\python.exe -m pip install --upgrade pip\n"
     ]
    }
   ],
   "source": [
    "%pip install pingouin"
   ]
  },
  {
   "cell_type": "markdown",
   "id": "052858a1",
   "metadata": {},
   "source": [
    "Importando Bibliotecas"
   ]
  },
  {
   "cell_type": "code",
   "execution_count": 2,
   "id": "f22bd3dd",
   "metadata": {},
   "outputs": [],
   "source": [
    "import numpy as np, random # bibliotecas para manipulação de dados e geração de números aleatórios\n",
    "import pingouin as pg # biblioteca pingouin para análise estatística\n",
    "import pandas as pd # biblioteca pandas para manipulação de dados\n",
    "from scipy.stats import shapiro # teste de normalidade de Shapiro-Wilk\n",
    "from scipy.stats import kstest # teste de Kolmogorov-Smirnov\n",
    "import scipy.stats as stats # biblioteca scipy para funções estatísticas\n",
    "from scipy.stats import ttest_ind # teste t de Student para amostras independentes\n",
    "from scipy.stats import bartlett # teste de Bartlett para homogeneidade de variâncias\n",
    "import matplotlib.pyplot as plt # biblioteca matplotlib para visualização de dados\n",
    "import seaborn as sns # biblioteca seaborn para visualização de dados\n",
    "from scipy.stats import norm # distribuição normal\n",
    "from scipy.stats import t as t_dist # distribuição t de Student"
   ]
  },
  {
   "cell_type": "markdown",
   "id": "d47ad023",
   "metadata": {},
   "source": [
    "### Dados para os Testes de Normalidade"
   ]
  },
  {
   "cell_type": "markdown",
   "id": "520dc9b4",
   "metadata": {},
   "source": [
    "Testar se seus dados seguem uma distribuição normal"
   ]
  },
  {
   "cell_type": "markdown",
   "id": "7be06dc8",
   "metadata": {},
   "source": [
    "Então iremos avaliar o p_valor:\n",
    "\n",
    "- p_valor > 0.05 → dados parecem normais\n",
    "\n",
    "- p_valor ≤ 0.05 → dados provavelmente NÃO são normais"
   ]
  },
  {
   "cell_type": "code",
   "execution_count": 3,
   "id": "99cb5b4b",
   "metadata": {},
   "outputs": [],
   "source": [
    "#dados = np.random.normal(0, 1, 500)"
   ]
  },
  {
   "cell_type": "code",
   "execution_count": 4,
   "id": "c196e9ed",
   "metadata": {},
   "outputs": [
    {
     "data": {
      "text/plain": [
       "array([ 1.34728506e+00, -1.79885403e-02, -8.83936112e-01,  2.21768510e+00,\n",
       "       -2.07365073e+00, -2.49837658e+00,  2.76684193e-01, -1.53099396e+00,\n",
       "        5.25193640e-02, -1.52320173e-01,  2.21909585e-02, -2.20008968e-02,\n",
       "       -2.37229402e-01,  1.53174409e+00, -6.83547658e-01,  1.38063486e+00,\n",
       "        1.11788390e+00,  1.28060530e+00, -1.11565153e-01,  6.24775586e-01,\n",
       "        1.83487154e+00, -1.35266607e+00, -1.12126962e+00, -3.51884960e-01,\n",
       "       -1.33883773e+00,  4.29973418e-01,  3.37653567e+00, -1.09281614e+00,\n",
       "        7.72437314e-01,  1.11496621e+00,  6.08210073e-01,  1.15675200e+00,\n",
       "       -1.59156679e+00, -2.76288575e-01,  8.33230762e-01, -6.94429064e-01,\n",
       "        9.65394554e-01,  8.93019667e-01, -2.86634372e-01,  1.34272380e-01,\n",
       "       -1.35716139e+00,  3.88475207e-01, -1.12718316e+00,  7.86395944e-01,\n",
       "       -8.69960571e-02, -1.79355961e+00,  1.08688919e-01, -9.40492359e-01,\n",
       "        7.20669822e-01, -2.89622502e-01,  2.44835824e+00, -6.82364379e-01,\n",
       "       -8.31304730e-01,  5.64529177e-01, -4.33452907e-01, -1.14949665e+00,\n",
       "       -9.16173050e-01,  1.80381611e+00,  1.13833705e+00, -2.12192410e-01,\n",
       "       -4.81414627e-01,  6.83899484e-01,  1.45890420e-01, -1.67439850e-01,\n",
       "        1.91588506e+00, -1.22642096e-01, -2.94370165e-01,  3.50378230e-01,\n",
       "        3.70963135e-02, -1.39277959e+00, -1.11764078e+00, -1.07366862e+00,\n",
       "       -1.97481044e-01,  4.12122753e-01,  3.27004317e-01, -1.05918167e+00,\n",
       "        9.10017055e-01, -1.16452200e+00, -1.84988808e-01,  4.22188591e-01,\n",
       "        6.73728216e-01, -1.25141863e-01, -4.31993529e-01, -2.52793108e+00,\n",
       "        7.44969030e-01,  5.64315990e-01,  9.11648067e-01,  4.74193669e-01,\n",
       "        1.17857097e-01, -1.65110644e+00, -6.36597879e-03,  3.58460899e-01,\n",
       "        9.32738116e-01, -1.37926201e+00, -1.01759524e+00,  1.89283425e-01,\n",
       "        5.01223954e-01, -9.41463059e-02, -8.76894586e-02, -2.01293150e-01,\n",
       "        8.56612930e-01,  1.63808192e+00,  1.67762645e-01, -1.07675923e+00,\n",
       "       -2.55475274e-01,  4.58484729e-01, -7.01522214e-01, -7.88072263e-01,\n",
       "       -6.17118248e-02,  7.22766259e-02, -5.97238537e-01,  5.55676199e-01,\n",
       "        1.08308249e-01, -1.41299765e-01,  1.16261992e+00, -1.40834288e+00,\n",
       "        1.81377660e+00, -2.91006455e-01,  5.13707517e-01, -9.09008429e-01,\n",
       "       -1.29165250e+00,  1.53788421e+00, -7.61950187e-01,  1.10276348e+00,\n",
       "       -9.39636130e-01,  2.28124030e-01,  1.21445442e+00,  4.19261501e-01,\n",
       "        9.77535307e-01,  1.20013126e+00, -1.34585376e+00,  6.01285587e-01,\n",
       "        3.66497605e-01,  8.07730966e-01, -3.23148852e-01, -6.03195588e-01,\n",
       "       -8.30304759e-01, -1.62883003e-01,  1.82278631e+00, -6.82434319e-01,\n",
       "        6.62674079e-01, -1.01246952e+00,  7.64587176e-01,  5.76391403e-01,\n",
       "       -4.63814237e-01,  8.38274154e-01, -2.03473104e-01, -9.81673071e-01,\n",
       "        4.66165033e-01,  4.05095697e-01,  9.20409484e-01,  1.02052185e-01,\n",
       "       -6.55643064e-01, -1.01946419e+00,  1.25635484e+00, -9.12568370e-01,\n",
       "       -7.69671711e-01,  2.64938020e-01,  2.61928370e+00, -7.57343148e-01,\n",
       "        2.28111937e+00, -3.83912394e-01, -5.96184572e-01, -4.79873875e-01,\n",
       "        1.52540879e-01, -5.80802278e-01,  1.00053963e+00, -5.28711162e-01,\n",
       "        1.33363806e+00,  1.04573064e+00, -4.09191694e-01, -1.30094199e+00,\n",
       "        2.14981821e+00,  1.06630653e+00, -4.25659217e-01,  1.04603714e+00,\n",
       "       -3.01151812e-01,  1.45940335e+00, -9.93413645e-01,  1.15475542e+00,\n",
       "       -3.35971084e-01,  1.70136712e+00,  1.36425291e+00,  6.04578129e-01,\n",
       "       -9.60141417e-01, -1.66019315e+00,  6.57521409e-01, -9.88705003e-01,\n",
       "        6.95543905e-01,  5.26173574e-01, -4.69199208e-01, -3.14046780e-01,\n",
       "        1.06505017e+00,  1.54491399e+00, -2.90089945e-01, -3.78931225e-01,\n",
       "        4.87189341e-01, -9.36639103e-01, -4.05841486e-01,  1.21904414e+00,\n",
       "       -3.06823061e-01, -3.49650046e-01,  3.11929594e-01, -7.94379094e-01,\n",
       "       -1.22530012e+00,  1.71109228e+00,  5.15486074e-01,  1.26864548e+00,\n",
       "       -7.93763602e-01, -7.22976647e-01,  3.81888492e-01,  1.09597692e-01,\n",
       "        1.61830741e+00, -1.27155201e+00, -2.84390981e-01,  3.32650610e-01,\n",
       "       -1.62089601e-01,  5.91650843e-01,  3.52762980e-01, -8.67930495e-02,\n",
       "       -8.58579441e-01,  1.23599548e+00,  1.23479104e+00,  6.62852823e-01,\n",
       "       -1.38489789e+00,  1.16982518e-01, -3.83945188e-01,  1.36179273e+00,\n",
       "        1.01723101e+00,  4.48053472e-03,  1.68317236e-01, -2.71832259e-01,\n",
       "       -5.98736988e-01, -3.50474656e-01,  1.19031404e+00, -2.22529366e-01,\n",
       "        5.12162559e-01, -2.50862517e-01, -5.69106165e-01, -7.13120608e-01,\n",
       "        2.32119964e+00, -7.43347500e-01,  7.67387604e-01, -7.50044478e-01,\n",
       "        6.55414534e-01, -1.66253220e-02,  1.06579785e+00,  3.92132316e-01,\n",
       "        2.92459773e-02,  1.46876293e+00, -2.18797594e+00, -7.52437228e-01,\n",
       "       -1.00820764e+00,  1.70102293e-01, -7.47366117e-01, -5.10398586e-01,\n",
       "       -1.77208069e-01,  6.78557158e-01, -3.44024229e-01,  6.78827958e-01,\n",
       "        2.63747086e-01, -5.30554115e-01, -1.43388450e+00,  4.57801846e-01,\n",
       "        5.76283702e-01, -2.08958216e-01,  4.87100117e-01, -2.58916584e-01,\n",
       "       -5.36300959e-01,  8.17686468e-01,  1.30295247e-01, -2.57157220e-01,\n",
       "        4.28102332e-01, -1.58582939e+00,  8.31847427e-01, -7.33596023e-02,\n",
       "        2.30885084e+00,  1.71024418e-01,  7.70701751e-01, -9.69595575e-01,\n",
       "        7.68303926e-01,  9.93126552e-02,  1.56297810e-01, -2.33659157e-01,\n",
       "       -2.38812022e-03,  1.77219863e+00, -6.68284311e-01,  4.01104857e-01,\n",
       "        6.96442607e-01,  6.82745624e-01, -5.09985713e-01, -7.20881516e-01,\n",
       "       -1.53364642e+00, -7.38734858e-01, -6.51220481e-01, -2.41476345e+00,\n",
       "        1.71596898e+00,  3.44226125e-01,  2.01228287e-01, -2.78088021e+00,\n",
       "        4.06345025e-01,  2.72426475e-01, -6.40542161e-01, -8.44305357e-01,\n",
       "        2.21908211e-01,  4.34661630e-01, -3.32245132e-01,  3.33277008e-01,\n",
       "        7.79076361e-01,  4.24549487e-01,  7.87496876e-01, -6.79056167e-02,\n",
       "        3.35613860e-01, -6.24855209e-01, -8.24629158e-01, -1.14554660e+00,\n",
       "        7.63561521e-01,  1.98311713e-01,  1.01292367e+00,  1.51946175e+00,\n",
       "        1.56477310e+00, -2.66130398e-02,  7.28462051e-02, -4.16843806e-01,\n",
       "        4.56076511e-01, -7.71617815e-01, -1.18303170e+00, -1.49019813e+00,\n",
       "       -3.51077391e-01, -1.20224103e+00,  1.52895323e+00, -2.19542526e-01,\n",
       "        1.85314175e+00, -1.37763171e+00, -2.45194100e-01,  5.75058490e-01,\n",
       "        4.18871609e-01, -1.18911712e+00,  2.60550063e-01,  1.52809571e+00,\n",
       "        2.40582109e-02,  8.79499037e-01,  1.79780458e-02,  9.02107215e-01,\n",
       "        2.17945437e+00,  1.19544945e-01,  1.57139530e+00,  9.50473796e-02,\n",
       "       -4.14180208e-01,  2.21798250e-03,  5.43974404e-01,  3.95755467e-01,\n",
       "        1.41468131e+00,  1.95541129e+00, -4.89947934e-01, -1.30960400e+00,\n",
       "       -5.93616051e-01, -2.23046548e-01,  6.81072003e-01, -6.27076694e-01,\n",
       "       -7.70049834e-02, -2.88186505e+00,  1.31237417e+00,  6.32328313e-01,\n",
       "        1.22357154e+00,  1.71836212e+00,  2.13698976e-01, -1.45770667e+00,\n",
       "        8.48595126e-01,  5.15101146e-01,  1.77980540e-01,  1.29949073e+00,\n",
       "       -9.01370487e-01,  1.32595601e+00, -1.14086626e+00, -7.55050462e-02,\n",
       "       -9.40915655e-01, -7.94386832e-01, -8.62576598e-02,  1.55965090e-01,\n",
       "       -2.09789341e+00,  1.26694224e+00,  2.16371989e-01, -2.40026712e+00,\n",
       "       -1.47701496e+00, -8.22008058e-02,  9.33020229e-02,  8.61972526e-02,\n",
       "        3.67602730e-01,  5.49837963e-01,  4.06398539e-03, -1.65977771e+00,\n",
       "       -1.28500560e+00, -2.34284546e-01,  7.64107851e-01,  7.89471707e-01,\n",
       "       -5.47793080e-01,  7.13843305e-01, -3.08763851e-01,  1.96285699e+00,\n",
       "        7.43164040e-01,  1.83782795e+00,  2.62521277e-01, -5.71105710e-01,\n",
       "       -3.67805597e-01, -1.47559725e+00,  3.29339983e+00,  1.82833950e-02,\n",
       "        8.00051912e-01, -7.15446635e-02, -2.13540086e+00,  1.29634356e+00,\n",
       "        1.49934964e-01,  6.23936584e-01,  3.89926119e-01, -4.37826350e-01,\n",
       "        9.36834801e-02,  7.84916112e-01, -6.86292994e-01,  1.42858011e+00,\n",
       "       -1.89246286e+00,  2.41910590e-01,  2.21062680e+00, -2.03534352e+00,\n",
       "       -1.43236841e+00, -5.37971907e-02,  1.04527014e+00,  8.66343405e-01,\n",
       "       -6.27233790e-01, -5.91846482e-02,  3.00389432e-01,  5.62085218e-01,\n",
       "        1.06228289e+00,  6.90676982e-01,  3.28320664e-01,  1.24212843e+00,\n",
       "        5.48511550e-01, -2.91140486e-01, -7.94481382e-01,  3.08868786e-01,\n",
       "       -1.35101610e+00,  3.04659750e-01, -2.47364827e-01, -1.68087793e+00,\n",
       "        4.22410529e-01,  1.56144566e-03,  1.12554407e+00, -9.25773897e-02,\n",
       "        1.53829021e+00, -7.33432601e-01, -1.78098601e+00,  2.98598998e-02,\n",
       "       -3.70574858e-01, -2.12565355e-01,  9.60902006e-01,  7.15802945e-01,\n",
       "        4.70753244e-01, -1.18723529e+00, -2.72841821e-01, -3.85214319e-01,\n",
       "       -2.28403006e-01,  5.87814423e-02,  8.62856629e-01,  5.42341515e-01,\n",
       "       -1.94369023e+00, -8.06727926e-01,  2.93340857e-01, -4.99334406e-01,\n",
       "       -1.19719196e+00, -3.03662275e-02,  9.55009280e-01, -1.35550632e-01,\n",
       "       -8.02489158e-01,  1.66742755e+00, -3.19823578e-01,  8.60836572e-02,\n",
       "        3.85340417e-01, -2.01933649e+00, -1.61836579e-01, -1.76599010e+00,\n",
       "       -6.29989073e-01, -9.67888669e-01,  6.65694423e-01,  7.55672875e-01,\n",
       "       -1.65311480e+00,  6.69959138e-01, -1.55586475e-01,  3.76470514e-01,\n",
       "        1.60624033e+00,  1.22943583e+00, -1.25737299e-01, -1.86495359e-01,\n",
       "       -6.21497343e-01,  2.31312232e-01, -2.64358491e-01, -6.65178405e-01,\n",
       "       -5.69439684e-01,  8.95893338e-01,  3.64422618e-01,  3.27838943e-01])"
      ]
     },
     "execution_count": 4,
     "metadata": {},
     "output_type": "execute_result"
    }
   ],
   "source": [
    "#\"\"\"\n",
    "dados = random.choice([\n",
    "    np.random.normal(0, 1, 500),\n",
    "    np.random.exponential(1, 500),\n",
    "    np.random.uniform(-2, 2, 500),\n",
    "    np.concatenate([np.random.normal(0, 1, 950), np.random.uniform(10, 20, 50)])\n",
    "])\n",
    "#\"\"\"\n",
    "dados"
   ]
  },
  {
   "cell_type": "markdown",
   "id": "90968485",
   "metadata": {},
   "source": [
    "### Teste Kolmogorov-Smirnov"
   ]
  },
  {
   "cell_type": "markdown",
   "id": "96a557c8",
   "metadata": {},
   "source": [
    "O **teste de Kolmogorov-Smirnov** é um teste estatístico usado para verificar se um conjunto de dados segue uma distribuição teórica específica. No contexto de testes de normalidade, ele avalia se os dados seguem uma distribuição normal."
   ]
  },
  {
   "cell_type": "markdown",
   "id": "d7d097c7",
   "metadata": {},
   "source": [
    "O teste compara:\n",
    "\n",
    "- A função de distribuição empírica dos dados\n",
    "\n",
    "- Com a função de distribuição acumulada teórica da normal."
   ]
  },
  {
   "cell_type": "markdown",
   "id": "18946aff",
   "metadata": {},
   "source": [
    "### Teste Kolmogorov-Smirnov Manual"
   ]
  },
  {
   "cell_type": "code",
   "execution_count": 5,
   "id": "62611665",
   "metadata": {},
   "outputs": [],
   "source": [
    "def kolmogorov_smirnov(data):\n",
    "    # Padroniza os dados para ter média 0 e desvio padrão 1 \n",
    "    #data_padronizado = (data - np.mean(data)) / np.std(data, ddof=1)\n",
    "    \n",
    "    # Organize os dados em ordem crescente\n",
    "    data_sorted = np.sort(data)\n",
    "    n = len(data_sorted)\n",
    "    \n",
    "    # Função de distribuição empírica F_n(x)\n",
    "    F_n = np.arange(1, n+1) / n\n",
    "    \n",
    "    # Função de distribuição acumulada da normal F(x)\n",
    "    F_x = norm.cdf(data_sorted)\n",
    "    \n",
    "    # Calcula o D máximo\n",
    "    D = np.max(np.abs(F_n - F_x))\n",
    "    p_value = kstest(data, 'norm')[1]\n",
    "    \n",
    "    return (D,p_value)"
   ]
  },
  {
   "cell_type": "code",
   "execution_count": 6,
   "id": "dc5c2c7e",
   "metadata": {},
   "outputs": [
    {
     "name": "stdout",
     "output_type": "stream",
     "text": [
      "Kolmogorov-Smirnov Manual: 0.0425 | p-value: 0.2683\n"
     ]
    }
   ],
   "source": [
    "print(f\"Kolmogorov-Smirnov Manual: {kolmogorov_smirnov(dados)[0]:.4f} | p-value: {kolmogorov_smirnov(dados)[1]:.4f}\")\n"
   ]
  },
  {
   "cell_type": "markdown",
   "id": "b5a55a43",
   "metadata": {},
   "source": [
    "### Teste Kolmogorov-Smirnov Biblioteca"
   ]
  },
  {
   "cell_type": "code",
   "execution_count": 7,
   "id": "627433a4",
   "metadata": {},
   "outputs": [
    {
     "name": "stdout",
     "output_type": "stream",
     "text": [
      "estatística = 0.0445, \n",
      "p-valor = 0.2683\n"
     ]
    }
   ],
   "source": [
    "estatistica, p_valor = kstest(dados, 'norm')\n",
    "print(f\"estatística = {estatistica:.4f}, \\np-valor = {p_valor:.4f}\")"
   ]
  },
  {
   "cell_type": "code",
   "execution_count": 8,
   "id": "8844f38d",
   "metadata": {},
   "outputs": [
    {
     "name": "stdout",
     "output_type": "stream",
     "text": [
      "A amostra é normalmente distribuída (não rejeita H0)\n"
     ]
    }
   ],
   "source": [
    "if p_valor < 0.05:\n",
    "    print(\"A amostra não é normalmente distribuída (rejeita H0)\")\n",
    "else:\n",
    "    print(\"A amostra é normalmente distribuída (não rejeita H0)\")"
   ]
  },
  {
   "cell_type": "code",
   "execution_count": 9,
   "id": "882d67bd",
   "metadata": {},
   "outputs": [
    {
     "data": {
      "image/png": "[encoded data removed]",
      "text/plain": [
       "<Figure size 640x480 with 1 Axes>"
      ]
     },
     "metadata": {},
     "output_type": "display_data"
    }
   ],
   "source": [
    "x = np.linspace(min(dados), max(dados), 300)\n",
    "y = norm.pdf(x, loc=0, scale=1)\n",
    "plt.hist(dados, bins=30, density=True, edgecolor='black', alpha=0.7, label='Histograma')\n",
    "plt.plot(x, y, color='blue', linewidth=2, label='Curva Normal')\n",
    "\n",
    "# Marcar o p_valor\n",
    "plt.axvline(p_valor, color='red', linestyle='--', label=f'p_valor = {p_valor:.4f}')\n",
    "\n",
    "# Marcar o valor 0.05\n",
    "plt.axvline(0.05, color='green', linestyle='--', label='0.05')\n",
    "\n",
    "plt.legend()\n",
    "plt.show()"
   ]
  },
  {
   "cell_type": "markdown",
   "id": "a0ebaced",
   "metadata": {},
   "source": [
    "### Teste Shapiro-Wilk"
   ]
  },
  {
   "cell_type": "markdown",
   "id": "b0462840",
   "metadata": {},
   "source": [
    "O **teste de Shapiro-Wilk** é um dos testes mais utilizados para verificar se uma amostra segue uma distribuição normal. Ele é especialmente eficaz para tamanhos de amostra pequenos e médios"
   ]
  },
  {
   "cell_type": "markdown",
   "id": "cdd41fc4",
   "metadata": {},
   "source": [
    "O teste compara a variância da amostra com a variância esperada caso os dados fossem normais. A estatística do teste é o W, que mede o quão bem os dados se ajustam à distribuição normal teórica.\n",
    "\n",
    "- W próximo de 1 → forte evidência de normalidade.\n",
    "\n",
    "- W significativamente menor que 1 → desvio da normalidade.\n",
    "\n"
   ]
  },
  {
   "cell_type": "markdown",
   "id": "79a03a6c",
   "metadata": {},
   "source": [
    "### Teste Shapiro-Wilk Manual"
   ]
  },
  {
   "cell_type": "code",
   "execution_count": 10,
   "id": "6b617b12",
   "metadata": {},
   "outputs": [],
   "source": [
    "def shapiro_wilk(dados):\n",
    "    dados = np.sort(dados)\n",
    "    n = len(dados)\n",
    "    \n",
    "    # Média e desvio padrão da amostra\n",
    "    media = np.mean(dados)\n",
    "    desvio = np.std(dados, ddof=1)\n",
    "    \n",
    "    # Estatísticas padronizadas\n",
    "    z = (dados - media) / desvio\n",
    "\n",
    "    # Coeficientes de Shapiro aproximados a_i,n\n",
    "    # Para isso usamos quantis da normal padrão\n",
    "    # - 0.375: quantil 0.375 da normal padrão\n",
    "    # - 0.25: quantil 0.25 da normal padrão\n",
    "    # O 0.375 e o 0.25 são valores empíricos usados para aproximar a distribuição dos coeficientes \n",
    "    # a_i,n, que são os coeficientes de Shapiro-Wilk.\n",
    "    \n",
    "    prob = []\n",
    "    for i in range(1, n + 1):\n",
    "        prob_value = (i - 0.375) / (n + 0.25)\n",
    "        prob.append(prob_value)\n",
    "    \n",
    "    b = norm.ppf(prob) #ppf é a função de quantil da normal padrão\n",
    "    b = b / np.linalg.norm(b)  # Normaliza m\n",
    "\n",
    "    # Soma ponderada dos dados ordenados com os coeficientes m\n",
    "    W_numerador = (np.sum(b * dados))**2\n",
    "    W_denominador = np.sum((dados - media)**2)\n",
    "\n",
    "    W = W_numerador / W_denominador\n",
    "    p_valor = shapiro(dados)[1]\n",
    "    return (W, p_valor)"
   ]
  },
  {
   "cell_type": "code",
   "execution_count": 11,
   "id": "45435671",
   "metadata": {},
   "outputs": [
    {
     "name": "stdout",
     "output_type": "stream",
     "text": [
      "Shapiro-Wilk Manual: 0.9981 | p-value: 0.9143\n"
     ]
    }
   ],
   "source": [
    "print(f\"Shapiro-Wilk Manual: {shapiro_wilk(dados)[0]:.4f} | p-value: {shapiro_wilk(dados)[1]:.4f}\")"
   ]
  },
  {
   "cell_type": "markdown",
   "id": "f9135ce0",
   "metadata": {},
   "source": [
    "### Teste Shapiro-Wilk Biblioteca\n"
   ]
  },
  {
   "cell_type": "code",
   "execution_count": 12,
   "id": "593f3515",
   "metadata": {},
   "outputs": [
    {
     "name": "stdout",
     "output_type": "stream",
     "text": [
      "estatística = 0.9983, \n",
      "p-valor = 0.9143\n"
     ]
    }
   ],
   "source": [
    "estatistica, p_valor = shapiro(dados)\n",
    "print(f\"estatística = {estatistica:.4f}, \\np-valor = {p_valor:.4f}\")"
   ]
  },
  {
   "cell_type": "code",
   "execution_count": 13,
   "id": "0340ecab",
   "metadata": {},
   "outputs": [
    {
     "name": "stdout",
     "output_type": "stream",
     "text": [
      "A amostra é normalmente distribuída (não rejeita H0)\n"
     ]
    }
   ],
   "source": [
    "if p_valor <= 0.05:\n",
    "    print(\"A amostra não é normalmente distribuída (rejeita H0)\")\n",
    "else:\n",
    "    print(\"A amostra é normalmente distribuída (não rejeita H0)\")"
   ]
  },
  {
   "cell_type": "code",
   "execution_count": 14,
   "id": "1b202bd1",
   "metadata": {},
   "outputs": [
    {
     "data": {
      "image/png": "[encoded data removed]",
      "text/plain": [
       "<Figure size 640x480 with 1 Axes>"
      ]
     },
     "metadata": {},
     "output_type": "display_data"
    }
   ],
   "source": [
    "x = np.linspace(min(dados), max(dados), 300)\n",
    "y = norm.pdf(x, loc=0, scale=1)\n",
    "plt.hist(dados, bins=30, density=True, edgecolor='black', alpha=0.7, label='Histograma')\n",
    "plt.plot(x, y, color='blue', linewidth=2, label='Curva Normal')\n",
    "\n",
    "# Marcar o p_valor\n",
    "plt.axvline(p_valor, color='red', linestyle='--', label=f'p_valor = {p_valor:.4f}')\n",
    "\n",
    "# Marcar o valor 0.05\n",
    "plt.axvline(0.05, color='green', linestyle='--', label='0.05')\n",
    "\n",
    "plt.legend()\n",
    "plt.show()"
   ]
  },
  {
   "cell_type": "markdown",
   "id": "cea4cbf9",
   "metadata": {},
   "source": [
    "### Teste Shapiro-Francia"
   ]
  },
  {
   "cell_type": "markdown",
   "id": "54767ebd",
   "metadata": {},
   "source": [
    "O teste de Shapiro-Francia é uma variação do teste de Shapiro-Wilk, idealizado especialmente para detectar desvios da normalidade em amostras maiores. Ele é mais simples e rápido de computar, pois usa quantis normais no lugar de coeficientes tabelados.\n",
    "\n",
    "Hipóteses:\n",
    "​\n",
    "- H0: Os dados seguem uma distribuição normal.\n",
    "- H1: : Os dados não seguem uma distribuição normal\n",
    "\n",
    "Se o W Se estiver muito distante de 1, a normalidade pode ser rejeitada"
   ]
  },
  {
   "attachments": {
    "image.png": {
     "image/png": "[encoded data removed]"
    }
   },
   "cell_type": "markdown",
   "id": "f035ec8b",
   "metadata": {},
   "source": [
    "![image.png](attachment:image.png)"
   ]
  },
  {
   "cell_type": "markdown",
   "id": "da73d0c1",
   "metadata": {},
   "source": [
    "### Teste Shapiro-Francia Manual"
   ]
  },
  {
   "cell_type": "code",
   "execution_count": 15,
   "id": "bcfce54f",
   "metadata": {},
   "outputs": [],
   "source": [
    "def shapiro_francia_test(x):\n",
    "    # Ordena os dados da amostra\n",
    "    x = np.sort(x)\n",
    "    n = len(x)\n",
    "\n",
    "    # Calcula a média dos dados ordenados\n",
    "    x_media = np.mean(x)\n",
    "\n",
    "    # Gera os quantis esperados da normal padrão usando posições ajustadas (probabilidades simuladas)\n",
    "    # Essa fórmula é uma heurística comum para gerar quantis simétricos\n",
    "    # Estou usando isso para evitar o uso de coeficientes a_i,n, que são tabelados e não são facilmente acessíveis\n",
    "    # O 0.375 e o 0.25 são valores empíricos usados para aproximar a distribuição dos coeficientes\n",
    "    # ppf é a função de quantil da normal padrão\n",
    "    m = norm.ppf([(i - 0.375) / (n + 0.25) for i in range(1, n + 1)])\n",
    "    m_media = np.mean(m)\n",
    "\n",
    "    # Coeficientes a_i normalizados\n",
    "    # Subtrai a média de m para centralizar os dados e depois normaliza\n",
    "    u = m - m_media\n",
    "    a = u / np.sqrt(np.sum(u ** 2))  # Normaliza os coeficientes\n",
    "\n",
    "    # Cálculo do numerador do W': soma ponderada dos dados ordenados elevada ao quadrado\n",
    "    numerador = (np.sum(a * x)) ** 2\n",
    "\n",
    "    # Cálculo do denominador do W': soma dos quadrados das diferenças em relação à média\n",
    "    denominador = np.sum((x - x_media) ** 2)\n",
    "\n",
    "    # Estatística do teste de Shapiro-Francia\n",
    "    W_calc = numerador / denominador\n",
    "\n",
    "    # P-valor: aqui usamos a função shapiro do scipy apenas para obter o p-valor como aproximação\n",
    "    p_value = shapiro(x)[1]\n",
    "\n",
    "    return (W_calc, p_value)\n"
   ]
  },
  {
   "cell_type": "code",
   "execution_count": 16,
   "id": "482a5215",
   "metadata": {},
   "outputs": [
    {
     "name": "stdout",
     "output_type": "stream",
     "text": [
      "Shapiro-Francia: W' = 0.9981, p-valor = 0.9143\n"
     ]
    }
   ],
   "source": [
    "stat, p = shapiro_francia_test(dados)\n",
    "print(f\"Shapiro-Francia: W' = {stat:.4f}, p-valor = {p:.4f}\")"
   ]
  },
  {
   "cell_type": "code",
   "execution_count": 17,
   "id": "af6e2233",
   "metadata": {},
   "outputs": [
    {
     "name": "stdout",
     "output_type": "stream",
     "text": [
      "A amostra é normalmente distribuída (não rejeita H0)\n"
     ]
    }
   ],
   "source": [
    "if p <= 0.05:\n",
    "    print(\"A amostra não é normalmente distribuída (rejeita H0)\")\n",
    "else:\n",
    "    print(\"A amostra é normalmente distribuída (não rejeita H0)\")"
   ]
  },
  {
   "cell_type": "code",
   "execution_count": 18,
   "id": "117d6a2f",
   "metadata": {},
   "outputs": [
    {
     "data": {
      "image/png": "[encoded data removed]",
      "text/plain": [
       "<Figure size 640x480 with 1 Axes>"
      ]
     },
     "metadata": {},
     "output_type": "display_data"
    }
   ],
   "source": [
    "x = np.linspace(min(dados), max(dados), 300)\n",
    "y = norm.pdf(x, loc=0, scale=1)\n",
    "plt.hist(dados, bins=30, density=True, edgecolor='black', alpha=0.7, label='Histograma')\n",
    "plt.plot(x, y, color='blue', linewidth=2, label='Curva Normal')\n",
    "\n",
    "# Marcar o p_valor\n",
    "plt.axvline(p_valor, color='red', linestyle='--', label=f'p_valor = {p_valor:.4f}')\n",
    "\n",
    "# Marcar o valor 0.05\n",
    "plt.axvline(0.05, color='green', linestyle='--', label='0.05')\n",
    "\n",
    "plt.legend()\n",
    "plt.show()"
   ]
  },
  {
   "cell_type": "markdown",
   "id": "d437b050",
   "metadata": {},
   "source": [
    "### Dados para Teste de Média Populacional"
   ]
  },
  {
   "cell_type": "markdown",
   "id": "89757286",
   "metadata": {},
   "source": [
    "Comparar se a média de dois grupos é diferente"
   ]
  },
  {
   "cell_type": "markdown",
   "id": "a556b65a",
   "metadata": {},
   "source": [
    "Nível de Significância (α) - É o limite máximo que você aceita para cometer um erro tipo I (rejeitar a hipótese nula quando ela é verdadeira).\n",
    "\n",
    "\n",
    "Comparar o p-valor que é a probabilidade de obter um resultado tão extremo quanto o observado, assumindo que a hipótese nula é verdadeira."
   ]
  },
  {
   "cell_type": "markdown",
   "id": "96a66702",
   "metadata": {},
   "source": [
    "Então iremos avaliar o p_valor:\n",
    "\n",
    "- p > 0.05 → as médias são provavelmente iguais\n",
    "\n",
    "- p ≤ 0.05 → as médias são provavelmente diferentes"
   ]
  },
  {
   "cell_type": "code",
   "execution_count": 19,
   "id": "963992d9",
   "metadata": {},
   "outputs": [],
   "source": [
    "grupo1 = np.random.normal(0, 1, 20)\n",
    "grupo2 = np.random.normal(0, 1, 20)"
   ]
  },
  {
   "cell_type": "code",
   "execution_count": 20,
   "id": "3d854313",
   "metadata": {},
   "outputs": [
    {
     "data": {
      "text/plain": [
       "'grupo1 = random.choice([\\n    np.random.normal(0, 1, 20),\\n    np.random.exponential(1, 20),\\n    np.random.uniform(-2, 2, 20),\\n    np.concatenate([np.random.normal(0, 1, 20), np.random.uniform(10, 20, 50)])\\n])\\n\\ngrupo2 = random.choice([\\n    np.random.normal(0, 1, 20),\\n    np.random.exponential(1, 20),\\n    np.random.uniform(-2, 2, 20),\\n    np.concatenate([np.random.normal(0, 1, 20), np.random.uniform(10, 20, 50)])\\n])'"
      ]
     },
     "execution_count": 20,
     "metadata": {},
     "output_type": "execute_result"
    }
   ],
   "source": [
    "\"\"\"grupo1 = random.choice([\n",
    "    np.random.normal(0, 1, 20),\n",
    "    np.random.exponential(1, 20),\n",
    "    np.random.uniform(-2, 2, 20),\n",
    "    np.concatenate([np.random.normal(0, 1, 20), np.random.uniform(10, 20, 50)])\n",
    "])\n",
    "\n",
    "grupo2 = random.choice([\n",
    "    np.random.normal(0, 1, 20),\n",
    "    np.random.exponential(1, 20),\n",
    "    np.random.uniform(-2, 2, 20),\n",
    "    np.concatenate([np.random.normal(0, 1, 20), np.random.uniform(10, 20, 50)])\n",
    "])\"\"\""
   ]
  },
  {
   "cell_type": "code",
   "execution_count": 21,
   "id": "77617848",
   "metadata": {},
   "outputs": [
    {
     "data": {
      "text/plain": [
       "array([ 0.12237516, -0.94275816,  0.21080514, -1.35663855,  2.1658472 ,\n",
       "       -1.00768235,  0.92556607,  0.71315586,  0.45358723,  1.95352737,\n",
       "       -0.16550686, -0.19059275,  1.38422339, -0.64927431,  0.12463698,\n",
       "        0.87276749, -0.42981889,  0.42754702, -0.36376449,  0.08594285])"
      ]
     },
     "execution_count": 21,
     "metadata": {},
     "output_type": "execute_result"
    }
   ],
   "source": [
    "grupo1"
   ]
  },
  {
   "cell_type": "code",
   "execution_count": 22,
   "id": "3982cf45",
   "metadata": {},
   "outputs": [
    {
     "data": {
      "text/plain": [
       "array([ 0.10017231, -1.36555403, -1.28978367, -1.28229503, -1.71581368,\n",
       "       -0.43335664,  0.2702897 , -0.14095135,  0.05014887, -1.2947857 ,\n",
       "        1.19253482,  0.16688734,  0.21009837, -0.28016872,  1.88658954,\n",
       "        0.61212541, -0.97967131, -1.18749024, -0.53594533,  0.79905693])"
      ]
     },
     "execution_count": 22,
     "metadata": {},
     "output_type": "execute_result"
    }
   ],
   "source": [
    "grupo2"
   ]
  },
  {
   "cell_type": "markdown",
   "id": "9cc4b8d9",
   "metadata": {},
   "source": [
    "### Teste Z"
   ]
  },
  {
   "cell_type": "markdown",
   "id": "dc04f19c",
   "metadata": {},
   "source": [
    "### Teste Z manual"
   ]
  },
  {
   "attachments": {
    "image.png": {
     "image/png": "[encoded data removed]"
    }
   },
   "cell_type": "markdown",
   "id": "4b8c2abe",
   "metadata": {},
   "source": [
    "![image.png](attachment:image.png)"
   ]
  },
  {
   "cell_type": "code",
   "execution_count": 23,
   "id": "9489834b",
   "metadata": {},
   "outputs": [],
   "source": [
    "def teste_z_duas_amostras(grupo1, grupo2, sigma1, sigma2):\n",
    "    n1, n2 = len(grupo1), len(grupo2)\n",
    "    media1, media2 = np.mean(grupo1), np.mean(grupo2)\n",
    "\n",
    "    # Fórmula do Z para duas amostras com desvio conhecido\n",
    "    z = (media1 - media2) / np.sqrt((sigma1**2)/n1 + (sigma2**2)/n2)\n",
    "\n",
    "    # P-valor para teste bilateral\n",
    "    p_valor = 2 * (1 - norm.cdf(abs(z)))\n",
    "\n",
    "    return z, p_valor"
   ]
  },
  {
   "cell_type": "code",
   "execution_count": 24,
   "id": "a5c6e6bb",
   "metadata": {},
   "outputs": [],
   "source": [
    "z, p = teste_z_duas_amostras(grupo1, grupo2, sigma1=1, sigma2=1)"
   ]
  },
  {
   "cell_type": "code",
   "execution_count": 25,
   "id": "04823d74",
   "metadata": {},
   "outputs": [
    {
     "name": "stdout",
     "output_type": "stream",
     "text": [
      "Z = 1.5103\n",
      "P-valor = 0.1310\n"
     ]
    }
   ],
   "source": [
    "print(f\"Z = {z:.4f}\")\n",
    "print(f\"P-valor = {p:.4f}\")"
   ]
  },
  {
   "cell_type": "code",
   "execution_count": 26,
   "id": "80c4f26f",
   "metadata": {},
   "outputs": [
    {
     "name": "stdout",
     "output_type": "stream",
     "text": [
      "Não rejeita H0: não há evidência forte de diferença.\n"
     ]
    }
   ],
   "source": [
    "if p < 0.05:\n",
    "    print(\"Rejeita H0: diferença estatisticamente significativa.\")\n",
    "else:\n",
    "    print(\"Não rejeita H0: não há evidência forte de diferença.\")"
   ]
  },
  {
   "cell_type": "markdown",
   "id": "7c19f4df",
   "metadata": {},
   "source": [
    "### Teste TStudent"
   ]
  },
  {
   "cell_type": "markdown",
   "id": "955f5125",
   "metadata": {},
   "source": [
    "O teste t de Student é um teste estatístico usado para determinar se há uma diferença significativa entre as médias de dois grupos (ou entre a média de um grupo e um valor conhecido)"
   ]
  },
  {
   "cell_type": "markdown",
   "id": "bc7e253b",
   "metadata": {},
   "source": [
    "### Tstudent uma amostra -  manual"
   ]
  },
  {
   "cell_type": "markdown",
   "id": "4a52dc86",
   "metadata": {},
   "source": [
    "Comparar a média de uma amostra com um valor conhecido, no caso mu = 0"
   ]
  },
  {
   "attachments": {
    "image.png": {
     "image/png": "[encoded data removed]"
    }
   },
   "cell_type": "markdown",
   "id": "65385d33",
   "metadata": {},
   "source": [
    "![image.png](attachment:image.png)"
   ]
  },
  {
   "cell_type": "code",
   "execution_count": 27,
   "id": "03ff949a",
   "metadata": {},
   "outputs": [],
   "source": [
    "def teste_t_amostra(grupo, mu=0, alpha=0.05):\n",
    "    \"\"\"\n",
    "    Realiza o teste t para uma amostra.\n",
    "\n",
    "    Parâmetros:\n",
    "    - grupo: array-like, dados da amostra\n",
    "    - mu: valor da média populacional para o teste (default = 0) para testar se a média da amostra é diferente de 0\n",
    "    - alpha: nível de significância (default = 0.05)\n",
    "\n",
    "    Retorna:\n",
    "    - t_calculado: valor t da amostra\n",
    "    - mu: média populacional hipotética\n",
    "    - alpha: nível de significância\n",
    "    \"\"\"\n",
    "\n",
    "    # Calcular a média da amostra\n",
    "    media_amostra = np.mean(grupo)\n",
    "\n",
    "    # Calcular o desvio padrão amostral (ddof=1 -> desvio amostral)\n",
    "    desvio_amostra = np.std(grupo, ddof=1)\n",
    "\n",
    "    # Número de observações na amostra\n",
    "    n = len(grupo)\n",
    "\n",
    "    # Calcular o valor t\n",
    "    t_calculado = (media_amostra - mu) / (desvio_amostra / np.sqrt(n))\n",
    "\n",
    "    # Graus de liberdade\n",
    "    df = n - 1\n",
    "\n",
    "    # Valor crítico t (teste bilateral: alpha/2 em cada cauda)\n",
    "    # ppf (Percent-Point Function) retorna o valor t crítico correspondente a uma probabilidade cumulativa\n",
    "    t_critico = t_dist.ppf(1 - alpha / 2, df)\n",
    "\n",
    "    \n",
    "\n",
    "    return t_calculado, df"
   ]
  },
  {
   "cell_type": "code",
   "execution_count": 28,
   "id": "cd4a32ec",
   "metadata": {},
   "outputs": [
    {
     "name": "stdout",
     "output_type": "stream",
     "text": [
      "Valor t calculado: 1.0359\n",
      "Graus de liberdade: 19\n"
     ]
    }
   ],
   "source": [
    "t_calculado, df = teste_t_amostra(grupo1)\n",
    "print(f\"Valor t calculado: {t_calculado:.4f}\")\n",
    "print(f\"Graus de liberdade: {df}\")"
   ]
  },
  {
   "cell_type": "markdown",
   "id": "30eb5cf9",
   "metadata": {},
   "source": [
    "### Tstudent uma amostra - Biblioteca"
   ]
  },
  {
   "cell_type": "code",
   "execution_count": 29,
   "id": "f0c71ab2",
   "metadata": {},
   "outputs": [],
   "source": [
    "mu = 0\n",
    "t_stat, p_value = stats.ttest_1samp(grupo1, mu)\n",
    "#stats - biblioteca de estatísticas do scipy\n",
    "#ttest_1samp - teste t para uma amostra"
   ]
  },
  {
   "cell_type": "code",
   "execution_count": 30,
   "id": "a87b8d89",
   "metadata": {},
   "outputs": [
    {
     "name": "stdout",
     "output_type": "stream",
     "text": [
      "Valor t calculado: 1.0359\n",
      "Valor p: 0.3133\n",
      "Não rejeitar H0: A média da amostra não é significativamente diferente de 0\n"
     ]
    }
   ],
   "source": [
    "print(f\"Valor t calculado: {t_stat:.4f}\")\n",
    "print(f\"Valor p: {p_value:.4f}\")\n",
    "\n",
    "# Decisão sobre a hipótese nula\n",
    "alpha = 0.05\n",
    "if p_value < alpha:\n",
    "    print(\"Rejeitar H0: A média da amostra é significativamente diferente de\", mu)\n",
    "else:\n",
    "    print(\"Não rejeitar H0: A média da amostra não é significativamente diferente de\", mu)"
   ]
  },
  {
   "cell_type": "code",
   "execution_count": 31,
   "id": "2923a9ca",
   "metadata": {},
   "outputs": [
    {
     "data": {
      "image/png": "[encoded data removed]",
      "text/plain": [
       "<Figure size 1000x600 with 1 Axes>"
      ]
     },
     "metadata": {},
     "output_type": "display_data"
    }
   ],
   "source": [
    "def plot_t_student_bilateral(t_calculado, df, alpha=0.05):\n",
    "    \"\"\"\n",
    "    Plota a distribuição t de Student para um teste bilateral,\n",
    "    destacando as regiões de rejeição e o valor t calculado.\n",
    "\n",
    "    Parâmetros:\n",
    "    - t_calculado: valor t da amostra\n",
    "    - df: graus de liberdade (n - 1)\n",
    "    - alpha: nível de significância (default = 0.05)\n",
    "    \"\"\"\n",
    "\n",
    "    # Gerar valores t no intervalo\n",
    "    t_vals = np.linspace(-4, 4, 500)\n",
    "    \n",
    "    # Obter densidade de probabilidade\n",
    "    #pdf - função densidade de probabilidade\n",
    "    pdf = t_dist.pdf(t_vals, df)\n",
    "\n",
    "    # Valores críticos para o teste bilateral\n",
    "    # ppf - Percent-Point Function (inversa da CDF)\n",
    "    t_critico = t_dist.ppf(1 - alpha/2, df)\n",
    "\n",
    "    # Plotar a curva da distribuição t\n",
    "    plt.figure(figsize=(10, 6))\n",
    "    plt.plot(t_vals, pdf, label=f\"Distribuição t (df={df})\", color=\"black\")\n",
    "\n",
    "    # Preencher regiões de rejeição (caudas)\n",
    "    plt.fill_between(t_vals, 0, pdf, where=(t_vals <= -t_critico), color='red', alpha=0.5, label=\"Região de Rejeição\")\n",
    "    plt.fill_between(t_vals, 0, pdf, where=(t_vals >= t_critico), color='red', alpha=0.5)\n",
    "\n",
    "    # Marcar valor t crítico (positivo e negativo)\n",
    "    plt.axvline(x=-t_critico, color='red', linestyle='--', label=f\"t crítico = ±{t_critico:.2f}\")\n",
    "    plt.axvline(x=t_critico, color='red', linestyle='--')\n",
    "\n",
    "    # Marcar valor t calculado\n",
    "    plt.axvline(x=t_calculado, color='blue', linestyle='-', label=f\"t calculado = {t_calculado:.2f}\")\n",
    "\n",
    "    # Configurações do gráfico\n",
    "    plt.title('Distribuição t de Student - Teste Bilateral')\n",
    "    plt.xlabel('t')\n",
    "    plt.ylabel('Densidade de Probabilidade')\n",
    "    plt.legend()\n",
    "    plt.grid(True)\n",
    "    plt.show()\n",
    "\n",
    "df = len(grupo1) - 1\n",
    "plot_t_student_bilateral(t_calculado, df)"
   ]
  },
  {
   "cell_type": "markdown",
   "id": "1e431117",
   "metadata": {},
   "source": [
    "### Tstudent Independente - Manual"
   ]
  },
  {
   "cell_type": "markdown",
   "id": "06d266cd",
   "metadata": {},
   "source": [
    "Comparar as médias de dois grupos independentes."
   ]
  },
  {
   "attachments": {
    "image.png": {
     "image/png": "[encoded data removed]"
    }
   },
   "cell_type": "markdown",
   "id": "8429008e",
   "metadata": {},
   "source": [
    "![image.png](attachment:image.png)"
   ]
  },
  {
   "cell_type": "code",
   "execution_count": 32,
   "id": "58c261ce",
   "metadata": {},
   "outputs": [],
   "source": [
    "import math\n",
    "def t_student_duas_amostras(amostra1, amostra2, alpha=0.05):\n",
    "    \"\"\"\n",
    "    Calcula o valor t para comparação de duas amostras independentes \n",
    "    assumindo variâncias iguais (teste t para duas amostras).\n",
    "\n",
    "    Parâmetros:\n",
    "    - amostra1: dados da primeira amostra\n",
    "    - amostra2: dados da segunda amostra\n",
    "    - alpha: nível de significância (default = 0.05)\n",
    "\n",
    "    Retorna:\n",
    "    - t_calculado: valor t obtido\n",
    "    - df: graus de liberdade\n",
    "    \"\"\"\n",
    "\n",
    "    # Tamanho das amostras\n",
    "    n1, n2 = len(amostra1), len(amostra2)\n",
    "\n",
    "    # Médias das amostras\n",
    "    media1 = sum(amostra1) / n1\n",
    "    media2 = sum(amostra2) / n2\n",
    "\n",
    "    # Variâncias amostrais\n",
    "    var1 = sum((x - media1)**2 for x in amostra1) / (n1 - 1)\n",
    "    var2 = sum((x - media2)**2 for x in amostra2) / (n2 - 1)\n",
    "\n",
    "    # Variância combinada (assumindo variâncias iguais)\n",
    "    #sqrt - raiz quadrada\n",
    "    sp = math.sqrt(((n1 - 1) * var1 + (n2 - 1) * var2) / (n1 + n2 - 2))\n",
    "\n",
    "    # Valor t calculado\n",
    "    t_calculado = (media1 - media2) / (sp * math.sqrt(1/n1 + 1/n2))\n",
    "\n",
    "    # Graus de liberdade\n",
    "    df = n1 + n2 - 2\n",
    "\n",
    "    return t_calculado, df, media1, media2"
   ]
  },
  {
   "cell_type": "code",
   "execution_count": 33,
   "id": "032aec0e",
   "metadata": {},
   "outputs": [
    {
     "name": "stdout",
     "output_type": "stream",
     "text": [
      "Valor t calculado: 1.5930\n",
      "Graus de liberdade: 38\n",
      "Média amostra 1: 0.2167\n",
      "Média amostra 2: -0.2609\n"
     ]
    }
   ],
   "source": [
    "t_calculado, df, media1, media2 = t_student_duas_amostras(grupo1, grupo2)\n",
    "\n",
    "print(f\"Valor t calculado: {t_calculado:.4f}\")\n",
    "print(f\"Graus de liberdade: {df}\")\n",
    "print(f\"Média amostra 1: {media1:.4f}\")\n",
    "print(f\"Média amostra 2: {media2:.4f}\") "
   ]
  },
  {
   "cell_type": "markdown",
   "id": "c4a5396e",
   "metadata": {},
   "source": [
    "### Tstudent Independente - Biblioteca"
   ]
  },
  {
   "cell_type": "code",
   "execution_count": 34,
   "id": "808923bb",
   "metadata": {},
   "outputs": [
    {
     "name": "stdout",
     "output_type": "stream",
     "text": [
      "t-Student: estatística = 1.5930, p-valor = 0.1194\n"
     ]
    }
   ],
   "source": [
    "stat, p = ttest_ind(grupo1, grupo2, equal_var=True)\n",
    "print(f\"t-Student: estatística = {stat:.4f}, p-valor = {p:.4f}\")\n",
    "\n",
    "#equal_var=True - assume variâncias iguais\n",
    "#ttest_ind - teste t para duas amostras independentes"
   ]
  },
  {
   "cell_type": "code",
   "execution_count": 35,
   "id": "e793f00b",
   "metadata": {},
   "outputs": [
    {
     "name": "stdout",
     "output_type": "stream",
     "text": [
      "As médias são significativamente iguais (não rejeita H0)\n"
     ]
    }
   ],
   "source": [
    "if p <= 0.05:\n",
    "    print(\"As médias são diferentes (rejeita H0)\")\n",
    "else:  \n",
    "    print(\"As médias são significativamente iguais (não rejeita H0)\")"
   ]
  },
  {
   "cell_type": "code",
   "execution_count": 36,
   "id": "72738112",
   "metadata": {},
   "outputs": [
    {
     "data": {
      "image/png": "[encoded data removed]",
      "text/plain": [
       "<Figure size 640x480 with 1 Axes>"
      ]
     },
     "metadata": {},
     "output_type": "display_data"
    }
   ],
   "source": [
    "sns.boxplot(data=[grupo1, grupo2])\n",
    "plt.xticks([0, 1], ['Grupo 1', 'Grupo 2'])\n",
    "plt.title('Boxplot dos Grupos')\n",
    "plt.ylabel('Valores')\n",
    "plt.show()"
   ]
  },
  {
   "cell_type": "markdown",
   "id": "c9f16f06",
   "metadata": {},
   "source": [
    "### Tstudent Emparelhado - Manual"
   ]
  },
  {
   "cell_type": "code",
   "execution_count": 37,
   "id": "da8b70c8",
   "metadata": {},
   "outputs": [],
   "source": [
    "grupo1 = random.choice([\n",
    "    np.random.normal(0, 1, 20),\n",
    "    np.random.exponential(1, 20),\n",
    "    np.random.uniform(-2, 2, 20),\n",
    "    np.concatenate([np.random.normal(0, 1, 10), np.random.uniform(10, 20, 10)])  \n",
    "])\n",
    "\n",
    "# Simulando uma mudança no grupo (grupo2) para amostras pareadas\n",
    "grupo2 = grupo1 + np.random.normal(0, 0.5, 20)"
   ]
  },
  {
   "attachments": {
    "image.png": {
     "image/png": "[encoded data removed]"
    }
   },
   "cell_type": "markdown",
   "id": "99d33e17",
   "metadata": {},
   "source": [
    "![image.png](attachment:image.png)"
   ]
  },
  {
   "cell_type": "code",
   "execution_count": 38,
   "id": "a841fa7c",
   "metadata": {},
   "outputs": [],
   "source": [
    "def t_student_amostras_emparelhadas(grupo1, grupo2, alpha=0.05):\n",
    "    \"\"\"\n",
    "    Realiza o teste t de Student para amostras emparelhadas, comparando as médias das diferenças.\n",
    "\n",
    "    Parâmetros:\n",
    "    - grupo1: dados da primeira amostra\n",
    "    - grupo2: dados da segunda amostra\n",
    "    - alpha: nível de significância (default = 0.05)\n",
    "\n",
    "    Retorna:\n",
    "    - t_calculado: valor t obtido\n",
    "    - p_valor: valor p para o teste\n",
    "    - rejeitar_H0: booleano indicando se H0 é rejeitada\n",
    "    \"\"\"\n",
    "    \n",
    "    # Calcular as diferenças (d = grupo1 - grupo2)\n",
    "    diferencas = np.array(grupo1) - np.array(grupo2)\n",
    "\n",
    "    # Calcular a média das diferenças (d_bar)\n",
    "    media_diferencas = np.mean(diferencas)\n",
    "\n",
    "    # Calcular o desvio padrão das diferenças (s_d) - amostral\n",
    "    desvio_diferencas = np.std(diferencas, ddof=1)\n",
    "\n",
    "    # Número de pares\n",
    "    n = len(diferencas)\n",
    "\n",
    "    # Calcular o valor t\n",
    "    t_calculado = media_diferencas / (desvio_diferencas / np.sqrt(n))\n",
    "\n",
    "    # Calcular os graus de liberdade (df)\n",
    "    df = n - 1\n",
    "\n",
    "    # Calcular o p-valor\n",
    "    p_valor = 2 * (1 - t_dist.cdf(abs(t_calculado), df))\n",
    "\n",
    "    # Determinar se devemos rejeitar H0\n",
    "    rejeitar_H0 = p_valor < alpha\n",
    "\n",
    "    return t_calculado, p_valor, rejeitar_H0, df\n"
   ]
  },
  {
   "cell_type": "code",
   "execution_count": 39,
   "id": "dcea1490",
   "metadata": {},
   "outputs": [
    {
     "name": "stdout",
     "output_type": "stream",
     "text": [
      "Valor t calculado: 0.2807\n",
      "p-valor: 0.7820\n",
      "Graus de liberdade: 19\n",
      "Rejeitar H0? Não\n"
     ]
    }
   ],
   "source": [
    "t_calculado, p_valor, rejeitar_H0, df = t_student_amostras_emparelhadas(grupo1, grupo2)\n",
    "print(f\"Valor t calculado: {t_calculado:.4f}\")\n",
    "print(f\"p-valor: {p_valor:.4f}\")\n",
    "print(f\"Graus de liberdade: {df}\")\n",
    "print(f\"Rejeitar H0? {'Sim' if rejeitar_H0 else 'Não'}\")"
   ]
  },
  {
   "cell_type": "markdown",
   "id": "46e6e8fc",
   "metadata": {},
   "source": [
    "### Tsudent Emparelhado - Biblioteca"
   ]
  },
  {
   "cell_type": "code",
   "execution_count": 40,
   "id": "84b87893",
   "metadata": {},
   "outputs": [
    {
     "name": "stdout",
     "output_type": "stream",
     "text": [
      "Estatística t: 0.2807\n",
      "P-valor: 0.7820\n"
     ]
    }
   ],
   "source": [
    "t_stat, p_value = stats.ttest_rel(grupo1, grupo2)\n",
    "print(f\"Estatística t: {t_stat:.4f}\")\n",
    "print(f\"P-valor: {p_value:.4f}\")\n",
    "\n",
    "#stats - biblioteca de estatísticas do scipy\n",
    "#ttest_rel - teste t para amostras emparelhadas"
   ]
  },
  {
   "cell_type": "code",
   "execution_count": 41,
   "id": "e278efba",
   "metadata": {},
   "outputs": [
    {
     "name": "stdout",
     "output_type": "stream",
     "text": [
      "Não rejeitamos H0: As médias dos dois grupos pareados são significadamente iguais.\n"
     ]
    }
   ],
   "source": [
    "if p_value < 0.05:\n",
    "    print(\"Rejeitamos H0: As médias dos dois grupos pareados são diferentes.\")\n",
    "else:\n",
    "    print(\"Não rejeitamos H0: As médias dos dois grupos pareados são significadamente iguais.\")"
   ]
  },
  {
   "cell_type": "code",
   "execution_count": 42,
   "id": "004c788a",
   "metadata": {},
   "outputs": [
    {
     "data": {
      "image/png": "[encoded data removed]",
      "text/plain": [
       "<Figure size 640x480 with 1 Axes>"
      ]
     },
     "metadata": {},
     "output_type": "display_data"
    }
   ],
   "source": [
    "sns.boxplot(data=[grupo1, grupo2])\n",
    "plt.xticks([0, 1], ['Grupo 1', 'Grupo 2'])\n",
    "plt.title('Boxplot dos Grupos')\n",
    "plt.ylabel('Valores')\n",
    "plt.show()"
   ]
  },
  {
   "cell_type": "markdown",
   "id": "24b6bbf0",
   "metadata": {},
   "source": [
    "### Testes de Homogeneidade de variâncias"
   ]
  },
  {
   "cell_type": "markdown",
   "id": "1ca2ebb4",
   "metadata": {},
   "source": [
    "O teste de homogeneidade verifica se duas ou mais populações têm variâncias (ou distribuições) iguais."
   ]
  },
  {
   "cell_type": "markdown",
   "id": "f0d97ade",
   "metadata": {},
   "source": [
    "Então iremos avaliar o p_valor:\n",
    "\n",
    "- p > 0.05 → as variâncias são provavelmente iguais\n",
    "\n",
    "- p ≤ 0.05 → as variâncias são provavelmente diferentes"
   ]
  },
  {
   "cell_type": "markdown",
   "id": "87f69916",
   "metadata": {},
   "source": [
    "### Teste Bartlett - Manual"
   ]
  },
  {
   "cell_type": "markdown",
   "id": "97f73d84",
   "metadata": {},
   "source": [
    "Teste Bartlett Manual"
   ]
  },
  {
   "attachments": {
    "image.png": {
     "image/png": "[encoded data removed]"
    }
   },
   "cell_type": "markdown",
   "id": "e54a9648",
   "metadata": {},
   "source": [
    "![image.png](attachment:image.png)"
   ]
  },
  {
   "cell_type": "code",
   "execution_count": 43,
   "id": "0bd4f491",
   "metadata": {},
   "outputs": [],
   "source": [
    "def bartlett_duas_amostras(amostra1, amostra2):\n",
    "    \"\"\"\n",
    "    Realiza o teste de Bartlett para comparar as variâncias de duas amostras,\n",
    "    verificando se elas vêm de populações com variâncias homogêneas.\n",
    "\n",
    "    Parâmetros:\n",
    "    - amostra1: lista ou array com os dados da primeira amostra\n",
    "    - amostra2: lista ou array com os dados da segunda amostra\n",
    "\n",
    "    Retorna:\n",
    "    - estatistica: valor da estatística do teste de Bartlett\n",
    "    - p_valor: valor p para o teste\n",
    "    \"\"\"\n",
    "    \n",
    "    # Número de observações em cada amostra\n",
    "    n1, n2 = len(amostra1), len(amostra2)\n",
    "\n",
    "    # Média das amostras\n",
    "    media1 = sum(amostra1) / n1\n",
    "    media2 = sum(amostra2) / n2\n",
    "\n",
    "    # Variância das amostras (usando fórmula amostral)\n",
    "    var1 = sum((x - media1)**2 for x in amostra1) / (n1 - 1)\n",
    "    var2 = sum((x - media2)**2 for x in amostra2) / (n2 - 1)\n",
    "\n",
    "    # Variância combinada\n",
    "    sp = ((n1 - 1)*var1 + (n2 - 1)*var2) / (n1 + n2 - 2)\n",
    "\n",
    "    # Estatística A (baseada nas variâncias)\n",
    "    #math.log - logaritmo natural\n",
    "    A = (n1 + n2 - 2) * math.log(sp) - (n1 - 1) * math.log(var1) - (n2 - 1) * math.log(var2) #q\n",
    "\n",
    "    # Estatística B, que leva em consideração o número de observações\n",
    "    B = 1 + (1 / (3 * (2 - 1))) * (1 / (n1 - 1) + 1 / (n2 - 1) - 1 / (n1 + n2 - 2)) #c\n",
    "\n",
    "    # Estatística do teste de Bartlett\n",
    "    estatistica = A / B\n",
    "\n",
    "    # Calcular o p-valor usando a distribuição qui-quadrado (chi2) com 1 grau de liberdade\n",
    "    #stats.chi2 - distribuição qui-quadrado\n",
    "    p_valor = 1 - stats.chi2.cdf(estatistica, df=1)\n",
    "\n",
    "    return estatistica, p_valor"
   ]
  },
  {
   "cell_type": "markdown",
   "id": "4706f80a",
   "metadata": {},
   "source": [
    "O CDF calcula a probabilidade acumulada de um valor observado ser menor ou igual a um valor específico em uma distribuição qui-quadrado.\n",
    "\n",
    "Subtrair o CDF de 1 nos dá a probabilidade de que o valor observado seja maior que o valor calculado, que é o p-valor usado para tomar a decisão no teste de hipóteses."
   ]
  },
  {
   "cell_type": "code",
   "execution_count": 44,
   "id": "9b351124",
   "metadata": {},
   "outputs": [
    {
     "name": "stdout",
     "output_type": "stream",
     "text": [
      "Estatística do teste de Bartlett: 0.5092\n",
      "P-valor: 0.4755\n"
     ]
    }
   ],
   "source": [
    "estatistica, p_valor = bartlett_duas_amostras(grupo1, grupo2)\n",
    "\n",
    "# Exibir os resultados\n",
    "print(f\"Estatística do teste de Bartlett: {estatistica:.4f}\")\n",
    "print(f\"P-valor: {p_valor:.4f}\")"
   ]
  },
  {
   "cell_type": "markdown",
   "id": "8c57064c",
   "metadata": {},
   "source": [
    "### Teste Barlett - Biblioteca"
   ]
  },
  {
   "cell_type": "code",
   "execution_count": 45,
   "id": "3f3dc168",
   "metadata": {},
   "outputs": [
    {
     "name": "stdout",
     "output_type": "stream",
     "text": [
      "Bartlett: estatística = 0.5092, p-valor = 0.4755\n"
     ]
    }
   ],
   "source": [
    "stat, p = bartlett(grupo1, grupo2)\n",
    "print(f\"Bartlett: estatística = {stat:.4f}, p-valor = {p:.4f}\")\n",
    "#bartlett - teste de Bartlett para homogeneidade de variâncias"
   ]
  },
  {
   "cell_type": "code",
   "execution_count": 46,
   "id": "4747d829",
   "metadata": {},
   "outputs": [
    {
     "name": "stdout",
     "output_type": "stream",
     "text": [
      "Variancia grupo1: 0.8620825826406989\n",
      "Variancia grupo2: 1.202062761877831\n"
     ]
    }
   ],
   "source": [
    "print(\"Variancia grupo1:\", np.var(grupo1, ddof=1))\n",
    "print(\"Variancia grupo2:\", np.var(grupo2, ddof=1))"
   ]
  },
  {
   "cell_type": "code",
   "execution_count": 47,
   "id": "409c078e",
   "metadata": {},
   "outputs": [
    {
     "name": "stdout",
     "output_type": "stream",
     "text": [
      "Todas as variâncias são significamente iguais (não rejeita H0)\n"
     ]
    }
   ],
   "source": [
    "if p <= 0.05:\n",
    "    print(\"Uma ou mais variâncias são diferentes (rejeita H0)\")\n",
    "else:\n",
    "    print(\"Todas as variâncias são significamente iguais (não rejeita H0)\")"
   ]
  },
  {
   "cell_type": "code",
   "execution_count": 48,
   "id": "05891e4f",
   "metadata": {},
   "outputs": [
    {
     "data": {
      "image/png": "[encoded data removed]",
      "text/plain": [
       "<Figure size 640x480 with 1 Axes>"
      ]
     },
     "metadata": {},
     "output_type": "display_data"
    }
   ],
   "source": [
    "sns.boxplot(data=[grupo1, grupo2])\n",
    "plt.xticks([0, 1], ['Grupo 1', 'Grupo 2'])\n",
    "plt.title('Boxplot dos Grupos')\n",
    "plt.ylabel('Valores')\n",
    "plt.show()"
   ]
  }
 ],
 "metadata": {
  "kernelspec": {
   "display_name": "Python 3",
   "language": "python",
   "name": "python3"
  },
  "language_info": {
   "codemirror_mode": {
    "name": "ipython",
    "version": 3
   },
   "file_extension": ".py",
   "mimetype": "text/x-python",
   "name": "python",
   "nbconvert_exporter": "python",
   "pygments_lexer": "ipython3",
   "version": "3.12.10"
  }
 },
 "nbformat": 4,
 "nbformat_minor": 5
}
