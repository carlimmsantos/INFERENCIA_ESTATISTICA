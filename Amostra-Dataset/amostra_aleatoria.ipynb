{
 "cells": [
  {
   "cell_type": "code",
   "execution_count": 1,
   "id": "33d98ecf",
   "metadata": {},
   "outputs": [
    {
     "name": "stdout",
     "output_type": "stream",
     "text": [
      "Defaulting to user installation because normal site-packages is not writeable\n",
      "Requirement already satisfied: pingouin in c:\\users\\wesle\\appdata\\local\\packages\\pythonsoftwarefoundation.python.3.12_qbz5n2kfra8p0\\localcache\\local-packages\\python312\\site-packages (0.5.5)\n",
      "Requirement already satisfied: matplotlib in c:\\users\\wesle\\appdata\\local\\packages\\pythonsoftwarefoundation.python.3.12_qbz5n2kfra8p0\\localcache\\local-packages\\python312\\site-packages (from pingouin) (3.8.3)\n",
      "Requirement already satisfied: numpy in c:\\users\\wesle\\appdata\\local\\packages\\pythonsoftwarefoundation.python.3.12_qbz5n2kfra8p0\\localcache\\local-packages\\python312\\site-packages (from pingouin) (1.26.4)\n",
      "Requirement already satisfied: pandas>=1.5 in c:\\users\\wesle\\appdata\\local\\packages\\pythonsoftwarefoundation.python.3.12_qbz5n2kfra8p0\\localcache\\local-packages\\python312\\site-packages (from pingouin) (2.2.1)\n",
      "Requirement already satisfied: pandas-flavor in c:\\users\\wesle\\appdata\\local\\packages\\pythonsoftwarefoundation.python.3.12_qbz5n2kfra8p0\\localcache\\local-packages\\python312\\site-packages (from pingouin) (0.7.0)\n",
      "Requirement already satisfied: scikit-learn>=1.2 in c:\\users\\wesle\\appdata\\local\\packages\\pythonsoftwarefoundation.python.3.12_qbz5n2kfra8p0\\localcache\\local-packages\\python312\\site-packages (from pingouin) (1.4.1.post1)\n",
      "Requirement already satisfied: scipy in c:\\users\\wesle\\appdata\\local\\packages\\pythonsoftwarefoundation.python.3.12_qbz5n2kfra8p0\\localcache\\local-packages\\python312\\site-packages (from pingouin) (1.13.0)\n",
      "Requirement already satisfied: seaborn in c:\\users\\wesle\\appdata\\local\\packages\\pythonsoftwarefoundation.python.3.12_qbz5n2kfra8p0\\localcache\\local-packages\\python312\\site-packages (from pingouin) (0.13.2)\n",
      "Requirement already satisfied: statsmodels in c:\\users\\wesle\\appdata\\local\\packages\\pythonsoftwarefoundation.python.3.12_qbz5n2kfra8p0\\localcache\\local-packages\\python312\\site-packages (from pingouin) (0.14.2)\n",
      "Requirement already satisfied: tabulate in c:\\users\\wesle\\appdata\\local\\packages\\pythonsoftwarefoundation.python.3.12_qbz5n2kfra8p0\\localcache\\local-packages\\python312\\site-packages (from pingouin) (0.9.0)\n",
      "Requirement already satisfied: python-dateutil>=2.8.2 in c:\\users\\wesle\\appdata\\local\\packages\\pythonsoftwarefoundation.python.3.12_qbz5n2kfra8p0\\localcache\\local-packages\\python312\\site-packages (from pandas>=1.5->pingouin) (2.8.2)\n",
      "Requirement already satisfied: pytz>=2020.1 in c:\\users\\wesle\\appdata\\local\\packages\\pythonsoftwarefoundation.python.3.12_qbz5n2kfra8p0\\localcache\\local-packages\\python312\\site-packages (from pandas>=1.5->pingouin) (2024.1)\n",
      "Requirement already satisfied: tzdata>=2022.7 in c:\\users\\wesle\\appdata\\local\\packages\\pythonsoftwarefoundation.python.3.12_qbz5n2kfra8p0\\localcache\\local-packages\\python312\\site-packages (from pandas>=1.5->pingouin) (2024.1)\n",
      "Requirement already satisfied: joblib>=1.2.0 in c:\\users\\wesle\\appdata\\local\\packages\\pythonsoftwarefoundation.python.3.12_qbz5n2kfra8p0\\localcache\\local-packages\\python312\\site-packages (from scikit-learn>=1.2->pingouin) (1.3.2)\n",
      "Requirement already satisfied: threadpoolctl>=2.0.0 in c:\\users\\wesle\\appdata\\local\\packages\\pythonsoftwarefoundation.python.3.12_qbz5n2kfra8p0\\localcache\\local-packages\\python312\\site-packages (from scikit-learn>=1.2->pingouin) (3.4.0)\n",
      "Requirement already satisfied: contourpy>=1.0.1 in c:\\users\\wesle\\appdata\\local\\packages\\pythonsoftwarefoundation.python.3.12_qbz5n2kfra8p0\\localcache\\local-packages\\python312\\site-packages (from matplotlib->pingouin) (1.2.0)\n",
      "Requirement already satisfied: cycler>=0.10 in c:\\users\\wesle\\appdata\\local\\packages\\pythonsoftwarefoundation.python.3.12_qbz5n2kfra8p0\\localcache\\local-packages\\python312\\site-packages (from matplotlib->pingouin) (0.12.1)\n",
      "Requirement already satisfied: fonttools>=4.22.0 in c:\\users\\wesle\\appdata\\local\\packages\\pythonsoftwarefoundation.python.3.12_qbz5n2kfra8p0\\localcache\\local-packages\\python312\\site-packages (from matplotlib->pingouin) (4.50.0)\n",
      "Requirement already satisfied: kiwisolver>=1.3.1 in c:\\users\\wesle\\appdata\\local\\packages\\pythonsoftwarefoundation.python.3.12_qbz5n2kfra8p0\\localcache\\local-packages\\python312\\site-packages (from matplotlib->pingouin) (1.4.5)\n",
      "Requirement already satisfied: packaging>=20.0 in c:\\users\\wesle\\appdata\\local\\packages\\pythonsoftwarefoundation.python.3.12_qbz5n2kfra8p0\\localcache\\local-packages\\python312\\site-packages (from matplotlib->pingouin) (24.0)\n",
      "Requirement already satisfied: pillow>=8 in c:\\users\\wesle\\appdata\\local\\packages\\pythonsoftwarefoundation.python.3.12_qbz5n2kfra8p0\\localcache\\local-packages\\python312\\site-packages (from matplotlib->pingouin) (10.2.0)\n",
      "Requirement already satisfied: pyparsing>=2.3.1 in c:\\users\\wesle\\appdata\\local\\packages\\pythonsoftwarefoundation.python.3.12_qbz5n2kfra8p0\\localcache\\local-packages\\python312\\site-packages (from matplotlib->pingouin) (3.1.2)\n",
      "Requirement already satisfied: xarray in c:\\users\\wesle\\appdata\\local\\packages\\pythonsoftwarefoundation.python.3.12_qbz5n2kfra8p0\\localcache\\local-packages\\python312\\site-packages (from pandas-flavor->pingouin) (2025.3.1)\n",
      "Requirement already satisfied: patsy>=0.5.6 in c:\\users\\wesle\\appdata\\local\\packages\\pythonsoftwarefoundation.python.3.12_qbz5n2kfra8p0\\localcache\\local-packages\\python312\\site-packages (from statsmodels->pingouin) (0.5.6)\n",
      "Requirement already satisfied: six in c:\\users\\wesle\\appdata\\local\\packages\\pythonsoftwarefoundation.python.3.12_qbz5n2kfra8p0\\localcache\\local-packages\\python312\\site-packages (from patsy>=0.5.6->statsmodels->pingouin) (1.16.0)\n",
      "Note: you may need to restart the kernel to use updated packages.\n"
     ]
    }
   ],
   "source": [
    "%pip install pingouin"
   ]
  },
  {
   "cell_type": "markdown",
   "id": "052858a1",
   "metadata": {},
   "source": [
    "Importando Bibliotecas"
   ]
  },
  {
   "cell_type": "code",
   "execution_count": 2,
   "id": "f22bd3dd",
   "metadata": {},
   "outputs": [],
   "source": [
    "import numpy as np\n",
    "import pingouin as pg\n",
    "import pandas as pd\n",
    "from scipy.stats import shapiro\n",
    "from scipy.stats import kstest\n",
    "import scipy.stats as stats\n",
    "from scipy.stats import ttest_ind\n",
    "from scipy.stats import bartlett\n",
    "import matplotlib.pyplot as plt\n",
    "import seaborn as sns\n",
    "from scipy.stats import norm\n"
   ]
  },
  {
   "cell_type": "markdown",
   "id": "d47ad023",
   "metadata": {},
   "source": [
    "### Dados para os Testes de Normalidade"
   ]
  },
  {
   "cell_type": "markdown",
   "id": "520dc9b4",
   "metadata": {},
   "source": [
    "Testar se seus dados seguem uma distribuição normal"
   ]
  },
  {
   "cell_type": "markdown",
   "id": "7be06dc8",
   "metadata": {},
   "source": [
    "Então iremos avaliar o p_valor:\n",
    "\n",
    "- p_valor > 0.05 → dados parecem normais\n",
    "\n",
    "- p_valor ≤ 0.05 → dados provavelmente NÃO são normais"
   ]
  },
  {
   "cell_type": "code",
   "execution_count": 3,
   "id": "c196e9ed",
   "metadata": {},
   "outputs": [
    {
     "data": {
      "text/plain": [
       "array([ 1.51679116e+00, -1.72915102e+00, -4.10067427e-01, -1.00447497e+00,\n",
       "       -4.46420948e-01,  1.85103526e-01,  5.83004337e-01, -1.67756433e-01,\n",
       "       -1.10855788e+00, -1.14127212e-01,  1.57726001e+00,  4.10014587e-01,\n",
       "        5.06313348e-01,  1.44571059e-01, -1.82722204e-01,  1.60300749e+00,\n",
       "       -5.29555903e-01, -1.68090042e+00, -1.92535782e-01, -1.29845771e+00,\n",
       "        5.05604973e-01,  1.50496431e-01,  1.46996943e+00, -1.43791469e+00,\n",
       "       -1.20892669e+00,  8.46310983e-01, -9.07872843e-01,  2.42869149e-01,\n",
       "       -8.01947117e-01,  8.44315108e-01, -2.04551873e+00, -3.63524609e-01,\n",
       "       -5.30719708e-01,  1.96400619e+00, -2.37189780e+00, -1.20051951e-01,\n",
       "       -7.20232732e-02,  2.96704062e-01,  3.89286353e-01, -8.55251831e-01,\n",
       "        1.05821762e-01,  1.31492520e+00, -2.34161110e-01,  6.72287421e-01,\n",
       "        8.91877175e-01,  2.26565495e-01, -1.08793392e+00, -2.49422792e-01,\n",
       "       -3.36123915e-01, -8.12611892e-01, -5.31540239e-02, -1.59999185e+00,\n",
       "       -6.96403697e-01, -7.46538383e-01, -3.79556316e-01, -2.15624276e-01,\n",
       "        2.70590536e-01,  2.48821717e-01, -1.11833045e+00,  6.74506180e-01,\n",
       "       -2.33072736e-01,  2.87323148e-01, -8.47834565e-01, -3.45983599e-01,\n",
       "        6.61440568e-01,  5.96918369e-01,  7.83784378e-01, -1.12442287e+00,\n",
       "        1.83324045e+00, -3.30822714e-01, -1.68841306e+00,  1.34827830e+00,\n",
       "        1.77542882e+00,  2.56938998e+00, -7.79132043e-01, -9.85607341e-01,\n",
       "       -8.33327253e-01, -8.91901130e-01, -9.66112118e-01,  1.72831778e+00,\n",
       "       -5.91481031e-01,  7.19164579e-02, -1.60840272e+00,  1.45992483e+00,\n",
       "       -2.08876988e+00, -2.20383371e-01, -4.25085763e-01,  1.26981755e-01,\n",
       "       -7.31726950e-03, -3.07950856e-01,  1.96200706e+00,  1.83867912e-01,\n",
       "        3.51376876e+00,  4.97753084e-01,  3.24474358e-02, -2.09129451e+00,\n",
       "        5.11231165e-01,  4.26656768e-01, -2.10071276e+00,  1.16337404e-01,\n",
       "       -1.80875605e-01, -3.30301934e-01,  8.37239291e-01, -1.12679862e-01,\n",
       "        1.20591140e+00, -1.63951618e+00, -1.49621234e+00, -2.82098335e-01,\n",
       "        5.85156078e-02,  2.68172814e-01, -2.60511235e-02,  3.51224539e-01,\n",
       "        8.99948775e-01, -7.49213839e-01,  2.04491526e+00,  1.55951383e-01,\n",
       "       -2.00584506e-01,  1.61200319e-01,  1.16733355e+00, -1.00705378e+00,\n",
       "        9.14371854e-02,  1.50743010e+00, -4.91319897e-01, -1.50751353e-01,\n",
       "        8.03313252e-01,  1.51053705e+00,  8.25818800e-01,  3.65587027e-01,\n",
       "       -4.89308075e-01,  1.57232323e+00, -5.53547964e-01,  1.98187790e+00,\n",
       "        3.53693631e-01, -1.22695638e+00,  1.38103032e+00, -9.79521403e-01,\n",
       "        6.87920119e-01,  5.41998625e-02, -3.16589969e+00,  2.03602220e-01,\n",
       "        3.60624266e-01, -4.69534827e-01, -4.19350859e-01, -9.70649701e-01,\n",
       "        3.96707081e-01,  2.74349483e-01, -8.51277286e-01, -2.86365547e-02,\n",
       "       -8.44858460e-01, -3.46743285e-01,  1.75301942e+00,  3.08291019e-01,\n",
       "       -6.48098128e-01, -1.36719405e+00, -2.43306323e-01, -5.98721925e-01,\n",
       "       -4.76921033e-01,  4.83605530e-02, -6.76909845e-01,  3.66580461e-01,\n",
       "        2.13142588e-01,  1.47774571e+00, -2.37821428e-01,  9.86129305e-01,\n",
       "        5.64113231e-01, -1.32614659e-01,  6.82698715e-01, -1.18644115e+00,\n",
       "       -1.95355583e-01, -2.83547166e-01,  8.02704939e-01,  1.03139015e-01,\n",
       "       -1.25926922e+00, -1.21832429e+00,  7.12758095e-01,  1.97949113e+00,\n",
       "        1.12835845e+00, -1.98943332e-01, -1.44146478e+00, -8.92989008e-01,\n",
       "       -5.97534288e-01,  1.06291147e+00,  1.03673314e+00,  5.31361506e-01,\n",
       "       -1.54379134e+00,  1.45640101e+00, -7.20862268e-01, -3.48773203e-01,\n",
       "       -3.04752481e-01, -9.86007079e-01,  6.33533561e-02, -1.82898503e+00,\n",
       "       -9.36029325e-01,  2.01693200e-01, -2.00359329e+00,  9.00278508e-01,\n",
       "        1.15196867e+00, -1.34949747e-01, -4.73657492e-01, -6.76897224e-01,\n",
       "        6.74686605e-01, -1.02709183e+00, -2.36040109e+00,  1.25005644e+00,\n",
       "       -5.65890942e-01,  6.18265904e-01,  7.09662217e-01,  8.86651293e-01,\n",
       "       -4.94137258e-01,  5.36125400e-01, -1.01050217e+00,  3.88450692e-01,\n",
       "       -2.58050600e-01, -2.43287006e-02, -7.84925693e-01,  2.52853727e-02,\n",
       "       -3.61117998e-01, -1.34529769e-01, -1.46510648e+00, -2.07544201e+00,\n",
       "       -5.19869947e-01, -1.56828761e+00, -4.62428161e-01, -1.54618164e+00,\n",
       "       -1.85284830e+00, -1.24805443e+00,  9.95993386e-02,  2.20461160e-01,\n",
       "       -4.91338630e-01, -5.34690960e-01, -2.86157514e-01,  1.06676814e+00,\n",
       "       -1.00305456e+00, -1.37474446e+00,  2.79252427e-01,  5.55451378e-02,\n",
       "        1.24307392e+00, -8.22700731e-01,  9.37823174e-01,  5.16247929e-02,\n",
       "       -5.63103856e-01, -8.72009716e-01, -1.26058568e+00,  1.39610231e+00,\n",
       "        1.00059831e+00,  1.09867489e+00,  3.80641038e-01, -7.32016544e-01,\n",
       "        1.34185607e+00,  5.77830136e-01,  1.46843890e+00, -1.92150799e+00,\n",
       "        2.16690034e-01,  1.91193020e+00,  2.08808435e+00, -2.09898483e+00,\n",
       "       -2.85374150e-01, -5.23145464e-01, -1.22437227e+00,  1.42208311e+00,\n",
       "        4.81737343e-02,  1.16493641e-01, -1.64046231e+00,  8.37603114e-01,\n",
       "        9.76694488e-02, -4.16333904e-02, -6.83849743e-01, -9.97387613e-01,\n",
       "       -2.43894741e-01,  2.89510733e-01, -3.28623798e-01,  3.16813036e-01,\n",
       "       -1.95186916e-01, -2.61947602e+00, -1.64902696e+00, -1.59991721e-01,\n",
       "       -6.28467984e-01,  1.47277509e+00, -5.39746569e-01,  1.44180462e-01,\n",
       "       -4.95690469e-01,  1.31873457e+00, -9.54325735e-01, -1.65779447e+00,\n",
       "        2.15022823e-01, -1.63374930e+00,  3.15353412e-02,  2.37803692e+00,\n",
       "        1.82460358e+00,  7.78590405e-01, -5.93186078e-01,  6.19015775e-01,\n",
       "       -2.95566877e+00, -3.25936207e-01, -7.77967107e-01, -8.57131629e-01,\n",
       "        2.43908185e+00, -1.07260429e-01, -1.32856726e+00,  4.43868262e-01,\n",
       "       -2.18675623e+00,  4.44968110e-01,  1.56101143e+00,  8.65058148e-02,\n",
       "        5.64168188e-01,  4.98601820e-01, -2.10190863e+00, -4.00822446e-01,\n",
       "        1.20528280e+00,  1.97183298e+00, -4.84597371e-01, -1.89120856e+00,\n",
       "       -1.64910489e+00, -5.75730570e-02,  5.17263242e-01,  7.07359487e-01,\n",
       "       -1.63918195e-01, -1.02692763e+00, -1.99140680e-01,  2.84018027e-01,\n",
       "       -2.02292637e+00, -1.46622737e-01,  6.38181434e-01,  1.39852322e+00,\n",
       "       -1.51090497e+00,  1.94880999e+00, -6.14087762e-02, -4.13983166e-01,\n",
       "       -1.21692913e+00,  1.76616245e+00, -4.86325410e-01, -4.59942440e-01,\n",
       "       -6.63308898e-01,  4.03360883e-01,  1.59473923e-01,  1.84635245e-01,\n",
       "       -1.37030618e+00, -2.12213680e-01, -1.11113829e-01, -3.87807357e-01,\n",
       "        1.86090954e-01,  7.87133401e-01,  5.34326081e-01, -2.57980886e+00,\n",
       "       -1.68070745e+00,  1.12917333e+00,  7.69103908e-01, -5.07810394e-01,\n",
       "        1.01426042e+00, -8.05079994e-01,  9.11117582e-01, -1.09394391e+00,\n",
       "        1.24566691e-01, -1.55134863e-01, -8.23915681e-01,  1.33184383e+00,\n",
       "        3.07877404e-02,  4.33799812e-01, -6.69888061e-01, -6.14916999e-01,\n",
       "        1.19158080e+00,  1.60304791e-01, -9.81532000e-01, -1.95664618e-01,\n",
       "       -1.05608400e-01, -5.45336909e-01, -1.65355744e-01, -1.11235086e+00,\n",
       "       -7.06009596e-01, -1.53823904e+00,  1.44060201e+00, -9.52690387e-01,\n",
       "        1.97261631e+00, -3.01735262e-01,  5.61832492e-01,  3.01997360e-01,\n",
       "        2.82612803e+00,  1.66069612e+00, -1.02306343e+00,  9.45773596e-01,\n",
       "        1.21753969e+00,  9.11354537e-01,  4.44224105e-01, -1.54740423e+00,\n",
       "        1.07570228e+00,  1.32469085e+00,  7.29928896e-01,  3.64110420e-01,\n",
       "       -2.30244149e+00, -2.84239204e-01, -7.19995937e-01,  2.97413081e-01,\n",
       "       -2.04476462e+00, -5.66794724e-01, -5.12438084e-01,  1.57931257e-01,\n",
       "       -3.37687264e-01, -1.61701902e+00,  1.28103969e-02,  4.73456984e-01,\n",
       "       -4.23580176e-01,  1.95000957e+00,  2.31125849e-01, -1.96012624e-01,\n",
       "        1.31522344e+00, -9.95556493e-01, -1.40768077e+00, -2.41005293e-01,\n",
       "        1.39051107e+00,  1.29287415e-01,  2.62922002e-01,  3.28111659e-01,\n",
       "       -1.50721236e+00,  1.31729006e+00, -1.35464643e+00,  5.12929783e-01,\n",
       "       -9.35110555e-02, -2.02929442e-01,  1.42543713e+00, -1.43281817e+00,\n",
       "        2.53284526e-01, -5.53424262e-01, -9.91345996e-01,  2.34704109e+00,\n",
       "       -7.94532307e-01, -9.73354134e-01, -1.33849642e+00,  9.65948338e-02,\n",
       "       -8.61745515e-01, -7.57231925e-01, -1.75780009e-01, -1.24445024e+00,\n",
       "        5.37419772e-01, -3.77787871e-01,  5.46108781e-01, -3.08096030e-01,\n",
       "       -5.74655276e-01,  7.60596506e-01,  2.91770472e-01, -5.34321055e-01,\n",
       "       -4.39788098e-01, -6.44297412e-02, -5.51396966e-01, -2.54054979e-01,\n",
       "        7.16936071e-02,  6.89501151e-01,  9.01280443e-01,  5.53336777e-01,\n",
       "        1.89497253e-01, -3.59883153e-01,  5.55377589e-01,  1.26939017e-01,\n",
       "       -3.04643449e-01,  7.17694788e-01,  1.34891476e+00,  1.29253778e+00,\n",
       "       -2.42611445e+00,  3.95310452e-02,  7.45497340e-01,  1.95639945e-01,\n",
       "        3.10043136e-03, -6.05890561e-01, -1.05059132e+00, -1.41583878e-01,\n",
       "       -1.56914728e+00, -1.03066043e-01, -1.96613425e+00, -1.82110174e-01,\n",
       "       -1.24806056e+00,  6.55762420e-01,  1.48461700e+00,  8.79624157e-01,\n",
       "        5.87016203e-02, -3.69799849e-01,  5.54543135e-02,  7.21743503e-01,\n",
       "       -8.22717227e-01,  1.20605189e+00, -1.13350783e+00, -2.18991414e+00,\n",
       "       -1.28365364e+00,  2.27442406e+00, -6.66277728e-01,  1.60174766e+00,\n",
       "       -1.97491067e+00, -8.67587894e-01,  1.86000530e+00, -8.26115529e-01,\n",
       "       -1.04441429e+00,  1.32264571e+00, -6.45061282e-01,  6.86014723e-01,\n",
       "        9.08508522e-01,  2.06653813e+00,  9.69199510e-01, -9.77711790e-01,\n",
       "        6.15732083e-01, -1.25530401e+00, -9.24754569e-02,  7.82809975e-02,\n",
       "       -7.57504858e-03, -1.94949786e-01,  1.00174026e+00,  8.98935426e-01,\n",
       "        1.59305849e-03,  8.55506544e-01, -7.50458347e-01,  9.41025150e-01,\n",
       "       -6.74193983e-01, -1.43559385e+00, -1.59418719e-01, -3.15282631e-01,\n",
       "       -4.31079912e-01,  4.55661041e-01, -1.12322251e+00,  1.60032280e+00,\n",
       "       -1.00105811e+00, -3.61022319e-01,  2.12441464e-01, -6.41844828e-01,\n",
       "        1.65520955e-01,  5.71029407e-01,  6.57542014e-01, -9.00968191e-01,\n",
       "       -6.73379006e-01, -8.32506531e-01,  7.95958861e-01, -1.36855840e-01,\n",
       "       -3.06647896e-01, -1.05516297e+00, -7.02931270e-01, -1.73530892e+00,\n",
       "       -2.98306415e-02,  2.23185448e-01,  2.24266416e-01, -1.03419548e+00,\n",
       "        7.43771267e-01, -8.06096508e-01, -6.83309252e-01, -2.91189325e-01,\n",
       "       -5.29573677e-01, -1.36658612e+00, -9.41161026e-01, -3.45953400e-01,\n",
       "        1.67076270e+00,  1.11330376e+00, -9.30773040e-01,  3.29164108e-01,\n",
       "       -2.35836058e-01, -3.51966761e-01, -1.78596089e+00,  8.87696806e-01,\n",
       "       -1.01296107e+00,  8.87474625e-01,  8.85591057e-01, -1.28517662e+00,\n",
       "        2.06575469e-01, -2.60232957e+00,  5.90166291e-01, -1.65573094e+00,\n",
       "        1.74458996e+00, -6.12437198e-01,  1.66973984e+00,  5.73235220e-02,\n",
       "        1.66829551e+00,  7.34856059e-02, -7.55608909e-01, -3.62627587e-01,\n",
       "       -4.76823495e-01, -1.78256940e+00, -1.20460368e+00,  8.07036923e-01,\n",
       "       -4.26741226e-01, -1.00240534e+00,  4.95292629e-01,  3.32217310e-02,\n",
       "       -7.80700421e-01,  1.25456799e+00,  1.12789517e+00, -1.44481830e-01,\n",
       "        1.77754902e+00, -1.01799055e+00, -1.02547643e+00,  5.38306110e-01,\n",
       "        6.77296869e-01, -2.92592793e-01,  7.57991789e-01,  1.96343696e+00,\n",
       "        1.47021407e+00, -6.44827804e-01, -1.28917768e+00, -8.09490433e-02,\n",
       "       -3.31972483e-01, -9.50147966e-01,  1.99380709e+00, -1.81824511e+00,\n",
       "        6.05209513e-02, -3.40709967e-01,  1.18089835e+00,  1.78824265e-01,\n",
       "        3.02259324e-01, -7.66850006e-01,  1.25980224e+00,  2.81695294e+00,\n",
       "       -8.96173264e-01,  1.37114266e-01, -4.30420922e-01, -1.07492644e+00,\n",
       "       -3.19150206e-01, -1.22293009e+00,  1.27602102e+00,  1.64692264e-01,\n",
       "       -1.38079659e+00,  8.96078406e-01, -6.56059643e-01, -3.67692331e-01,\n",
       "        2.33170191e-01, -1.30821470e+00,  2.67666788e-01,  1.01001384e+00,\n",
       "        8.84273399e-01, -5.81141761e-01, -7.45910101e-01,  1.27596382e-01,\n",
       "        1.11346696e+00, -8.10896085e-02,  1.93434799e+00,  2.14224294e+00,\n",
       "       -7.04228497e-01, -7.91923616e-01, -1.05803684e-01, -5.69759364e-01,\n",
       "        3.73117534e-01, -6.02393791e-01,  1.92339933e+00, -7.12988773e-01,\n",
       "       -1.54321387e-02,  4.29372730e-01, -6.81112887e-01, -1.56151533e-01,\n",
       "        3.48410133e-01, -1.39461472e-01,  9.78710359e-01, -3.18844117e-01,\n",
       "        2.77347597e-01,  1.16519322e+00, -3.44372713e-01, -1.25311109e+00,\n",
       "        1.60642454e+00, -1.70394402e-01,  1.10593773e-01, -1.82215814e-01,\n",
       "       -1.10140661e+00,  2.75853584e+00,  1.76294286e-01, -3.60268403e-01,\n",
       "        2.90578592e-01, -5.75358502e-02,  2.06423750e-01,  3.37516672e-01,\n",
       "        1.45331472e+00, -1.29036293e+00, -2.93844011e-01,  1.81886928e+00,\n",
       "        1.15858759e+00,  7.99378216e-01,  1.46356803e+00, -4.69976061e-01,\n",
       "        7.87524961e-01, -2.07067082e-01, -6.07481547e-01,  8.28484148e-01,\n",
       "        4.49769664e-01, -8.99102724e-01,  3.74341319e-01, -5.66629011e-01,\n",
       "        1.24593664e+00, -1.05990780e+00,  2.40732167e-01, -1.50687552e+00,\n",
       "       -8.40342974e-01,  4.47722624e-01, -4.35831089e-01, -4.79378925e-02,\n",
       "       -1.16183177e+00,  2.22548259e-01,  2.36323917e-01, -6.96043164e-01,\n",
       "       -3.94202401e-01, -1.26299120e+00, -3.88794700e-01, -2.00844612e+00,\n",
       "        6.43306458e-01,  9.05626604e-01,  1.41537035e+00, -2.41846734e-01,\n",
       "       -1.97163220e+00,  1.07931118e+00,  1.39596660e+00,  6.57226996e-01,\n",
       "       -7.13830264e-01, -1.08327156e+00,  9.82851465e-01,  1.61042268e-01,\n",
       "       -6.45486062e-01,  1.49260485e+00, -1.84714439e-02,  1.17187453e+00,\n",
       "       -8.81442442e-01,  1.14840186e+00, -6.72858836e-01, -7.78504598e-01,\n",
       "       -7.01283884e-01,  1.19683567e+00,  1.78748918e-01,  1.19591977e-01,\n",
       "        9.87975335e-01,  4.53415424e-01, -2.04720037e-01, -6.52110375e-02,\n",
       "        1.45072016e+00, -1.37411795e+00, -1.68109796e+00, -4.67088757e-01,\n",
       "        3.62116335e-02, -3.25716825e-01, -5.37489363e-01, -2.23379194e-01,\n",
       "        5.98515753e-01,  2.14643074e+00,  1.29458581e+00, -3.23420473e-01,\n",
       "        3.02378081e-01,  3.81077792e-01,  4.66198039e-01,  5.15752708e-01,\n",
       "        3.29515528e-03,  7.97150704e-01, -9.73215476e-01, -4.89546771e-01,\n",
       "        6.32380810e-01, -1.35632585e+00, -8.70917404e-01, -7.08761601e-01,\n",
       "        1.03692567e+00,  8.25444054e-01, -1.96783976e-01, -7.19754147e-01,\n",
       "        1.18105930e+00,  9.96226005e-01, -1.13078251e+00, -5.60848264e-01,\n",
       "       -8.55740812e-01, -1.23251927e+00,  2.12263918e-01, -8.26667951e-01,\n",
       "       -5.01839931e-01, -1.50504680e+00, -3.97308017e-01,  1.00842584e+00,\n",
       "        1.11271930e-01,  3.89437639e-02, -6.73664113e-01, -1.49242248e+00,\n",
       "       -1.04870076e+00, -1.48501162e+00,  1.16463182e+00, -3.20601452e-01,\n",
       "        2.18739150e-01, -3.72379700e-01,  2.53389334e-01,  7.47555661e-01,\n",
       "        1.24119031e+00, -7.13559412e-01, -9.46394497e-01, -7.59193108e-01,\n",
       "       -1.05810577e+00,  8.54737224e-01,  9.07210814e-01, -4.22093156e-01,\n",
       "       -7.20648254e-01,  4.67556062e-01, -8.10604279e-01, -5.83848322e-01,\n",
       "        8.81897614e-01, -4.15488030e-01,  1.89755691e+00, -7.88045803e-02,\n",
       "       -1.07269469e+00, -2.61909161e-01,  8.59829761e-01,  2.99514276e+00,\n",
       "       -1.03688081e+00,  5.31640520e-01, -6.94059574e-01,  1.00177593e+00,\n",
       "       -2.24132804e-01, -2.12222272e-01,  1.27074110e-01,  5.75210211e-01,\n",
       "       -3.83539927e-01, -6.66585235e-02, -4.28777319e-01, -8.77426896e-01,\n",
       "       -2.16101170e-01,  9.51198412e-01, -6.31528430e-01, -1.23091329e+00,\n",
       "       -1.67674344e-01,  8.95652235e-01, -1.43567731e+00,  1.38417090e+00,\n",
       "       -2.97446809e-01, -2.01704509e-01, -1.52115621e+00,  1.15187296e+00,\n",
       "        1.90931813e+00, -2.16833269e-01, -4.98331408e-02,  5.54185921e-01,\n",
       "       -1.20885565e+00, -8.97168642e-02, -1.30632875e+00, -7.24467255e-01,\n",
       "       -5.63821223e-01, -6.81215758e-01, -7.64301219e-02, -6.62207867e-01,\n",
       "       -6.28672122e-01,  5.42754685e-01,  7.33945941e-01,  1.80644962e-01,\n",
       "        1.25556487e+00, -7.85205669e-01, -2.40320422e-01,  7.32651080e-01,\n",
       "       -1.83922846e-01,  7.97562232e-01,  9.03203787e-02, -6.97834495e-02,\n",
       "        7.20793697e-01,  5.25971266e-01, -9.70317986e-02, -9.54875642e-01,\n",
       "        1.20898617e-01,  3.01311893e-01,  1.69708826e+00,  2.32438446e-01,\n",
       "       -2.54592203e-02,  1.26942348e+00, -2.88187896e-01,  1.39629110e+00,\n",
       "        1.42579997e-02,  7.35513472e-01,  1.94101039e+00,  1.84825957e+00,\n",
       "       -1.88801592e+00, -1.07940410e-01,  1.41220142e-01,  1.87409292e-01,\n",
       "        4.15161554e-01,  5.82776909e-01,  1.14669144e+00, -5.11878413e-01,\n",
       "       -7.75950739e-01,  3.75446206e-02,  8.59517186e-01,  8.01801266e-01,\n",
       "       -2.00317861e+00,  9.52853717e-01, -8.62329270e-01, -1.27203802e+00,\n",
       "       -7.79883820e-01,  6.15690516e-01,  2.64018571e-01,  1.39176954e+00,\n",
       "        2.77524426e+00,  1.41062198e+00, -3.17457455e+00, -4.69977505e-01,\n",
       "        6.59388480e-01,  1.15563222e+00,  3.96437222e-01,  4.78540919e-01,\n",
       "        1.04656438e+00,  7.52502115e-01, -7.65009510e-01,  1.04213413e+00,\n",
       "        4.06100070e-01, -2.15029366e-01, -4.95308695e-01, -8.48219801e-01,\n",
       "        1.08494655e-01,  1.84870574e+00,  6.66694588e-02,  4.83285836e-01,\n",
       "        4.72127161e-01, -5.44934741e-01,  8.56466030e-01,  6.56005501e-02,\n",
       "       -5.13728920e-02,  1.39230846e+00,  5.16289088e-01,  5.01841656e-01,\n",
       "       -3.19829279e-01,  4.07352022e-01,  8.17496508e-01, -4.26849935e-01,\n",
       "        2.55899001e-01,  1.25973202e-01,  8.29364029e-02,  8.88739903e-01,\n",
       "       -1.56498568e+00,  1.01860029e+00,  2.37643929e-01,  1.21786894e+00,\n",
       "        1.22429618e-01, -1.06075995e+00, -1.50356960e-01, -1.62730602e+00,\n",
       "        6.08329552e-01,  1.21874838e+00, -4.32495268e-01,  2.19133339e+00,\n",
       "        1.29600770e+00,  1.79536133e+00, -5.02381973e-01,  5.08200865e-01,\n",
       "       -3.87484300e-01,  1.17012641e+00, -2.13362735e-01, -5.40685062e-01,\n",
       "        9.74156177e-01,  6.47641299e-01,  9.21884417e-01, -7.82006672e-01,\n",
       "       -2.98701104e+00, -1.62847794e+00, -7.45572361e-01, -2.28947807e+00,\n",
       "        5.04565056e-01, -3.03183797e-01,  1.40941279e+00, -4.58639436e-01,\n",
       "       -2.84753898e-01, -1.87014296e-01,  1.90608099e+00, -5.20079955e-01,\n",
       "        4.15433595e-01, -1.14695978e+00, -1.66618973e-01,  1.05820312e+00,\n",
       "        8.43073260e-01, -1.21743237e+00,  5.01001891e-01, -5.14970403e-01,\n",
       "        5.28804358e-01,  1.14584787e-01, -1.64047169e-01,  1.98529038e-01,\n",
       "        2.53002595e-01, -5.35888646e-01,  1.12560371e+00,  4.45929234e-01,\n",
       "       -1.16512709e+00,  6.52169034e-01,  1.00373236e+00,  5.54622180e-01,\n",
       "       -3.19912691e-01, -1.27806316e+00,  9.19496083e-01,  2.54924888e-01,\n",
       "        6.22250352e-01,  5.96444326e-01,  1.06787470e+00,  2.06111367e-01,\n",
       "       -1.97855241e-01,  4.77401986e-02, -4.11192408e-01, -1.13840825e+00,\n",
       "       -1.79929636e+00,  1.55275392e+00, -2.03569774e-01, -1.30801309e+00,\n",
       "        4.96414223e-01,  1.78615717e+00, -2.05902803e-01,  4.83456032e-01,\n",
       "        2.08777625e+00, -9.61824903e-01, -1.61463054e-01,  4.28006972e-01,\n",
       "       -4.03122848e-01, -7.12146365e-01, -2.25232996e+00, -7.96361899e-01,\n",
       "       -2.83648634e-01, -2.01105871e-01,  2.66345206e+00, -1.90739363e+00])"
      ]
     },
     "execution_count": 3,
     "metadata": {},
     "output_type": "execute_result"
    }
   ],
   "source": [
    "dados = np.random.normal(loc=0, scale=1, size=1000)\n",
    "dados"
   ]
  },
  {
   "cell_type": "markdown",
   "id": "90968485",
   "metadata": {},
   "source": [
    "### Teste Kolmogorov-Smirnov"
   ]
  },
  {
   "cell_type": "code",
   "execution_count": 4,
   "id": "627433a4",
   "metadata": {},
   "outputs": [
    {
     "name": "stdout",
     "output_type": "stream",
     "text": [
      "estatística = 0.0358, \n",
      "p-valor = 0.1514\n"
     ]
    }
   ],
   "source": [
    "estatistica, p_valor = kstest(dados, 'norm')\n",
    "print(f\"estatística = {estatistica:.4f}, \\np-valor = {p_valor:.4f}\")"
   ]
  },
  {
   "cell_type": "code",
   "execution_count": 5,
   "id": "8844f38d",
   "metadata": {},
   "outputs": [
    {
     "name": "stdout",
     "output_type": "stream",
     "text": [
      "A amostra é normalmente distribuída (não rejeita H0)\n"
     ]
    }
   ],
   "source": [
    "if p_valor < 0.05:\n",
    "    print(\"A amostra não é normalmente distribuída (rejeita H0)\")\n",
    "else:\n",
    "    print(\"A amostra é normalmente distribuída (não rejeita H0)\")"
   ]
  },
  {
   "cell_type": "code",
   "execution_count": 6,
   "id": "882d67bd",
   "metadata": {},
   "outputs": [
    {
     "data": {
      "image/png": "[encoded data removed]",
      "text/plain": [
       "<Figure size 640x480 with 1 Axes>"
      ]
     },
     "metadata": {},
     "output_type": "display_data"
    }
   ],
   "source": [
    "x = np.linspace(min(dados), max(dados), 300)\n",
    "y = norm.pdf(x, loc=0, scale=1)\n",
    "plt.hist(dados, bins=30, density=True, edgecolor='black', alpha=0.7, label='Histograma')\n",
    "plt.plot(x, y, color='blue', linewidth=2, label='Curva Normal')\n",
    "\n",
    "# Marcar o p_valor\n",
    "plt.axvline(p_valor, color='red', linestyle='--', label=f'p_valor = {p_valor:.4f}')\n",
    "\n",
    "# Marcar o valor 0.05\n",
    "plt.axvline(0.05, color='green', linestyle='--', label='0.05')\n",
    "\n",
    "plt.legend()\n",
    "plt.show()"
   ]
  },
  {
   "cell_type": "markdown",
   "id": "a0ebaced",
   "metadata": {},
   "source": [
    "### Teste Shapiro-Wilk"
   ]
  },
  {
   "cell_type": "code",
   "execution_count": 7,
   "id": "593f3515",
   "metadata": {},
   "outputs": [
    {
     "name": "stdout",
     "output_type": "stream",
     "text": [
      "estatística = 0.9984, \n",
      "p-valor = 0.4881\n"
     ]
    }
   ],
   "source": [
    "estatistica, p_valor = shapiro(dados)\n",
    "print(f\"estatística = {estatistica:.4f}, \\np-valor = {p_valor:.4f}\")"
   ]
  },
  {
   "cell_type": "code",
   "execution_count": 8,
   "id": "0340ecab",
   "metadata": {},
   "outputs": [
    {
     "name": "stdout",
     "output_type": "stream",
     "text": [
      "A amostra é normalmente distribuída (não rejeita H0)\n"
     ]
    }
   ],
   "source": [
    "if p_valor <= 0.05:\n",
    "    print(\"A amostra não é normalmente distribuída (rejeita H0)\")\n",
    "else:\n",
    "    print(\"A amostra é normalmente distribuída (não rejeita H0)\")"
   ]
  },
  {
   "cell_type": "code",
   "execution_count": 9,
   "id": "1b202bd1",
   "metadata": {},
   "outputs": [
    {
     "data": {
      "image/png": "[encoded data removed]",
      "text/plain": [
       "<Figure size 640x480 with 1 Axes>"
      ]
     },
     "metadata": {},
     "output_type": "display_data"
    }
   ],
   "source": [
    "x = np.linspace(min(dados), max(dados), 300)\n",
    "y = norm.pdf(x, loc=0, scale=1)\n",
    "plt.hist(dados, bins=30, density=True, edgecolor='black', alpha=0.7, label='Histograma')\n",
    "plt.plot(x, y, color='blue', linewidth=2, label='Curva Normal')\n",
    "\n",
    "# Marcar o p_valor\n",
    "plt.axvline(p_valor, color='red', linestyle='--', label=f'p_valor = {p_valor:.4f}')\n",
    "\n",
    "# Marcar o valor 0.05\n",
    "plt.axvline(0.05, color='green', linestyle='--', label='0.05')\n",
    "\n",
    "plt.legend()\n",
    "plt.show()"
   ]
  },
  {
   "cell_type": "markdown",
   "id": "cea4cbf9",
   "metadata": {},
   "source": [
    "### Teste Shapiro-Francia"
   ]
  },
  {
   "cell_type": "code",
   "execution_count": 10,
   "id": "bcfce54f",
   "metadata": {},
   "outputs": [],
   "source": [
    "def shapiro_francia_test(x):\n",
    "    x = np.asarray(x)\n",
    "    x_sorted = np.sort(x)\n",
    "    n = len(x)\n",
    "\n",
    "    # Quantis esperados da normal padrão\n",
    "    quantis = stats.norm.ppf([(i - 0.375) / (n + 0.25) for i in range(1, n + 1)])\n",
    "\n",
    "    # Correlação de Pearson entre dados ordenados e quantis\n",
    "    r = np.corrcoef(x_sorted, quantis)[0, 1]\n",
    "    \n",
    "    # Estatística do teste (r²)\n",
    "    W_prime = r**2\n",
    "\n",
    "    # Aproximação do p-valor via normal padrão\n",
    "    # A precisão é limitada: Shapiro-Francia não tem p-valor exato fechado\n",
    "    # Vamos usar uma aproximação baseada em simulações\n",
    "    # Se o valor de W_prime for muito menor que 1, a normalidade é rejeitada\n",
    "\n",
    "    # Para simplificação: convertemos a estatística para z usando simulação empírica\n",
    "    # Aqui usamos uma aproximação baseada na distribuição do W' de dados normais\n",
    "    # Pode não ser exato, mas funciona bem para propósitos práticos\n",
    "\n",
    "    z = (W_prime - 1) * np.sqrt(n / 0.05)\n",
    "    p_value = stats.norm.cdf(z)  # p pequeno => rejeita H0 (normalidade)\n",
    "\n",
    "    return W_prime, p_value"
   ]
  },
  {
   "cell_type": "code",
   "execution_count": 11,
   "id": "482a5215",
   "metadata": {},
   "outputs": [
    {
     "name": "stdout",
     "output_type": "stream",
     "text": [
      "Shapiro-Francia: W' = 0.9984, p-valor = 0.4108\n"
     ]
    }
   ],
   "source": [
    "stat, p = shapiro_francia_test(dados)\n",
    "print(f\"Shapiro-Francia: W' = {stat:.4f}, p-valor = {p:.4f}\")"
   ]
  },
  {
   "cell_type": "code",
   "execution_count": 12,
   "id": "af6e2233",
   "metadata": {},
   "outputs": [
    {
     "name": "stdout",
     "output_type": "stream",
     "text": [
      "A amostra é normalmente distribuída (não rejeita H0)\n"
     ]
    }
   ],
   "source": [
    "if p <= 0.05:\n",
    "    print(\"A amostra não é normalmente distribuída (rejeita H0)\")\n",
    "else:\n",
    "    print(\"A amostra é normalmente distribuída (não rejeita H0)\")"
   ]
  },
  {
   "cell_type": "code",
   "execution_count": 13,
   "id": "117d6a2f",
   "metadata": {},
   "outputs": [
    {
     "data": {
      "image/png": "[encoded data removed]",
      "text/plain": [
       "<Figure size 640x480 with 1 Axes>"
      ]
     },
     "metadata": {},
     "output_type": "display_data"
    }
   ],
   "source": [
    "x = np.linspace(min(dados), max(dados), 300)\n",
    "y = norm.pdf(x, loc=0, scale=1)\n",
    "plt.hist(dados, bins=30, density=True, edgecolor='black', alpha=0.7, label='Histograma')\n",
    "plt.plot(x, y, color='blue', linewidth=2, label='Curva Normal')\n",
    "\n",
    "# Marcar o p_valor\n",
    "plt.axvline(p_valor, color='red', linestyle='--', label=f'p_valor = {p_valor:.4f}')\n",
    "\n",
    "# Marcar o valor 0.05\n",
    "plt.axvline(0.05, color='green', linestyle='--', label='0.05')\n",
    "\n",
    "plt.legend()\n",
    "plt.show()"
   ]
  },
  {
   "cell_type": "markdown",
   "id": "d437b050",
   "metadata": {},
   "source": [
    "### Dados para Teste de Média Populacional"
   ]
  },
  {
   "cell_type": "markdown",
   "id": "89757286",
   "metadata": {},
   "source": [
    "Comparar se a média de dois grupos é diferente"
   ]
  },
  {
   "cell_type": "markdown",
   "id": "96a66702",
   "metadata": {},
   "source": [
    "Então iremos avaliar o p_valor:\n",
    "\n",
    "- p > 0.05 → as médias são provavelmente iguais\n",
    "\n",
    "- p ≤ 0.05 → as médias são provavelmente diferentes"
   ]
  },
  {
   "cell_type": "code",
   "execution_count": 14,
   "id": "3d854313",
   "metadata": {},
   "outputs": [],
   "source": [
    "grupo1 = np.random.normal(0, 1, 20)\n",
    "grupo2 = np.random.normal(0.5, 1, 20)"
   ]
  },
  {
   "cell_type": "code",
   "execution_count": 15,
   "id": "77617848",
   "metadata": {},
   "outputs": [
    {
     "data": {
      "text/plain": [
       "array([-0.61865254, -0.11284861,  0.68713662,  2.50179808,  1.01534959,\n",
       "        2.29150292,  0.76560324, -0.17059338, -0.28570372,  1.46298761,\n",
       "       -0.40815034, -1.75811041,  0.26355522, -0.51608948, -0.55469362,\n",
       "       -0.42854666,  0.23274763,  1.3032792 ,  2.36157992,  0.7062028 ])"
      ]
     },
     "execution_count": 15,
     "metadata": {},
     "output_type": "execute_result"
    }
   ],
   "source": [
    "grupo1"
   ]
  },
  {
   "cell_type": "code",
   "execution_count": 16,
   "id": "3982cf45",
   "metadata": {},
   "outputs": [
    {
     "data": {
      "text/plain": [
       "array([-0.82055955,  0.06640928, -0.04589827,  2.7164833 ,  1.99598589,\n",
       "        0.17342972,  0.09335399,  1.61184339,  0.104594  ,  1.94470982,\n",
       "        1.52251334,  0.83838871, -0.37732533, -0.43522422,  1.09885145,\n",
       "        0.79924827, -0.2366868 ,  1.41401047, -0.36227718,  0.49986118])"
      ]
     },
     "execution_count": 16,
     "metadata": {},
     "output_type": "execute_result"
    }
   ],
   "source": [
    "grupo2"
   ]
  },
  {
   "cell_type": "markdown",
   "id": "7c19f4df",
   "metadata": {},
   "source": [
    "### Teste TStudent"
   ]
  },
  {
   "cell_type": "code",
   "execution_count": 17,
   "id": "808923bb",
   "metadata": {},
   "outputs": [
    {
     "name": "stdout",
     "output_type": "stream",
     "text": [
      "t-Student: estatística = -0.5775, p-valor = 0.5670\n"
     ]
    }
   ],
   "source": [
    "stat, p = ttest_ind(grupo1, grupo2, equal_var=True)\n",
    "print(f\"t-Student: estatística = {stat:.4f}, p-valor = {p:.4f}\")"
   ]
  },
  {
   "cell_type": "code",
   "execution_count": 18,
   "id": "e793f00b",
   "metadata": {},
   "outputs": [
    {
     "name": "stdout",
     "output_type": "stream",
     "text": [
      "As médias são iguais (não rejeita H0)\n"
     ]
    }
   ],
   "source": [
    "if p <= 0.05:\n",
    "    print(\"As médias são diferentes (rejeita H0)\")\n",
    "else:\n",
    "    print(\"As médias são iguais (não rejeita H0)\")"
   ]
  },
  {
   "cell_type": "code",
   "execution_count": 22,
   "id": "72738112",
   "metadata": {},
   "outputs": [
    {
     "data": {
      "image/png": "[encoded data removed]",
      "text/plain": [
       "<Figure size 640x480 with 1 Axes>"
      ]
     },
     "metadata": {},
     "output_type": "display_data"
    }
   ],
   "source": [
    "sns.boxplot(data=[grupo1, grupo2])\n",
    "plt.xticks([0, 1], ['Grupo 1', 'Grupo 2'])\n",
    "plt.title('Boxplot dos Grupos')\n",
    "plt.ylabel('Valores')\n",
    "plt.show()"
   ]
  },
  {
   "cell_type": "markdown",
   "id": "24b6bbf0",
   "metadata": {},
   "source": [
    "### Testes de Homogeneidade de variâncias"
   ]
  },
  {
   "cell_type": "markdown",
   "id": "f0d97ade",
   "metadata": {},
   "source": [
    "Então iremos avaliar o p_valor:\n",
    "\n",
    "- p > 0.05 → as variâncias são provavelmente iguais\n",
    "\n",
    "- p ≤ 0.05 → as variâncias são provavelmente diferentes"
   ]
  },
  {
   "cell_type": "markdown",
   "id": "87f69916",
   "metadata": {},
   "source": [
    "### Teste Bartlett"
   ]
  },
  {
   "cell_type": "code",
   "execution_count": 19,
   "id": "3f3dc168",
   "metadata": {},
   "outputs": [
    {
     "name": "stdout",
     "output_type": "stream",
     "text": [
      "Bartlett: estatística = 0.3945, p-valor = 0.5299\n"
     ]
    }
   ],
   "source": [
    "stat, p = bartlett(grupo1, grupo2)\n",
    "print(f\"Bartlett: estatística = {stat:.4f}, p-valor = {p:.4f}\")"
   ]
  },
  {
   "cell_type": "code",
   "execution_count": 24,
   "id": "4747d829",
   "metadata": {},
   "outputs": [
    {
     "name": "stdout",
     "output_type": "stream",
     "text": [
      "Variancia grupo1: 1.2811042563176351\n",
      "Variancia grupo2: 0.9562183726200258\n"
     ]
    }
   ],
   "source": [
    "print(\"Variancia grupo1:\", np.var(grupo1, ddof=1))\n",
    "print(\"Variancia grupo2:\", np.var(grupo2, ddof=1))"
   ]
  },
  {
   "cell_type": "code",
   "execution_count": null,
   "id": "409c078e",
   "metadata": {},
   "outputs": [
    {
     "name": "stdout",
     "output_type": "stream",
     "text": [
      "Todas as variâncias são iguais (não rejeita H0)\n"
     ]
    }
   ],
   "source": [
    "if p < 0.05:\n",
    "    print(\"Uma ou mais variâncias são diferentes (rejeita H0)\")\n",
    "else:\n",
    "    print(\"Todas as variâncias são significamente iguais (não rejeita H0)\")"
   ]
  },
  {
   "cell_type": "code",
   "execution_count": 23,
   "id": "05891e4f",
   "metadata": {},
   "outputs": [
    {
     "data": {
      "image/png": "[encoded data removed]",
      "text/plain": [
       "<Figure size 640x480 with 1 Axes>"
      ]
     },
     "metadata": {},
     "output_type": "display_data"
    }
   ],
   "source": [
    "sns.boxplot(data=[grupo1, grupo2])\n",
    "plt.xticks([0, 1], ['Grupo 1', 'Grupo 2'])\n",
    "plt.title('Boxplot dos Grupos')\n",
    "plt.ylabel('Valores')\n",
    "plt.show()"
   ]
  }
 ],
 "metadata": {
  "kernelspec": {
   "display_name": "Python 3",
   "language": "python",
   "name": "python3"
  },
  "language_info": {
   "codemirror_mode": {
    "name": "ipython",
    "version": 3
   },
   "file_extension": ".py",
   "mimetype": "text/x-python",
   "name": "python",
   "nbconvert_exporter": "python",
   "pygments_lexer": "ipython3",
   "version": "3.12.10"
  }
 },
 "nbformat": 4,
 "nbformat_minor": 5
}
