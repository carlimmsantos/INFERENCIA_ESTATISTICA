{
 "cells": [
  {
   "cell_type": "code",
   "execution_count": 12,
   "id": "47590e1c",
   "metadata": {},
   "outputs": [],
   "source": [
    "# -- coding: utf-8 --\n",
    "import numpy as np\n",
    "from scipy import stats\n",
    "import matplotlib.pyplot as plt"
   ]
  },
  {
   "cell_type": "code",
   "execution_count": 13,
   "id": "60c99f40",
   "metadata": {},
   "outputs": [],
   "source": [
    "# Dados coletados\n",
    "antes = [3.2, 3.6, 3.4, 3.8, 3.4, 3.5, 3.7, 3.2, 3.5, 3.9]\n",
    "depois = [3.0, 3.3, 3.5, 3.6, 3.4, 3.3, 3.4, 3.0, 3.2, 3.6]\n",
    "\n",
    "# Cálculo das diferenças\n",
    "diferencas = np.array(antes) - np.array(depois)\n",
    "\n",
    "# Estatísticas descritivas\n",
    "n = len(diferencas)\n",
    "media_diff = np.mean(diferencas)\n",
    "desvio_diff = np.std(diferencas, ddof=1)\n",
    "t_estat = media_diff/(desvio_diff/np.sqrt(n))"
   ]
  },
  {
   "cell_type": "code",
   "execution_count": 14,
   "id": "6e927500",
   "metadata": {},
   "outputs": [],
   "source": [
    "# Teste t pareado\n",
    "t_critico = stats.t.ppf(1-0.05, df=n-1)\n",
    "p_valor = stats.t.sf(t_estat, df=n-1)\n"
   ]
  },
  {
   "cell_type": "code",
   "execution_count": 15,
   "id": "77b9dbfc",
   "metadata": {},
   "outputs": [
    {
     "name": "stdout",
     "output_type": "stream",
     "text": [
      "=== Resultados do Teste t Pareado ===\n",
      "Média das diferenças: 0.190\n",
      "Desvio padrão das diferenças: 0.137\n",
      "Estatística t: 4.385\n",
      "Valor crítico (α=5%): 1.833\n",
      "Valor-p: 0.0009\n",
      "Conclusão: Rejeitamos H₀\n"
     ]
    }
   ],
   "source": [
    "# Resultados numéricos\n",
    "print(f'''=== Resultados do Teste t Pareado ===\n",
    "Média das diferenças: {media_diff:.3f}\n",
    "Desvio padrão das diferenças: {desvio_diff:.3f}\n",
    "Estatística t: {t_estat:.3f}\n",
    "Valor crítico (α=5%): {t_critico:.3f}\n",
    "Valor-p: {p_valor:.4f}\n",
    "Conclusão: {'Rejeitamos H₀' if p_valor < 0.05 else 'Não rejeitamos H₀'}''')"
   ]
  }
 ],
 "metadata": {
  "kernelspec": {
   "display_name": "Python 3",
   "language": "python",
   "name": "python3"
  },
  "language_info": {
   "codemirror_mode": {
    "name": "ipython",
    "version": 3
   },
   "file_extension": ".py",
   "mimetype": "text/x-python",
   "name": "python",
   "nbconvert_exporter": "python",
   "pygments_lexer": "ipython3",
   "version": "3.11.9"
  }
 },
 "nbformat": 4,
 "nbformat_minor": 5
}
