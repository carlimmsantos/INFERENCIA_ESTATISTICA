{
 "cells": [
  {
   "cell_type": "markdown",
   "id": "d105d558",
   "metadata": {},
   "source": [
    "Importação das bibliotecas\n"
   ]
  },
  {
   "cell_type": "code",
   "execution_count": 3,
   "id": "7d67d88b",
   "metadata": {},
   "outputs": [],
   "source": [
    "import numpy as np\n",
    "from scipy.stats import norm\n",
    "import scipy.stats"
   ]
  },
  {
   "cell_type": "markdown",
   "id": "079d1971",
   "metadata": {},
   "source": [
    "Dados de produção diária de bicicletas de determinada empresa nos últimos 60 dias"
   ]
  },
  {
   "cell_type": "code",
   "execution_count": 4,
   "id": "94964fa4",
   "metadata": {},
   "outputs": [],
   "source": [
    "dados = [\n",
    "    85, 88, 66, 80, 80, 54, 91, 67, 80, 63, 76, 68,\n",
    "    70, 80, 60, 55, 64, 59, 57, 70, 81, 59, 81, 76,\n",
    "    74, 91, 72, 54, 60, 78, 59, 76, 70, 60, 79, 71,\n",
    "    49, 57, 81, 93, 63, 73, 64, 78, 77, 61, 78, 72,\n",
    "    67, 63, 73, 77, 67, 84, 68, 75, 65, 74, 60, 84\n",
    "]\n"
   ]
  },
  {
   "cell_type": "markdown",
   "id": "18e403ef",
   "metadata": {},
   "source": [
    "Calcular a estatística de teste de Shapiro-Francia"
   ]
  },
  {
   "cell_type": "code",
   "execution_count": 5,
   "id": "5cc1b0a3",
   "metadata": {},
   "outputs": [],
   "source": [
    "n = len(dados)\n",
    "data_sorted = sorted(dados)\n",
    "x_bar = np.mean(dados)"
   ]
  },
  {
   "cell_type": "code",
   "execution_count": null,
   "id": "18d377e8",
   "metadata": {},
   "outputs": [],
   "source": [
    "m = [norm.ppf((i - 0.375) / (n + 0.25)) for i in range(1, n+1)]\n",
    "w_calc = sum((x - x_bar)**2 for x in data_sorted) / sum((x - m_i)**2 for x, m_i in zip(data_sorted, m))"
   ]
  },
  {
   "cell_type": "markdown",
   "id": "4a4d05c5",
   "metadata": {},
   "source": [
    "Obter o valor crítico da tabela H.1\n"
   ]
  },
  {
   "cell_type": "code",
   "execution_count": 7,
   "id": "c6963274",
   "metadata": {},
   "outputs": [],
   "source": [
    "alpha = 0.05\n",
    "w_critical = scipy.stats.shapiro(dados)[0]"
   ]
  },
  {
   "cell_type": "markdown",
   "id": "1221c8d2",
   "metadata": {},
   "source": [
    "Comparar o resultado e tirar a conclusão"
   ]
  },
  {
   "cell_type": "code",
   "execution_count": null,
   "id": "5f1a7861",
   "metadata": {},
   "outputs": [
    {
     "name": "stdout",
     "output_type": "stream",
     "text": [
      "Rejeita-se a hipótese nula. Os dados não provêm de uma população com distribuição normal.\n"
     ]
    }
   ],
   "source": [
    "if w_calc < w_critical:\n",
    "    print(\"Rejeita-se a hipótese nula. Os dados não provêm de uma população com distribuição normal.\")\n",
    "else:\n",
    "    print(\"Não se rejeita a hipótese nula. Os dados provêm de uma população com distribuição normal.\")"
   ]
  }
 ],
 "metadata": {
  "kernelspec": {
   "display_name": "Python 3",
   "language": "python",
   "name": "python3"
  },
  "language_info": {
   "codemirror_mode": {
    "name": "ipython",
    "version": 3
   },
   "file_extension": ".py",
   "mimetype": "text/x-python",
   "name": "python",
   "nbconvert_exporter": "python",
   "pygments_lexer": "ipython3",
   "version": "3.12.10"
  }
 },
 "nbformat": 4,
 "nbformat_minor": 5
}
