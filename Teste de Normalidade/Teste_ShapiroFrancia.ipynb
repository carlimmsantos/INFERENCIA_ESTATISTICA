{
 "cells": [
  {
   "cell_type": "markdown",
   "id": "d105d558",
   "metadata": {},
   "source": [
    "Importação das bibliotecas\n"
   ]
  },
  {
   "cell_type": "code",
   "execution_count": 10,
   "id": "b413b13f",
   "metadata": {},
   "outputs": [
    {
     "name": "stdout",
     "output_type": "stream",
     "text": [
      "Defaulting to user installation because normal site-packages is not writeable\n",
      "Requirement already satisfied: pingouin in c:\\users\\wesle\\appdata\\local\\packages\\pythonsoftwarefoundation.python.3.12_qbz5n2kfra8p0\\localcache\\local-packages\\python312\\site-packages (0.5.5)\n",
      "Requirement already satisfied: matplotlib in c:\\users\\wesle\\appdata\\local\\packages\\pythonsoftwarefoundation.python.3.12_qbz5n2kfra8p0\\localcache\\local-packages\\python312\\site-packages (from pingouin) (3.8.3)\n",
      "Requirement already satisfied: numpy in c:\\users\\wesle\\appdata\\local\\packages\\pythonsoftwarefoundation.python.3.12_qbz5n2kfra8p0\\localcache\\local-packages\\python312\\site-packages (from pingouin) (1.26.4)\n",
      "Requirement already satisfied: pandas>=1.5 in c:\\users\\wesle\\appdata\\local\\packages\\pythonsoftwarefoundation.python.3.12_qbz5n2kfra8p0\\localcache\\local-packages\\python312\\site-packages (from pingouin) (2.2.1)\n",
      "Requirement already satisfied: pandas-flavor in c:\\users\\wesle\\appdata\\local\\packages\\pythonsoftwarefoundation.python.3.12_qbz5n2kfra8p0\\localcache\\local-packages\\python312\\site-packages (from pingouin) (0.7.0)\n",
      "Requirement already satisfied: scikit-learn>=1.2 in c:\\users\\wesle\\appdata\\local\\packages\\pythonsoftwarefoundation.python.3.12_qbz5n2kfra8p0\\localcache\\local-packages\\python312\\site-packages (from pingouin) (1.4.1.post1)\n",
      "Requirement already satisfied: scipy in c:\\users\\wesle\\appdata\\local\\packages\\pythonsoftwarefoundation.python.3.12_qbz5n2kfra8p0\\localcache\\local-packages\\python312\\site-packages (from pingouin) (1.13.0)\n",
      "Requirement already satisfied: seaborn in c:\\users\\wesle\\appdata\\local\\packages\\pythonsoftwarefoundation.python.3.12_qbz5n2kfra8p0\\localcache\\local-packages\\python312\\site-packages (from pingouin) (0.13.2)\n",
      "Requirement already satisfied: statsmodels in c:\\users\\wesle\\appdata\\local\\packages\\pythonsoftwarefoundation.python.3.12_qbz5n2kfra8p0\\localcache\\local-packages\\python312\\site-packages (from pingouin) (0.14.2)\n",
      "Requirement already satisfied: tabulate in c:\\users\\wesle\\appdata\\local\\packages\\pythonsoftwarefoundation.python.3.12_qbz5n2kfra8p0\\localcache\\local-packages\\python312\\site-packages (from pingouin) (0.9.0)\n",
      "Requirement already satisfied: python-dateutil>=2.8.2 in c:\\users\\wesle\\appdata\\local\\packages\\pythonsoftwarefoundation.python.3.12_qbz5n2kfra8p0\\localcache\\local-packages\\python312\\site-packages (from pandas>=1.5->pingouin) (2.8.2)\n",
      "Requirement already satisfied: pytz>=2020.1 in c:\\users\\wesle\\appdata\\local\\packages\\pythonsoftwarefoundation.python.3.12_qbz5n2kfra8p0\\localcache\\local-packages\\python312\\site-packages (from pandas>=1.5->pingouin) (2024.1)\n",
      "Requirement already satisfied: tzdata>=2022.7 in c:\\users\\wesle\\appdata\\local\\packages\\pythonsoftwarefoundation.python.3.12_qbz5n2kfra8p0\\localcache\\local-packages\\python312\\site-packages (from pandas>=1.5->pingouin) (2024.1)\n",
      "Requirement already satisfied: joblib>=1.2.0 in c:\\users\\wesle\\appdata\\local\\packages\\pythonsoftwarefoundation.python.3.12_qbz5n2kfra8p0\\localcache\\local-packages\\python312\\site-packages (from scikit-learn>=1.2->pingouin) (1.3.2)\n",
      "Requirement already satisfied: threadpoolctl>=2.0.0 in c:\\users\\wesle\\appdata\\local\\packages\\pythonsoftwarefoundation.python.3.12_qbz5n2kfra8p0\\localcache\\local-packages\\python312\\site-packages (from scikit-learn>=1.2->pingouin) (3.4.0)\n",
      "Requirement already satisfied: contourpy>=1.0.1 in c:\\users\\wesle\\appdata\\local\\packages\\pythonsoftwarefoundation.python.3.12_qbz5n2kfra8p0\\localcache\\local-packages\\python312\\site-packages (from matplotlib->pingouin) (1.2.0)\n",
      "Requirement already satisfied: cycler>=0.10 in c:\\users\\wesle\\appdata\\local\\packages\\pythonsoftwarefoundation.python.3.12_qbz5n2kfra8p0\\localcache\\local-packages\\python312\\site-packages (from matplotlib->pingouin) (0.12.1)\n",
      "Requirement already satisfied: fonttools>=4.22.0 in c:\\users\\wesle\\appdata\\local\\packages\\pythonsoftwarefoundation.python.3.12_qbz5n2kfra8p0\\localcache\\local-packages\\python312\\site-packages (from matplotlib->pingouin) (4.50.0)\n",
      "Requirement already satisfied: kiwisolver>=1.3.1 in c:\\users\\wesle\\appdata\\local\\packages\\pythonsoftwarefoundation.python.3.12_qbz5n2kfra8p0\\localcache\\local-packages\\python312\\site-packages (from matplotlib->pingouin) (1.4.5)\n",
      "Requirement already satisfied: packaging>=20.0 in c:\\users\\wesle\\appdata\\local\\packages\\pythonsoftwarefoundation.python.3.12_qbz5n2kfra8p0\\localcache\\local-packages\\python312\\site-packages (from matplotlib->pingouin) (24.0)\n",
      "Requirement already satisfied: pillow>=8 in c:\\users\\wesle\\appdata\\local\\packages\\pythonsoftwarefoundation.python.3.12_qbz5n2kfra8p0\\localcache\\local-packages\\python312\\site-packages (from matplotlib->pingouin) (10.2.0)\n",
      "Requirement already satisfied: pyparsing>=2.3.1 in c:\\users\\wesle\\appdata\\local\\packages\\pythonsoftwarefoundation.python.3.12_qbz5n2kfra8p0\\localcache\\local-packages\\python312\\site-packages (from matplotlib->pingouin) (3.1.2)\n",
      "Requirement already satisfied: xarray in c:\\users\\wesle\\appdata\\local\\packages\\pythonsoftwarefoundation.python.3.12_qbz5n2kfra8p0\\localcache\\local-packages\\python312\\site-packages (from pandas-flavor->pingouin) (2025.3.1)\n",
      "Requirement already satisfied: patsy>=0.5.6 in c:\\users\\wesle\\appdata\\local\\packages\\pythonsoftwarefoundation.python.3.12_qbz5n2kfra8p0\\localcache\\local-packages\\python312\\site-packages (from statsmodels->pingouin) (0.5.6)\n",
      "Requirement already satisfied: six in c:\\users\\wesle\\appdata\\local\\packages\\pythonsoftwarefoundation.python.3.12_qbz5n2kfra8p0\\localcache\\local-packages\\python312\\site-packages (from patsy>=0.5.6->statsmodels->pingouin) (1.16.0)\n"
     ]
    }
   ],
   "source": [
    "%pip install pingouin"
   ]
  },
  {
   "cell_type": "code",
   "execution_count": 19,
   "id": "7d67d88b",
   "metadata": {},
   "outputs": [],
   "source": [
    "import numpy as np\n",
    "import pingouin as pg\n",
    "import matplotlib.pyplot as plt\n",
    "import seaborn as sns"
   ]
  },
  {
   "cell_type": "markdown",
   "id": "079d1971",
   "metadata": {},
   "source": [
    "Dados de produção diária de bicicletas de determinada empresa nos últimos 60 dias"
   ]
  },
  {
   "cell_type": "code",
   "execution_count": 12,
   "id": "94964fa4",
   "metadata": {},
   "outputs": [],
   "source": [
    "dados = [\n",
    "    85, 88, 66, 80, 80, 54, 91, 67, 80, 63, 76, 68,\n",
    "    70, 80, 60, 55, 64, 59, 57, 70, 81, 59, 81, 76,\n",
    "    74, 91, 72, 54, 60, 78, 59, 76, 70, 60, 79, 71,\n",
    "    49, 57, 81, 93, 63, 73, 64, 78, 77, 61, 78, 72,\n",
    "    67, 63, 73, 77, 67, 84, 68, 75, 65, 74, 60, 84\n",
    "]\n"
   ]
  },
  {
   "cell_type": "markdown",
   "id": "18e403ef",
   "metadata": {},
   "source": [
    "Calcular a estatística de teste de Shapiro-Francia"
   ]
  },
  {
   "cell_type": "code",
   "execution_count": 13,
   "id": "5cc1b0a3",
   "metadata": {},
   "outputs": [],
   "source": [
    "n = len(dados)\n",
    "data_sorted = sorted(dados)\n",
    "x_bar = np.mean(dados)"
   ]
  },
  {
   "cell_type": "code",
   "execution_count": 14,
   "id": "d0e05c03",
   "metadata": {},
   "outputs": [
    {
     "name": "stdout",
     "output_type": "stream",
     "text": [
      "Contagem: 60\n",
      "Média: 70.95\n",
      "Desvio padrão: 10.316064484127558\n",
      "Data ordenada: [49, 54, 54, 55, 57, 57, 59, 59, 59, 60, 60, 60, 60, 61, 63, 63, 63, 64, 64, 65, 66, 67, 67, 67, 68, 68, 70, 70, 70, 71, 72, 72, 73, 73, 74, 74, 75, 76, 76, 76, 77, 77, 78, 78, 78, 79, 80, 80, 80, 80, 81, 81, 81, 84, 84, 85, 88, 91, 91, 93]\n"
     ]
    }
   ],
   "source": [
    "print(\"Contagem:\", n)\n",
    "print(\"Média:\", x_bar)\n",
    "print(\"Desvio padrão:\", np.std(dados, ddof=1))\n",
    "print(\"Data ordenada:\", data_sorted)"
   ]
  },
  {
   "cell_type": "markdown",
   "id": "1c894ab9",
   "metadata": {},
   "source": [
    "# Teste de Shapiro-Francia\n",
    "\n",
    "Usado para amostras maiores e especialmente para detectar desvios de normalidade em caudas mais pesadas ou assimetria leve.\n",
    "\n",
    "O Shapiro-Francia é uma modificação do Shapiro-Wilk, onde os coeficientes são calculados com base nos quantis esperados de uma normal padrão, e a estatística resultante também avalia o quão bem os dados se ajustam a uma distribuição normal.\n",
    "\n",
    "Se os dados forem normais, a estatística do teste fica próxima de 1, e o p-valor é alto (tipicamente maior que 0,05).\n",
    "Se não forem, a estatística se afasta de 1 e o p-valor cai."
   ]
  },
  {
   "cell_type": "code",
   "execution_count": 15,
   "id": "18d377e8",
   "metadata": {},
   "outputs": [],
   "source": [
    "result = pg.normality(dados, method='shapiro')"
   ]
  },
  {
   "cell_type": "code",
   "execution_count": 16,
   "id": "d04473a0",
   "metadata": {},
   "outputs": [],
   "source": [
    "w = result['W'].values[0]\n",
    "p_valor = result['pval'].values[0]\n",
    "nivel_significancia = 0.05"
   ]
  },
  {
   "cell_type": "markdown",
   "id": "b489392d",
   "metadata": {},
   "source": [
    "W: estatística do teste (quanto mais próximo de 1, mais normal são os dados)\n",
    "\n",
    "Aqui deu 0.9821 → ótimo, perto de 1.\n",
    "\n",
    "pval: valor-p associado\n",
    "\n",
    "0.5232 → bem acima de 0.05\n",
    "\n",
    "normal: resultado lógico baseado no p-valor e nível de significância padrão (0.05)\n",
    "\n",
    "True → ou seja, não há evidências para rejeitar a hipótese de normalidade"
   ]
  },
  {
   "cell_type": "code",
   "execution_count": 17,
   "id": "b30fecc2",
   "metadata": {},
   "outputs": [
    {
     "name": "stdout",
     "output_type": "stream",
     "text": [
      "Estatística W: 0.9821\n",
      "Valor-p: 0.5232\n",
      "Nível de significância: 0.05\n"
     ]
    }
   ],
   "source": [
    "print(f'Estatística W: {w:.4f}')\n",
    "print(f'Valor-p: {p_valor:.4f}')\n",
    "print(f'Nível de significância: {nivel_significancia:.2f}')"
   ]
  },
  {
   "cell_type": "markdown",
   "id": "1221c8d2",
   "metadata": {},
   "source": [
    "Comparar o resultado e tirar a conclusão"
   ]
  },
  {
   "cell_type": "code",
   "execution_count": 18,
   "id": "5f1a7861",
   "metadata": {},
   "outputs": [
    {
     "name": "stdout",
     "output_type": "stream",
     "text": [
      "Conclusão: Os dados seguem uma distribuição normal (não rejeitamos H0).\n"
     ]
    }
   ],
   "source": [
    "if p_valor > nivel_significancia:\n",
    "    print(\"Conclusão: Os dados seguem uma distribuição normal (não rejeitamos H0).\")\n",
    "else:\n",
    "    print(\"Conclusão: Os dados NÃO seguem uma distribuição normal (rejeitamos H0).\")"
   ]
  },
  {
   "cell_type": "code",
   "execution_count": 21,
   "id": "66ec4714",
   "metadata": {},
   "outputs": [
    {
     "data": {
      "image/png": "[encoded data removed]",
      "text/plain": [
       "<Figure size 1000x600 with 1 Axes>"
      ]
     },
     "metadata": {},
     "output_type": "display_data"
    }
   ],
   "source": [
    "plt.figure(figsize=(10, 6))\n",
    "sns.histplot(dados, bins=10, kde=True, color='mediumslateblue', edgecolor='black')\n",
    "\n",
    "plt.xlabel('Valores da Amostra', fontsize=12)\n",
    "plt.ylabel('Frequência', fontsize=12)\n",
    "\n",
    "# Grade horizontal\n",
    "plt.grid(axis='y', linestyle='--', alpha=0.7)\n",
    "\n",
    "# Mostrando o gráfico\n",
    "plt.show()"
   ]
  }
 ],
 "metadata": {
  "kernelspec": {
   "display_name": "Python 3",
   "language": "python",
   "name": "python3"
  },
  "language_info": {
   "codemirror_mode": {
    "name": "ipython",
    "version": 3
   },
   "file_extension": ".py",
   "mimetype": "text/x-python",
   "name": "python",
   "nbconvert_exporter": "python",
   "pygments_lexer": "ipython3",
   "version": "3.12.10"
  }
 },
 "nbformat": 4,
 "nbformat_minor": 5
}
