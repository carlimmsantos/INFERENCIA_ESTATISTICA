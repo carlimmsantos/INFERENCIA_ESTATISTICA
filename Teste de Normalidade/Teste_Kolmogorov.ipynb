{
 "cells": [
  {
   "cell_type": "code",
   "execution_count": null,
   "id": "45b6e550",
   "metadata": {},
   "outputs": [],
   "source": [
    "import numpy as np\n",
    "from scipy import stats\n",
    "import matplotlib.pyplot as plt\n",
    "import seaborn as sns\n",
    "from IPython.display import Markdown"
   ]
  },
  {
   "cell_type": "code",
   "execution_count": null,
   "id": "c9ae2df7",
   "metadata": {},
   "outputs": [],
   "source": [
    "dados = [\n",
    "    52, 50, 44, 50, 38, 40, 32, 36, 44, 36, 34, 44,\n",
    "    50, 40, 42, 34, 40, 38, 44, 52, 54, 36, 35, 44,\n",
    "    44, 42, 40, 44, 38, 36, 44, 38, 36, 50, 42, 40\n",
    "]"
   ]
  },
  {
   "cell_type": "code",
   "execution_count": null,
   "id": "88de6f58",
   "metadata": {},
   "outputs": [],
   "source": [
    "n = len(dados)\n",
    "media = np.mean(dados)\n",
    "desvio = np.std(dados, ddof=1)\n",
    "\n",
    "display(Markdown(f\"\"\"\n",
    "**Tamanho da amostra (n):** {n}  \n",
    "**Média:** {media:.2f}  \n",
    "**Desvio padrão amostral:** {desvio:.2f}\n",
    "\"\"\"))"
   ]
  },
  {
   "cell_type": "markdown",
   "id": "cba6e564",
   "metadata": {},
   "source": [
    "# Teste de Kolmogorov-Smirnov\n",
    "\n",
    "O Teste de Kolmogorov-Smirnov é utilizado para verificar a aderência de uma amostra a uma distribuição específica. Neste caso, estamos testando se a produção segue uma distribuição normal.\n",
    "\n",
    "## Hipóteses\n",
    "\n",
    "- **Hipótese Nula (H0)**: A produção segue uma distribuição normal N(mu, sigma).\n",
    "- **Hipótese Alternativa (H1)**: A produção não segue uma distribuição normal N(mu, sigma).\n",
    "\n",
    "## Notação\n",
    "\n",
    "- N(mu, sigma): Distribuição normal com média mu e desvio padrão sigma.\n"
   ]
  },
  {
   "cell_type": "code",
   "execution_count": null,
   "id": "70d33fe0",
   "metadata": {},
   "outputs": [],
   "source": [
    "alfa = 0.05\n",
    "Dc = 0.23  # Valor crítico tabelado para n = 36 e α = 5%"
   ]
  },
  {
   "cell_type": "code",
   "execution_count": null,
   "id": "fda86138",
   "metadata": {},
   "outputs": [],
   "source": [
    "D_calculado, p_valor = stats.kstest(dados, 'norm', args=(media, desvio))\n",
    "\n",
    "display(Markdown(f\"\"\"\n",
    "### Resultado do Teste de Kolmogorov-Smirnov:\n",
    "- **Estatística D calculada:** {D_calculado:.4f}  \n",
    "- **p-valor:** {p_valor:.4f}  \n",
    "- **Valor crítico (Dc):** {Dc}  \n",
    "\"\"\"))\n",
    "\n",
    "\n",
    "if D_calculado < Dc:\n",
    "    display(Markdown(\"\"\"\n",
    "### Decisão:\n",
    "- Como **D < Dc**, não rejeitamos **H0**.  \n",
    "- **Conclusão:** A amostra pode ser considerada proveniente de uma população com distribuição normal.\n",
    "\"\"\"))\n",
    "else:\n",
    "    display(Markdown(\"\"\"\n",
    "### Decisão:\n",
    "- Como **D >= Dc**, rejeitamos **H0**.  \n",
    "- **Conclusão:** A amostra **NÃO** pode ser considerada proveniente de uma população com distribuição normal.\n",
    "\"\"\"))\n"
   ]
  },
  {
   "cell_type": "code",
   "execution_count": null,
   "id": "b3dec04f",
   "metadata": {},
   "outputs": [],
   "source": [
    "plt.figure(figsize=(10, 5))\n",
    "sns.histplot(dados, kde=True, stat=\"density\", bins=10, color=\"skyblue\", label=\"Dados\")\n",
    "\n",
    "x = np.linspace(min(dados), max(dados), 100)\n",
    "y = stats.norm.pdf(x, media, desvio)\n",
    "plt.plot(x, y, color='red', label='N(μ, σ) Teórica')\n",
    "\n",
    "plt.title(\"Distribuição dos dados com curva normal\")\n",
    "plt.xlabel(\"Produção\")\n",
    "plt.ylabel(\"Densidade\")\n",
    "plt.legend()\n",
    "plt.grid(True)\n",
    "plt.show()"
   ]
  }
 ],
 "metadata": {
  "kernelspec": {
   "display_name": "Python 3",
   "language": "python",
   "name": "python3"
  },
  "language_info": {
   "codemirror_mode": {
    "name": "ipython",
    "version": 3
   },
   "file_extension": ".py",
   "mimetype": "text/x-python",
   "name": "python",
   "nbconvert_exporter": "python",
   "pygments_lexer": "ipython3",
   "version": "3.11.9"
  }
 },
 "nbformat": 4,
 "nbformat_minor": 5
}
