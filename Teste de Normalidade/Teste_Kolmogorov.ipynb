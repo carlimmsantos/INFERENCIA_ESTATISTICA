{
 "cells": [
  {
   "cell_type": "markdown",
   "id": "d2864eb9",
   "metadata": {},
   "source": [
    "Importação das Bibliotecas"
   ]
  },
  {
   "cell_type": "code",
   "execution_count": 18,
   "id": "45b6e550",
   "metadata": {},
   "outputs": [],
   "source": [
    "import pandas as pd\n",
    "import numpy as np\n",
    "from scipy import stats\n",
    "import matplotlib.pyplot as plt\n",
    "import seaborn as sns\n",
    "from IPython.display import Markdown"
   ]
  },
  {
   "cell_type": "markdown",
   "id": "ec41ce56",
   "metadata": {},
   "source": [
    "Dados de Máquinas agrícolas nos últimos 36 meses"
   ]
  },
  {
   "cell_type": "code",
   "execution_count": 19,
   "id": "c9ae2df7",
   "metadata": {},
   "outputs": [],
   "source": [
    "dados = [\n",
    "    52, 50, 36, 40, 30, 42, 38, 38, 52, 44, 36, 34,\n",
    "    50, 42, 34, 55, 36, 55, 42, 52, 34, 48, 55, 44,\n",
    "    44, 30, 48, 40, 40, 44, 40, 44, 38, 36, 50, 42,\n",
    "]"
   ]
  },
  {
   "cell_type": "markdown",
   "id": "f1092ede",
   "metadata": {},
   "source": [
    "Estatísticas Descritivas"
   ]
  },
  {
   "cell_type": "code",
   "execution_count": 20,
   "id": "5eae8451",
   "metadata": {},
   "outputs": [],
   "source": [
    "media = np.mean(dados)\n",
    "desvio = np.std(dados, ddof=1)"
   ]
  },
  {
   "cell_type": "code",
   "execution_count": 21,
   "id": "88de6f58",
   "metadata": {},
   "outputs": [
    {
     "name": "stdout",
     "output_type": "stream",
     "text": [
      "Média:  42.638889\n",
      "Erro padrão:  1.183318\n",
      "Desvio padrão:  7.099911\n",
      "Variância:  50.408730\n",
      "Mínimo:  30\n",
      "Máximo:  55\n",
      "Soma:  1535\n",
      "Contagem:  36\n"
     ]
    }
   ],
   "source": [
    "print(\"Média: \", f\"{media:.6f}\")\n",
    "print(\"Erro padrão: \", f\"{stats.sem(dados):.6f}\")\n",
    "print(\"Desvio padrão: \", f\"{desvio:.6f}\")\n",
    "print(\"Variância: \", f\"{np.var(dados, ddof=1):.6f}\")\n",
    "print(\"Mínimo: \", np.min(dados))\n",
    "print(\"Máximo: \", np.max(dados))\n",
    "print(\"Soma: \", np.sum(dados))\n",
    "print(\"Contagem: \", len(dados))"
   ]
  },
  {
   "cell_type": "markdown",
   "id": "6ecd131b",
   "metadata": {},
   "source": [
    "Comparação com os resultados do pdf disponibilizado"
   ]
  },
  {
   "attachments": {
    "image.png": {
     "image/png": "[encoded data removed]"
    }
   },
   "cell_type": "markdown",
   "id": "82fbc23e",
   "metadata": {},
   "source": [
    "![image.png](attachment:image.png)"
   ]
  },
  {
   "cell_type": "markdown",
   "id": "cba6e564",
   "metadata": {},
   "source": [
    "# Teste de Kolmogorov-Smirnov\n",
    "\n",
    "O Teste de Kolmogorov-Smirnov é utilizado para verificar a aderência de uma amostra a uma distribuição específica. Neste caso, estamos testando se a produção segue uma distribuição normal.\n",
    "\n",
    "## Hipóteses\n",
    "\n",
    "- **Hipótese Nula (H0)**: A produção segue uma distribuição normal N(mu, sigma).\n",
    "- **Hipótese Alternativa (H1)**: A produção não segue uma distribuição normal N(mu, sigma).\n"
   ]
  },
  {
   "cell_type": "code",
   "execution_count": 22,
   "id": "70d33fe0",
   "metadata": {},
   "outputs": [],
   "source": [
    "alfa = 0.05 #Nível de significância\n",
    "Dc = 0.23 #Valor critico da estatística de Kolmogorov-Smirnov"
   ]
  },
  {
   "cell_type": "markdown",
   "id": "d84c560d",
   "metadata": {},
   "source": [
    "Cálculo do Teste"
   ]
  },
  {
   "cell_type": "markdown",
   "id": "6baa0b24",
   "metadata": {},
   "source": [
    "stats.kstest: é a função do módulo scipy.stats que executa o teste KS para uma amostra contra uma distribuição teórica.\n",
    "\n",
    "dados: é o array ou lista com os dados amostrais que você quer testar.\n",
    "\n",
    "'norm': é o nome da distribuição teórica contra a qual você está comparando seus dados. No caso, 'norm' é a normal padrão de scipy.stats.\n",
    "\n",
    "args=(media, desvio): são os parâmetros da distribuição normal que você está especificando.\n",
    "Ou seja, media é a média e desvio é o desvio padrão da normal teórica que você está usando para comparar com seus dados.\n",
    "\n",
    "D_calculado: é o valor da estatística KS calculada — ele mede a maior diferença entre a CDF (função de distribuição acumulada) empírica dos dados e a CDF teórica da normal.\n",
    "\n",
    "p_valor: é o valor-p associado ao teste.\n",
    "Se p_valor for pequeno (tipicamente menor que 0,05), rejeita-se a hipótese nula de que os dados seguem aquela distribuição."
   ]
  },
  {
   "cell_type": "code",
   "execution_count": 23,
   "id": "5bc40634",
   "metadata": {},
   "outputs": [],
   "source": [
    "D_calculado, p_valor = stats.kstest(dados, 'norm', args=(media, desvio))"
   ]
  },
  {
   "cell_type": "markdown",
   "id": "5b2d5db5",
   "metadata": {},
   "source": [
    "Resultado do Teste de Kolmogorov-Smirnov"
   ]
  },
  {
   "cell_type": "code",
   "execution_count": 27,
   "id": "64d2274b",
   "metadata": {},
   "outputs": [
    {
     "name": "stdout",
     "output_type": "stream",
     "text": [
      "Estatística D calculada:  0.118\n",
      "p-valor:  0.65\n",
      "Valor crítico (Dc):  0.23\n"
     ]
    }
   ],
   "source": [
    "print(\"Estatística D calculada: \", f\"{D_calculado:.3f}\")\n",
    "print(\"p-valor: \", f\"{p_valor:.2f}\")\n",
    "print(\"Valor crítico (Dc): \", f\"{Dc:.2f}\")"
   ]
  },
  {
   "cell_type": "code",
   "execution_count": 25,
   "id": "fda86138",
   "metadata": {},
   "outputs": [
    {
     "name": "stdout",
     "output_type": "stream",
     "text": [
      "Não rejeitamos H0. A amostra pode ser considerada proveniente de uma população com distribuição normal.\n"
     ]
    }
   ],
   "source": [
    "if D_calculado < Dc:\n",
    "    print(\"Não rejeitamos H0. A amostra pode ser considerada proveniente de uma população com distribuição normal.\")\n",
    "else:\n",
    "    print(\"Rejeitamos H0. A amostra NÃO pode ser considerada proveniente de uma população com distribuição normal.\")"
   ]
  }
 ],
 "metadata": {
  "kernelspec": {
   "display_name": "Python 3",
   "language": "python",
   "name": "python3"
  },
  "language_info": {
   "codemirror_mode": {
    "name": "ipython",
    "version": 3
   },
   "file_extension": ".py",
   "mimetype": "text/x-python",
   "name": "python",
   "nbconvert_exporter": "python",
   "pygments_lexer": "ipython3",
   "version": "3.12.10"
  }
 },
 "nbformat": 4,
 "nbformat_minor": 5
}
